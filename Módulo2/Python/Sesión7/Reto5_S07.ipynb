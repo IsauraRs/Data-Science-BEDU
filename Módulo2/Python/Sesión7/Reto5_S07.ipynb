{
  "nbformat": 4,
  "nbformat_minor": 0,
  "metadata": {
    "kernelspec": {
      "display_name": "Python 3",
      "language": "python",
      "name": "python3"
    },
    "language_info": {
      "codemirror_mode": {
        "name": "ipython",
        "version": 3
      },
      "file_extension": ".py",
      "mimetype": "text/x-python",
      "name": "python",
      "nbconvert_exporter": "python",
      "pygments_lexer": "ipython3",
      "version": "3.8.3"
    },
    "colab": {
      "name": "Reto5_S07.ipynb",
      "provenance": [],
      "collapsed_sections": [],
      "include_colab_link": true
    }
  },
  "cells": [
    {
      "cell_type": "markdown",
      "metadata": {
        "id": "view-in-github",
        "colab_type": "text"
      },
      "source": [
        "<a href=\"https://colab.research.google.com/github/IsauraRs/Data-Science-BEDU/blob/master/M%C3%B3dulo2/Python/Sesi%C3%B3n7/Reto5_S07.ipynb\" target=\"_parent\"><img src=\"https://colab.research.google.com/assets/colab-badge.svg\" alt=\"Open In Colab\"/></a>"
      ]
    },
    {
      "cell_type": "markdown",
      "metadata": {
        "id": "kqYiaa9gHDKY"
      },
      "source": [
        "## Reto 5: Filtros\n",
        "\n",
        "### 1. Objetivos:\n",
        "    - Practicar el uso de filtros para la obtención de subconjuntos de datos\n",
        "    \n",
        "---\n",
        "    \n",
        "### 2. Desarrollo:"
      ]
    },
    {
      "cell_type": "markdown",
      "metadata": {
        "id": "RtEnTQIsHDKa"
      },
      "source": [
        "#### a) Filtrando por fechas, booleanos y valores numéricos\n",
        "\n",
        "Vamos a trabajar con el mismo dataset que guardaste del Reto anterior. Este Reto consiste en los siguiente:\n",
        "\n",
        "Usando filtros, crea 3 subconjuntos de datos:\n",
        "\n",
        "1. Un subconjunto llamado `df_hazardous` que contenga sólo los records que correspondan a los objetos donde `is_potentially_hazardous_asteroid` sea `True` (o `1`).\n",
        "2. Un subconjunto llamado `df_greater_than_1000` que contenga sólo los records donde el `estimated_diameter.meters.estimated_diameter_max` sea mayor a 1000 metros.\n",
        "3. Un subconjunto llamado `df_february` que contenga sólo los records que pertenezcan exactamente al mes de Febrero de 1995. Recuerda que los datos en la columna `epoch_date_close_approach` están en milisegundos.\n"
      ]
    },
    {
      "cell_type": "code",
      "metadata": {
        "id": "eVDC2fpCHDKb"
      },
      "source": [
        "df_hazardous ="
      ],
      "execution_count": null,
      "outputs": []
    },
    {
      "cell_type": "code",
      "metadata": {
        "id": "hbvfgX3zHDKd"
      },
      "source": [
        "df_bigger_than_1000 ="
      ],
      "execution_count": null,
      "outputs": []
    },
    {
      "cell_type": "code",
      "metadata": {
        "id": "HmPKBbqoHDKd"
      },
      "source": [
        "df_february ="
      ],
      "execution_count": null,
      "outputs": []
    },
    {
      "cell_type": "markdown",
      "metadata": {
        "id": "VJtqudG-HDKe"
      },
      "source": [
        "Pídele a tu experta la función de verificación `checar_subconjuntos` (encontrada en el archivo `helpers.py` de la carpeta donde se encuentra este Reto), pégala debajo y corre la celda para verificar tu resultado:"
      ]
    },
    {
      "cell_type": "code",
      "metadata": {
        "id": "GIhDo0PUHDKf"
      },
      "source": [
        "# Pega aquí la función de verificación\n",
        "\n",
        "checar_subconjuntos(df_february, df_hazardous, df_bigger_than_1000)"
      ],
      "execution_count": null,
      "outputs": []
    }
  ]
}