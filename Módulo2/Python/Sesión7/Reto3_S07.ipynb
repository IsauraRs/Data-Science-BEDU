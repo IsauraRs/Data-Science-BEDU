{
  "nbformat": 4,
  "nbformat_minor": 0,
  "metadata": {
    "kernelspec": {
      "display_name": "Python 3",
      "language": "python",
      "name": "python3"
    },
    "language_info": {
      "codemirror_mode": {
        "name": "ipython",
        "version": 3
      },
      "file_extension": ".py",
      "mimetype": "text/x-python",
      "name": "python",
      "nbconvert_exporter": "python",
      "pygments_lexer": "ipython3",
      "version": "3.8.3"
    },
    "colab": {
      "name": "Reto3_S07.ipynb",
      "provenance": [],
      "collapsed_sections": [],
      "include_colab_link": true
    }
  },
  "cells": [
    {
      "cell_type": "markdown",
      "metadata": {
        "id": "view-in-github",
        "colab_type": "text"
      },
      "source": [
        "<a href=\"https://colab.research.google.com/github/IsauraRs/Data-Science-BEDU/blob/master/M%C3%B3dulo2/Python/Sesi%C3%B3n7/Reto3_S07.ipynb\" target=\"_parent\"><img src=\"https://colab.research.google.com/assets/colab-badge.svg\" alt=\"Open In Colab\"/></a>"
      ]
    },
    {
      "cell_type": "markdown",
      "metadata": {
        "id": "nVczzObV8VUL"
      },
      "source": [
        "## Reto 3: Map\n",
        "\n",
        "### 1. Objetivos:\n",
        "    - Practicar el uso del método `map` para mapear un dato a otro dato que le corresponde.\n",
        "    \n",
        "---\n",
        "    \n",
        "### 2. Desarrollo:"
      ]
    },
    {
      "cell_type": "markdown",
      "metadata": {
        "id": "KePVkiZv8VUO"
      },
      "source": [
        "#### a) Booleanos a numéricos\n",
        "\n",
        "Vamos a trabajar sobre el dataset que guardaste en el Reto anterior. Esta vez tu Reto es muy sencillo:\n",
        "\n",
        "1. La columna `is_potentially_hazardous_asteroid` tiene valores `booleanos`. Crea un diccionario de mapeo donde hagas un correspondencia de cada valor `booleano` con su equivalente numérico y transforma esa columna.\n",
        "2. Usa una función para mapear la columna `relative_velocity.kilometers_per_hour` a una nueva columna llamada `relative_velocity.kilometers_per_minute`, que contenga la velocidad del objeto en kilómetros por minuto.\n",
        "3. Guarda tu `DataFrame` resultante en la variable `df_reto_3`.\n",
        "4. Guarda tu resultado en un archivo .csv."
      ]
    },
    {
      "cell_type": "code",
      "metadata": {
        "id": "4oowj0Kl8VUP"
      },
      "source": [
        "df_reto_3 ="
      ],
      "execution_count": null,
      "outputs": []
    },
    {
      "cell_type": "markdown",
      "metadata": {
        "id": "FF6D-Idw8VUQ"
      },
      "source": [
        "Pídele a tu experta la función de verificación `revisar_resultados` (encontrada en el archivo `helpers.py` de la carpeta donde se encuentra este Reto), pégala debajo y corre la celda para verificar tu resultado:"
      ]
    },
    {
      "cell_type": "code",
      "metadata": {
        "id": "J-2Cr5T98VUR"
      },
      "source": [
        "# Pega aquí la función de verificación\n",
        "\n",
        "revisar_resultados(df_reto_3)"
      ],
      "execution_count": null,
      "outputs": []
    }
  ]
}