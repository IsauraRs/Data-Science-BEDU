{
  "nbformat": 4,
  "nbformat_minor": 0,
  "metadata": {
    "colab": {
      "name": "Sesión_07.ipynb",
      "provenance": []
    },
    "kernelspec": {
      "name": "python3",
      "display_name": "Python 3"
    }
  },
  "cells": [
    {
      "cell_type": "markdown",
      "metadata": {
        "id": "TUYSDkcAkM-T"
      },
      "source": [
        "# Castings"
      ]
    },
    {
      "cell_type": "code",
      "metadata": {
        "colab": {
          "base_uri": "https://localhost:8080/"
        },
        "id": "il7ix7mGjsLg",
        "outputId": "ae791ee1-8e75-412e-90d8-5fa7ce513499"
      },
      "source": [
        "int(\"5\") + 6"
      ],
      "execution_count": null,
      "outputs": [
        {
          "output_type": "execute_result",
          "data": {
            "text/plain": [
              "11"
            ]
          },
          "metadata": {
            "tags": []
          },
          "execution_count": 1
        }
      ]
    },
    {
      "cell_type": "code",
      "metadata": {
        "colab": {
          "base_uri": "https://localhost:8080/"
        },
        "id": "qdZFedMpkOSj",
        "outputId": "7ee65561-e90c-4f5b-821a-c91c29d29475"
      },
      "source": [
        "float(\"3\")"
      ],
      "execution_count": null,
      "outputs": [
        {
          "output_type": "execute_result",
          "data": {
            "text/plain": [
              "3.0"
            ]
          },
          "metadata": {
            "tags": []
          },
          "execution_count": 2
        }
      ]
    },
    {
      "cell_type": "code",
      "metadata": {
        "colab": {
          "base_uri": "https://localhost:8080/",
          "height": 35
        },
        "id": "Ko_l4XTRkZGh",
        "outputId": "af6a867a-4f7d-4718-89dc-578ee14283fb"
      },
      "source": [
        "str(5)"
      ],
      "execution_count": null,
      "outputs": [
        {
          "output_type": "execute_result",
          "data": {
            "application/vnd.google.colaboratory.intrinsic+json": {
              "type": "string"
            },
            "text/plain": [
              "'5'"
            ]
          },
          "metadata": {
            "tags": []
          },
          "execution_count": 3
        }
      ]
    },
    {
      "cell_type": "markdown",
      "metadata": {
        "id": "HakeEv01k3QC"
      },
      "source": [
        "## Cast con pandas"
      ]
    },
    {
      "cell_type": "code",
      "metadata": {
        "id": "Wptct6Pokekt"
      },
      "source": [
        "import pandas as pd"
      ],
      "execution_count": null,
      "outputs": []
    },
    {
      "cell_type": "code",
      "metadata": {
        "id": "Lrl0AOWmk2Lh"
      },
      "source": [
        "df = pd.read_csv(\"/content/drive/MyDrive/Datasets/new_york_times_bestsellers-dirty.csv\", index_col = 0)"
      ],
      "execution_count": null,
      "outputs": []
    },
    {
      "cell_type": "code",
      "metadata": {
        "colab": {
          "base_uri": "https://localhost:8080/",
          "height": 574
        },
        "id": "u_p3OBM7lKUR",
        "outputId": "48736e3e-13a6-4bb4-d63f-86c1f26f5bff"
      },
      "source": [
        "df.head()"
      ],
      "execution_count": null,
      "outputs": [
        {
          "output_type": "execute_result",
          "data": {
            "text/html": [
              "<div>\n",
              "<style scoped>\n",
              "    .dataframe tbody tr th:only-of-type {\n",
              "        vertical-align: middle;\n",
              "    }\n",
              "\n",
              "    .dataframe tbody tr th {\n",
              "        vertical-align: top;\n",
              "    }\n",
              "\n",
              "    .dataframe thead th {\n",
              "        text-align: right;\n",
              "    }\n",
              "</style>\n",
              "<table border=\"1\" class=\"dataframe\">\n",
              "  <thead>\n",
              "    <tr style=\"text-align: right;\">\n",
              "      <th></th>\n",
              "      <th>amazon_product_url</th>\n",
              "      <th>author</th>\n",
              "      <th>description</th>\n",
              "      <th>publisher</th>\n",
              "      <th>title</th>\n",
              "      <th>oid</th>\n",
              "      <th>bestsellers_date.numberLong</th>\n",
              "      <th>published_date.numberLong</th>\n",
              "      <th>rank.numberInt</th>\n",
              "      <th>rank_last_week.numberInt</th>\n",
              "      <th>weeks_on_list.numberInt</th>\n",
              "      <th>price.numberDouble</th>\n",
              "    </tr>\n",
              "  </thead>\n",
              "  <tbody>\n",
              "    <tr>\n",
              "      <th>0</th>\n",
              "      <td>http://www.amazon.com/The-Host-Novel-Stephenie...</td>\n",
              "      <td>Stephenie Meyer</td>\n",
              "      <td>Descr: Aliens have taken control of the minds ...</td>\n",
              "      <td>Little, Brown</td>\n",
              "      <td>THE HOST</td>\n",
              "      <td>5b4aa4ead3089013507db18c</td>\n",
              "      <td>2008-05-24 00:00:00</td>\n",
              "      <td>1212883200000</td>\n",
              "      <td>2</td>\n",
              "      <td>1</td>\n",
              "      <td>3</td>\n",
              "      <td>25.99</td>\n",
              "    </tr>\n",
              "    <tr>\n",
              "      <th>1</th>\n",
              "      <td>http://www.amazon.com/Love-Youre-With-Emily-Gi...</td>\n",
              "      <td>Emily Giffin</td>\n",
              "      <td>Descr: A woman's happy marriage is shaken when...</td>\n",
              "      <td>St. Martin's</td>\n",
              "      <td>LOVE THE ONE YOU'RE WITH</td>\n",
              "      <td>5b4aa4ead3089013507db18d</td>\n",
              "      <td>2008-05-24 00:00:00</td>\n",
              "      <td>1212883200000</td>\n",
              "      <td>3</td>\n",
              "      <td>2</td>\n",
              "      <td>2</td>\n",
              "      <td>24.95</td>\n",
              "    </tr>\n",
              "    <tr>\n",
              "      <th>2</th>\n",
              "      <td>http://www.amazon.com/The-Front-Garano-Patrici...</td>\n",
              "      <td>Patricia Cornwell</td>\n",
              "      <td>Descr: A Massachusetts state investigator and ...</td>\n",
              "      <td>Putnam</td>\n",
              "      <td>THE FRONT</td>\n",
              "      <td>5b4aa4ead3089013507db18e</td>\n",
              "      <td>2008-05-24 00:00:00</td>\n",
              "      <td>1212883200000</td>\n",
              "      <td>4</td>\n",
              "      <td>0</td>\n",
              "      <td>1</td>\n",
              "      <td>22.95</td>\n",
              "    </tr>\n",
              "    <tr>\n",
              "      <th>3</th>\n",
              "      <td>http://www.amazon.com/Snuff-Chuck-Palahniuk/dp...</td>\n",
              "      <td>Chuck Palahniuk</td>\n",
              "      <td>Descr: An aging porn queens aims to cap her ca...</td>\n",
              "      <td>Doubleday</td>\n",
              "      <td>SNUFF</td>\n",
              "      <td>5b4aa4ead3089013507db18f</td>\n",
              "      <td>2008-05-24 00:00:00</td>\n",
              "      <td>1212883200000</td>\n",
              "      <td>5</td>\n",
              "      <td>0</td>\n",
              "      <td>1</td>\n",
              "      <td>24.95</td>\n",
              "    </tr>\n",
              "    <tr>\n",
              "      <th>5</th>\n",
              "      <td>http://www.amazon.com/Phantom-Prey-John-Sandfo...</td>\n",
              "      <td>John Sandford</td>\n",
              "      <td>Descr: The Minneapolis detective Lucas Davenpo...</td>\n",
              "      <td>Putnam</td>\n",
              "      <td>PHANTOM PREY</td>\n",
              "      <td>5b4aa4ead3089013507db191</td>\n",
              "      <td>2008-05-24 00:00:00</td>\n",
              "      <td>1212883200000</td>\n",
              "      <td>7</td>\n",
              "      <td>4</td>\n",
              "      <td>3</td>\n",
              "      <td>26.95</td>\n",
              "    </tr>\n",
              "  </tbody>\n",
              "</table>\n",
              "</div>"
            ],
            "text/plain": [
              "                                  amazon_product_url  ... price.numberDouble\n",
              "0  http://www.amazon.com/The-Host-Novel-Stephenie...  ...              25.99\n",
              "1  http://www.amazon.com/Love-Youre-With-Emily-Gi...  ...              24.95\n",
              "2  http://www.amazon.com/The-Front-Garano-Patrici...  ...              22.95\n",
              "3  http://www.amazon.com/Snuff-Chuck-Palahniuk/dp...  ...              24.95\n",
              "5  http://www.amazon.com/Phantom-Prey-John-Sandfo...  ...              26.95\n",
              "\n",
              "[5 rows x 12 columns]"
            ]
          },
          "metadata": {
            "tags": []
          },
          "execution_count": 9
        }
      ]
    },
    {
      "cell_type": "code",
      "metadata": {
        "colab": {
          "base_uri": "https://localhost:8080/"
        },
        "id": "Wgp1YJTplRGr",
        "outputId": "d87c725f-884d-46f5-ee02-6a35262966a3"
      },
      "source": [
        "df.dtypes"
      ],
      "execution_count": null,
      "outputs": [
        {
          "output_type": "execute_result",
          "data": {
            "text/plain": [
              "amazon_product_url              object\n",
              "author                          object\n",
              "description                     object\n",
              "publisher                       object\n",
              "title                           object\n",
              "oid                             object\n",
              "bestsellers_date.numberLong     object\n",
              "published_date.numberLong        int64\n",
              "rank.numberInt                  object\n",
              "rank_last_week.numberInt         int64\n",
              "weeks_on_list.numberInt          int64\n",
              "price.numberDouble             float64\n",
              "dtype: object"
            ]
          },
          "metadata": {
            "tags": []
          },
          "execution_count": 10
        }
      ]
    },
    {
      "cell_type": "code",
      "metadata": {
        "id": "CJPQzLTZlWPS"
      },
      "source": [
        "diccionario_de_conversion = {\n",
        "    \"bestsellers_date.numberLong\" : \"datetime64[ns]\",  #No es necesario poner la librería time\n",
        "    \"published_date.numberLong\" : \"datetime64[ns]\"\n",
        "}"
      ],
      "execution_count": null,
      "outputs": []
    },
    {
      "cell_type": "code",
      "metadata": {
        "colab": {
          "base_uri": "https://localhost:8080/",
          "height": 574
        },
        "id": "gE5Tg562mKPt",
        "outputId": "a71f208f-1d10-4aac-d061-077794f669b6"
      },
      "source": [
        "temp = df.astype(diccionario_de_conversion) \n",
        "temp.head()"
      ],
      "execution_count": null,
      "outputs": [
        {
          "output_type": "execute_result",
          "data": {
            "text/html": [
              "<div>\n",
              "<style scoped>\n",
              "    .dataframe tbody tr th:only-of-type {\n",
              "        vertical-align: middle;\n",
              "    }\n",
              "\n",
              "    .dataframe tbody tr th {\n",
              "        vertical-align: top;\n",
              "    }\n",
              "\n",
              "    .dataframe thead th {\n",
              "        text-align: right;\n",
              "    }\n",
              "</style>\n",
              "<table border=\"1\" class=\"dataframe\">\n",
              "  <thead>\n",
              "    <tr style=\"text-align: right;\">\n",
              "      <th></th>\n",
              "      <th>amazon_product_url</th>\n",
              "      <th>author</th>\n",
              "      <th>description</th>\n",
              "      <th>publisher</th>\n",
              "      <th>title</th>\n",
              "      <th>oid</th>\n",
              "      <th>bestsellers_date.numberLong</th>\n",
              "      <th>published_date.numberLong</th>\n",
              "      <th>rank.numberInt</th>\n",
              "      <th>rank_last_week.numberInt</th>\n",
              "      <th>weeks_on_list.numberInt</th>\n",
              "      <th>price.numberDouble</th>\n",
              "    </tr>\n",
              "  </thead>\n",
              "  <tbody>\n",
              "    <tr>\n",
              "      <th>0</th>\n",
              "      <td>http://www.amazon.com/The-Host-Novel-Stephenie...</td>\n",
              "      <td>Stephenie Meyer</td>\n",
              "      <td>Descr: Aliens have taken control of the minds ...</td>\n",
              "      <td>Little, Brown</td>\n",
              "      <td>THE HOST</td>\n",
              "      <td>5b4aa4ead3089013507db18c</td>\n",
              "      <td>2008-05-24</td>\n",
              "      <td>1970-01-01 00:20:12.883200</td>\n",
              "      <td>2</td>\n",
              "      <td>1</td>\n",
              "      <td>3</td>\n",
              "      <td>25.99</td>\n",
              "    </tr>\n",
              "    <tr>\n",
              "      <th>1</th>\n",
              "      <td>http://www.amazon.com/Love-Youre-With-Emily-Gi...</td>\n",
              "      <td>Emily Giffin</td>\n",
              "      <td>Descr: A woman's happy marriage is shaken when...</td>\n",
              "      <td>St. Martin's</td>\n",
              "      <td>LOVE THE ONE YOU'RE WITH</td>\n",
              "      <td>5b4aa4ead3089013507db18d</td>\n",
              "      <td>2008-05-24</td>\n",
              "      <td>1970-01-01 00:20:12.883200</td>\n",
              "      <td>3</td>\n",
              "      <td>2</td>\n",
              "      <td>2</td>\n",
              "      <td>24.95</td>\n",
              "    </tr>\n",
              "    <tr>\n",
              "      <th>2</th>\n",
              "      <td>http://www.amazon.com/The-Front-Garano-Patrici...</td>\n",
              "      <td>Patricia Cornwell</td>\n",
              "      <td>Descr: A Massachusetts state investigator and ...</td>\n",
              "      <td>Putnam</td>\n",
              "      <td>THE FRONT</td>\n",
              "      <td>5b4aa4ead3089013507db18e</td>\n",
              "      <td>2008-05-24</td>\n",
              "      <td>1970-01-01 00:20:12.883200</td>\n",
              "      <td>4</td>\n",
              "      <td>0</td>\n",
              "      <td>1</td>\n",
              "      <td>22.95</td>\n",
              "    </tr>\n",
              "    <tr>\n",
              "      <th>3</th>\n",
              "      <td>http://www.amazon.com/Snuff-Chuck-Palahniuk/dp...</td>\n",
              "      <td>Chuck Palahniuk</td>\n",
              "      <td>Descr: An aging porn queens aims to cap her ca...</td>\n",
              "      <td>Doubleday</td>\n",
              "      <td>SNUFF</td>\n",
              "      <td>5b4aa4ead3089013507db18f</td>\n",
              "      <td>2008-05-24</td>\n",
              "      <td>1970-01-01 00:20:12.883200</td>\n",
              "      <td>5</td>\n",
              "      <td>0</td>\n",
              "      <td>1</td>\n",
              "      <td>24.95</td>\n",
              "    </tr>\n",
              "    <tr>\n",
              "      <th>5</th>\n",
              "      <td>http://www.amazon.com/Phantom-Prey-John-Sandfo...</td>\n",
              "      <td>John Sandford</td>\n",
              "      <td>Descr: The Minneapolis detective Lucas Davenpo...</td>\n",
              "      <td>Putnam</td>\n",
              "      <td>PHANTOM PREY</td>\n",
              "      <td>5b4aa4ead3089013507db191</td>\n",
              "      <td>2008-05-24</td>\n",
              "      <td>1970-01-01 00:20:12.883200</td>\n",
              "      <td>7</td>\n",
              "      <td>4</td>\n",
              "      <td>3</td>\n",
              "      <td>26.95</td>\n",
              "    </tr>\n",
              "  </tbody>\n",
              "</table>\n",
              "</div>"
            ],
            "text/plain": [
              "                                  amazon_product_url  ... price.numberDouble\n",
              "0  http://www.amazon.com/The-Host-Novel-Stephenie...  ...              25.99\n",
              "1  http://www.amazon.com/Love-Youre-With-Emily-Gi...  ...              24.95\n",
              "2  http://www.amazon.com/The-Front-Garano-Patrici...  ...              22.95\n",
              "3  http://www.amazon.com/Snuff-Chuck-Palahniuk/dp...  ...              24.95\n",
              "5  http://www.amazon.com/Phantom-Prey-John-Sandfo...  ...              26.95\n",
              "\n",
              "[5 rows x 12 columns]"
            ]
          },
          "metadata": {
            "tags": []
          },
          "execution_count": 20
        }
      ]
    },
    {
      "cell_type": "code",
      "metadata": {
        "colab": {
          "base_uri": "https://localhost:8080/"
        },
        "id": "UKxMjm3qmTMb",
        "outputId": "6b7d02ba-864f-49c8-f452-22c759bfc758"
      },
      "source": [
        "temp.dtypes"
      ],
      "execution_count": null,
      "outputs": [
        {
          "output_type": "execute_result",
          "data": {
            "text/plain": [
              "amazon_product_url                     object\n",
              "author                                 object\n",
              "description                            object\n",
              "publisher                              object\n",
              "title                                  object\n",
              "oid                                    object\n",
              "bestsellers_date.numberLong    datetime64[ns]\n",
              "published_date.numberLong      datetime64[ns]\n",
              "rank.numberInt                         object\n",
              "rank_last_week.numberInt                int64\n",
              "weeks_on_list.numberInt                 int64\n",
              "price.numberDouble                    float64\n",
              "dtype: object"
            ]
          },
          "metadata": {
            "tags": []
          },
          "execution_count": 21
        }
      ]
    },
    {
      "cell_type": "code",
      "metadata": {
        "colab": {
          "base_uri": "https://localhost:8080/"
        },
        "id": "mraEqSF5mzg8",
        "outputId": "aa4348fd-f0be-49d5-b91f-c76f37507c58"
      },
      "source": [
        "#Para convertir a formato de fecha\n",
        "pd.to_datetime(df[\"published_date.numberLong\"], unit = \"ms\")"
      ],
      "execution_count": null,
      "outputs": [
        {
          "output_type": "execute_result",
          "data": {
            "text/plain": [
              "0      2008-06-08\n",
              "1      2008-06-08\n",
              "2      2008-06-08\n",
              "3      2008-06-08\n",
              "5      2008-06-08\n",
              "          ...    \n",
              "3027   2013-05-05\n",
              "3028   2013-05-05\n",
              "3029   2013-05-05\n",
              "3030   2013-05-05\n",
              "3031   2013-05-05\n",
              "Name: published_date.numberLong, Length: 2266, dtype: datetime64[ns]"
            ]
          },
          "metadata": {
            "tags": []
          },
          "execution_count": 22
        }
      ]
    },
    {
      "cell_type": "code",
      "metadata": {
        "colab": {
          "base_uri": "https://localhost:8080/",
          "height": 365
        },
        "id": "KfmN6j4SnNal",
        "outputId": "19b8dfe0-cd87-4856-c30a-d3fc74c7825c"
      },
      "source": [
        "#as type no corrige errores\n",
        "df[\"rank.numberInt\"].astype(int)"
      ],
      "execution_count": null,
      "outputs": [
        {
          "output_type": "error",
          "ename": "ValueError",
          "evalue": "ignored",
          "traceback": [
            "\u001b[0;31m---------------------------------------------------------------------------\u001b[0m",
            "\u001b[0;31mValueError\u001b[0m                                Traceback (most recent call last)",
            "\u001b[0;32m<ipython-input-23-003d749ce5e9>\u001b[0m in \u001b[0;36m<module>\u001b[0;34m()\u001b[0m\n\u001b[1;32m      1\u001b[0m \u001b[0;31m#as type no corrige errores\u001b[0m\u001b[0;34m\u001b[0m\u001b[0;34m\u001b[0m\u001b[0;34m\u001b[0m\u001b[0m\n\u001b[0;32m----> 2\u001b[0;31m \u001b[0mdf\u001b[0m\u001b[0;34m[\u001b[0m\u001b[0;34m\"rank.numberInt\"\u001b[0m\u001b[0;34m]\u001b[0m\u001b[0;34m.\u001b[0m\u001b[0mastype\u001b[0m\u001b[0;34m(\u001b[0m\u001b[0mint\u001b[0m\u001b[0;34m)\u001b[0m\u001b[0;34m\u001b[0m\u001b[0;34m\u001b[0m\u001b[0m\n\u001b[0m",
            "\u001b[0;32m/usr/local/lib/python3.7/dist-packages/pandas/core/generic.py\u001b[0m in \u001b[0;36mastype\u001b[0;34m(self, dtype, copy, errors)\u001b[0m\n\u001b[1;32m   5546\u001b[0m         \u001b[0;32melse\u001b[0m\u001b[0;34m:\u001b[0m\u001b[0;34m\u001b[0m\u001b[0;34m\u001b[0m\u001b[0m\n\u001b[1;32m   5547\u001b[0m             \u001b[0;31m# else, only a single dtype is given\u001b[0m\u001b[0;34m\u001b[0m\u001b[0;34m\u001b[0m\u001b[0;34m\u001b[0m\u001b[0m\n\u001b[0;32m-> 5548\u001b[0;31m             \u001b[0mnew_data\u001b[0m \u001b[0;34m=\u001b[0m \u001b[0mself\u001b[0m\u001b[0;34m.\u001b[0m\u001b[0m_mgr\u001b[0m\u001b[0;34m.\u001b[0m\u001b[0mastype\u001b[0m\u001b[0;34m(\u001b[0m\u001b[0mdtype\u001b[0m\u001b[0;34m=\u001b[0m\u001b[0mdtype\u001b[0m\u001b[0;34m,\u001b[0m \u001b[0mcopy\u001b[0m\u001b[0;34m=\u001b[0m\u001b[0mcopy\u001b[0m\u001b[0;34m,\u001b[0m \u001b[0merrors\u001b[0m\u001b[0;34m=\u001b[0m\u001b[0merrors\u001b[0m\u001b[0;34m,\u001b[0m\u001b[0;34m)\u001b[0m\u001b[0;34m\u001b[0m\u001b[0;34m\u001b[0m\u001b[0m\n\u001b[0m\u001b[1;32m   5549\u001b[0m             \u001b[0;32mreturn\u001b[0m \u001b[0mself\u001b[0m\u001b[0;34m.\u001b[0m\u001b[0m_constructor\u001b[0m\u001b[0;34m(\u001b[0m\u001b[0mnew_data\u001b[0m\u001b[0;34m)\u001b[0m\u001b[0;34m.\u001b[0m\u001b[0m__finalize__\u001b[0m\u001b[0;34m(\u001b[0m\u001b[0mself\u001b[0m\u001b[0;34m,\u001b[0m \u001b[0mmethod\u001b[0m\u001b[0;34m=\u001b[0m\u001b[0;34m\"astype\"\u001b[0m\u001b[0;34m)\u001b[0m\u001b[0;34m\u001b[0m\u001b[0;34m\u001b[0m\u001b[0m\n\u001b[1;32m   5550\u001b[0m \u001b[0;34m\u001b[0m\u001b[0m\n",
            "\u001b[0;32m/usr/local/lib/python3.7/dist-packages/pandas/core/internals/managers.py\u001b[0m in \u001b[0;36mastype\u001b[0;34m(self, dtype, copy, errors)\u001b[0m\n\u001b[1;32m    602\u001b[0m         \u001b[0mself\u001b[0m\u001b[0;34m,\u001b[0m \u001b[0mdtype\u001b[0m\u001b[0;34m,\u001b[0m \u001b[0mcopy\u001b[0m\u001b[0;34m:\u001b[0m \u001b[0mbool\u001b[0m \u001b[0;34m=\u001b[0m \u001b[0;32mFalse\u001b[0m\u001b[0;34m,\u001b[0m \u001b[0merrors\u001b[0m\u001b[0;34m:\u001b[0m \u001b[0mstr\u001b[0m \u001b[0;34m=\u001b[0m \u001b[0;34m\"raise\"\u001b[0m\u001b[0;34m\u001b[0m\u001b[0;34m\u001b[0m\u001b[0m\n\u001b[1;32m    603\u001b[0m     ) -> \"BlockManager\":\n\u001b[0;32m--> 604\u001b[0;31m         \u001b[0;32mreturn\u001b[0m \u001b[0mself\u001b[0m\u001b[0;34m.\u001b[0m\u001b[0mapply\u001b[0m\u001b[0;34m(\u001b[0m\u001b[0;34m\"astype\"\u001b[0m\u001b[0;34m,\u001b[0m \u001b[0mdtype\u001b[0m\u001b[0;34m=\u001b[0m\u001b[0mdtype\u001b[0m\u001b[0;34m,\u001b[0m \u001b[0mcopy\u001b[0m\u001b[0;34m=\u001b[0m\u001b[0mcopy\u001b[0m\u001b[0;34m,\u001b[0m \u001b[0merrors\u001b[0m\u001b[0;34m=\u001b[0m\u001b[0merrors\u001b[0m\u001b[0;34m)\u001b[0m\u001b[0;34m\u001b[0m\u001b[0;34m\u001b[0m\u001b[0m\n\u001b[0m\u001b[1;32m    605\u001b[0m \u001b[0;34m\u001b[0m\u001b[0m\n\u001b[1;32m    606\u001b[0m     def convert(\n",
            "\u001b[0;32m/usr/local/lib/python3.7/dist-packages/pandas/core/internals/managers.py\u001b[0m in \u001b[0;36mapply\u001b[0;34m(self, f, align_keys, **kwargs)\u001b[0m\n\u001b[1;32m    407\u001b[0m                 \u001b[0mapplied\u001b[0m \u001b[0;34m=\u001b[0m \u001b[0mb\u001b[0m\u001b[0;34m.\u001b[0m\u001b[0mapply\u001b[0m\u001b[0;34m(\u001b[0m\u001b[0mf\u001b[0m\u001b[0;34m,\u001b[0m \u001b[0;34m**\u001b[0m\u001b[0mkwargs\u001b[0m\u001b[0;34m)\u001b[0m\u001b[0;34m\u001b[0m\u001b[0;34m\u001b[0m\u001b[0m\n\u001b[1;32m    408\u001b[0m             \u001b[0;32melse\u001b[0m\u001b[0;34m:\u001b[0m\u001b[0;34m\u001b[0m\u001b[0;34m\u001b[0m\u001b[0m\n\u001b[0;32m--> 409\u001b[0;31m                 \u001b[0mapplied\u001b[0m \u001b[0;34m=\u001b[0m \u001b[0mgetattr\u001b[0m\u001b[0;34m(\u001b[0m\u001b[0mb\u001b[0m\u001b[0;34m,\u001b[0m \u001b[0mf\u001b[0m\u001b[0;34m)\u001b[0m\u001b[0;34m(\u001b[0m\u001b[0;34m**\u001b[0m\u001b[0mkwargs\u001b[0m\u001b[0;34m)\u001b[0m\u001b[0;34m\u001b[0m\u001b[0;34m\u001b[0m\u001b[0m\n\u001b[0m\u001b[1;32m    410\u001b[0m             \u001b[0mresult_blocks\u001b[0m \u001b[0;34m=\u001b[0m \u001b[0m_extend_blocks\u001b[0m\u001b[0;34m(\u001b[0m\u001b[0mapplied\u001b[0m\u001b[0;34m,\u001b[0m \u001b[0mresult_blocks\u001b[0m\u001b[0;34m)\u001b[0m\u001b[0;34m\u001b[0m\u001b[0;34m\u001b[0m\u001b[0m\n\u001b[1;32m    411\u001b[0m \u001b[0;34m\u001b[0m\u001b[0m\n",
            "\u001b[0;32m/usr/local/lib/python3.7/dist-packages/pandas/core/internals/blocks.py\u001b[0m in \u001b[0;36mastype\u001b[0;34m(self, dtype, copy, errors)\u001b[0m\n\u001b[1;32m    593\u001b[0m             \u001b[0mvals1d\u001b[0m \u001b[0;34m=\u001b[0m \u001b[0mvalues\u001b[0m\u001b[0;34m.\u001b[0m\u001b[0mravel\u001b[0m\u001b[0;34m(\u001b[0m\u001b[0;34m)\u001b[0m\u001b[0;34m\u001b[0m\u001b[0;34m\u001b[0m\u001b[0m\n\u001b[1;32m    594\u001b[0m             \u001b[0;32mtry\u001b[0m\u001b[0;34m:\u001b[0m\u001b[0;34m\u001b[0m\u001b[0;34m\u001b[0m\u001b[0m\n\u001b[0;32m--> 595\u001b[0;31m                 \u001b[0mvalues\u001b[0m \u001b[0;34m=\u001b[0m \u001b[0mastype_nansafe\u001b[0m\u001b[0;34m(\u001b[0m\u001b[0mvals1d\u001b[0m\u001b[0;34m,\u001b[0m \u001b[0mdtype\u001b[0m\u001b[0;34m,\u001b[0m \u001b[0mcopy\u001b[0m\u001b[0;34m=\u001b[0m\u001b[0;32mTrue\u001b[0m\u001b[0;34m)\u001b[0m\u001b[0;34m\u001b[0m\u001b[0;34m\u001b[0m\u001b[0m\n\u001b[0m\u001b[1;32m    596\u001b[0m             \u001b[0;32mexcept\u001b[0m \u001b[0;34m(\u001b[0m\u001b[0mValueError\u001b[0m\u001b[0;34m,\u001b[0m \u001b[0mTypeError\u001b[0m\u001b[0;34m)\u001b[0m\u001b[0;34m:\u001b[0m\u001b[0;34m\u001b[0m\u001b[0;34m\u001b[0m\u001b[0m\n\u001b[1;32m    597\u001b[0m                 \u001b[0;31m# e.g. astype_nansafe can fail on object-dtype of strings\u001b[0m\u001b[0;34m\u001b[0m\u001b[0;34m\u001b[0m\u001b[0;34m\u001b[0m\u001b[0m\n",
            "\u001b[0;32m/usr/local/lib/python3.7/dist-packages/pandas/core/dtypes/cast.py\u001b[0m in \u001b[0;36mastype_nansafe\u001b[0;34m(arr, dtype, copy, skipna)\u001b[0m\n\u001b[1;32m    972\u001b[0m         \u001b[0;31m# work around NumPy brokenness, #1987\u001b[0m\u001b[0;34m\u001b[0m\u001b[0;34m\u001b[0m\u001b[0;34m\u001b[0m\u001b[0m\n\u001b[1;32m    973\u001b[0m         \u001b[0;32mif\u001b[0m \u001b[0mnp\u001b[0m\u001b[0;34m.\u001b[0m\u001b[0missubdtype\u001b[0m\u001b[0;34m(\u001b[0m\u001b[0mdtype\u001b[0m\u001b[0;34m.\u001b[0m\u001b[0mtype\u001b[0m\u001b[0;34m,\u001b[0m \u001b[0mnp\u001b[0m\u001b[0;34m.\u001b[0m\u001b[0minteger\u001b[0m\u001b[0;34m)\u001b[0m\u001b[0;34m:\u001b[0m\u001b[0;34m\u001b[0m\u001b[0;34m\u001b[0m\u001b[0m\n\u001b[0;32m--> 974\u001b[0;31m             \u001b[0;32mreturn\u001b[0m \u001b[0mlib\u001b[0m\u001b[0;34m.\u001b[0m\u001b[0mastype_intsafe\u001b[0m\u001b[0;34m(\u001b[0m\u001b[0marr\u001b[0m\u001b[0;34m.\u001b[0m\u001b[0mravel\u001b[0m\u001b[0;34m(\u001b[0m\u001b[0;34m)\u001b[0m\u001b[0;34m,\u001b[0m \u001b[0mdtype\u001b[0m\u001b[0;34m)\u001b[0m\u001b[0;34m.\u001b[0m\u001b[0mreshape\u001b[0m\u001b[0;34m(\u001b[0m\u001b[0marr\u001b[0m\u001b[0;34m.\u001b[0m\u001b[0mshape\u001b[0m\u001b[0;34m)\u001b[0m\u001b[0;34m\u001b[0m\u001b[0;34m\u001b[0m\u001b[0m\n\u001b[0m\u001b[1;32m    975\u001b[0m \u001b[0;34m\u001b[0m\u001b[0m\n\u001b[1;32m    976\u001b[0m         \u001b[0;31m# if we have a datetime/timedelta array of objects\u001b[0m\u001b[0;34m\u001b[0m\u001b[0;34m\u001b[0m\u001b[0;34m\u001b[0m\u001b[0m\n",
            "\u001b[0;32mpandas/_libs/lib.pyx\u001b[0m in \u001b[0;36mpandas._libs.lib.astype_intsafe\u001b[0;34m()\u001b[0m\n",
            "\u001b[0;31mValueError\u001b[0m: invalid literal for int() with base 10: 'No Rank'"
          ]
        }
      ]
    },
    {
      "cell_type": "code",
      "metadata": {
        "colab": {
          "base_uri": "https://localhost:8080/"
        },
        "id": "FfhoKwrVn0FQ",
        "outputId": "f1e5fc12-2ebe-4323-d186-1da977379288"
      },
      "source": [
        "pd.to_numeric(df[\"rank.numberInt\"], errors = \"coerce\")"
      ],
      "execution_count": null,
      "outputs": [
        {
          "output_type": "execute_result",
          "data": {
            "text/plain": [
              "0        2.0\n",
              "1        3.0\n",
              "2        4.0\n",
              "3        5.0\n",
              "5        7.0\n",
              "        ... \n",
              "3027     8.0\n",
              "3028     9.0\n",
              "3029    11.0\n",
              "3030    13.0\n",
              "3031    14.0\n",
              "Name: rank.numberInt, Length: 2266, dtype: float64"
            ]
          },
          "metadata": {
            "tags": []
          },
          "execution_count": 24
        }
      ]
    },
    {
      "cell_type": "code",
      "metadata": {
        "id": "FKJrsFZLoj9h"
      },
      "source": [
        "df[\"rank_numberInt\"] = pd.to_numeric(df[\"rank.numberInt\"], errors = \"coerce\")\n",
        "df = df.dropna(axis = 0).copy()"
      ],
      "execution_count": null,
      "outputs": []
    },
    {
      "cell_type": "code",
      "metadata": {
        "id": "6GdCU3uBpSsc"
      },
      "source": [
        "df[\"rank.numberInt\"] = df[\"rank.numberInt\"].astype(int)"
      ],
      "execution_count": null,
      "outputs": []
    },
    {
      "cell_type": "code",
      "metadata": {
        "colab": {
          "base_uri": "https://localhost:8080/"
        },
        "id": "NSmleN6Qpedk",
        "outputId": "cb1eaf8e-7c2b-4272-a2c1-9ca226fde8c0"
      },
      "source": [
        "df.dtypes"
      ],
      "execution_count": null,
      "outputs": [
        {
          "output_type": "execute_result",
          "data": {
            "text/plain": [
              "amazon_product_url              object\n",
              "author                          object\n",
              "description                     object\n",
              "publisher                       object\n",
              "title                           object\n",
              "oid                             object\n",
              "bestsellers_date.numberLong     object\n",
              "published_date.numberLong        int64\n",
              "rank.numberInt                   int64\n",
              "rank_last_week.numberInt         int64\n",
              "weeks_on_list.numberInt          int64\n",
              "price.numberDouble             float64\n",
              "rank_numberInt                 float64\n",
              "dtype: object"
            ]
          },
          "metadata": {
            "tags": []
          },
          "execution_count": 27
        }
      ]
    },
    {
      "cell_type": "code",
      "metadata": {
        "id": "YeUCk_5gpiuG"
      },
      "source": [
        "df = pd.read_csv(\"/content/drive/MyDrive/Datasets/new_york_times_bestsellers-dirty.csv\", index_col = 0)"
      ],
      "execution_count": null,
      "outputs": []
    },
    {
      "cell_type": "code",
      "metadata": {
        "colab": {
          "base_uri": "https://localhost:8080/",
          "height": 574
        },
        "id": "Ccr3zLUAuZTc",
        "outputId": "c83c0153-e1e7-4186-c4b7-fc3d76e716ee"
      },
      "source": [
        "df.head()"
      ],
      "execution_count": null,
      "outputs": [
        {
          "output_type": "execute_result",
          "data": {
            "text/html": [
              "<div>\n",
              "<style scoped>\n",
              "    .dataframe tbody tr th:only-of-type {\n",
              "        vertical-align: middle;\n",
              "    }\n",
              "\n",
              "    .dataframe tbody tr th {\n",
              "        vertical-align: top;\n",
              "    }\n",
              "\n",
              "    .dataframe thead th {\n",
              "        text-align: right;\n",
              "    }\n",
              "</style>\n",
              "<table border=\"1\" class=\"dataframe\">\n",
              "  <thead>\n",
              "    <tr style=\"text-align: right;\">\n",
              "      <th></th>\n",
              "      <th>amazon_product_url</th>\n",
              "      <th>author</th>\n",
              "      <th>description</th>\n",
              "      <th>publisher</th>\n",
              "      <th>title</th>\n",
              "      <th>oid</th>\n",
              "      <th>bestsellers_date.numberLong</th>\n",
              "      <th>published_date.numberLong</th>\n",
              "      <th>rank.numberInt</th>\n",
              "      <th>rank_last_week.numberInt</th>\n",
              "      <th>weeks_on_list.numberInt</th>\n",
              "      <th>price.numberDouble</th>\n",
              "    </tr>\n",
              "  </thead>\n",
              "  <tbody>\n",
              "    <tr>\n",
              "      <th>0</th>\n",
              "      <td>http://www.amazon.com/The-Host-Novel-Stephenie...</td>\n",
              "      <td>Stephenie Meyer</td>\n",
              "      <td>Descr: Aliens have taken control of the minds ...</td>\n",
              "      <td>Little, Brown</td>\n",
              "      <td>THE HOST</td>\n",
              "      <td>5b4aa4ead3089013507db18c</td>\n",
              "      <td>2008-05-24 00:00:00</td>\n",
              "      <td>1212883200000</td>\n",
              "      <td>2</td>\n",
              "      <td>1</td>\n",
              "      <td>3</td>\n",
              "      <td>25.99</td>\n",
              "    </tr>\n",
              "    <tr>\n",
              "      <th>1</th>\n",
              "      <td>http://www.amazon.com/Love-Youre-With-Emily-Gi...</td>\n",
              "      <td>Emily Giffin</td>\n",
              "      <td>Descr: A woman's happy marriage is shaken when...</td>\n",
              "      <td>St. Martin's</td>\n",
              "      <td>LOVE THE ONE YOU'RE WITH</td>\n",
              "      <td>5b4aa4ead3089013507db18d</td>\n",
              "      <td>2008-05-24 00:00:00</td>\n",
              "      <td>1212883200000</td>\n",
              "      <td>3</td>\n",
              "      <td>2</td>\n",
              "      <td>2</td>\n",
              "      <td>24.95</td>\n",
              "    </tr>\n",
              "    <tr>\n",
              "      <th>2</th>\n",
              "      <td>http://www.amazon.com/The-Front-Garano-Patrici...</td>\n",
              "      <td>Patricia Cornwell</td>\n",
              "      <td>Descr: A Massachusetts state investigator and ...</td>\n",
              "      <td>Putnam</td>\n",
              "      <td>THE FRONT</td>\n",
              "      <td>5b4aa4ead3089013507db18e</td>\n",
              "      <td>2008-05-24 00:00:00</td>\n",
              "      <td>1212883200000</td>\n",
              "      <td>4</td>\n",
              "      <td>0</td>\n",
              "      <td>1</td>\n",
              "      <td>22.95</td>\n",
              "    </tr>\n",
              "    <tr>\n",
              "      <th>3</th>\n",
              "      <td>http://www.amazon.com/Snuff-Chuck-Palahniuk/dp...</td>\n",
              "      <td>Chuck Palahniuk</td>\n",
              "      <td>Descr: An aging porn queens aims to cap her ca...</td>\n",
              "      <td>Doubleday</td>\n",
              "      <td>SNUFF</td>\n",
              "      <td>5b4aa4ead3089013507db18f</td>\n",
              "      <td>2008-05-24 00:00:00</td>\n",
              "      <td>1212883200000</td>\n",
              "      <td>5</td>\n",
              "      <td>0</td>\n",
              "      <td>1</td>\n",
              "      <td>24.95</td>\n",
              "    </tr>\n",
              "    <tr>\n",
              "      <th>5</th>\n",
              "      <td>http://www.amazon.com/Phantom-Prey-John-Sandfo...</td>\n",
              "      <td>John Sandford</td>\n",
              "      <td>Descr: The Minneapolis detective Lucas Davenpo...</td>\n",
              "      <td>Putnam</td>\n",
              "      <td>PHANTOM PREY</td>\n",
              "      <td>5b4aa4ead3089013507db191</td>\n",
              "      <td>2008-05-24 00:00:00</td>\n",
              "      <td>1212883200000</td>\n",
              "      <td>7</td>\n",
              "      <td>4</td>\n",
              "      <td>3</td>\n",
              "      <td>26.95</td>\n",
              "    </tr>\n",
              "  </tbody>\n",
              "</table>\n",
              "</div>"
            ],
            "text/plain": [
              "                                  amazon_product_url  ... price.numberDouble\n",
              "0  http://www.amazon.com/The-Host-Novel-Stephenie...  ...              25.99\n",
              "1  http://www.amazon.com/Love-Youre-With-Emily-Gi...  ...              24.95\n",
              "2  http://www.amazon.com/The-Front-Garano-Patrici...  ...              22.95\n",
              "3  http://www.amazon.com/Snuff-Chuck-Palahniuk/dp...  ...              24.95\n",
              "5  http://www.amazon.com/Phantom-Prey-John-Sandfo...  ...              26.95\n",
              "\n",
              "[5 rows x 12 columns]"
            ]
          },
          "metadata": {
            "tags": []
          },
          "execution_count": 50
        }
      ]
    },
    {
      "cell_type": "code",
      "metadata": {
        "colab": {
          "base_uri": "https://localhost:8080/"
        },
        "id": "Km6t-uaruceT",
        "outputId": "9cd36fdb-4a2e-4bec-e3c3-c19f5f65e5c5"
      },
      "source": [
        "df[\"description\"]"
      ],
      "execution_count": null,
      "outputs": [
        {
          "output_type": "execute_result",
          "data": {
            "text/plain": [
              "0       Descr: Aliens have taken control of the minds ...\n",
              "1       Descr: A woman's happy marriage is shaken when...\n",
              "2       Descr: A Massachusetts state investigator and ...\n",
              "3       Descr: An aging porn queens aims to cap her ca...\n",
              "5       Descr: The Minneapolis detective Lucas Davenpo...\n",
              "                              ...                        \n",
              "3027    Descr: The New York lawyer Stone Barrington di...\n",
              "3028    Descr: Jake Fisher discovers that neither the ...\n",
              "3029    Descr: Six friends meet in the 1970s at a summ...\n",
              "3030    Descr: Bernie Gunther, the Berlin cop, is sent...\n",
              "3031    Descr: A New Hampshire baker finds herself in ...\n",
              "Name: description, Length: 2266, dtype: object"
            ]
          },
          "metadata": {
            "tags": []
          },
          "execution_count": 51
        }
      ]
    },
    {
      "cell_type": "code",
      "metadata": {
        "colab": {
          "base_uri": "https://localhost:8080/"
        },
        "id": "mUrgGrv7uek2",
        "outputId": "6d3e0979-7b7c-4619-d4ce-cf4649924794"
      },
      "source": [
        "df[\"description\"].str.replace(\"Descr:\", \"\")"
      ],
      "execution_count": null,
      "outputs": [
        {
          "output_type": "execute_result",
          "data": {
            "text/plain": [
              "0        Aliens have taken control of the minds and bo...\n",
              "1        A woman's happy marriage is shaken when she e...\n",
              "2        A Massachusetts state investigator and his te...\n",
              "3        An aging porn queens aims to cap her career b...\n",
              "5        The Minneapolis detective Lucas Davenport inv...\n",
              "                              ...                        \n",
              "3027     The New York lawyer Stone Barrington discover...\n",
              "3028     Jake Fisher discovers that neither the woman ...\n",
              "3029     Six friends meet in the 1970s at a summer art...\n",
              "3030     Bernie Gunther, the Berlin cop, is sent to Sm...\n",
              "3031     A New Hampshire baker finds herself in the mi...\n",
              "Name: description, Length: 2266, dtype: object"
            ]
          },
          "metadata": {
            "tags": []
          },
          "execution_count": 52
        }
      ]
    },
    {
      "cell_type": "code",
      "metadata": {
        "id": "_xMnvlw7uwAF"
      },
      "source": [
        "df[\"description\"] = df[\"description\"].str.replace(\"Descr: \", \"\")"
      ],
      "execution_count": null,
      "outputs": []
    },
    {
      "cell_type": "code",
      "metadata": {
        "colab": {
          "base_uri": "https://localhost:8080/",
          "height": 254
        },
        "id": "9XMpeajuu09s",
        "outputId": "72e2c33a-f90d-474d-879f-4dff4fef8631"
      },
      "source": [
        "df.head(2)"
      ],
      "execution_count": null,
      "outputs": [
        {
          "output_type": "execute_result",
          "data": {
            "text/html": [
              "<div>\n",
              "<style scoped>\n",
              "    .dataframe tbody tr th:only-of-type {\n",
              "        vertical-align: middle;\n",
              "    }\n",
              "\n",
              "    .dataframe tbody tr th {\n",
              "        vertical-align: top;\n",
              "    }\n",
              "\n",
              "    .dataframe thead th {\n",
              "        text-align: right;\n",
              "    }\n",
              "</style>\n",
              "<table border=\"1\" class=\"dataframe\">\n",
              "  <thead>\n",
              "    <tr style=\"text-align: right;\">\n",
              "      <th></th>\n",
              "      <th>amazon_product_url</th>\n",
              "      <th>author</th>\n",
              "      <th>description</th>\n",
              "      <th>publisher</th>\n",
              "      <th>title</th>\n",
              "      <th>oid</th>\n",
              "      <th>bestsellers_date.numberLong</th>\n",
              "      <th>published_date.numberLong</th>\n",
              "      <th>rank.numberInt</th>\n",
              "      <th>rank_last_week.numberInt</th>\n",
              "      <th>weeks_on_list.numberInt</th>\n",
              "      <th>price.numberDouble</th>\n",
              "    </tr>\n",
              "  </thead>\n",
              "  <tbody>\n",
              "    <tr>\n",
              "      <th>0</th>\n",
              "      <td>http://www.amazon.com/The-Host-Novel-Stephenie...</td>\n",
              "      <td>Stephenie Meyer</td>\n",
              "      <td>Aliens have taken control of the minds and bod...</td>\n",
              "      <td>Little, Brown</td>\n",
              "      <td>THE HOST</td>\n",
              "      <td>5b4aa4ead3089013507db18c</td>\n",
              "      <td>2008-05-24 00:00:00</td>\n",
              "      <td>1212883200000</td>\n",
              "      <td>2</td>\n",
              "      <td>1</td>\n",
              "      <td>3</td>\n",
              "      <td>25.99</td>\n",
              "    </tr>\n",
              "    <tr>\n",
              "      <th>1</th>\n",
              "      <td>http://www.amazon.com/Love-Youre-With-Emily-Gi...</td>\n",
              "      <td>Emily Giffin</td>\n",
              "      <td>A woman's happy marriage is shaken when she en...</td>\n",
              "      <td>St. Martin's</td>\n",
              "      <td>LOVE THE ONE YOU'RE WITH</td>\n",
              "      <td>5b4aa4ead3089013507db18d</td>\n",
              "      <td>2008-05-24 00:00:00</td>\n",
              "      <td>1212883200000</td>\n",
              "      <td>3</td>\n",
              "      <td>2</td>\n",
              "      <td>2</td>\n",
              "      <td>24.95</td>\n",
              "    </tr>\n",
              "  </tbody>\n",
              "</table>\n",
              "</div>"
            ],
            "text/plain": [
              "                                  amazon_product_url  ... price.numberDouble\n",
              "0  http://www.amazon.com/The-Host-Novel-Stephenie...  ...              25.99\n",
              "1  http://www.amazon.com/Love-Youre-With-Emily-Gi...  ...              24.95\n",
              "\n",
              "[2 rows x 12 columns]"
            ]
          },
          "metadata": {
            "tags": []
          },
          "execution_count": 54
        }
      ]
    },
    {
      "cell_type": "code",
      "metadata": {
        "colab": {
          "base_uri": "https://localhost:8080/"
        },
        "id": "rI9iIFugu2Vb",
        "outputId": "07eb7eaa-fc62-43ee-8fe0-d78e2595f472"
      },
      "source": [
        "df[\"description\"].str.strip()"
      ],
      "execution_count": null,
      "outputs": [
        {
          "output_type": "execute_result",
          "data": {
            "text/plain": [
              "0       Aliens have taken control of the minds and bod...\n",
              "1       A woman's happy marriage is shaken when she en...\n",
              "2       A Massachusetts state investigator and his tea...\n",
              "3       An aging porn queens aims to cap her career by...\n",
              "5       The Minneapolis detective Lucas Davenport inve...\n",
              "                              ...                        \n",
              "3027    The New York lawyer Stone Barrington discovers...\n",
              "3028    Jake Fisher discovers that neither the woman h...\n",
              "3029    Six friends meet in the 1970s at a summer arts...\n",
              "3030    Bernie Gunther, the Berlin cop, is sent to Smo...\n",
              "3031    A New Hampshire baker finds herself in the mid...\n",
              "Name: description, Length: 2266, dtype: object"
            ]
          },
          "metadata": {
            "tags": []
          },
          "execution_count": 55
        }
      ]
    },
    {
      "cell_type": "code",
      "metadata": {
        "colab": {
          "base_uri": "https://localhost:8080/"
        },
        "id": "RymMqSM-vCZh",
        "outputId": "2440a80c-bba1-46a7-9eda-e09079236b4c"
      },
      "source": [
        "df[\"title\"].str.lower()"
      ],
      "execution_count": null,
      "outputs": [
        {
          "output_type": "execute_result",
          "data": {
            "text/plain": [
              "0                       the host\n",
              "1       love the one you're with\n",
              "2                      the front\n",
              "3                          snuff\n",
              "5                   phantom prey\n",
              "                  ...           \n",
              "3027     unintended consequences\n",
              "3028                   six years\n",
              "3029            the interestings\n",
              "3030        a man without breath\n",
              "3031             the storyteller\n",
              "Name: title, Length: 2266, dtype: object"
            ]
          },
          "metadata": {
            "tags": []
          },
          "execution_count": 56
        }
      ]
    },
    {
      "cell_type": "code",
      "metadata": {
        "colab": {
          "base_uri": "https://localhost:8080/"
        },
        "id": "7gau9ZVhvgNT",
        "outputId": "4309851e-5a2f-4fe7-8c0b-dca5fb46eba0"
      },
      "source": [
        "df[\"title\"].str.title() #Respeta las iniciales de las palabras en mayúsculas"
      ],
      "execution_count": null,
      "outputs": [
        {
          "output_type": "execute_result",
          "data": {
            "text/plain": [
              "0                       The Host\n",
              "1       Love The One You'Re With\n",
              "2                      The Front\n",
              "3                          Snuff\n",
              "5                   Phantom Prey\n",
              "                  ...           \n",
              "3027     Unintended Consequences\n",
              "3028                   Six Years\n",
              "3029            The Interestings\n",
              "3030        A Man Without Breath\n",
              "3031             The Storyteller\n",
              "Name: title, Length: 2266, dtype: object"
            ]
          },
          "metadata": {
            "tags": []
          },
          "execution_count": 57
        }
      ]
    },
    {
      "cell_type": "code",
      "metadata": {
        "id": "7DbDHy5Xvv4p"
      },
      "source": [
        "df[\"title\"] = df[\"title\"].str.title()"
      ],
      "execution_count": null,
      "outputs": []
    },
    {
      "cell_type": "code",
      "metadata": {
        "colab": {
          "base_uri": "https://localhost:8080/"
        },
        "id": "gamZPZ_Sv4sk",
        "outputId": "63b04018-2139-4130-b463-752dd40a56df"
      },
      "source": [
        "df[\"author\"]"
      ],
      "execution_count": null,
      "outputs": [
        {
          "output_type": "execute_result",
          "data": {
            "text/plain": [
              "0         Stephenie Meyer\n",
              "1            Emily Giffin\n",
              "2       Patricia Cornwell\n",
              "3         Chuck Palahniuk\n",
              "5           John Sandford\n",
              "              ...        \n",
              "3027         Stuart Woods\n",
              "3028         Harlan Coben\n",
              "3029         Meg Wolitzer\n",
              "3030          Philip Kerr\n",
              "3031         Jodi Picoult\n",
              "Name: author, Length: 2266, dtype: object"
            ]
          },
          "metadata": {
            "tags": []
          },
          "execution_count": 59
        }
      ]
    },
    {
      "cell_type": "code",
      "metadata": {
        "colab": {
          "base_uri": "https://localhost:8080/"
        },
        "id": "3sXCJy2DwHzP",
        "outputId": "8b5b1244-46a9-4be2-e24a-72719af12857"
      },
      "source": [
        "df[\"author\"].str.split(\" \")"
      ],
      "execution_count": null,
      "outputs": [
        {
          "output_type": "execute_result",
          "data": {
            "text/plain": [
              "0         [Stephenie, Meyer]\n",
              "1            [Emily, Giffin]\n",
              "2       [Patricia, Cornwell]\n",
              "3         [Chuck, Palahniuk]\n",
              "5           [John, Sandford]\n",
              "                ...         \n",
              "3027         [Stuart, Woods]\n",
              "3028         [Harlan, Coben]\n",
              "3029         [Meg, Wolitzer]\n",
              "3030          [Philip, Kerr]\n",
              "3031         [Jodi, Picoult]\n",
              "Name: author, Length: 2266, dtype: object"
            ]
          },
          "metadata": {
            "tags": []
          },
          "execution_count": 61
        }
      ]
    },
    {
      "cell_type": "code",
      "metadata": {
        "colab": {
          "base_uri": "https://localhost:8080/",
          "height": 424
        },
        "id": "OQ2wpkDJwO63",
        "outputId": "acfb182c-c865-4ed2-f817-fceb51457dc5"
      },
      "source": [
        "df[\"author\"].str.split(\" \", expand = True)"
      ],
      "execution_count": null,
      "outputs": [
        {
          "output_type": "execute_result",
          "data": {
            "text/html": [
              "<div>\n",
              "<style scoped>\n",
              "    .dataframe tbody tr th:only-of-type {\n",
              "        vertical-align: middle;\n",
              "    }\n",
              "\n",
              "    .dataframe tbody tr th {\n",
              "        vertical-align: top;\n",
              "    }\n",
              "\n",
              "    .dataframe thead th {\n",
              "        text-align: right;\n",
              "    }\n",
              "</style>\n",
              "<table border=\"1\" class=\"dataframe\">\n",
              "  <thead>\n",
              "    <tr style=\"text-align: right;\">\n",
              "      <th></th>\n",
              "      <th>0</th>\n",
              "      <th>1</th>\n",
              "    </tr>\n",
              "  </thead>\n",
              "  <tbody>\n",
              "    <tr>\n",
              "      <th>0</th>\n",
              "      <td>Stephenie</td>\n",
              "      <td>Meyer</td>\n",
              "    </tr>\n",
              "    <tr>\n",
              "      <th>1</th>\n",
              "      <td>Emily</td>\n",
              "      <td>Giffin</td>\n",
              "    </tr>\n",
              "    <tr>\n",
              "      <th>2</th>\n",
              "      <td>Patricia</td>\n",
              "      <td>Cornwell</td>\n",
              "    </tr>\n",
              "    <tr>\n",
              "      <th>3</th>\n",
              "      <td>Chuck</td>\n",
              "      <td>Palahniuk</td>\n",
              "    </tr>\n",
              "    <tr>\n",
              "      <th>5</th>\n",
              "      <td>John</td>\n",
              "      <td>Sandford</td>\n",
              "    </tr>\n",
              "    <tr>\n",
              "      <th>...</th>\n",
              "      <td>...</td>\n",
              "      <td>...</td>\n",
              "    </tr>\n",
              "    <tr>\n",
              "      <th>3027</th>\n",
              "      <td>Stuart</td>\n",
              "      <td>Woods</td>\n",
              "    </tr>\n",
              "    <tr>\n",
              "      <th>3028</th>\n",
              "      <td>Harlan</td>\n",
              "      <td>Coben</td>\n",
              "    </tr>\n",
              "    <tr>\n",
              "      <th>3029</th>\n",
              "      <td>Meg</td>\n",
              "      <td>Wolitzer</td>\n",
              "    </tr>\n",
              "    <tr>\n",
              "      <th>3030</th>\n",
              "      <td>Philip</td>\n",
              "      <td>Kerr</td>\n",
              "    </tr>\n",
              "    <tr>\n",
              "      <th>3031</th>\n",
              "      <td>Jodi</td>\n",
              "      <td>Picoult</td>\n",
              "    </tr>\n",
              "  </tbody>\n",
              "</table>\n",
              "<p>2266 rows × 2 columns</p>\n",
              "</div>"
            ],
            "text/plain": [
              "              0          1\n",
              "0     Stephenie      Meyer\n",
              "1         Emily     Giffin\n",
              "2      Patricia   Cornwell\n",
              "3         Chuck  Palahniuk\n",
              "5          John   Sandford\n",
              "...         ...        ...\n",
              "3027     Stuart      Woods\n",
              "3028     Harlan      Coben\n",
              "3029        Meg   Wolitzer\n",
              "3030     Philip       Kerr\n",
              "3031       Jodi    Picoult\n",
              "\n",
              "[2266 rows x 2 columns]"
            ]
          },
          "metadata": {
            "tags": []
          },
          "execution_count": 62
        }
      ]
    },
    {
      "cell_type": "code",
      "metadata": {
        "id": "FdRfnK2xwfsa"
      },
      "source": [
        "df[[\"author_first_name\", \"author_last_name\"]] = df[\"author\"].str.split(\" \", expand = True)"
      ],
      "execution_count": null,
      "outputs": []
    },
    {
      "cell_type": "code",
      "metadata": {
        "colab": {
          "base_uri": "https://localhost:8080/",
          "height": 556
        },
        "id": "drccZKTLwsi3",
        "outputId": "f3c185d2-082a-444b-e814-509a8d4123b6"
      },
      "source": [
        "df.head()"
      ],
      "execution_count": null,
      "outputs": [
        {
          "output_type": "execute_result",
          "data": {
            "text/html": [
              "<div>\n",
              "<style scoped>\n",
              "    .dataframe tbody tr th:only-of-type {\n",
              "        vertical-align: middle;\n",
              "    }\n",
              "\n",
              "    .dataframe tbody tr th {\n",
              "        vertical-align: top;\n",
              "    }\n",
              "\n",
              "    .dataframe thead th {\n",
              "        text-align: right;\n",
              "    }\n",
              "</style>\n",
              "<table border=\"1\" class=\"dataframe\">\n",
              "  <thead>\n",
              "    <tr style=\"text-align: right;\">\n",
              "      <th></th>\n",
              "      <th>amazon_product_url</th>\n",
              "      <th>author</th>\n",
              "      <th>description</th>\n",
              "      <th>publisher</th>\n",
              "      <th>title</th>\n",
              "      <th>oid</th>\n",
              "      <th>bestsellers_date.numberLong</th>\n",
              "      <th>published_date.numberLong</th>\n",
              "      <th>rank.numberInt</th>\n",
              "      <th>rank_last_week.numberInt</th>\n",
              "      <th>weeks_on_list.numberInt</th>\n",
              "      <th>price.numberDouble</th>\n",
              "      <th>author_first_name</th>\n",
              "      <th>author_last_name</th>\n",
              "    </tr>\n",
              "  </thead>\n",
              "  <tbody>\n",
              "    <tr>\n",
              "      <th>0</th>\n",
              "      <td>http://www.amazon.com/The-Host-Novel-Stephenie...</td>\n",
              "      <td>Stephenie Meyer</td>\n",
              "      <td>Aliens have taken control of the minds and bod...</td>\n",
              "      <td>Little, Brown</td>\n",
              "      <td>The Host</td>\n",
              "      <td>5b4aa4ead3089013507db18c</td>\n",
              "      <td>2008-05-24 00:00:00</td>\n",
              "      <td>1212883200000</td>\n",
              "      <td>2</td>\n",
              "      <td>1</td>\n",
              "      <td>3</td>\n",
              "      <td>25.99</td>\n",
              "      <td>Stephenie</td>\n",
              "      <td>Meyer</td>\n",
              "    </tr>\n",
              "    <tr>\n",
              "      <th>1</th>\n",
              "      <td>http://www.amazon.com/Love-Youre-With-Emily-Gi...</td>\n",
              "      <td>Emily Giffin</td>\n",
              "      <td>A woman's happy marriage is shaken when she en...</td>\n",
              "      <td>St. Martin's</td>\n",
              "      <td>Love The One You'Re With</td>\n",
              "      <td>5b4aa4ead3089013507db18d</td>\n",
              "      <td>2008-05-24 00:00:00</td>\n",
              "      <td>1212883200000</td>\n",
              "      <td>3</td>\n",
              "      <td>2</td>\n",
              "      <td>2</td>\n",
              "      <td>24.95</td>\n",
              "      <td>Emily</td>\n",
              "      <td>Giffin</td>\n",
              "    </tr>\n",
              "    <tr>\n",
              "      <th>2</th>\n",
              "      <td>http://www.amazon.com/The-Front-Garano-Patrici...</td>\n",
              "      <td>Patricia Cornwell</td>\n",
              "      <td>A Massachusetts state investigator and his tea...</td>\n",
              "      <td>Putnam</td>\n",
              "      <td>The Front</td>\n",
              "      <td>5b4aa4ead3089013507db18e</td>\n",
              "      <td>2008-05-24 00:00:00</td>\n",
              "      <td>1212883200000</td>\n",
              "      <td>4</td>\n",
              "      <td>0</td>\n",
              "      <td>1</td>\n",
              "      <td>22.95</td>\n",
              "      <td>Patricia</td>\n",
              "      <td>Cornwell</td>\n",
              "    </tr>\n",
              "    <tr>\n",
              "      <th>3</th>\n",
              "      <td>http://www.amazon.com/Snuff-Chuck-Palahniuk/dp...</td>\n",
              "      <td>Chuck Palahniuk</td>\n",
              "      <td>An aging porn queens aims to cap her career by...</td>\n",
              "      <td>Doubleday</td>\n",
              "      <td>Snuff</td>\n",
              "      <td>5b4aa4ead3089013507db18f</td>\n",
              "      <td>2008-05-24 00:00:00</td>\n",
              "      <td>1212883200000</td>\n",
              "      <td>5</td>\n",
              "      <td>0</td>\n",
              "      <td>1</td>\n",
              "      <td>24.95</td>\n",
              "      <td>Chuck</td>\n",
              "      <td>Palahniuk</td>\n",
              "    </tr>\n",
              "    <tr>\n",
              "      <th>5</th>\n",
              "      <td>http://www.amazon.com/Phantom-Prey-John-Sandfo...</td>\n",
              "      <td>John Sandford</td>\n",
              "      <td>The Minneapolis detective Lucas Davenport inve...</td>\n",
              "      <td>Putnam</td>\n",
              "      <td>Phantom Prey</td>\n",
              "      <td>5b4aa4ead3089013507db191</td>\n",
              "      <td>2008-05-24 00:00:00</td>\n",
              "      <td>1212883200000</td>\n",
              "      <td>7</td>\n",
              "      <td>4</td>\n",
              "      <td>3</td>\n",
              "      <td>26.95</td>\n",
              "      <td>John</td>\n",
              "      <td>Sandford</td>\n",
              "    </tr>\n",
              "  </tbody>\n",
              "</table>\n",
              "</div>"
            ],
            "text/plain": [
              "                                  amazon_product_url  ... author_last_name\n",
              "0  http://www.amazon.com/The-Host-Novel-Stephenie...  ...            Meyer\n",
              "1  http://www.amazon.com/Love-Youre-With-Emily-Gi...  ...           Giffin\n",
              "2  http://www.amazon.com/The-Front-Garano-Patrici...  ...         Cornwell\n",
              "3  http://www.amazon.com/Snuff-Chuck-Palahniuk/dp...  ...        Palahniuk\n",
              "5  http://www.amazon.com/Phantom-Prey-John-Sandfo...  ...         Sandford\n",
              "\n",
              "[5 rows x 14 columns]"
            ]
          },
          "metadata": {
            "tags": []
          },
          "execution_count": 65
        }
      ]
    },
    {
      "cell_type": "code",
      "metadata": {
        "colab": {
          "base_uri": "https://localhost:8080/",
          "height": 556
        },
        "id": "omYyhrTJwvic",
        "outputId": "e9622fe3-8064-4254-8f17-54d37b01f25c"
      },
      "source": [
        ""
      ],
      "execution_count": null,
      "outputs": [
        {
          "output_type": "execute_result",
          "data": {
            "text/html": [
              "<div>\n",
              "<style scoped>\n",
              "    .dataframe tbody tr th:only-of-type {\n",
              "        vertical-align: middle;\n",
              "    }\n",
              "\n",
              "    .dataframe tbody tr th {\n",
              "        vertical-align: top;\n",
              "    }\n",
              "\n",
              "    .dataframe thead th {\n",
              "        text-align: right;\n",
              "    }\n",
              "</style>\n",
              "<table border=\"1\" class=\"dataframe\">\n",
              "  <thead>\n",
              "    <tr style=\"text-align: right;\">\n",
              "      <th></th>\n",
              "      <th>amazon_product_url</th>\n",
              "      <th>author</th>\n",
              "      <th>description</th>\n",
              "      <th>publisher</th>\n",
              "      <th>title</th>\n",
              "      <th>oid</th>\n",
              "      <th>bestsellers_date.numberLong</th>\n",
              "      <th>published_date.numberLong</th>\n",
              "      <th>rank.numberInt</th>\n",
              "      <th>rank_last_week.numberInt</th>\n",
              "      <th>weeks_on_list.numberInt</th>\n",
              "      <th>price.numberDouble</th>\n",
              "      <th>author_first_name</th>\n",
              "      <th>author_last_name</th>\n",
              "    </tr>\n",
              "  </thead>\n",
              "  <tbody>\n",
              "    <tr>\n",
              "      <th>0</th>\n",
              "      <td>http://www.amazon.com/The-Host-Novel-Stephenie...</td>\n",
              "      <td>Stephenie Meyer</td>\n",
              "      <td>Aliens have taken control of the minds and bod...</td>\n",
              "      <td>Little, Brown</td>\n",
              "      <td>The Host</td>\n",
              "      <td>5b4aa4ead3089013507db18c</td>\n",
              "      <td>2008-05-24 00:00:00</td>\n",
              "      <td>1212883200000</td>\n",
              "      <td>2</td>\n",
              "      <td>1</td>\n",
              "      <td>3</td>\n",
              "      <td>25.99</td>\n",
              "      <td>Stephenie</td>\n",
              "      <td>Meyer</td>\n",
              "    </tr>\n",
              "    <tr>\n",
              "      <th>1</th>\n",
              "      <td>http://www.amazon.com/Love-Youre-With-Emily-Gi...</td>\n",
              "      <td>Emily Giffin</td>\n",
              "      <td>A woman's happy marriage is shaken when she en...</td>\n",
              "      <td>St. Martin's</td>\n",
              "      <td>Love The One You'Re With</td>\n",
              "      <td>5b4aa4ead3089013507db18d</td>\n",
              "      <td>2008-05-24 00:00:00</td>\n",
              "      <td>1212883200000</td>\n",
              "      <td>3</td>\n",
              "      <td>2</td>\n",
              "      <td>2</td>\n",
              "      <td>24.95</td>\n",
              "      <td>Emily</td>\n",
              "      <td>Giffin</td>\n",
              "    </tr>\n",
              "    <tr>\n",
              "      <th>2</th>\n",
              "      <td>http://www.amazon.com/The-Front-Garano-Patrici...</td>\n",
              "      <td>Patricia Cornwell</td>\n",
              "      <td>A Massachusetts state investigator and his tea...</td>\n",
              "      <td>Putnam</td>\n",
              "      <td>The Front</td>\n",
              "      <td>5b4aa4ead3089013507db18e</td>\n",
              "      <td>2008-05-24 00:00:00</td>\n",
              "      <td>1212883200000</td>\n",
              "      <td>4</td>\n",
              "      <td>0</td>\n",
              "      <td>1</td>\n",
              "      <td>22.95</td>\n",
              "      <td>Patricia</td>\n",
              "      <td>Cornwell</td>\n",
              "    </tr>\n",
              "    <tr>\n",
              "      <th>3</th>\n",
              "      <td>http://www.amazon.com/Snuff-Chuck-Palahniuk/dp...</td>\n",
              "      <td>Chuck Palahniuk</td>\n",
              "      <td>An aging porn queens aims to cap her career by...</td>\n",
              "      <td>Doubleday</td>\n",
              "      <td>Snuff</td>\n",
              "      <td>5b4aa4ead3089013507db18f</td>\n",
              "      <td>2008-05-24 00:00:00</td>\n",
              "      <td>1212883200000</td>\n",
              "      <td>5</td>\n",
              "      <td>0</td>\n",
              "      <td>1</td>\n",
              "      <td>24.95</td>\n",
              "      <td>Chuck</td>\n",
              "      <td>Palahniuk</td>\n",
              "    </tr>\n",
              "    <tr>\n",
              "      <th>5</th>\n",
              "      <td>http://www.amazon.com/Phantom-Prey-John-Sandfo...</td>\n",
              "      <td>John Sandford</td>\n",
              "      <td>The Minneapolis detective Lucas Davenport inve...</td>\n",
              "      <td>Putnam</td>\n",
              "      <td>Phantom Prey</td>\n",
              "      <td>5b4aa4ead3089013507db191</td>\n",
              "      <td>2008-05-24 00:00:00</td>\n",
              "      <td>1212883200000</td>\n",
              "      <td>7</td>\n",
              "      <td>4</td>\n",
              "      <td>3</td>\n",
              "      <td>26.95</td>\n",
              "      <td>John</td>\n",
              "      <td>Sandford</td>\n",
              "    </tr>\n",
              "  </tbody>\n",
              "</table>\n",
              "</div>"
            ],
            "text/plain": [
              "                                  amazon_product_url  ... author_last_name\n",
              "0  http://www.amazon.com/The-Host-Novel-Stephenie...  ...            Meyer\n",
              "1  http://www.amazon.com/Love-Youre-With-Emily-Gi...  ...           Giffin\n",
              "2  http://www.amazon.com/The-Front-Garano-Patrici...  ...         Cornwell\n",
              "3  http://www.amazon.com/Snuff-Chuck-Palahniuk/dp...  ...        Palahniuk\n",
              "5  http://www.amazon.com/Phantom-Prey-John-Sandfo...  ...         Sandford\n",
              "\n",
              "[5 rows x 14 columns]"
            ]
          },
          "metadata": {
            "tags": []
          },
          "execution_count": 66
        }
      ]
    },
    {
      "cell_type": "code",
      "metadata": {
        "id": "zbCRQ9_Gw6WX"
      },
      "source": [
        "int_a_letra = {\n",
        "    '1': 'a',\n",
        "    '2': 'b',\n",
        "    '3': 'c',\n",
        "    '4': 'd',\n",
        "    '5': 'e',\n",
        "    '6': 'f',\n",
        "    '7': 'g',\n",
        "    '8': 'h',\n",
        "    '9': 'i',\n",
        "    '10': 'j',\n",
        "    '11': 'k',\n",
        "    '12': 'l',\n",
        "    '13': 'm',\n",
        "    '14': 'n',\n",
        "    '15': 'o',\n",
        "    '16': 'p',\n",
        "    'No Rank': 'z'\n",
        "}\n"
      ],
      "execution_count": null,
      "outputs": []
    },
    {
      "cell_type": "code",
      "metadata": {
        "id": "M14vQAHZ7Gaz"
      },
      "source": [
        "df = pd.read_csv(\"/content/drive/MyDrive/Datasets/new_york_times_bestsellers-dirty.csv\", index_col = 0)"
      ],
      "execution_count": null,
      "outputs": []
    },
    {
      "cell_type": "code",
      "metadata": {
        "colab": {
          "base_uri": "https://localhost:8080/",
          "height": 271
        },
        "id": "x82SpjmB7T_-",
        "outputId": "9fc833d3-f85e-4e1e-8943-c0472559e452"
      },
      "source": [
        "df.head(2)"
      ],
      "execution_count": null,
      "outputs": [
        {
          "output_type": "execute_result",
          "data": {
            "text/html": [
              "<div>\n",
              "<style scoped>\n",
              "    .dataframe tbody tr th:only-of-type {\n",
              "        vertical-align: middle;\n",
              "    }\n",
              "\n",
              "    .dataframe tbody tr th {\n",
              "        vertical-align: top;\n",
              "    }\n",
              "\n",
              "    .dataframe thead th {\n",
              "        text-align: right;\n",
              "    }\n",
              "</style>\n",
              "<table border=\"1\" class=\"dataframe\">\n",
              "  <thead>\n",
              "    <tr style=\"text-align: right;\">\n",
              "      <th></th>\n",
              "      <th>amazon_product_url</th>\n",
              "      <th>author</th>\n",
              "      <th>description</th>\n",
              "      <th>publisher</th>\n",
              "      <th>title</th>\n",
              "      <th>oid</th>\n",
              "      <th>bestsellers_date.numberLong</th>\n",
              "      <th>published_date.numberLong</th>\n",
              "      <th>rank.numberInt</th>\n",
              "      <th>rank_last_week.numberInt</th>\n",
              "      <th>weeks_on_list.numberInt</th>\n",
              "      <th>price.numberDouble</th>\n",
              "    </tr>\n",
              "  </thead>\n",
              "  <tbody>\n",
              "    <tr>\n",
              "      <th>0</th>\n",
              "      <td>http://www.amazon.com/The-Host-Novel-Stephenie...</td>\n",
              "      <td>Stephenie Meyer</td>\n",
              "      <td>Descr: Aliens have taken control of the minds ...</td>\n",
              "      <td>Little, Brown</td>\n",
              "      <td>THE HOST</td>\n",
              "      <td>5b4aa4ead3089013507db18c</td>\n",
              "      <td>2008-05-24 00:00:00</td>\n",
              "      <td>1212883200000</td>\n",
              "      <td>2</td>\n",
              "      <td>1</td>\n",
              "      <td>3</td>\n",
              "      <td>25.99</td>\n",
              "    </tr>\n",
              "    <tr>\n",
              "      <th>1</th>\n",
              "      <td>http://www.amazon.com/Love-Youre-With-Emily-Gi...</td>\n",
              "      <td>Emily Giffin</td>\n",
              "      <td>Descr: A woman's happy marriage is shaken when...</td>\n",
              "      <td>St. Martin's</td>\n",
              "      <td>LOVE THE ONE YOU'RE WITH</td>\n",
              "      <td>5b4aa4ead3089013507db18d</td>\n",
              "      <td>2008-05-24 00:00:00</td>\n",
              "      <td>1212883200000</td>\n",
              "      <td>3</td>\n",
              "      <td>2</td>\n",
              "      <td>2</td>\n",
              "      <td>24.95</td>\n",
              "    </tr>\n",
              "  </tbody>\n",
              "</table>\n",
              "</div>"
            ],
            "text/plain": [
              "                                  amazon_product_url  ... price.numberDouble\n",
              "0  http://www.amazon.com/The-Host-Novel-Stephenie...  ...              25.99\n",
              "1  http://www.amazon.com/Love-Youre-With-Emily-Gi...  ...              24.95\n",
              "\n",
              "[2 rows x 12 columns]"
            ]
          },
          "metadata": {
            "tags": []
          },
          "execution_count": 69
        }
      ]
    },
    {
      "cell_type": "code",
      "metadata": {
        "colab": {
          "base_uri": "https://localhost:8080/"
        },
        "id": "N0Tu2Rjm7VUa",
        "outputId": "a2374ccd-0a31-45fe-a92e-7a2fc612c7fb"
      },
      "source": [
        "#Originalmente está hecho para mapear diccionarios\n",
        "df[\"rank.numberInt\"].map(int_a_letra).head(20)"
      ],
      "execution_count": null,
      "outputs": [
        {
          "output_type": "execute_result",
          "data": {
            "text/plain": [
              "0     b\n",
              "1     c\n",
              "2     d\n",
              "3     e\n",
              "5     g\n",
              "6     h\n",
              "7     i\n",
              "8     j\n",
              "9     l\n",
              "10    m\n",
              "11    n\n",
              "13    z\n",
              "14    d\n",
              "16    f\n",
              "17    g\n",
              "18    h\n",
              "19    i\n",
              "20    j\n",
              "21    k\n",
              "22    l\n",
              "Name: rank.numberInt, dtype: object"
            ]
          },
          "metadata": {
            "tags": []
          },
          "execution_count": 71
        }
      ]
    },
    {
      "cell_type": "code",
      "metadata": {
        "id": "AhKVZvaz7iU3"
      },
      "source": [
        "def double_to_money(value):\n",
        "  return f\"${value} USD\" "
      ],
      "execution_count": null,
      "outputs": []
    },
    {
      "cell_type": "code",
      "metadata": {
        "colab": {
          "base_uri": "https://localhost:8080/"
        },
        "id": "sZYupkbH74-M",
        "outputId": "948c40e3-85bb-4558-c5f4-7b23d811c44b"
      },
      "source": [
        "df[\"price.numberDouble\"].map(double_to_money)"
      ],
      "execution_count": null,
      "outputs": [
        {
          "output_type": "execute_result",
          "data": {
            "text/plain": [
              "0       $25.99 USD\n",
              "1       $24.95 USD\n",
              "2       $22.95 USD\n",
              "3       $24.95 USD\n",
              "5       $26.95 USD\n",
              "           ...    \n",
              "3027    $26.95 USD\n",
              "3028    $27.95 USD\n",
              "3029    $27.95 USD\n",
              "3030    $26.95 USD\n",
              "3031    $28.99 USD\n",
              "Name: price.numberDouble, Length: 2266, dtype: object"
            ]
          },
          "metadata": {
            "tags": []
          },
          "execution_count": 73
        }
      ]
    },
    {
      "cell_type": "code",
      "metadata": {
        "id": "NeSFJKNn79dW"
      },
      "source": [
        "def years_since_bestseller(value):\n",
        "  as_datetime = pd.to_datetime(value, unit = \"ms\")\n",
        "  today = pd.to_datetime(\"today\")\n",
        "  difference_in_days = (today - as_datetime).days\n",
        "  in_years = difference_in_days / 365\n",
        "\n",
        "  return in_years"
      ],
      "execution_count": null,
      "outputs": []
    },
    {
      "cell_type": "code",
      "metadata": {
        "colab": {
          "base_uri": "https://localhost:8080/"
        },
        "id": "JU9UbOqoAGYA",
        "outputId": "3bad2ac8-5bd6-4496-fee5-f31da1c3cd81"
      },
      "source": [
        "df[\"published_date.numberLong\"].apply(years_since_bestseller)"
      ],
      "execution_count": null,
      "outputs": [
        {
          "output_type": "execute_result",
          "data": {
            "text/plain": [
              "0       12.758904\n",
              "1       12.758904\n",
              "2       12.758904\n",
              "3       12.758904\n",
              "5       12.758904\n",
              "          ...    \n",
              "3027     7.849315\n",
              "3028     7.849315\n",
              "3029     7.849315\n",
              "3030     7.849315\n",
              "3031     7.849315\n",
              "Name: published_date.numberLong, Length: 2266, dtype: float64"
            ]
          },
          "metadata": {
            "tags": []
          },
          "execution_count": 75
        }
      ]
    },
    {
      "cell_type": "code",
      "metadata": {
        "id": "CyM6vbEVAVwu"
      },
      "source": [
        "def week_on_list_percentage(value, max_weeks_on_list):\n",
        "  percentage = value * 100 / max_weeks_on_list\n",
        "  as_string = f\"{percentage:.2f}%\" #:.2f para usar dos decimales\n",
        "\n",
        "  return as_string\n"
      ],
      "execution_count": null,
      "outputs": []
    },
    {
      "cell_type": "code",
      "metadata": {
        "colab": {
          "base_uri": "https://localhost:8080/"
        },
        "id": "fu_5mHPmBHhZ",
        "outputId": "964e1d03-d483-4dd8-99a4-bfc064309069"
      },
      "source": [
        "df[\"weeks_on_list.numberInt\"].apply(week_on_list_percentage, args = (df[\"weeks_on_list.numberInt\"].max(),)) #el primer valor es el que se aplica a la función"
      ],
      "execution_count": null,
      "outputs": [
        {
          "output_type": "execute_result",
          "data": {
            "text/plain": [
              "0       2.78%\n",
              "1       1.85%\n",
              "2       0.93%\n",
              "3       0.93%\n",
              "5       2.78%\n",
              "        ...  \n",
              "3027    1.85%\n",
              "3028    4.63%\n",
              "3029    1.85%\n",
              "3030    0.93%\n",
              "3031    7.41%\n",
              "Name: weeks_on_list.numberInt, Length: 2266, dtype: object"
            ]
          },
          "metadata": {
            "tags": []
          },
          "execution_count": 81
        }
      ]
    },
    {
      "cell_type": "code",
      "metadata": {
        "colab": {
          "base_uri": "https://localhost:8080/",
          "height": 313
        },
        "id": "_C-IxlL-Benp",
        "outputId": "876a4e21-bcca-47de-e2a7-7fb014856372"
      },
      "source": [
        "df.apply(week_om_list_percentage, axis = 1)"
      ],
      "execution_count": null,
      "outputs": [
        {
          "output_type": "error",
          "ename": "TypeError",
          "evalue": "ignored",
          "traceback": [
            "\u001b[0;31m---------------------------------------------------------------------------\u001b[0m",
            "\u001b[0;31mTypeError\u001b[0m                                 Traceback (most recent call last)",
            "\u001b[0;32m<ipython-input-82-20d8a494598c>\u001b[0m in \u001b[0;36m<module>\u001b[0;34m()\u001b[0m\n\u001b[0;32m----> 1\u001b[0;31m \u001b[0mdf\u001b[0m\u001b[0;34m.\u001b[0m\u001b[0mapply\u001b[0m\u001b[0;34m(\u001b[0m\u001b[0mweek_om_list_percentage\u001b[0m\u001b[0;34m,\u001b[0m \u001b[0maxis\u001b[0m \u001b[0;34m=\u001b[0m \u001b[0;36m1\u001b[0m\u001b[0;34m)\u001b[0m\u001b[0;34m\u001b[0m\u001b[0;34m\u001b[0m\u001b[0m\n\u001b[0m",
            "\u001b[0;32m/usr/local/lib/python3.7/dist-packages/pandas/core/frame.py\u001b[0m in \u001b[0;36mapply\u001b[0;34m(self, func, axis, raw, result_type, args, **kwds)\u001b[0m\n\u001b[1;32m   7550\u001b[0m             \u001b[0mkwds\u001b[0m\u001b[0;34m=\u001b[0m\u001b[0mkwds\u001b[0m\u001b[0;34m,\u001b[0m\u001b[0;34m\u001b[0m\u001b[0;34m\u001b[0m\u001b[0m\n\u001b[1;32m   7551\u001b[0m         )\n\u001b[0;32m-> 7552\u001b[0;31m         \u001b[0;32mreturn\u001b[0m \u001b[0mop\u001b[0m\u001b[0;34m.\u001b[0m\u001b[0mget_result\u001b[0m\u001b[0;34m(\u001b[0m\u001b[0;34m)\u001b[0m\u001b[0;34m\u001b[0m\u001b[0;34m\u001b[0m\u001b[0m\n\u001b[0m\u001b[1;32m   7553\u001b[0m \u001b[0;34m\u001b[0m\u001b[0m\n\u001b[1;32m   7554\u001b[0m     \u001b[0;32mdef\u001b[0m \u001b[0mapplymap\u001b[0m\u001b[0;34m(\u001b[0m\u001b[0mself\u001b[0m\u001b[0;34m,\u001b[0m \u001b[0mfunc\u001b[0m\u001b[0;34m)\u001b[0m \u001b[0;34m->\u001b[0m \u001b[0;34m\"DataFrame\"\u001b[0m\u001b[0;34m:\u001b[0m\u001b[0;34m\u001b[0m\u001b[0;34m\u001b[0m\u001b[0m\n",
            "\u001b[0;32m/usr/local/lib/python3.7/dist-packages/pandas/core/apply.py\u001b[0m in \u001b[0;36mget_result\u001b[0;34m(self)\u001b[0m\n\u001b[1;32m    183\u001b[0m             \u001b[0;32mreturn\u001b[0m \u001b[0mself\u001b[0m\u001b[0;34m.\u001b[0m\u001b[0mapply_raw\u001b[0m\u001b[0;34m(\u001b[0m\u001b[0;34m)\u001b[0m\u001b[0;34m\u001b[0m\u001b[0;34m\u001b[0m\u001b[0m\n\u001b[1;32m    184\u001b[0m \u001b[0;34m\u001b[0m\u001b[0m\n\u001b[0;32m--> 185\u001b[0;31m         \u001b[0;32mreturn\u001b[0m \u001b[0mself\u001b[0m\u001b[0;34m.\u001b[0m\u001b[0mapply_standard\u001b[0m\u001b[0;34m(\u001b[0m\u001b[0;34m)\u001b[0m\u001b[0;34m\u001b[0m\u001b[0;34m\u001b[0m\u001b[0m\n\u001b[0m\u001b[1;32m    186\u001b[0m \u001b[0;34m\u001b[0m\u001b[0m\n\u001b[1;32m    187\u001b[0m     \u001b[0;32mdef\u001b[0m \u001b[0mapply_empty_result\u001b[0m\u001b[0;34m(\u001b[0m\u001b[0mself\u001b[0m\u001b[0;34m)\u001b[0m\u001b[0;34m:\u001b[0m\u001b[0;34m\u001b[0m\u001b[0;34m\u001b[0m\u001b[0m\n",
            "\u001b[0;32m/usr/local/lib/python3.7/dist-packages/pandas/core/apply.py\u001b[0m in \u001b[0;36mapply_standard\u001b[0;34m(self)\u001b[0m\n\u001b[1;32m    274\u001b[0m \u001b[0;34m\u001b[0m\u001b[0m\n\u001b[1;32m    275\u001b[0m     \u001b[0;32mdef\u001b[0m \u001b[0mapply_standard\u001b[0m\u001b[0;34m(\u001b[0m\u001b[0mself\u001b[0m\u001b[0;34m)\u001b[0m\u001b[0;34m:\u001b[0m\u001b[0;34m\u001b[0m\u001b[0;34m\u001b[0m\u001b[0m\n\u001b[0;32m--> 276\u001b[0;31m         \u001b[0mresults\u001b[0m\u001b[0;34m,\u001b[0m \u001b[0mres_index\u001b[0m \u001b[0;34m=\u001b[0m \u001b[0mself\u001b[0m\u001b[0;34m.\u001b[0m\u001b[0mapply_series_generator\u001b[0m\u001b[0;34m(\u001b[0m\u001b[0;34m)\u001b[0m\u001b[0;34m\u001b[0m\u001b[0;34m\u001b[0m\u001b[0m\n\u001b[0m\u001b[1;32m    277\u001b[0m \u001b[0;34m\u001b[0m\u001b[0m\n\u001b[1;32m    278\u001b[0m         \u001b[0;31m# wrap results\u001b[0m\u001b[0;34m\u001b[0m\u001b[0;34m\u001b[0m\u001b[0;34m\u001b[0m\u001b[0m\n",
            "\u001b[0;32m/usr/local/lib/python3.7/dist-packages/pandas/core/apply.py\u001b[0m in \u001b[0;36mapply_series_generator\u001b[0;34m(self)\u001b[0m\n\u001b[1;32m    303\u001b[0m                 \u001b[0;32mfor\u001b[0m \u001b[0mi\u001b[0m\u001b[0;34m,\u001b[0m \u001b[0mv\u001b[0m \u001b[0;32min\u001b[0m \u001b[0menumerate\u001b[0m\u001b[0;34m(\u001b[0m\u001b[0mseries_gen\u001b[0m\u001b[0;34m)\u001b[0m\u001b[0;34m:\u001b[0m\u001b[0;34m\u001b[0m\u001b[0;34m\u001b[0m\u001b[0m\n\u001b[1;32m    304\u001b[0m                     \u001b[0;31m# ignore SettingWithCopy here in case the user mutates\u001b[0m\u001b[0;34m\u001b[0m\u001b[0;34m\u001b[0m\u001b[0;34m\u001b[0m\u001b[0m\n\u001b[0;32m--> 305\u001b[0;31m                     \u001b[0mresults\u001b[0m\u001b[0;34m[\u001b[0m\u001b[0mi\u001b[0m\u001b[0;34m]\u001b[0m \u001b[0;34m=\u001b[0m \u001b[0mself\u001b[0m\u001b[0;34m.\u001b[0m\u001b[0mf\u001b[0m\u001b[0;34m(\u001b[0m\u001b[0mv\u001b[0m\u001b[0;34m)\u001b[0m\u001b[0;34m\u001b[0m\u001b[0;34m\u001b[0m\u001b[0m\n\u001b[0m\u001b[1;32m    306\u001b[0m                     \u001b[0;32mif\u001b[0m \u001b[0misinstance\u001b[0m\u001b[0;34m(\u001b[0m\u001b[0mresults\u001b[0m\u001b[0;34m[\u001b[0m\u001b[0mi\u001b[0m\u001b[0;34m]\u001b[0m\u001b[0;34m,\u001b[0m \u001b[0mABCSeries\u001b[0m\u001b[0;34m)\u001b[0m\u001b[0;34m:\u001b[0m\u001b[0;34m\u001b[0m\u001b[0;34m\u001b[0m\u001b[0m\n\u001b[1;32m    307\u001b[0m                         \u001b[0;31m# If we have a view on v, we need to make a copy because\u001b[0m\u001b[0;34m\u001b[0m\u001b[0;34m\u001b[0m\u001b[0;34m\u001b[0m\u001b[0m\n",
            "\u001b[0;31mTypeError\u001b[0m: week_om_list_percentage() missing 1 required positional argument: 'max_weeks_on_list'"
          ]
        }
      ]
    },
    {
      "cell_type": "code",
      "metadata": {
        "colab": {
          "base_uri": "https://localhost:8080/"
        },
        "id": "idCgvEODCLOD",
        "outputId": "4aab4726-23f2-42c9-b744-7d4725b55ed5"
      },
      "source": [
        "df[\"author\"].str.startswith(\"R\") #Filtra cuál empieza con R"
      ],
      "execution_count": null,
      "outputs": [
        {
          "output_type": "execute_result",
          "data": {
            "text/plain": [
              "0       False\n",
              "1       False\n",
              "2       False\n",
              "3       False\n",
              "5       False\n",
              "        ...  \n",
              "3027    False\n",
              "3028    False\n",
              "3029    False\n",
              "3030    False\n",
              "3031    False\n",
              "Name: author, Length: 2266, dtype: bool"
            ]
          },
          "metadata": {
            "tags": []
          },
          "execution_count": 83
        }
      ]
    },
    {
      "cell_type": "code",
      "metadata": {
        "colab": {
          "base_uri": "https://localhost:8080/",
          "height": 539
        },
        "id": "2UU29pIbEi-f",
        "outputId": "d056770d-946d-4c06-b888-3ac6d17d9e4c"
      },
      "source": [
        "df[df[\"author\"].str.startswith(\"R\") ].head()"
      ],
      "execution_count": null,
      "outputs": [
        {
          "output_type": "execute_result",
          "data": {
            "text/html": [
              "<div>\n",
              "<style scoped>\n",
              "    .dataframe tbody tr th:only-of-type {\n",
              "        vertical-align: middle;\n",
              "    }\n",
              "\n",
              "    .dataframe tbody tr th {\n",
              "        vertical-align: top;\n",
              "    }\n",
              "\n",
              "    .dataframe thead th {\n",
              "        text-align: right;\n",
              "    }\n",
              "</style>\n",
              "<table border=\"1\" class=\"dataframe\">\n",
              "  <thead>\n",
              "    <tr style=\"text-align: right;\">\n",
              "      <th></th>\n",
              "      <th>amazon_product_url</th>\n",
              "      <th>author</th>\n",
              "      <th>description</th>\n",
              "      <th>publisher</th>\n",
              "      <th>title</th>\n",
              "      <th>oid</th>\n",
              "      <th>bestsellers_date.numberLong</th>\n",
              "      <th>published_date.numberLong</th>\n",
              "      <th>rank.numberInt</th>\n",
              "      <th>rank_last_week.numberInt</th>\n",
              "      <th>weeks_on_list.numberInt</th>\n",
              "      <th>price.numberDouble</th>\n",
              "    </tr>\n",
              "  </thead>\n",
              "  <tbody>\n",
              "    <tr>\n",
              "      <th>79</th>\n",
              "      <td>http://www.amazon.com/Chasing-Darkness-Elvis-N...</td>\n",
              "      <td>Robert Crais</td>\n",
              "      <td>Descr: he Los Angeles private eye Elvis Cole r...</td>\n",
              "      <td>Simon &amp; Schuster</td>\n",
              "      <td>CHASING DARKNESS</td>\n",
              "      <td>5b4aa4ead3089013507db209</td>\n",
              "      <td>2008-07-05 00:00:00</td>\n",
              "      <td>1216512000000</td>\n",
              "      <td>7</td>\n",
              "      <td>0</td>\n",
              "      <td>1</td>\n",
              "      <td>25.95</td>\n",
              "    </tr>\n",
              "    <tr>\n",
              "      <th>94</th>\n",
              "      <td>http://www.amazon.com/Chasing-Darkness-Elvis-N...</td>\n",
              "      <td>Robert Crais</td>\n",
              "      <td>Descr: Is the Los Angeles private eye Elvis Co...</td>\n",
              "      <td>Simon &amp; Schuster</td>\n",
              "      <td>CHASING DARKNESS</td>\n",
              "      <td>5b4aa4ead3089013507db221</td>\n",
              "      <td>2008-07-12 00:00:00</td>\n",
              "      <td>1217116800000</td>\n",
              "      <td>11</td>\n",
              "      <td>7</td>\n",
              "      <td>2</td>\n",
              "      <td>25.95</td>\n",
              "    </tr>\n",
              "    <tr>\n",
              "      <th>110</th>\n",
              "      <td>http://www.amazon.com/Killer-View-Fleming-Ridl...</td>\n",
              "      <td>Ridley Pearson</td>\n",
              "      <td>Descr: A sheriff in Sun Valley, Idaho, investi...</td>\n",
              "      <td>Putnam</td>\n",
              "      <td>KILLER VIEW</td>\n",
              "      <td>5b4aa4ead3089013507db239</td>\n",
              "      <td>2008-07-19 00:00:00</td>\n",
              "      <td>1217721600000</td>\n",
              "      <td>15</td>\n",
              "      <td>0</td>\n",
              "      <td>1</td>\n",
              "      <td>24.95</td>\n",
              "    </tr>\n",
              "    <tr>\n",
              "      <th>143</th>\n",
              "      <td>http://www.amazon.com/Foreign-Body-Robin-Cook/...</td>\n",
              "      <td>Robin Cook</td>\n",
              "      <td>Descr: A medical student investigates a rising...</td>\n",
              "      <td>Putnam</td>\n",
              "      <td>FOREIGN BODY</td>\n",
              "      <td>5b4aa4ead3089013507db26f</td>\n",
              "      <td>2008-08-09 00:00:00</td>\n",
              "      <td>1219536000000</td>\n",
              "      <td>9</td>\n",
              "      <td>0</td>\n",
              "      <td>1</td>\n",
              "      <td>25.95</td>\n",
              "    </tr>\n",
              "    <tr>\n",
              "      <th>158</th>\n",
              "      <td>http://www.amazon.com/Foreign-Body-Robin-Cook/...</td>\n",
              "      <td>Robin Cook</td>\n",
              "      <td>Descr: A medical student investigates a rising...</td>\n",
              "      <td>Putnam</td>\n",
              "      <td>FOREIGN BODY</td>\n",
              "      <td>5b4aa4ead3089013507db287</td>\n",
              "      <td>2008-08-16 00:00:00</td>\n",
              "      <td>1220140800000</td>\n",
              "      <td>No Rank</td>\n",
              "      <td>9</td>\n",
              "      <td>2</td>\n",
              "      <td>25.95</td>\n",
              "    </tr>\n",
              "  </tbody>\n",
              "</table>\n",
              "</div>"
            ],
            "text/plain": [
              "                                    amazon_product_url  ... price.numberDouble\n",
              "79   http://www.amazon.com/Chasing-Darkness-Elvis-N...  ...              25.95\n",
              "94   http://www.amazon.com/Chasing-Darkness-Elvis-N...  ...              25.95\n",
              "110  http://www.amazon.com/Killer-View-Fleming-Ridl...  ...              24.95\n",
              "143  http://www.amazon.com/Foreign-Body-Robin-Cook/...  ...              25.95\n",
              "158  http://www.amazon.com/Foreign-Body-Robin-Cook/...  ...              25.95\n",
              "\n",
              "[5 rows x 12 columns]"
            ]
          },
          "metadata": {
            "tags": []
          },
          "execution_count": 85
        }
      ]
    },
    {
      "cell_type": "code",
      "metadata": {
        "colab": {
          "base_uri": "https://localhost:8080/"
        },
        "id": "-OsznDWzEs3H",
        "outputId": "e7a63e98-c0f7-4595-92aa-3e511a78cfc9"
      },
      "source": [
        "df[\"price.numberDouble\"] > 20"
      ],
      "execution_count": null,
      "outputs": [
        {
          "output_type": "execute_result",
          "data": {
            "text/plain": [
              "0       True\n",
              "1       True\n",
              "2       True\n",
              "3       True\n",
              "5       True\n",
              "        ... \n",
              "3027    True\n",
              "3028    True\n",
              "3029    True\n",
              "3030    True\n",
              "3031    True\n",
              "Name: price.numberDouble, Length: 2266, dtype: bool"
            ]
          },
          "metadata": {
            "tags": []
          },
          "execution_count": 86
        }
      ]
    },
    {
      "cell_type": "code",
      "metadata": {
        "colab": {
          "base_uri": "https://localhost:8080/",
          "height": 271
        },
        "id": "qtvzKpllE-rf",
        "outputId": "5a82f4d0-14b5-47f6-9d39-c5600b4384af"
      },
      "source": [
        "df[df[\"price.numberDouble\"] > 20].head(2)"
      ],
      "execution_count": null,
      "outputs": [
        {
          "output_type": "execute_result",
          "data": {
            "text/html": [
              "<div>\n",
              "<style scoped>\n",
              "    .dataframe tbody tr th:only-of-type {\n",
              "        vertical-align: middle;\n",
              "    }\n",
              "\n",
              "    .dataframe tbody tr th {\n",
              "        vertical-align: top;\n",
              "    }\n",
              "\n",
              "    .dataframe thead th {\n",
              "        text-align: right;\n",
              "    }\n",
              "</style>\n",
              "<table border=\"1\" class=\"dataframe\">\n",
              "  <thead>\n",
              "    <tr style=\"text-align: right;\">\n",
              "      <th></th>\n",
              "      <th>amazon_product_url</th>\n",
              "      <th>author</th>\n",
              "      <th>description</th>\n",
              "      <th>publisher</th>\n",
              "      <th>title</th>\n",
              "      <th>oid</th>\n",
              "      <th>bestsellers_date.numberLong</th>\n",
              "      <th>published_date.numberLong</th>\n",
              "      <th>rank.numberInt</th>\n",
              "      <th>rank_last_week.numberInt</th>\n",
              "      <th>weeks_on_list.numberInt</th>\n",
              "      <th>price.numberDouble</th>\n",
              "    </tr>\n",
              "  </thead>\n",
              "  <tbody>\n",
              "    <tr>\n",
              "      <th>0</th>\n",
              "      <td>http://www.amazon.com/The-Host-Novel-Stephenie...</td>\n",
              "      <td>Stephenie Meyer</td>\n",
              "      <td>Descr: Aliens have taken control of the minds ...</td>\n",
              "      <td>Little, Brown</td>\n",
              "      <td>THE HOST</td>\n",
              "      <td>5b4aa4ead3089013507db18c</td>\n",
              "      <td>2008-05-24 00:00:00</td>\n",
              "      <td>1212883200000</td>\n",
              "      <td>2</td>\n",
              "      <td>1</td>\n",
              "      <td>3</td>\n",
              "      <td>25.99</td>\n",
              "    </tr>\n",
              "    <tr>\n",
              "      <th>1</th>\n",
              "      <td>http://www.amazon.com/Love-Youre-With-Emily-Gi...</td>\n",
              "      <td>Emily Giffin</td>\n",
              "      <td>Descr: A woman's happy marriage is shaken when...</td>\n",
              "      <td>St. Martin's</td>\n",
              "      <td>LOVE THE ONE YOU'RE WITH</td>\n",
              "      <td>5b4aa4ead3089013507db18d</td>\n",
              "      <td>2008-05-24 00:00:00</td>\n",
              "      <td>1212883200000</td>\n",
              "      <td>3</td>\n",
              "      <td>2</td>\n",
              "      <td>2</td>\n",
              "      <td>24.95</td>\n",
              "    </tr>\n",
              "  </tbody>\n",
              "</table>\n",
              "</div>"
            ],
            "text/plain": [
              "                                  amazon_product_url  ... price.numberDouble\n",
              "0  http://www.amazon.com/The-Host-Novel-Stephenie...  ...              25.99\n",
              "1  http://www.amazon.com/Love-Youre-With-Emily-Gi...  ...              24.95\n",
              "\n",
              "[2 rows x 12 columns]"
            ]
          },
          "metadata": {
            "tags": []
          },
          "execution_count": 88
        }
      ]
    },
    {
      "cell_type": "code",
      "metadata": {
        "colab": {
          "base_uri": "https://localhost:8080/"
        },
        "id": "RbKsGzqqFA0i",
        "outputId": "bc98696e-6abd-4d2e-e75f-87514a34eac5"
      },
      "source": [
        "df[\"rank.numberInt\"] == 1"
      ],
      "execution_count": null,
      "outputs": [
        {
          "output_type": "execute_result",
          "data": {
            "text/plain": [
              "0       False\n",
              "1       False\n",
              "2       False\n",
              "3       False\n",
              "5       False\n",
              "        ...  \n",
              "3027    False\n",
              "3028    False\n",
              "3029    False\n",
              "3030    False\n",
              "3031    False\n",
              "Name: rank.numberInt, Length: 2266, dtype: bool"
            ]
          },
          "metadata": {
            "tags": []
          },
          "execution_count": 89
        }
      ]
    },
    {
      "cell_type": "code",
      "metadata": {
        "colab": {
          "base_uri": "https://localhost:8080/",
          "height": 1000
        },
        "id": "9seByWFjFKC6",
        "outputId": "0332c99e-c4d5-4b01-86e5-eb01fa6a7654"
      },
      "source": [
        "df[df[\"rank.numberInt\"] == \"1\"]"
      ],
      "execution_count": null,
      "outputs": [
        {
          "output_type": "execute_result",
          "data": {
            "text/html": [
              "<div>\n",
              "<style scoped>\n",
              "    .dataframe tbody tr th:only-of-type {\n",
              "        vertical-align: middle;\n",
              "    }\n",
              "\n",
              "    .dataframe tbody tr th {\n",
              "        vertical-align: top;\n",
              "    }\n",
              "\n",
              "    .dataframe thead th {\n",
              "        text-align: right;\n",
              "    }\n",
              "</style>\n",
              "<table border=\"1\" class=\"dataframe\">\n",
              "  <thead>\n",
              "    <tr style=\"text-align: right;\">\n",
              "      <th></th>\n",
              "      <th>amazon_product_url</th>\n",
              "      <th>author</th>\n",
              "      <th>description</th>\n",
              "      <th>publisher</th>\n",
              "      <th>title</th>\n",
              "      <th>oid</th>\n",
              "      <th>bestsellers_date.numberLong</th>\n",
              "      <th>published_date.numberLong</th>\n",
              "      <th>rank.numberInt</th>\n",
              "      <th>rank_last_week.numberInt</th>\n",
              "      <th>weeks_on_list.numberInt</th>\n",
              "      <th>price.numberDouble</th>\n",
              "    </tr>\n",
              "  </thead>\n",
              "  <tbody>\n",
              "    <tr>\n",
              "      <th>51</th>\n",
              "      <td>http://www.amazon.com/Fearless-Fourteen-Janet-...</td>\n",
              "      <td>Janet Evanovich</td>\n",
              "      <td>Descr: Stephanie Plum and her boyfriend Joe Mo...</td>\n",
              "      <td>St. Martin’s</td>\n",
              "      <td>FEARLESS FOURTEEN</td>\n",
              "      <td>5b4aa4ead3089013507db1db</td>\n",
              "      <td>2008-06-21 00:00:00</td>\n",
              "      <td>1215302400000</td>\n",
              "      <td>1</td>\n",
              "      <td>0</td>\n",
              "      <td>1</td>\n",
              "      <td>27.95</td>\n",
              "    </tr>\n",
              "    <tr>\n",
              "      <th>63</th>\n",
              "      <td>http://www.amazon.com/Fearless-Fourteen-Janet-...</td>\n",
              "      <td>Janet Evanovich</td>\n",
              "      <td>Descr: Stephanie Plum and her boyfriend Joe Mo...</td>\n",
              "      <td>St. Martin’s</td>\n",
              "      <td>FEARLESS FOURTEEN</td>\n",
              "      <td>5b4aa4ead3089013507db1ef</td>\n",
              "      <td>2008-06-28 00:00:00</td>\n",
              "      <td>1215907200000</td>\n",
              "      <td>1</td>\n",
              "      <td>1</td>\n",
              "      <td>2</td>\n",
              "      <td>27.95</td>\n",
              "    </tr>\n",
              "    <tr>\n",
              "      <th>85</th>\n",
              "      <td>http://www.amazon.com/Tribute-Nora-Roberts/dp/...</td>\n",
              "      <td>Nora Roberts</td>\n",
              "      <td>Descr: A former child star returns to Virginia...</td>\n",
              "      <td>Putnam</td>\n",
              "      <td>TRIBUTE</td>\n",
              "      <td>5b4aa4ead3089013507db217</td>\n",
              "      <td>2008-07-12 00:00:00</td>\n",
              "      <td>1217116800000</td>\n",
              "      <td>1</td>\n",
              "      <td>0</td>\n",
              "      <td>1</td>\n",
              "      <td>26.95</td>\n",
              "    </tr>\n",
              "    <tr>\n",
              "      <th>98</th>\n",
              "      <td>http://www.amazon.com/Tribute-Nora-Roberts/dp/...</td>\n",
              "      <td>Nora Roberts</td>\n",
              "      <td>Descr: A former child star returns to Virginia...</td>\n",
              "      <td>Putnam</td>\n",
              "      <td>TRIBUTE</td>\n",
              "      <td>5b4aa4ead3089013507db22b</td>\n",
              "      <td>2008-07-19 00:00:00</td>\n",
              "      <td>1217721600000</td>\n",
              "      <td>1</td>\n",
              "      <td>1</td>\n",
              "      <td>2</td>\n",
              "      <td>26.95</td>\n",
              "    </tr>\n",
              "    <tr>\n",
              "      <th>111</th>\n",
              "      <td>http://www.amazon.com/Secret-Servant-Gabriel-A...</td>\n",
              "      <td>Daniel Silva</td>\n",
              "      <td>Descr: Gabriel Allon, an art restorer and an o...</td>\n",
              "      <td>Putnam</td>\n",
              "      <td>THE SECRET SERVANT</td>\n",
              "      <td>5b4aa4ead3089013507db23f</td>\n",
              "      <td>2008-07-26 00:00:00</td>\n",
              "      <td>1218326400000</td>\n",
              "      <td>1</td>\n",
              "      <td>0</td>\n",
              "      <td>1</td>\n",
              "      <td>26.95</td>\n",
              "    </tr>\n",
              "    <tr>\n",
              "      <th>...</th>\n",
              "      <td>...</td>\n",
              "      <td>...</td>\n",
              "      <td>...</td>\n",
              "      <td>...</td>\n",
              "      <td>...</td>\n",
              "      <td>...</td>\n",
              "      <td>...</td>\n",
              "      <td>...</td>\n",
              "      <td>...</td>\n",
              "      <td>...</td>\n",
              "      <td>...</td>\n",
              "      <td>...</td>\n",
              "    </tr>\n",
              "    <tr>\n",
              "      <th>2938</th>\n",
              "      <td>http://www.amazon.com/Alex-Cross-Run-James-Pat...</td>\n",
              "      <td>James Patterson</td>\n",
              "      <td>Descr: While Alex Cross pursues a Washington s...</td>\n",
              "      <td>Little, Brown</td>\n",
              "      <td>ALEX CROSS, RUN</td>\n",
              "      <td>5b4aa4ead3089013507dc4eb</td>\n",
              "      <td>2013-02-23 00:00:00</td>\n",
              "      <td>1362873600000</td>\n",
              "      <td>1</td>\n",
              "      <td>0</td>\n",
              "      <td>1</td>\n",
              "      <td>28.99</td>\n",
              "    </tr>\n",
              "    <tr>\n",
              "      <th>2959</th>\n",
              "      <td>http://www.amazon.com/Frost-Burned-Thompson-Pa...</td>\n",
              "      <td>Patricia Briggs</td>\n",
              "      <td>Descr: The shape-shifter Mercy Thompson seeks ...</td>\n",
              "      <td>Ace</td>\n",
              "      <td>FROST BURNED</td>\n",
              "      <td>5b4aa4ead3089013507dc513</td>\n",
              "      <td>2013-03-09 00:00:00</td>\n",
              "      <td>1364083200000</td>\n",
              "      <td>1</td>\n",
              "      <td>0</td>\n",
              "      <td>1</td>\n",
              "      <td>26.95</td>\n",
              "    </tr>\n",
              "    <tr>\n",
              "      <th>2969</th>\n",
              "      <td>http://www.amazon.com/The-Storyteller-Jodi-Pic...</td>\n",
              "      <td>Jodi Picoult</td>\n",
              "      <td>Descr: A New Hampshire baker finds herself in ...</td>\n",
              "      <td>Emily Bestler/Atria</td>\n",
              "      <td>THE STORYTELLER</td>\n",
              "      <td>5b4aa4ead3089013507dc527</td>\n",
              "      <td>2013-03-16 00:00:00</td>\n",
              "      <td>1364688000000</td>\n",
              "      <td>1</td>\n",
              "      <td>3</td>\n",
              "      <td>3</td>\n",
              "      <td>28.99</td>\n",
              "    </tr>\n",
              "    <tr>\n",
              "      <th>2980</th>\n",
              "      <td>http://www.amazon.com/Six-Years-Harlan-Coben/d...</td>\n",
              "      <td>Harlan Coben</td>\n",
              "      <td>Descr: Six years after the woman he loved marr...</td>\n",
              "      <td>Dutton</td>\n",
              "      <td>SIX YEARS</td>\n",
              "      <td>5b4aa4ead3089013507dc53b</td>\n",
              "      <td>2013-03-23 00:00:00</td>\n",
              "      <td>1365292800000</td>\n",
              "      <td>1</td>\n",
              "      <td>0</td>\n",
              "      <td>1</td>\n",
              "      <td>27.95</td>\n",
              "    </tr>\n",
              "    <tr>\n",
              "      <th>3022</th>\n",
              "      <td>http://www.amazon.com/Whiskey-Beach-Nora-Rober...</td>\n",
              "      <td>Nora Roberts</td>\n",
              "      <td>Descr: A former criminal attorney who has been...</td>\n",
              "      <td>Putnam</td>\n",
              "      <td>WHISKEY BEACH</td>\n",
              "      <td>5b4aa4ead3089013507dc58b</td>\n",
              "      <td>2013-04-20 00:00:00</td>\n",
              "      <td>1367712000000</td>\n",
              "      <td>1</td>\n",
              "      <td>0</td>\n",
              "      <td>1</td>\n",
              "      <td>27.95</td>\n",
              "    </tr>\n",
              "  </tbody>\n",
              "</table>\n",
              "<p>135 rows × 12 columns</p>\n",
              "</div>"
            ],
            "text/plain": [
              "                                     amazon_product_url  ... price.numberDouble\n",
              "51    http://www.amazon.com/Fearless-Fourteen-Janet-...  ...              27.95\n",
              "63    http://www.amazon.com/Fearless-Fourteen-Janet-...  ...              27.95\n",
              "85    http://www.amazon.com/Tribute-Nora-Roberts/dp/...  ...              26.95\n",
              "98    http://www.amazon.com/Tribute-Nora-Roberts/dp/...  ...              26.95\n",
              "111   http://www.amazon.com/Secret-Servant-Gabriel-A...  ...              26.95\n",
              "...                                                 ...  ...                ...\n",
              "2938  http://www.amazon.com/Alex-Cross-Run-James-Pat...  ...              28.99\n",
              "2959  http://www.amazon.com/Frost-Burned-Thompson-Pa...  ...              26.95\n",
              "2969  http://www.amazon.com/The-Storyteller-Jodi-Pic...  ...              28.99\n",
              "2980  http://www.amazon.com/Six-Years-Harlan-Coben/d...  ...              27.95\n",
              "3022  http://www.amazon.com/Whiskey-Beach-Nora-Rober...  ...              27.95\n",
              "\n",
              "[135 rows x 12 columns]"
            ]
          },
          "metadata": {
            "tags": []
          },
          "execution_count": 91
        }
      ]
    },
    {
      "cell_type": "markdown",
      "metadata": {
        "id": "g7pPWdv6FTgh"
      },
      "source": [
        "# Sorting"
      ]
    },
    {
      "cell_type": "code",
      "metadata": {
        "colab": {
          "base_uri": "https://localhost:8080/",
          "height": 574
        },
        "id": "wZtO8lIWFMEQ",
        "outputId": "744c02f3-a94e-4f1a-c758-6f0c76d33b43"
      },
      "source": [
        "df.head()"
      ],
      "execution_count": null,
      "outputs": [
        {
          "output_type": "execute_result",
          "data": {
            "text/html": [
              "<div>\n",
              "<style scoped>\n",
              "    .dataframe tbody tr th:only-of-type {\n",
              "        vertical-align: middle;\n",
              "    }\n",
              "\n",
              "    .dataframe tbody tr th {\n",
              "        vertical-align: top;\n",
              "    }\n",
              "\n",
              "    .dataframe thead th {\n",
              "        text-align: right;\n",
              "    }\n",
              "</style>\n",
              "<table border=\"1\" class=\"dataframe\">\n",
              "  <thead>\n",
              "    <tr style=\"text-align: right;\">\n",
              "      <th></th>\n",
              "      <th>amazon_product_url</th>\n",
              "      <th>author</th>\n",
              "      <th>description</th>\n",
              "      <th>publisher</th>\n",
              "      <th>title</th>\n",
              "      <th>oid</th>\n",
              "      <th>bestsellers_date.numberLong</th>\n",
              "      <th>published_date.numberLong</th>\n",
              "      <th>rank.numberInt</th>\n",
              "      <th>rank_last_week.numberInt</th>\n",
              "      <th>weeks_on_list.numberInt</th>\n",
              "      <th>price.numberDouble</th>\n",
              "    </tr>\n",
              "  </thead>\n",
              "  <tbody>\n",
              "    <tr>\n",
              "      <th>0</th>\n",
              "      <td>http://www.amazon.com/The-Host-Novel-Stephenie...</td>\n",
              "      <td>Stephenie Meyer</td>\n",
              "      <td>Descr: Aliens have taken control of the minds ...</td>\n",
              "      <td>Little, Brown</td>\n",
              "      <td>THE HOST</td>\n",
              "      <td>5b4aa4ead3089013507db18c</td>\n",
              "      <td>2008-05-24 00:00:00</td>\n",
              "      <td>1212883200000</td>\n",
              "      <td>2</td>\n",
              "      <td>1</td>\n",
              "      <td>3</td>\n",
              "      <td>25.99</td>\n",
              "    </tr>\n",
              "    <tr>\n",
              "      <th>1</th>\n",
              "      <td>http://www.amazon.com/Love-Youre-With-Emily-Gi...</td>\n",
              "      <td>Emily Giffin</td>\n",
              "      <td>Descr: A woman's happy marriage is shaken when...</td>\n",
              "      <td>St. Martin's</td>\n",
              "      <td>LOVE THE ONE YOU'RE WITH</td>\n",
              "      <td>5b4aa4ead3089013507db18d</td>\n",
              "      <td>2008-05-24 00:00:00</td>\n",
              "      <td>1212883200000</td>\n",
              "      <td>3</td>\n",
              "      <td>2</td>\n",
              "      <td>2</td>\n",
              "      <td>24.95</td>\n",
              "    </tr>\n",
              "    <tr>\n",
              "      <th>2</th>\n",
              "      <td>http://www.amazon.com/The-Front-Garano-Patrici...</td>\n",
              "      <td>Patricia Cornwell</td>\n",
              "      <td>Descr: A Massachusetts state investigator and ...</td>\n",
              "      <td>Putnam</td>\n",
              "      <td>THE FRONT</td>\n",
              "      <td>5b4aa4ead3089013507db18e</td>\n",
              "      <td>2008-05-24 00:00:00</td>\n",
              "      <td>1212883200000</td>\n",
              "      <td>4</td>\n",
              "      <td>0</td>\n",
              "      <td>1</td>\n",
              "      <td>22.95</td>\n",
              "    </tr>\n",
              "    <tr>\n",
              "      <th>3</th>\n",
              "      <td>http://www.amazon.com/Snuff-Chuck-Palahniuk/dp...</td>\n",
              "      <td>Chuck Palahniuk</td>\n",
              "      <td>Descr: An aging porn queens aims to cap her ca...</td>\n",
              "      <td>Doubleday</td>\n",
              "      <td>SNUFF</td>\n",
              "      <td>5b4aa4ead3089013507db18f</td>\n",
              "      <td>2008-05-24 00:00:00</td>\n",
              "      <td>1212883200000</td>\n",
              "      <td>5</td>\n",
              "      <td>0</td>\n",
              "      <td>1</td>\n",
              "      <td>24.95</td>\n",
              "    </tr>\n",
              "    <tr>\n",
              "      <th>5</th>\n",
              "      <td>http://www.amazon.com/Phantom-Prey-John-Sandfo...</td>\n",
              "      <td>John Sandford</td>\n",
              "      <td>Descr: The Minneapolis detective Lucas Davenpo...</td>\n",
              "      <td>Putnam</td>\n",
              "      <td>PHANTOM PREY</td>\n",
              "      <td>5b4aa4ead3089013507db191</td>\n",
              "      <td>2008-05-24 00:00:00</td>\n",
              "      <td>1212883200000</td>\n",
              "      <td>7</td>\n",
              "      <td>4</td>\n",
              "      <td>3</td>\n",
              "      <td>26.95</td>\n",
              "    </tr>\n",
              "  </tbody>\n",
              "</table>\n",
              "</div>"
            ],
            "text/plain": [
              "                                  amazon_product_url  ... price.numberDouble\n",
              "0  http://www.amazon.com/The-Host-Novel-Stephenie...  ...              25.99\n",
              "1  http://www.amazon.com/Love-Youre-With-Emily-Gi...  ...              24.95\n",
              "2  http://www.amazon.com/The-Front-Garano-Patrici...  ...              22.95\n",
              "3  http://www.amazon.com/Snuff-Chuck-Palahniuk/dp...  ...              24.95\n",
              "5  http://www.amazon.com/Phantom-Prey-John-Sandfo...  ...              26.95\n",
              "\n",
              "[5 rows x 12 columns]"
            ]
          },
          "metadata": {
            "tags": []
          },
          "execution_count": 92
        }
      ]
    },
    {
      "cell_type": "code",
      "metadata": {
        "colab": {
          "base_uri": "https://localhost:8080/",
          "height": 1000
        },
        "id": "lIhcopEhFqVV",
        "outputId": "083980c8-8f55-4a0d-91b9-ccf49832a1f6"
      },
      "source": [
        "df.sort_values(\"price.numberDouble\")"
      ],
      "execution_count": null,
      "outputs": [
        {
          "output_type": "execute_result",
          "data": {
            "text/html": [
              "<div>\n",
              "<style scoped>\n",
              "    .dataframe tbody tr th:only-of-type {\n",
              "        vertical-align: middle;\n",
              "    }\n",
              "\n",
              "    .dataframe tbody tr th {\n",
              "        vertical-align: top;\n",
              "    }\n",
              "\n",
              "    .dataframe thead th {\n",
              "        text-align: right;\n",
              "    }\n",
              "</style>\n",
              "<table border=\"1\" class=\"dataframe\">\n",
              "  <thead>\n",
              "    <tr style=\"text-align: right;\">\n",
              "      <th></th>\n",
              "      <th>amazon_product_url</th>\n",
              "      <th>author</th>\n",
              "      <th>description</th>\n",
              "      <th>publisher</th>\n",
              "      <th>title</th>\n",
              "      <th>oid</th>\n",
              "      <th>bestsellers_date.numberLong</th>\n",
              "      <th>published_date.numberLong</th>\n",
              "      <th>rank.numberInt</th>\n",
              "      <th>rank_last_week.numberInt</th>\n",
              "      <th>weeks_on_list.numberInt</th>\n",
              "      <th>price.numberDouble</th>\n",
              "    </tr>\n",
              "  </thead>\n",
              "  <tbody>\n",
              "    <tr>\n",
              "      <th>1343</th>\n",
              "      <td>http://www.amazon.com/Blockade-Billy-Stephen-K...</td>\n",
              "      <td>Stephen King</td>\n",
              "      <td>Descr: A tale about the dark side of baseball,...</td>\n",
              "      <td>Scribner</td>\n",
              "      <td>BLOCKADE BILLY</td>\n",
              "      <td>5b4aa4ead3089013507db9f6</td>\n",
              "      <td>2010-06-13 00:00:00</td>\n",
              "      <td>1277596800000</td>\n",
              "      <td>16</td>\n",
              "      <td>13</td>\n",
              "      <td>3</td>\n",
              "      <td>14.99</td>\n",
              "    </tr>\n",
              "    <tr>\n",
              "      <th>1328</th>\n",
              "      <td>http://www.amazon.com/Blockade-Billy-Stephen-K...</td>\n",
              "      <td>Stephen King</td>\n",
              "      <td>Descr: A tale about the dark side of baseball,...</td>\n",
              "      <td>Scribner</td>\n",
              "      <td>BLOCKADE BILLY</td>\n",
              "      <td>5b4aa4ead3089013507db9df</td>\n",
              "      <td>2010-06-06 00:00:00</td>\n",
              "      <td>1276992000000</td>\n",
              "      <td>13</td>\n",
              "      <td>9</td>\n",
              "      <td>2</td>\n",
              "      <td>14.99</td>\n",
              "    </tr>\n",
              "    <tr>\n",
              "      <th>1310</th>\n",
              "      <td>http://www.amazon.com/Blockade-Billy-Stephen-K...</td>\n",
              "      <td>Stephen King</td>\n",
              "      <td>Descr: A tale about the dark side of baseball,...</td>\n",
              "      <td>Simon &amp; Schuster</td>\n",
              "      <td>BLOCKADE BILLY</td>\n",
              "      <td>5b4aa4ead3089013507db9c7</td>\n",
              "      <td>2010-05-30 00:00:00</td>\n",
              "      <td>1276387200000</td>\n",
              "      <td>9</td>\n",
              "      <td>0</td>\n",
              "      <td>1</td>\n",
              "      <td>14.99</td>\n",
              "    </tr>\n",
              "    <tr>\n",
              "      <th>2205</th>\n",
              "      <td>http://www.amazon.com/1225-Christmas-Tree-Lane...</td>\n",
              "      <td>Debbie Macomber</td>\n",
              "      <td>Descr: Puppies and an ex-husband loom large in...</td>\n",
              "      <td>Mira</td>\n",
              "      <td>1225 CHRISTMAS TREE LANE</td>\n",
              "      <td>5b4aa4ead3089013507dbf81</td>\n",
              "      <td>2011-10-22 00:00:00</td>\n",
              "      <td>1320537600000</td>\n",
              "      <td>15</td>\n",
              "      <td>10</td>\n",
              "      <td>4</td>\n",
              "      <td>16.95</td>\n",
              "    </tr>\n",
              "    <tr>\n",
              "      <th>893</th>\n",
              "      <td>http://www.amazon.com/The-Perfect-Christmas-De...</td>\n",
              "      <td>Debbie Macomber</td>\n",
              "      <td>Descr: A 33-year-old woman consults a matchmak...</td>\n",
              "      <td>Mira</td>\n",
              "      <td>THE PERFECT CHRISTMAS</td>\n",
              "      <td>5b4aa4ead3089013507db71d</td>\n",
              "      <td>2009-10-03 00:00:00</td>\n",
              "      <td>1255824000000</td>\n",
              "      <td>7</td>\n",
              "      <td>0</td>\n",
              "      <td>1</td>\n",
              "      <td>16.95</td>\n",
              "    </tr>\n",
              "    <tr>\n",
              "      <th>...</th>\n",
              "      <td>...</td>\n",
              "      <td>...</td>\n",
              "      <td>...</td>\n",
              "      <td>...</td>\n",
              "      <td>...</td>\n",
              "      <td>...</td>\n",
              "      <td>...</td>\n",
              "      <td>...</td>\n",
              "      <td>...</td>\n",
              "      <td>...</td>\n",
              "      <td>...</td>\n",
              "      <td>...</td>\n",
              "    </tr>\n",
              "    <tr>\n",
              "      <th>2208</th>\n",
              "      <td>http://www.amazon.com/1Q84-Haruki-Murakami-ebo...</td>\n",
              "      <td>Haruki Murakami</td>\n",
              "      <td>Descr: In 1980s Tokyo, a woman who punishes pe...</td>\n",
              "      <td>Knopf</td>\n",
              "      <td>1Q84</td>\n",
              "      <td>5b4aa4ead3089013507dbf88</td>\n",
              "      <td>2011-10-29 00:00:00</td>\n",
              "      <td>1321142400000</td>\n",
              "      <td>2</td>\n",
              "      <td>0</td>\n",
              "      <td>1</td>\n",
              "      <td>30.50</td>\n",
              "    </tr>\n",
              "    <tr>\n",
              "      <th>2243</th>\n",
              "      <td>http://www.amazon.com/1Q84-Haruki-Murakami-ebo...</td>\n",
              "      <td>Haruki Murakami</td>\n",
              "      <td>Descr: In 1980s Tokyo, a woman who punishes pe...</td>\n",
              "      <td>Knopf</td>\n",
              "      <td>1Q84</td>\n",
              "      <td>5b4aa4ead3089013507dbfcc</td>\n",
              "      <td>2011-11-19 00:00:00</td>\n",
              "      <td>1322956800000</td>\n",
              "      <td>10</td>\n",
              "      <td>6</td>\n",
              "      <td>4</td>\n",
              "      <td>30.50</td>\n",
              "    </tr>\n",
              "    <tr>\n",
              "      <th>2232</th>\n",
              "      <td>http://www.amazon.com/1Q84-Haruki-Murakami-ebo...</td>\n",
              "      <td>Haruki Murakami</td>\n",
              "      <td>Descr: In 1980s Tokyo, a woman who punishes pe...</td>\n",
              "      <td>Knopf</td>\n",
              "      <td>1Q84</td>\n",
              "      <td>5b4aa4ead3089013507dbfb4</td>\n",
              "      <td>2011-11-12 00:00:00</td>\n",
              "      <td>1322352000000</td>\n",
              "      <td>6</td>\n",
              "      <td>6</td>\n",
              "      <td>3</td>\n",
              "      <td>30.50</td>\n",
              "    </tr>\n",
              "    <tr>\n",
              "      <th>2287</th>\n",
              "      <td>http://www.amazon.com/1Q84-Haruki-Murakami-ebo...</td>\n",
              "      <td>Haruki Murakami</td>\n",
              "      <td>Descr: In 1980s Tokyo, a woman who punishes pe...</td>\n",
              "      <td>Knopf</td>\n",
              "      <td>1Q84</td>\n",
              "      <td>5b4aa4ead3089013507dc01e</td>\n",
              "      <td>2011-12-17 00:00:00</td>\n",
              "      <td>1325376000000</td>\n",
              "      <td>12</td>\n",
              "      <td>13</td>\n",
              "      <td>8</td>\n",
              "      <td>30.50</td>\n",
              "    </tr>\n",
              "    <tr>\n",
              "      <th>2264</th>\n",
              "      <td>http://www.amazon.com/1Q84-Haruki-Murakami-ebo...</td>\n",
              "      <td>Haruki Murakami</td>\n",
              "      <td>Descr: In 1980s Tokyo, a woman who punishes pe...</td>\n",
              "      <td>Knopf</td>\n",
              "      <td>1Q84</td>\n",
              "      <td>5b4aa4ead3089013507dbff5</td>\n",
              "      <td>2011-12-03 00:00:00</td>\n",
              "      <td>1324166400000</td>\n",
              "      <td>11</td>\n",
              "      <td>12</td>\n",
              "      <td>6</td>\n",
              "      <td>30.50</td>\n",
              "    </tr>\n",
              "  </tbody>\n",
              "</table>\n",
              "<p>2266 rows × 12 columns</p>\n",
              "</div>"
            ],
            "text/plain": [
              "                                     amazon_product_url  ... price.numberDouble\n",
              "1343  http://www.amazon.com/Blockade-Billy-Stephen-K...  ...              14.99\n",
              "1328  http://www.amazon.com/Blockade-Billy-Stephen-K...  ...              14.99\n",
              "1310  http://www.amazon.com/Blockade-Billy-Stephen-K...  ...              14.99\n",
              "2205  http://www.amazon.com/1225-Christmas-Tree-Lane...  ...              16.95\n",
              "893   http://www.amazon.com/The-Perfect-Christmas-De...  ...              16.95\n",
              "...                                                 ...  ...                ...\n",
              "2208  http://www.amazon.com/1Q84-Haruki-Murakami-ebo...  ...              30.50\n",
              "2243  http://www.amazon.com/1Q84-Haruki-Murakami-ebo...  ...              30.50\n",
              "2232  http://www.amazon.com/1Q84-Haruki-Murakami-ebo...  ...              30.50\n",
              "2287  http://www.amazon.com/1Q84-Haruki-Murakami-ebo...  ...              30.50\n",
              "2264  http://www.amazon.com/1Q84-Haruki-Murakami-ebo...  ...              30.50\n",
              "\n",
              "[2266 rows x 12 columns]"
            ]
          },
          "metadata": {
            "tags": []
          },
          "execution_count": 93
        }
      ]
    },
    {
      "cell_type": "code",
      "metadata": {
        "colab": {
          "base_uri": "https://localhost:8080/",
          "height": 1000
        },
        "id": "a9xrTG3EGAtp",
        "outputId": "5be99f67-1839-40e4-c692-f859fe5052ad"
      },
      "source": [
        "df.sort_values(\"price.numberDouble\", ascending = False)"
      ],
      "execution_count": null,
      "outputs": [
        {
          "output_type": "execute_result",
          "data": {
            "text/html": [
              "<div>\n",
              "<style scoped>\n",
              "    .dataframe tbody tr th:only-of-type {\n",
              "        vertical-align: middle;\n",
              "    }\n",
              "\n",
              "    .dataframe tbody tr th {\n",
              "        vertical-align: top;\n",
              "    }\n",
              "\n",
              "    .dataframe thead th {\n",
              "        text-align: right;\n",
              "    }\n",
              "</style>\n",
              "<table border=\"1\" class=\"dataframe\">\n",
              "  <thead>\n",
              "    <tr style=\"text-align: right;\">\n",
              "      <th></th>\n",
              "      <th>amazon_product_url</th>\n",
              "      <th>author</th>\n",
              "      <th>description</th>\n",
              "      <th>publisher</th>\n",
              "      <th>title</th>\n",
              "      <th>oid</th>\n",
              "      <th>bestsellers_date.numberLong</th>\n",
              "      <th>published_date.numberLong</th>\n",
              "      <th>rank.numberInt</th>\n",
              "      <th>rank_last_week.numberInt</th>\n",
              "      <th>weeks_on_list.numberInt</th>\n",
              "      <th>price.numberDouble</th>\n",
              "    </tr>\n",
              "  </thead>\n",
              "  <tbody>\n",
              "    <tr>\n",
              "      <th>2264</th>\n",
              "      <td>http://www.amazon.com/1Q84-Haruki-Murakami-ebo...</td>\n",
              "      <td>Haruki Murakami</td>\n",
              "      <td>Descr: In 1980s Tokyo, a woman who punishes pe...</td>\n",
              "      <td>Knopf</td>\n",
              "      <td>1Q84</td>\n",
              "      <td>5b4aa4ead3089013507dbff5</td>\n",
              "      <td>2011-12-03 00:00:00</td>\n",
              "      <td>1324166400000</td>\n",
              "      <td>11</td>\n",
              "      <td>12</td>\n",
              "      <td>6</td>\n",
              "      <td>30.50</td>\n",
              "    </tr>\n",
              "    <tr>\n",
              "      <th>2255</th>\n",
              "      <td>http://www.amazon.com/1Q84-Haruki-Murakami-ebo...</td>\n",
              "      <td>Haruki Murakami</td>\n",
              "      <td>Descr: In 1980s Tokyo, a woman who punishes pe...</td>\n",
              "      <td>Knopf</td>\n",
              "      <td>1Q84</td>\n",
              "      <td>5b4aa4ead3089013507dbfe2</td>\n",
              "      <td>2011-11-26 00:00:00</td>\n",
              "      <td>1323561600000</td>\n",
              "      <td>12</td>\n",
              "      <td>10</td>\n",
              "      <td>5</td>\n",
              "      <td>30.50</td>\n",
              "    </tr>\n",
              "    <tr>\n",
              "      <th>2276</th>\n",
              "      <td>http://www.amazon.com/1Q84-Haruki-Murakami-ebo...</td>\n",
              "      <td>Haruki Murakami</td>\n",
              "      <td>Descr: In 1980s Tokyo, a woman who punishes pe...</td>\n",
              "      <td>Knopf</td>\n",
              "      <td>1Q84</td>\n",
              "      <td>5b4aa4ead3089013507dc00b</td>\n",
              "      <td>2011-12-10 00:00:00</td>\n",
              "      <td>1324771200000</td>\n",
              "      <td>13</td>\n",
              "      <td>11</td>\n",
              "      <td>7</td>\n",
              "      <td>30.50</td>\n",
              "    </tr>\n",
              "    <tr>\n",
              "      <th>2287</th>\n",
              "      <td>http://www.amazon.com/1Q84-Haruki-Murakami-ebo...</td>\n",
              "      <td>Haruki Murakami</td>\n",
              "      <td>Descr: In 1980s Tokyo, a woman who punishes pe...</td>\n",
              "      <td>Knopf</td>\n",
              "      <td>1Q84</td>\n",
              "      <td>5b4aa4ead3089013507dc01e</td>\n",
              "      <td>2011-12-17 00:00:00</td>\n",
              "      <td>1325376000000</td>\n",
              "      <td>12</td>\n",
              "      <td>13</td>\n",
              "      <td>8</td>\n",
              "      <td>30.50</td>\n",
              "    </tr>\n",
              "    <tr>\n",
              "      <th>2232</th>\n",
              "      <td>http://www.amazon.com/1Q84-Haruki-Murakami-ebo...</td>\n",
              "      <td>Haruki Murakami</td>\n",
              "      <td>Descr: In 1980s Tokyo, a woman who punishes pe...</td>\n",
              "      <td>Knopf</td>\n",
              "      <td>1Q84</td>\n",
              "      <td>5b4aa4ead3089013507dbfb4</td>\n",
              "      <td>2011-11-12 00:00:00</td>\n",
              "      <td>1322352000000</td>\n",
              "      <td>6</td>\n",
              "      <td>6</td>\n",
              "      <td>3</td>\n",
              "      <td>30.50</td>\n",
              "    </tr>\n",
              "    <tr>\n",
              "      <th>...</th>\n",
              "      <td>...</td>\n",
              "      <td>...</td>\n",
              "      <td>...</td>\n",
              "      <td>...</td>\n",
              "      <td>...</td>\n",
              "      <td>...</td>\n",
              "      <td>...</td>\n",
              "      <td>...</td>\n",
              "      <td>...</td>\n",
              "      <td>...</td>\n",
              "      <td>...</td>\n",
              "      <td>...</td>\n",
              "    </tr>\n",
              "    <tr>\n",
              "      <th>2205</th>\n",
              "      <td>http://www.amazon.com/1225-Christmas-Tree-Lane...</td>\n",
              "      <td>Debbie Macomber</td>\n",
              "      <td>Descr: Puppies and an ex-husband loom large in...</td>\n",
              "      <td>Mira</td>\n",
              "      <td>1225 CHRISTMAS TREE LANE</td>\n",
              "      <td>5b4aa4ead3089013507dbf81</td>\n",
              "      <td>2011-10-22 00:00:00</td>\n",
              "      <td>1320537600000</td>\n",
              "      <td>15</td>\n",
              "      <td>10</td>\n",
              "      <td>4</td>\n",
              "      <td>16.95</td>\n",
              "    </tr>\n",
              "    <tr>\n",
              "      <th>237</th>\n",
              "      <td>http://www.amazon.com/Cedar-Cove-Christmas-Deb...</td>\n",
              "      <td>Debbie Macomber</td>\n",
              "      <td>Descr: A pregnant woman shows up in Cedar Cove...</td>\n",
              "      <td>Mira</td>\n",
              "      <td>A CEDAR COVE CHRISTMAS</td>\n",
              "      <td>5b4aa4ead3089013507db30d</td>\n",
              "      <td>2008-10-04 00:00:00</td>\n",
              "      <td>1224374400000</td>\n",
              "      <td>7</td>\n",
              "      <td>0</td>\n",
              "      <td>1</td>\n",
              "      <td>16.95</td>\n",
              "    </tr>\n",
              "    <tr>\n",
              "      <th>1343</th>\n",
              "      <td>http://www.amazon.com/Blockade-Billy-Stephen-K...</td>\n",
              "      <td>Stephen King</td>\n",
              "      <td>Descr: A tale about the dark side of baseball,...</td>\n",
              "      <td>Scribner</td>\n",
              "      <td>BLOCKADE BILLY</td>\n",
              "      <td>5b4aa4ead3089013507db9f6</td>\n",
              "      <td>2010-06-13 00:00:00</td>\n",
              "      <td>1277596800000</td>\n",
              "      <td>16</td>\n",
              "      <td>13</td>\n",
              "      <td>3</td>\n",
              "      <td>14.99</td>\n",
              "    </tr>\n",
              "    <tr>\n",
              "      <th>1310</th>\n",
              "      <td>http://www.amazon.com/Blockade-Billy-Stephen-K...</td>\n",
              "      <td>Stephen King</td>\n",
              "      <td>Descr: A tale about the dark side of baseball,...</td>\n",
              "      <td>Simon &amp; Schuster</td>\n",
              "      <td>BLOCKADE BILLY</td>\n",
              "      <td>5b4aa4ead3089013507db9c7</td>\n",
              "      <td>2010-05-30 00:00:00</td>\n",
              "      <td>1276387200000</td>\n",
              "      <td>9</td>\n",
              "      <td>0</td>\n",
              "      <td>1</td>\n",
              "      <td>14.99</td>\n",
              "    </tr>\n",
              "    <tr>\n",
              "      <th>1328</th>\n",
              "      <td>http://www.amazon.com/Blockade-Billy-Stephen-K...</td>\n",
              "      <td>Stephen King</td>\n",
              "      <td>Descr: A tale about the dark side of baseball,...</td>\n",
              "      <td>Scribner</td>\n",
              "      <td>BLOCKADE BILLY</td>\n",
              "      <td>5b4aa4ead3089013507db9df</td>\n",
              "      <td>2010-06-06 00:00:00</td>\n",
              "      <td>1276992000000</td>\n",
              "      <td>13</td>\n",
              "      <td>9</td>\n",
              "      <td>2</td>\n",
              "      <td>14.99</td>\n",
              "    </tr>\n",
              "  </tbody>\n",
              "</table>\n",
              "<p>2266 rows × 12 columns</p>\n",
              "</div>"
            ],
            "text/plain": [
              "                                     amazon_product_url  ... price.numberDouble\n",
              "2264  http://www.amazon.com/1Q84-Haruki-Murakami-ebo...  ...              30.50\n",
              "2255  http://www.amazon.com/1Q84-Haruki-Murakami-ebo...  ...              30.50\n",
              "2276  http://www.amazon.com/1Q84-Haruki-Murakami-ebo...  ...              30.50\n",
              "2287  http://www.amazon.com/1Q84-Haruki-Murakami-ebo...  ...              30.50\n",
              "2232  http://www.amazon.com/1Q84-Haruki-Murakami-ebo...  ...              30.50\n",
              "...                                                 ...  ...                ...\n",
              "2205  http://www.amazon.com/1225-Christmas-Tree-Lane...  ...              16.95\n",
              "237   http://www.amazon.com/Cedar-Cove-Christmas-Deb...  ...              16.95\n",
              "1343  http://www.amazon.com/Blockade-Billy-Stephen-K...  ...              14.99\n",
              "1310  http://www.amazon.com/Blockade-Billy-Stephen-K...  ...              14.99\n",
              "1328  http://www.amazon.com/Blockade-Billy-Stephen-K...  ...              14.99\n",
              "\n",
              "[2266 rows x 12 columns]"
            ]
          },
          "metadata": {
            "tags": []
          },
          "execution_count": 94
        }
      ]
    },
    {
      "cell_type": "code",
      "metadata": {
        "id": "ZKGzsqqwGI9f"
      },
      "source": [
        "df_putnam = df[df[\"publisher\"] == \"Putnam\"]"
      ],
      "execution_count": null,
      "outputs": []
    },
    {
      "cell_type": "code",
      "metadata": {
        "colab": {
          "base_uri": "https://localhost:8080/",
          "height": 1000
        },
        "id": "K7oZRLYxGkzz",
        "outputId": "e0da6afd-f26a-4a9d-f731-719548921210"
      },
      "source": [
        "df_putnam.sort_values(\"weeks_on_list.numberInt\")"
      ],
      "execution_count": null,
      "outputs": [
        {
          "output_type": "execute_result",
          "data": {
            "text/html": [
              "<div>\n",
              "<style scoped>\n",
              "    .dataframe tbody tr th:only-of-type {\n",
              "        vertical-align: middle;\n",
              "    }\n",
              "\n",
              "    .dataframe tbody tr th {\n",
              "        vertical-align: top;\n",
              "    }\n",
              "\n",
              "    .dataframe thead th {\n",
              "        text-align: right;\n",
              "    }\n",
              "</style>\n",
              "<table border=\"1\" class=\"dataframe\">\n",
              "  <thead>\n",
              "    <tr style=\"text-align: right;\">\n",
              "      <th></th>\n",
              "      <th>amazon_product_url</th>\n",
              "      <th>author</th>\n",
              "      <th>description</th>\n",
              "      <th>publisher</th>\n",
              "      <th>title</th>\n",
              "      <th>oid</th>\n",
              "      <th>bestsellers_date.numberLong</th>\n",
              "      <th>published_date.numberLong</th>\n",
              "      <th>rank.numberInt</th>\n",
              "      <th>rank_last_week.numberInt</th>\n",
              "      <th>weeks_on_list.numberInt</th>\n",
              "      <th>price.numberDouble</th>\n",
              "    </tr>\n",
              "  </thead>\n",
              "  <tbody>\n",
              "    <tr>\n",
              "      <th>2</th>\n",
              "      <td>http://www.amazon.com/The-Front-Garano-Patrici...</td>\n",
              "      <td>Patricia Cornwell</td>\n",
              "      <td>Descr: A Massachusetts state investigator and ...</td>\n",
              "      <td>Putnam</td>\n",
              "      <td>THE FRONT</td>\n",
              "      <td>5b4aa4ead3089013507db18e</td>\n",
              "      <td>2008-05-24 00:00:00</td>\n",
              "      <td>1212883200000</td>\n",
              "      <td>4</td>\n",
              "      <td>0</td>\n",
              "      <td>1</td>\n",
              "      <td>22.95</td>\n",
              "    </tr>\n",
              "    <tr>\n",
              "      <th>751</th>\n",
              "      <td>http://www.amazon.com/The-Defector-Gabriel-All...</td>\n",
              "      <td>Daniel Silva</td>\n",
              "      <td>Descr: When a Russian defector who once saved ...</td>\n",
              "      <td>Putnam</td>\n",
              "      <td>THE DEFECTOR</td>\n",
              "      <td>5b4aa4ead3089013507db64f</td>\n",
              "      <td>2009-07-25 00:00:00</td>\n",
              "      <td>1249776000000</td>\n",
              "      <td>1</td>\n",
              "      <td>0</td>\n",
              "      <td>1</td>\n",
              "      <td>26.95</td>\n",
              "    </tr>\n",
              "    <tr>\n",
              "      <th>1713</th>\n",
              "      <td>http://www.amazon.com/The-Judas-Gate-Sean-Dill...</td>\n",
              "      <td>Jack Higgins</td>\n",
              "      <td>Descr: Sean Dillon hunts down the organizers o...</td>\n",
              "      <td>Putnam</td>\n",
              "      <td>THE JUDAS GATE</td>\n",
              "      <td>5b4aa4ead3089013507dbc4b</td>\n",
              "      <td>2011-01-09 00:00:00</td>\n",
              "      <td>1295740800000</td>\n",
              "      <td>13</td>\n",
              "      <td>0</td>\n",
              "      <td>1</td>\n",
              "      <td>26.95</td>\n",
              "    </tr>\n",
              "    <tr>\n",
              "      <th>1717</th>\n",
              "      <td>http://www.amazon.com/The-Sentry-Joe-Pike-Nove...</td>\n",
              "      <td>Robert Crais</td>\n",
              "      <td>Descr: Joe Pike and Elvis Cole, Hollywood priv...</td>\n",
              "      <td>Putnam</td>\n",
              "      <td>THE SENTRY</td>\n",
              "      <td>5b4aa4ead3089013507dbc54</td>\n",
              "      <td>2011-01-16 00:00:00</td>\n",
              "      <td>1296345600000</td>\n",
              "      <td>2</td>\n",
              "      <td>0</td>\n",
              "      <td>1</td>\n",
              "      <td>26.95</td>\n",
              "    </tr>\n",
              "    <tr>\n",
              "      <th>724</th>\n",
              "      <td>http://www.amazon.com/Black-Hills-Nora-Roberts...</td>\n",
              "      <td>Nora Roberts</td>\n",
              "      <td>Descr: A South Dakota wildlife biologist and a...</td>\n",
              "      <td>Putnam</td>\n",
              "      <td>BLACK HILLS</td>\n",
              "      <td>5b4aa4ead3089013507db627</td>\n",
              "      <td>2009-07-11 00:00:00</td>\n",
              "      <td>1248566400000</td>\n",
              "      <td>1</td>\n",
              "      <td>0</td>\n",
              "      <td>1</td>\n",
              "      <td>26.95</td>\n",
              "    </tr>\n",
              "    <tr>\n",
              "      <th>...</th>\n",
              "      <td>...</td>\n",
              "      <td>...</td>\n",
              "      <td>...</td>\n",
              "      <td>...</td>\n",
              "      <td>...</td>\n",
              "      <td>...</td>\n",
              "      <td>...</td>\n",
              "      <td>...</td>\n",
              "      <td>...</td>\n",
              "      <td>...</td>\n",
              "      <td>...</td>\n",
              "      <td>...</td>\n",
              "    </tr>\n",
              "    <tr>\n",
              "      <th>1729</th>\n",
              "      <td>http://www.amazon.com/Port-Mortuary-Kay-Scarpe...</td>\n",
              "      <td>Patricia Cornwell</td>\n",
              "      <td>Descr: In the 18th Kay Scarpetta novel, the fo...</td>\n",
              "      <td>Putnam</td>\n",
              "      <td>PORT MORTUARY</td>\n",
              "      <td>5b4aa4ead3089013507dbc62</td>\n",
              "      <td>2011-01-16 00:00:00</td>\n",
              "      <td>1296345600000</td>\n",
              "      <td>16</td>\n",
              "      <td>11</td>\n",
              "      <td>7</td>\n",
              "      <td>27.95</td>\n",
              "    </tr>\n",
              "    <tr>\n",
              "      <th>421</th>\n",
              "      <td>http://www.amazon.com/Scarpetta-Kay-Patricia-C...</td>\n",
              "      <td>Patricia Cornwell</td>\n",
              "      <td>Descr: The forensic pathologist Kay Scarpetta ...</td>\n",
              "      <td>Putnam</td>\n",
              "      <td>SCARPETTA</td>\n",
              "      <td>5b4aa4ead3089013507db44c</td>\n",
              "      <td>2009-01-24 00:00:00</td>\n",
              "      <td>1234051200000</td>\n",
              "      <td>6</td>\n",
              "      <td>6</td>\n",
              "      <td>8</td>\n",
              "      <td>27.95</td>\n",
              "    </tr>\n",
              "    <tr>\n",
              "      <th>438</th>\n",
              "      <td>http://www.amazon.com/Scarpetta-Kay-Patricia-C...</td>\n",
              "      <td>Patricia Cornwell</td>\n",
              "      <td>Descr: The forensic pathologist Kay Scarpetta ...</td>\n",
              "      <td>Putnam</td>\n",
              "      <td>SCARPETTA</td>\n",
              "      <td>5b4aa4ead3089013507db466</td>\n",
              "      <td>2009-01-31 00:00:00</td>\n",
              "      <td>1234656000000</td>\n",
              "      <td>12</td>\n",
              "      <td>6</td>\n",
              "      <td>9</td>\n",
              "      <td>27.95</td>\n",
              "    </tr>\n",
              "    <tr>\n",
              "      <th>455</th>\n",
              "      <td>http://www.amazon.com/Scarpetta-Kay-Patricia-C...</td>\n",
              "      <td>Patricia Cornwell</td>\n",
              "      <td>Descr: The forensic pathologist Kay Scarpetta ...</td>\n",
              "      <td>Putnam</td>\n",
              "      <td>SCARPETTA</td>\n",
              "      <td>5b4aa4ead3089013507db47c</td>\n",
              "      <td>2009-02-07 00:00:00</td>\n",
              "      <td>1235260800000</td>\n",
              "      <td>14</td>\n",
              "      <td>12</td>\n",
              "      <td>10</td>\n",
              "      <td>27.95</td>\n",
              "    </tr>\n",
              "    <tr>\n",
              "      <th>470</th>\n",
              "      <td>http://www.amazon.com/Scarpetta-Kay-Patricia-C...</td>\n",
              "      <td>Patricia Cornwell</td>\n",
              "      <td>Descr: The forensic pathologist Kay Scarpetta ...</td>\n",
              "      <td>Putnam</td>\n",
              "      <td>SCARPETTA</td>\n",
              "      <td>5b4aa4ead3089013507db491</td>\n",
              "      <td>2009-02-14 00:00:00</td>\n",
              "      <td>1235865600000</td>\n",
              "      <td>15</td>\n",
              "      <td>14</td>\n",
              "      <td>11</td>\n",
              "      <td>27.95</td>\n",
              "    </tr>\n",
              "  </tbody>\n",
              "</table>\n",
              "<p>267 rows × 12 columns</p>\n",
              "</div>"
            ],
            "text/plain": [
              "                                     amazon_product_url  ... price.numberDouble\n",
              "2     http://www.amazon.com/The-Front-Garano-Patrici...  ...              22.95\n",
              "751   http://www.amazon.com/The-Defector-Gabriel-All...  ...              26.95\n",
              "1713  http://www.amazon.com/The-Judas-Gate-Sean-Dill...  ...              26.95\n",
              "1717  http://www.amazon.com/The-Sentry-Joe-Pike-Nove...  ...              26.95\n",
              "724   http://www.amazon.com/Black-Hills-Nora-Roberts...  ...              26.95\n",
              "...                                                 ...  ...                ...\n",
              "1729  http://www.amazon.com/Port-Mortuary-Kay-Scarpe...  ...              27.95\n",
              "421   http://www.amazon.com/Scarpetta-Kay-Patricia-C...  ...              27.95\n",
              "438   http://www.amazon.com/Scarpetta-Kay-Patricia-C...  ...              27.95\n",
              "455   http://www.amazon.com/Scarpetta-Kay-Patricia-C...  ...              27.95\n",
              "470   http://www.amazon.com/Scarpetta-Kay-Patricia-C...  ...              27.95\n",
              "\n",
              "[267 rows x 12 columns]"
            ]
          },
          "metadata": {
            "tags": []
          },
          "execution_count": 96
        }
      ]
    },
    {
      "cell_type": "code",
      "metadata": {
        "id": "JdLvO-2-GpfK"
      },
      "source": [
        ""
      ],
      "execution_count": null,
      "outputs": []
    }
  ]
}