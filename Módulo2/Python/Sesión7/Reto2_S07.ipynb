{
  "nbformat": 4,
  "nbformat_minor": 0,
  "metadata": {
    "kernelspec": {
      "display_name": "Python 3",
      "language": "python",
      "name": "python3"
    },
    "language_info": {
      "codemirror_mode": {
        "name": "ipython",
        "version": 3
      },
      "file_extension": ".py",
      "mimetype": "text/x-python",
      "name": "python",
      "nbconvert_exporter": "python",
      "pygments_lexer": "ipython3",
      "version": "3.8.3"
    },
    "colab": {
      "name": "Reto2_S07.ipynb",
      "provenance": [],
      "collapsed_sections": [],
      "include_colab_link": true
    }
  },
  "cells": [
    {
      "cell_type": "markdown",
      "metadata": {
        "id": "view-in-github",
        "colab_type": "text"
      },
      "source": [
        "<a href=\"https://colab.research.google.com/github/IsauraRs/Data-Science-BEDU/blob/master/M%C3%B3dulo2/Python/Sesi%C3%B3n7/Reto2_S07.ipynb\" target=\"_parent\"><img src=\"https://colab.research.google.com/assets/colab-badge.svg\" alt=\"Open In Colab\"/></a>"
      ]
    },
    {
      "cell_type": "markdown",
      "metadata": {
        "id": "GVPkf2MaxFKC"
      },
      "source": [
        "## Reto 2: Manipulación de Strings\n",
        "\n",
        "### 1. Objetivos:\n",
        "    - Practicar manipular `strings` usando métodos como `split`, `title`, `strip, etc.\n",
        " \n",
        "---\n",
        "    \n",
        "### 2. Desarrollo:"
      ]
    },
    {
      "cell_type": "markdown",
      "metadata": {
        "id": "fHehTQUcxFKD"
      },
      "source": [
        "#### Limpiando strings usando la propiedad `str`\n",
        "\n",
        "Vamos a trabajar en la versión del dataset que guardaste en el reto pasado. Las acciones que tienes que tomar en este Reto son las siguientes:\n",
        "\n",
        "1. Reemplaza los guiones en las `strings` de la columna `orbit_class_description` por espacios.\n",
        "2. Elimina los espacios vacíos al principio y final de las `strings` de la misma columna.\n",
        "3. Hay una columna llamada `id_name` que contiene el 'id' y el nombre de cada objeto separados por un guión. Separa estos datos en dos columnas llamadas `id` y `name`.\n",
        "4. Haz que las `strings` de la columna `orbiting_body` empiecen con mayúscula.\n",
        "5. Asigna el `DataFrame` resultante a la variable `df_reto_2`.\n",
        "6. Guarda tu resultado en un archivo .csv."
      ]
    },
    {
      "cell_type": "code",
      "metadata": {
        "id": "L3dRUTi2xFKF"
      },
      "source": [
        "df_reto_2 ="
      ],
      "execution_count": null,
      "outputs": []
    },
    {
      "cell_type": "markdown",
      "metadata": {
        "id": "jgxzJUTsxFKG"
      },
      "source": [
        "¡Compara con tus compañeros y con la experta tu solución para asegurarte de que realizaste los procesos adecuadamente!"
      ]
    }
  ]
}