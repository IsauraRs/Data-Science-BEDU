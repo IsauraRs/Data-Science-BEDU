{
  "nbformat": 4,
  "nbformat_minor": 0,
  "metadata": {
    "colab": {
      "name": "Sesión_04.ipynb",
      "provenance": [],
      "collapsed_sections": []
    },
    "kernelspec": {
      "name": "python3",
      "display_name": "Python 3"
    }
  },
  "cells": [
    {
      "cell_type": "markdown",
      "metadata": {
        "id": "Xcid9ZhLxar8"
      },
      "source": [
        "# Paquetes\n"
      ]
    },
    {
      "cell_type": "markdown",
      "metadata": {
        "id": "H1tkRzgqyrF9"
      },
      "source": [
        "Para instalar un paquete desde Colab poner ! antes de pip, es como acceder a la terminal"
      ]
    },
    {
      "cell_type": "code",
      "metadata": {
        "colab": {
          "base_uri": "https://localhost:8080/"
        },
        "id": "0Eli-AiJxb-3",
        "outputId": "de88d542-77b8-48f7-dfc9-c270a6c76a1c"
      },
      "source": [
        "!pip install pyjokes"
      ],
      "execution_count": null,
      "outputs": [
        {
          "output_type": "stream",
          "text": [
            "Collecting pyjokes\n",
            "  Downloading https://files.pythonhosted.org/packages/6a/0e/4a824a4fc93b9725a985fcea7115927b72f2ca6966008300a982cb869720/pyjokes-0.6.0-py2.py3-none-any.whl\n",
            "Installing collected packages: pyjokes\n",
            "Successfully installed pyjokes-0.6.0\n"
          ],
          "name": "stdout"
        }
      ]
    },
    {
      "cell_type": "code",
      "metadata": {
        "id": "oBu2u0FYwyDu"
      },
      "source": [
        "import pyjokes"
      ],
      "execution_count": null,
      "outputs": []
    },
    {
      "cell_type": "code",
      "metadata": {
        "colab": {
          "base_uri": "https://localhost:8080/",
          "height": 35
        },
        "id": "Nt_q7N3WyTe4",
        "outputId": "33742e1c-f2f1-44a3-eb51-82be33077759"
      },
      "source": [
        "pyjokes.get_joke()"
      ],
      "execution_count": null,
      "outputs": [
        {
          "output_type": "execute_result",
          "data": {
            "application/vnd.google.colaboratory.intrinsic+json": {
              "type": "string"
            },
            "text/plain": [
              "\"There are 10 types of people: those who understand binary and those who don't.\""
            ]
          },
          "metadata": {
            "tags": []
          },
          "execution_count": 4
        }
      ]
    },
    {
      "cell_type": "markdown",
      "metadata": {
        "id": "RvnjcCVty-u3"
      },
      "source": [
        "# Pandas\n",
        "Panel Data"
      ]
    },
    {
      "cell_type": "code",
      "metadata": {
        "id": "2EFm9Ndcygn0"
      },
      "source": [
        "import pandas as pd"
      ],
      "execution_count": null,
      "outputs": []
    },
    {
      "cell_type": "markdown",
      "metadata": {
        "id": "geGRZ55cz_nR"
      },
      "source": [
        "#Series\n",
        "Una serie es parecida a un arreglo "
      ]
    },
    {
      "cell_type": "code",
      "metadata": {
        "colab": {
          "base_uri": "https://localhost:8080/"
        },
        "id": "_pIwHE_ozC_k",
        "outputId": "87039aec-1dc9-4b82-c020-5661e3b238df"
      },
      "source": [
        "pd.Series"
      ],
      "execution_count": null,
      "outputs": [
        {
          "output_type": "execute_result",
          "data": {
            "text/plain": [
              "pandas.core.series.Series"
            ]
          },
          "metadata": {
            "tags": []
          },
          "execution_count": 9
        }
      ]
    },
    {
      "cell_type": "code",
      "metadata": {
        "id": "8BDrBHvI0I4O"
      },
      "source": [
        "serie_1 = pd.Series([3, 7, 9, 11])"
      ],
      "execution_count": null,
      "outputs": []
    },
    {
      "cell_type": "code",
      "metadata": {
        "colab": {
          "base_uri": "https://localhost:8080/"
        },
        "id": "cle9pdEM0OnX",
        "outputId": "e088ac0b-e84f-453d-c61b-f6fc08031be9"
      },
      "source": [
        "serie_1"
      ],
      "execution_count": null,
      "outputs": [
        {
          "output_type": "execute_result",
          "data": {
            "text/plain": [
              "0     3\n",
              "1     7\n",
              "2     9\n",
              "3    11\n",
              "dtype: int64"
            ]
          },
          "metadata": {
            "tags": []
          },
          "execution_count": 11
        }
      ]
    },
    {
      "cell_type": "code",
      "metadata": {
        "id": "o7AcDesA0kay"
      },
      "source": [
        "serie_2 = pd.Series([3, 7, 9, 11], index = [10, 11, 12, 13])"
      ],
      "execution_count": null,
      "outputs": []
    },
    {
      "cell_type": "code",
      "metadata": {
        "colab": {
          "base_uri": "https://localhost:8080/"
        },
        "id": "CaK8O4q30rCa",
        "outputId": "93729477-5930-4b8f-ea35-7964fe2f6110"
      },
      "source": [
        "serie_2"
      ],
      "execution_count": null,
      "outputs": [
        {
          "output_type": "execute_result",
          "data": {
            "text/plain": [
              "10     3\n",
              "11     7\n",
              "12     9\n",
              "13    11\n",
              "dtype: int64"
            ]
          },
          "metadata": {
            "tags": []
          },
          "execution_count": 13
        }
      ]
    },
    {
      "cell_type": "code",
      "metadata": {
        "colab": {
          "base_uri": "https://localhost:8080/"
        },
        "id": "jwrJ2miTz8iY",
        "outputId": "b80286ea-cb79-4ae1-b3ce-f083caadf093"
      },
      "source": [
        "serie_2.dtype"
      ],
      "execution_count": null,
      "outputs": [
        {
          "output_type": "execute_result",
          "data": {
            "text/plain": [
              "dtype('int64')"
            ]
          },
          "metadata": {
            "tags": []
          },
          "execution_count": 15
        }
      ]
    },
    {
      "cell_type": "code",
      "metadata": {
        "id": "qbGRq9wp1TkM"
      },
      "source": [
        "serie_3 = pd.Series([3,7,9,11], index = [\"a\", \"b\", \"c\", \"d\"])"
      ],
      "execution_count": null,
      "outputs": []
    },
    {
      "cell_type": "code",
      "metadata": {
        "colab": {
          "base_uri": "https://localhost:8080/"
        },
        "id": "MWHXARoE1gjv",
        "outputId": "fe3bf1cf-2550-4499-cd03-1b843faf428d"
      },
      "source": [
        "serie_3"
      ],
      "execution_count": null,
      "outputs": [
        {
          "output_type": "execute_result",
          "data": {
            "text/plain": [
              "a     3\n",
              "b     7\n",
              "c     9\n",
              "d    11\n",
              "dtype: int64"
            ]
          },
          "metadata": {
            "tags": []
          },
          "execution_count": 17
        }
      ]
    },
    {
      "cell_type": "code",
      "metadata": {
        "id": "w-CHhqt91k5t"
      },
      "source": [
        "serie_NuncaHagasEsto= pd.Series([3,7,9,11], index = [\"a\", \"hola\", \"d\", \"c\"])"
      ],
      "execution_count": null,
      "outputs": []
    },
    {
      "cell_type": "code",
      "metadata": {
        "colab": {
          "base_uri": "https://localhost:8080/"
        },
        "id": "E7nA1Bw_1vJE",
        "outputId": "5c443427-8cd7-4f67-e326-72c70967e7fe"
      },
      "source": [
        "serie_NuncaHagasEsto"
      ],
      "execution_count": null,
      "outputs": [
        {
          "output_type": "execute_result",
          "data": {
            "text/plain": [
              "a        3\n",
              "hola     7\n",
              "d        9\n",
              "c       11\n",
              "dtype: int64"
            ]
          },
          "metadata": {
            "tags": []
          },
          "execution_count": 19
        }
      ]
    },
    {
      "cell_type": "code",
      "metadata": {
        "id": "y58cO4171yZM"
      },
      "source": [
        "datos = {\n",
        "    \"Raul\": 37,\n",
        "    \"Andres\": 95,\n",
        "    \"Hiram\" : 264,\n",
        "    \"Naila\" : 726\n",
        "}"
      ],
      "execution_count": null,
      "outputs": []
    },
    {
      "cell_type": "code",
      "metadata": {
        "id": "U3VaSrSU1-fz"
      },
      "source": [
        "serie_5 = pd.Series(datos)"
      ],
      "execution_count": null,
      "outputs": []
    },
    {
      "cell_type": "code",
      "metadata": {
        "colab": {
          "base_uri": "https://localhost:8080/"
        },
        "id": "vSKD0wUH2DVK",
        "outputId": "a511a743-297d-4436-c8a2-2459f7f835b1"
      },
      "source": [
        "serie_5"
      ],
      "execution_count": null,
      "outputs": [
        {
          "output_type": "execute_result",
          "data": {
            "text/plain": [
              "Raul       37\n",
              "Andres     95\n",
              "Hiram     264\n",
              "Naila     726\n",
              "dtype: int64"
            ]
          },
          "metadata": {
            "tags": []
          },
          "execution_count": 22
        }
      ]
    },
    {
      "cell_type": "code",
      "metadata": {
        "colab": {
          "base_uri": "https://localhost:8080/"
        },
        "id": "swohJ7Xq2DjL",
        "outputId": "f246fc6c-0c7b-4081-a61c-d2b52e705d29"
      },
      "source": [
        "serie_1.loc[2] #Se pone el valor del índice"
      ],
      "execution_count": null,
      "outputs": [
        {
          "output_type": "execute_result",
          "data": {
            "text/plain": [
              "9"
            ]
          },
          "metadata": {
            "tags": []
          },
          "execution_count": 23
        }
      ]
    },
    {
      "cell_type": "code",
      "metadata": {
        "colab": {
          "base_uri": "https://localhost:8080/"
        },
        "id": "A_g87ehC2NgW",
        "outputId": "a1bda66d-56f3-4d3e-c5e4-a91fa9629cc4"
      },
      "source": [
        "serie_5.loc[\"Hiram\"] #Para acceder a un diccionario se usa la llave"
      ],
      "execution_count": null,
      "outputs": [
        {
          "output_type": "execute_result",
          "data": {
            "text/plain": [
              "264"
            ]
          },
          "metadata": {
            "tags": []
          },
          "execution_count": 26
        }
      ]
    },
    {
      "cell_type": "code",
      "metadata": {
        "id": "v7fYgGC55Kg9"
      },
      "source": [
        "serie = pd.Series([\"a\", \"b\", \"c\", \"d\", \"e\", \"f\", \"g\", \"h\", \"i\"])"
      ],
      "execution_count": null,
      "outputs": []
    },
    {
      "cell_type": "code",
      "metadata": {
        "colab": {
          "base_uri": "https://localhost:8080/",
          "height": 35
        },
        "id": "vFLQ1uac5Ks6",
        "outputId": "e936fd13-8fe9-4c49-dc41-48249583206c"
      },
      "source": [
        "serie.loc[4]"
      ],
      "execution_count": null,
      "outputs": [
        {
          "output_type": "execute_result",
          "data": {
            "application/vnd.google.colaboratory.intrinsic+json": {
              "type": "string"
            },
            "text/plain": [
              "'e'"
            ]
          },
          "metadata": {
            "tags": []
          },
          "execution_count": 28
        }
      ]
    },
    {
      "cell_type": "code",
      "metadata": {
        "colab": {
          "base_uri": "https://localhost:8080/"
        },
        "id": "RR1adh-T5K0O",
        "outputId": "c19a9c04-9794-4dc2-cd19-d6d8185d3e94"
      },
      "source": [
        "serie.loc[[1, 5, 4]]"
      ],
      "execution_count": null,
      "outputs": [
        {
          "output_type": "execute_result",
          "data": {
            "text/plain": [
              "1    b\n",
              "5    f\n",
              "4    e\n",
              "dtype: object"
            ]
          },
          "metadata": {
            "tags": []
          },
          "execution_count": 30
        }
      ]
    },
    {
      "cell_type": "code",
      "metadata": {
        "colab": {
          "base_uri": "https://localhost:8080/"
        },
        "id": "oYVAxkun5K3F",
        "outputId": "6b2f6f21-c470-4fee-ae90-69145cf7bffc"
      },
      "source": [
        "serie.loc[[8, 7 ,2, 4, 1, 3, 6, 6]]"
      ],
      "execution_count": null,
      "outputs": [
        {
          "output_type": "execute_result",
          "data": {
            "text/plain": [
              "8    i\n",
              "7    h\n",
              "2    c\n",
              "4    e\n",
              "1    b\n",
              "3    d\n",
              "6    g\n",
              "6    g\n",
              "dtype: object"
            ]
          },
          "metadata": {
            "tags": []
          },
          "execution_count": 32
        }
      ]
    },
    {
      "cell_type": "code",
      "metadata": {
        "colab": {
          "base_uri": "https://localhost:8080/"
        },
        "id": "BODk-OZn5K8i",
        "outputId": "09da3c29-daf0-44ea-a1bc-98915ce08871"
      },
      "source": [
        "serie.loc[:4]"
      ],
      "execution_count": null,
      "outputs": [
        {
          "output_type": "execute_result",
          "data": {
            "text/plain": [
              "0    a\n",
              "1    b\n",
              "2    c\n",
              "3    d\n",
              "4    e\n",
              "dtype: object"
            ]
          },
          "metadata": {
            "tags": []
          },
          "execution_count": 33
        }
      ]
    },
    {
      "cell_type": "code",
      "metadata": {
        "colab": {
          "base_uri": "https://localhost:8080/"
        },
        "id": "xK4gjHZO6TFG",
        "outputId": "fa6cb721-ad3c-42dd-b4a9-6d81dc9a61df"
      },
      "source": [
        "serie.loc[3:6]"
      ],
      "execution_count": null,
      "outputs": [
        {
          "output_type": "execute_result",
          "data": {
            "text/plain": [
              "3    d\n",
              "4    e\n",
              "5    f\n",
              "6    g\n",
              "dtype: object"
            ]
          },
          "metadata": {
            "tags": []
          },
          "execution_count": 34
        }
      ]
    },
    {
      "cell_type": "code",
      "metadata": {
        "colab": {
          "base_uri": "https://localhost:8080/",
          "height": 331
        },
        "id": "3_x3FGi36cx7",
        "outputId": "7b8461d5-47ac-4773-af91-91eee82fb574"
      },
      "source": [
        "serie_desordenada = serie.loc[[8, 7 ,2, 4, 1, 3, 6]]"
      ],
      "execution_count": null,
      "outputs": [
        {
          "output_type": "error",
          "ename": "KeyError",
          "evalue": "ignored",
          "traceback": [
            "\u001b[0;31m---------------------------------------------------------------------------\u001b[0m",
            "\u001b[0;31mKeyError\u001b[0m                                  Traceback (most recent call last)",
            "\u001b[0;32m<ipython-input-42-4f6aca71c827>\u001b[0m in \u001b[0;36m<module>\u001b[0;34m()\u001b[0m\n\u001b[0;32m----> 1\u001b[0;31m \u001b[0mserie_desordenada\u001b[0m \u001b[0;34m=\u001b[0m \u001b[0mserie\u001b[0m\u001b[0;34m.\u001b[0m\u001b[0mloc\u001b[0m\u001b[0;34m[\u001b[0m\u001b[0;34m[\u001b[0m\u001b[0;36m8\u001b[0m\u001b[0;34m,\u001b[0m \u001b[0;36m7\u001b[0m \u001b[0;34m,\u001b[0m\u001b[0;36m2\u001b[0m\u001b[0;34m,\u001b[0m \u001b[0;36m4\u001b[0m\u001b[0;34m,\u001b[0m \u001b[0;36m1\u001b[0m\u001b[0;34m,\u001b[0m \u001b[0;36m3\u001b[0m\u001b[0;34m,\u001b[0m \u001b[0;36m6\u001b[0m\u001b[0;34m]\u001b[0m\u001b[0;34m]\u001b[0m\u001b[0;34m\u001b[0m\u001b[0;34m\u001b[0m\u001b[0m\n\u001b[0m",
            "\u001b[0;32m/usr/local/lib/python3.7/dist-packages/pandas/core/indexing.py\u001b[0m in \u001b[0;36m__getitem__\u001b[0;34m(self, key)\u001b[0m\n\u001b[1;32m    877\u001b[0m \u001b[0;34m\u001b[0m\u001b[0m\n\u001b[1;32m    878\u001b[0m             \u001b[0mmaybe_callable\u001b[0m \u001b[0;34m=\u001b[0m \u001b[0mcom\u001b[0m\u001b[0;34m.\u001b[0m\u001b[0mapply_if_callable\u001b[0m\u001b[0;34m(\u001b[0m\u001b[0mkey\u001b[0m\u001b[0;34m,\u001b[0m \u001b[0mself\u001b[0m\u001b[0;34m.\u001b[0m\u001b[0mobj\u001b[0m\u001b[0;34m)\u001b[0m\u001b[0;34m\u001b[0m\u001b[0;34m\u001b[0m\u001b[0m\n\u001b[0;32m--> 879\u001b[0;31m             \u001b[0;32mreturn\u001b[0m \u001b[0mself\u001b[0m\u001b[0;34m.\u001b[0m\u001b[0m_getitem_axis\u001b[0m\u001b[0;34m(\u001b[0m\u001b[0mmaybe_callable\u001b[0m\u001b[0;34m,\u001b[0m \u001b[0maxis\u001b[0m\u001b[0;34m=\u001b[0m\u001b[0maxis\u001b[0m\u001b[0;34m)\u001b[0m\u001b[0;34m\u001b[0m\u001b[0;34m\u001b[0m\u001b[0m\n\u001b[0m\u001b[1;32m    880\u001b[0m \u001b[0;34m\u001b[0m\u001b[0m\n\u001b[1;32m    881\u001b[0m     \u001b[0;32mdef\u001b[0m \u001b[0m_is_scalar_access\u001b[0m\u001b[0;34m(\u001b[0m\u001b[0mself\u001b[0m\u001b[0;34m,\u001b[0m \u001b[0mkey\u001b[0m\u001b[0;34m:\u001b[0m \u001b[0mTuple\u001b[0m\u001b[0;34m)\u001b[0m\u001b[0;34m:\u001b[0m\u001b[0;34m\u001b[0m\u001b[0;34m\u001b[0m\u001b[0m\n",
            "\u001b[0;32m/usr/local/lib/python3.7/dist-packages/pandas/core/indexing.py\u001b[0m in \u001b[0;36m_getitem_axis\u001b[0;34m(self, key, axis)\u001b[0m\n\u001b[1;32m   1097\u001b[0m                     \u001b[0;32mraise\u001b[0m \u001b[0mValueError\u001b[0m\u001b[0;34m(\u001b[0m\u001b[0;34m\"Cannot index with multidimensional key\"\u001b[0m\u001b[0;34m)\u001b[0m\u001b[0;34m\u001b[0m\u001b[0;34m\u001b[0m\u001b[0m\n\u001b[1;32m   1098\u001b[0m \u001b[0;34m\u001b[0m\u001b[0m\n\u001b[0;32m-> 1099\u001b[0;31m                 \u001b[0;32mreturn\u001b[0m \u001b[0mself\u001b[0m\u001b[0;34m.\u001b[0m\u001b[0m_getitem_iterable\u001b[0m\u001b[0;34m(\u001b[0m\u001b[0mkey\u001b[0m\u001b[0;34m,\u001b[0m \u001b[0maxis\u001b[0m\u001b[0;34m=\u001b[0m\u001b[0maxis\u001b[0m\u001b[0;34m)\u001b[0m\u001b[0;34m\u001b[0m\u001b[0;34m\u001b[0m\u001b[0m\n\u001b[0m\u001b[1;32m   1100\u001b[0m \u001b[0;34m\u001b[0m\u001b[0m\n\u001b[1;32m   1101\u001b[0m             \u001b[0;31m# nested tuple slicing\u001b[0m\u001b[0;34m\u001b[0m\u001b[0;34m\u001b[0m\u001b[0;34m\u001b[0m\u001b[0m\n",
            "\u001b[0;32m/usr/local/lib/python3.7/dist-packages/pandas/core/indexing.py\u001b[0m in \u001b[0;36m_getitem_iterable\u001b[0;34m(self, key, axis)\u001b[0m\n\u001b[1;32m   1035\u001b[0m \u001b[0;34m\u001b[0m\u001b[0m\n\u001b[1;32m   1036\u001b[0m         \u001b[0;31m# A collection of keys\u001b[0m\u001b[0;34m\u001b[0m\u001b[0;34m\u001b[0m\u001b[0;34m\u001b[0m\u001b[0m\n\u001b[0;32m-> 1037\u001b[0;31m         \u001b[0mkeyarr\u001b[0m\u001b[0;34m,\u001b[0m \u001b[0mindexer\u001b[0m \u001b[0;34m=\u001b[0m \u001b[0mself\u001b[0m\u001b[0;34m.\u001b[0m\u001b[0m_get_listlike_indexer\u001b[0m\u001b[0;34m(\u001b[0m\u001b[0mkey\u001b[0m\u001b[0;34m,\u001b[0m \u001b[0maxis\u001b[0m\u001b[0;34m,\u001b[0m \u001b[0mraise_missing\u001b[0m\u001b[0;34m=\u001b[0m\u001b[0;32mFalse\u001b[0m\u001b[0;34m)\u001b[0m\u001b[0;34m\u001b[0m\u001b[0;34m\u001b[0m\u001b[0m\n\u001b[0m\u001b[1;32m   1038\u001b[0m         return self.obj._reindex_with_indexers(\n\u001b[1;32m   1039\u001b[0m             \u001b[0;34m{\u001b[0m\u001b[0maxis\u001b[0m\u001b[0;34m:\u001b[0m \u001b[0;34m[\u001b[0m\u001b[0mkeyarr\u001b[0m\u001b[0;34m,\u001b[0m \u001b[0mindexer\u001b[0m\u001b[0;34m]\u001b[0m\u001b[0;34m}\u001b[0m\u001b[0;34m,\u001b[0m \u001b[0mcopy\u001b[0m\u001b[0;34m=\u001b[0m\u001b[0;32mTrue\u001b[0m\u001b[0;34m,\u001b[0m \u001b[0mallow_dups\u001b[0m\u001b[0;34m=\u001b[0m\u001b[0;32mTrue\u001b[0m\u001b[0;34m\u001b[0m\u001b[0;34m\u001b[0m\u001b[0m\n",
            "\u001b[0;32m/usr/local/lib/python3.7/dist-packages/pandas/core/indexing.py\u001b[0m in \u001b[0;36m_get_listlike_indexer\u001b[0;34m(self, key, axis, raise_missing)\u001b[0m\n\u001b[1;32m   1252\u001b[0m             \u001b[0mkeyarr\u001b[0m\u001b[0;34m,\u001b[0m \u001b[0mindexer\u001b[0m\u001b[0;34m,\u001b[0m \u001b[0mnew_indexer\u001b[0m \u001b[0;34m=\u001b[0m \u001b[0max\u001b[0m\u001b[0;34m.\u001b[0m\u001b[0m_reindex_non_unique\u001b[0m\u001b[0;34m(\u001b[0m\u001b[0mkeyarr\u001b[0m\u001b[0;34m)\u001b[0m\u001b[0;34m\u001b[0m\u001b[0;34m\u001b[0m\u001b[0m\n\u001b[1;32m   1253\u001b[0m \u001b[0;34m\u001b[0m\u001b[0m\n\u001b[0;32m-> 1254\u001b[0;31m         \u001b[0mself\u001b[0m\u001b[0;34m.\u001b[0m\u001b[0m_validate_read_indexer\u001b[0m\u001b[0;34m(\u001b[0m\u001b[0mkeyarr\u001b[0m\u001b[0;34m,\u001b[0m \u001b[0mindexer\u001b[0m\u001b[0;34m,\u001b[0m \u001b[0maxis\u001b[0m\u001b[0;34m,\u001b[0m \u001b[0mraise_missing\u001b[0m\u001b[0;34m=\u001b[0m\u001b[0mraise_missing\u001b[0m\u001b[0;34m)\u001b[0m\u001b[0;34m\u001b[0m\u001b[0;34m\u001b[0m\u001b[0m\n\u001b[0m\u001b[1;32m   1255\u001b[0m         \u001b[0;32mreturn\u001b[0m \u001b[0mkeyarr\u001b[0m\u001b[0;34m,\u001b[0m \u001b[0mindexer\u001b[0m\u001b[0;34m\u001b[0m\u001b[0;34m\u001b[0m\u001b[0m\n\u001b[1;32m   1256\u001b[0m \u001b[0;34m\u001b[0m\u001b[0m\n",
            "\u001b[0;32m/usr/local/lib/python3.7/dist-packages/pandas/core/indexing.py\u001b[0m in \u001b[0;36m_validate_read_indexer\u001b[0;34m(self, key, indexer, axis, raise_missing)\u001b[0m\n\u001b[1;32m   1296\u001b[0m             \u001b[0;32mif\u001b[0m \u001b[0mmissing\u001b[0m \u001b[0;34m==\u001b[0m \u001b[0mlen\u001b[0m\u001b[0;34m(\u001b[0m\u001b[0mindexer\u001b[0m\u001b[0;34m)\u001b[0m\u001b[0;34m:\u001b[0m\u001b[0;34m\u001b[0m\u001b[0;34m\u001b[0m\u001b[0m\n\u001b[1;32m   1297\u001b[0m                 \u001b[0maxis_name\u001b[0m \u001b[0;34m=\u001b[0m \u001b[0mself\u001b[0m\u001b[0;34m.\u001b[0m\u001b[0mobj\u001b[0m\u001b[0;34m.\u001b[0m\u001b[0m_get_axis_name\u001b[0m\u001b[0;34m(\u001b[0m\u001b[0maxis\u001b[0m\u001b[0;34m)\u001b[0m\u001b[0;34m\u001b[0m\u001b[0;34m\u001b[0m\u001b[0m\n\u001b[0;32m-> 1298\u001b[0;31m                 \u001b[0;32mraise\u001b[0m \u001b[0mKeyError\u001b[0m\u001b[0;34m(\u001b[0m\u001b[0;34mf\"None of [{key}] are in the [{axis_name}]\"\u001b[0m\u001b[0;34m)\u001b[0m\u001b[0;34m\u001b[0m\u001b[0;34m\u001b[0m\u001b[0m\n\u001b[0m\u001b[1;32m   1299\u001b[0m \u001b[0;34m\u001b[0m\u001b[0m\n\u001b[1;32m   1300\u001b[0m             \u001b[0;31m# We (temporarily) allow for some missing keys with .loc, except in\u001b[0m\u001b[0;34m\u001b[0m\u001b[0;34m\u001b[0m\u001b[0;34m\u001b[0m\u001b[0m\n",
            "\u001b[0;31mKeyError\u001b[0m: \"None of [Int64Index([8, 7, 2, 4, 1, 3, 6], dtype='int64')] are in the [index]\""
          ]
        }
      ]
    },
    {
      "cell_type": "code",
      "metadata": {
        "colab": {
          "base_uri": "https://localhost:8080/",
          "height": 35
        },
        "id": "pK1pL_N06hsp",
        "outputId": "2f1e4b89-c045-4324-c497-e5ddb54cb435"
      },
      "source": [
        "serie_desordenada.loc[7]"
      ],
      "execution_count": null,
      "outputs": [
        {
          "output_type": "execute_result",
          "data": {
            "application/vnd.google.colaboratory.intrinsic+json": {
              "type": "string"
            },
            "text/plain": [
              "'h'"
            ]
          },
          "metadata": {
            "tags": []
          },
          "execution_count": 43
        }
      ]
    },
    {
      "cell_type": "code",
      "metadata": {
        "id": "esKbx9jm6vfm"
      },
      "source": [
        "serie = "
      ],
      "execution_count": null,
      "outputs": []
    },
    {
      "cell_type": "code",
      "metadata": {
        "colab": {
          "base_uri": "https://localhost:8080/"
        },
        "id": "-yf9TIBxz4FS",
        "outputId": "ab559b50-865a-4b41-b2b2-e193935479b4"
      },
      "source": [
        "pd.DataFrame"
      ],
      "execution_count": null,
      "outputs": [
        {
          "output_type": "execute_result",
          "data": {
            "text/plain": [
              "pandas.core.frame.DataFrame"
            ]
          },
          "metadata": {
            "tags": []
          },
          "execution_count": 8
        }
      ]
    },
    {
      "cell_type": "code",
      "metadata": {
        "id": "lfUwTvHd1JKk"
      },
      "source": [
        "serie = pd.Series([1, 2, 3, 4, 5, 6, 7, 8, 9], index = [\"a\", \"b\", \"c\", \"d\", \"e\", \"f\", \"g\", \"h\", \"i\"])"
      ],
      "execution_count": null,
      "outputs": []
    },
    {
      "cell_type": "code",
      "metadata": {
        "colab": {
          "base_uri": "https://localhost:8080/"
        },
        "id": "aCW5GLQO63Iq",
        "outputId": "b86bd0fa-fe90-484b-9b68-206edb1d7038"
      },
      "source": [
        "serie.loc[\"c\":\"e\"]"
      ],
      "execution_count": null,
      "outputs": [
        {
          "output_type": "execute_result",
          "data": {
            "text/plain": [
              "c    3\n",
              "d    4\n",
              "e    5\n",
              "dtype: int64"
            ]
          },
          "metadata": {
            "tags": []
          },
          "execution_count": 44
        }
      ]
    },
    {
      "cell_type": "code",
      "metadata": {
        "colab": {
          "base_uri": "https://localhost:8080/"
        },
        "id": "kjWGM0Hh7CoD",
        "outputId": "8a939b5f-8599-48a8-9f15-634557a2e1ef"
      },
      "source": [
        "serie.loc[\"c\":\"e\"]"
      ],
      "execution_count": null,
      "outputs": [
        {
          "output_type": "execute_result",
          "data": {
            "text/plain": [
              "c    3\n",
              "d    4\n",
              "e    5\n",
              "dtype: int64"
            ]
          },
          "metadata": {
            "tags": []
          },
          "execution_count": 46
        }
      ]
    },
    {
      "cell_type": "markdown",
      "metadata": {
        "id": "wASd6qDo-SKb"
      },
      "source": [
        "# Data Frames"
      ]
    },
    {
      "cell_type": "code",
      "metadata": {
        "id": "gtNUD3kO9E8C"
      },
      "source": [
        "datos = {\n",
        "    'columna_1': ['valor_fila_0', 'valor_fila_1', 'valor_fila_2', 'valor_fila_3', 'valor_fila_4'],\n",
        "    'columna_2': ['valor_fila_0', 'valor_fila_1', 'valor_fila_2', 'valor_fila_3', 'valor_fila_4'],\n",
        "    'columna_3': ['valor_fila_0', 'valor_fila_1', 'valor_fila_2', 'valor_fila_3', 'valor_fila_4'],\n",
        "    'columna_4': ['valor_fila_0', 'valor_fila_1', 'valor_fila_2', 'valor_fila_3', 'valor_fila_4']\n",
        "}"
      ],
      "execution_count": null,
      "outputs": []
    },
    {
      "cell_type": "code",
      "metadata": {
        "id": "foN1EUei-gZC"
      },
      "source": [
        "df = pd.DataFrame(datos)"
      ],
      "execution_count": null,
      "outputs": []
    },
    {
      "cell_type": "code",
      "metadata": {
        "colab": {
          "base_uri": "https://localhost:8080/",
          "height": 206
        },
        "id": "6aX9fp5s-mgW",
        "outputId": "fb891849-4507-4693-cce4-9b3b825e1e8e"
      },
      "source": [
        "df"
      ],
      "execution_count": null,
      "outputs": [
        {
          "output_type": "execute_result",
          "data": {
            "text/html": [
              "<div>\n",
              "<style scoped>\n",
              "    .dataframe tbody tr th:only-of-type {\n",
              "        vertical-align: middle;\n",
              "    }\n",
              "\n",
              "    .dataframe tbody tr th {\n",
              "        vertical-align: top;\n",
              "    }\n",
              "\n",
              "    .dataframe thead th {\n",
              "        text-align: right;\n",
              "    }\n",
              "</style>\n",
              "<table border=\"1\" class=\"dataframe\">\n",
              "  <thead>\n",
              "    <tr style=\"text-align: right;\">\n",
              "      <th></th>\n",
              "      <th>columna_1</th>\n",
              "      <th>columna_2</th>\n",
              "      <th>columna_3</th>\n",
              "      <th>columna_4</th>\n",
              "    </tr>\n",
              "  </thead>\n",
              "  <tbody>\n",
              "    <tr>\n",
              "      <th>0</th>\n",
              "      <td>valor_fila_0</td>\n",
              "      <td>valor_fila_0</td>\n",
              "      <td>valor_fila_0</td>\n",
              "      <td>valor_fila_0</td>\n",
              "    </tr>\n",
              "    <tr>\n",
              "      <th>1</th>\n",
              "      <td>valor_fila_1</td>\n",
              "      <td>valor_fila_1</td>\n",
              "      <td>valor_fila_1</td>\n",
              "      <td>valor_fila_1</td>\n",
              "    </tr>\n",
              "    <tr>\n",
              "      <th>2</th>\n",
              "      <td>valor_fila_2</td>\n",
              "      <td>valor_fila_2</td>\n",
              "      <td>valor_fila_2</td>\n",
              "      <td>valor_fila_2</td>\n",
              "    </tr>\n",
              "    <tr>\n",
              "      <th>3</th>\n",
              "      <td>valor_fila_3</td>\n",
              "      <td>valor_fila_3</td>\n",
              "      <td>valor_fila_3</td>\n",
              "      <td>valor_fila_3</td>\n",
              "    </tr>\n",
              "    <tr>\n",
              "      <th>4</th>\n",
              "      <td>valor_fila_4</td>\n",
              "      <td>valor_fila_4</td>\n",
              "      <td>valor_fila_4</td>\n",
              "      <td>valor_fila_4</td>\n",
              "    </tr>\n",
              "  </tbody>\n",
              "</table>\n",
              "</div>"
            ],
            "text/plain": [
              "      columna_1     columna_2     columna_3     columna_4\n",
              "0  valor_fila_0  valor_fila_0  valor_fila_0  valor_fila_0\n",
              "1  valor_fila_1  valor_fila_1  valor_fila_1  valor_fila_1\n",
              "2  valor_fila_2  valor_fila_2  valor_fila_2  valor_fila_2\n",
              "3  valor_fila_3  valor_fila_3  valor_fila_3  valor_fila_3\n",
              "4  valor_fila_4  valor_fila_4  valor_fila_4  valor_fila_4"
            ]
          },
          "metadata": {
            "tags": []
          },
          "execution_count": 49
        }
      ]
    },
    {
      "cell_type": "code",
      "metadata": {
        "id": "_XLv29Lt-nBq"
      },
      "source": [
        "df  = pd.DataFrame(datos, index = [\"a\", \"b\", \"c\", \"d\", \"e\"])"
      ],
      "execution_count": null,
      "outputs": []
    },
    {
      "cell_type": "code",
      "metadata": {
        "colab": {
          "base_uri": "https://localhost:8080/",
          "height": 206
        },
        "id": "vSKdJF-x-7BL",
        "outputId": "81f02ac1-839b-462f-b2e8-937e4ff85a16"
      },
      "source": [
        "df"
      ],
      "execution_count": null,
      "outputs": [
        {
          "output_type": "execute_result",
          "data": {
            "text/html": [
              "<div>\n",
              "<style scoped>\n",
              "    .dataframe tbody tr th:only-of-type {\n",
              "        vertical-align: middle;\n",
              "    }\n",
              "\n",
              "    .dataframe tbody tr th {\n",
              "        vertical-align: top;\n",
              "    }\n",
              "\n",
              "    .dataframe thead th {\n",
              "        text-align: right;\n",
              "    }\n",
              "</style>\n",
              "<table border=\"1\" class=\"dataframe\">\n",
              "  <thead>\n",
              "    <tr style=\"text-align: right;\">\n",
              "      <th></th>\n",
              "      <th>columna_1</th>\n",
              "      <th>columna_2</th>\n",
              "      <th>columna_3</th>\n",
              "      <th>columna_4</th>\n",
              "    </tr>\n",
              "  </thead>\n",
              "  <tbody>\n",
              "    <tr>\n",
              "      <th>a</th>\n",
              "      <td>valor_fila_0</td>\n",
              "      <td>valor_fila_0</td>\n",
              "      <td>valor_fila_0</td>\n",
              "      <td>valor_fila_0</td>\n",
              "    </tr>\n",
              "    <tr>\n",
              "      <th>b</th>\n",
              "      <td>valor_fila_1</td>\n",
              "      <td>valor_fila_1</td>\n",
              "      <td>valor_fila_1</td>\n",
              "      <td>valor_fila_1</td>\n",
              "    </tr>\n",
              "    <tr>\n",
              "      <th>c</th>\n",
              "      <td>valor_fila_2</td>\n",
              "      <td>valor_fila_2</td>\n",
              "      <td>valor_fila_2</td>\n",
              "      <td>valor_fila_2</td>\n",
              "    </tr>\n",
              "    <tr>\n",
              "      <th>d</th>\n",
              "      <td>valor_fila_3</td>\n",
              "      <td>valor_fila_3</td>\n",
              "      <td>valor_fila_3</td>\n",
              "      <td>valor_fila_3</td>\n",
              "    </tr>\n",
              "    <tr>\n",
              "      <th>e</th>\n",
              "      <td>valor_fila_4</td>\n",
              "      <td>valor_fila_4</td>\n",
              "      <td>valor_fila_4</td>\n",
              "      <td>valor_fila_4</td>\n",
              "    </tr>\n",
              "  </tbody>\n",
              "</table>\n",
              "</div>"
            ],
            "text/plain": [
              "      columna_1     columna_2     columna_3     columna_4\n",
              "a  valor_fila_0  valor_fila_0  valor_fila_0  valor_fila_0\n",
              "b  valor_fila_1  valor_fila_1  valor_fila_1  valor_fila_1\n",
              "c  valor_fila_2  valor_fila_2  valor_fila_2  valor_fila_2\n",
              "d  valor_fila_3  valor_fila_3  valor_fila_3  valor_fila_3\n",
              "e  valor_fila_4  valor_fila_4  valor_fila_4  valor_fila_4"
            ]
          },
          "metadata": {
            "tags": []
          },
          "execution_count": 51
        }
      ]
    },
    {
      "cell_type": "code",
      "metadata": {
        "colab": {
          "base_uri": "https://localhost:8080/"
        },
        "id": "K2kRDmO9-7Yj",
        "outputId": "f73fa299-4468-4f9f-e40a-b78efddaf820"
      },
      "source": [
        "df[\"columna_1\"]"
      ],
      "execution_count": null,
      "outputs": [
        {
          "output_type": "execute_result",
          "data": {
            "text/plain": [
              "a    valor_fila_0\n",
              "b    valor_fila_1\n",
              "c    valor_fila_2\n",
              "d    valor_fila_3\n",
              "e    valor_fila_4\n",
              "Name: columna_1, dtype: object"
            ]
          },
          "metadata": {
            "tags": []
          },
          "execution_count": 53
        }
      ]
    },
    {
      "cell_type": "code",
      "metadata": {
        "colab": {
          "base_uri": "https://localhost:8080/"
        },
        "id": "SxRNeH3n_Bu5",
        "outputId": "d146a762-13a8-4d55-834b-09eda590a880"
      },
      "source": [
        "df.columna_1"
      ],
      "execution_count": null,
      "outputs": [
        {
          "output_type": "execute_result",
          "data": {
            "text/plain": [
              "a    valor_fila_0\n",
              "b    valor_fila_1\n",
              "c    valor_fila_2\n",
              "d    valor_fila_3\n",
              "e    valor_fila_4\n",
              "Name: columna_1, dtype: object"
            ]
          },
          "metadata": {
            "tags": []
          },
          "execution_count": 54
        }
      ]
    },
    {
      "cell_type": "code",
      "metadata": {
        "colab": {
          "base_uri": "https://localhost:8080/",
          "height": 206
        },
        "id": "o1OalTTB_T4b",
        "outputId": "ce6ca76b-1b2e-4eff-a30b-5d0eab9a1b44"
      },
      "source": [
        "df[[\"columna_1\", \"columna_3\"]]"
      ],
      "execution_count": null,
      "outputs": [
        {
          "output_type": "execute_result",
          "data": {
            "text/html": [
              "<div>\n",
              "<style scoped>\n",
              "    .dataframe tbody tr th:only-of-type {\n",
              "        vertical-align: middle;\n",
              "    }\n",
              "\n",
              "    .dataframe tbody tr th {\n",
              "        vertical-align: top;\n",
              "    }\n",
              "\n",
              "    .dataframe thead th {\n",
              "        text-align: right;\n",
              "    }\n",
              "</style>\n",
              "<table border=\"1\" class=\"dataframe\">\n",
              "  <thead>\n",
              "    <tr style=\"text-align: right;\">\n",
              "      <th></th>\n",
              "      <th>columna_1</th>\n",
              "      <th>columna_3</th>\n",
              "    </tr>\n",
              "  </thead>\n",
              "  <tbody>\n",
              "    <tr>\n",
              "      <th>a</th>\n",
              "      <td>valor_fila_0</td>\n",
              "      <td>valor_fila_0</td>\n",
              "    </tr>\n",
              "    <tr>\n",
              "      <th>b</th>\n",
              "      <td>valor_fila_1</td>\n",
              "      <td>valor_fila_1</td>\n",
              "    </tr>\n",
              "    <tr>\n",
              "      <th>c</th>\n",
              "      <td>valor_fila_2</td>\n",
              "      <td>valor_fila_2</td>\n",
              "    </tr>\n",
              "    <tr>\n",
              "      <th>d</th>\n",
              "      <td>valor_fila_3</td>\n",
              "      <td>valor_fila_3</td>\n",
              "    </tr>\n",
              "    <tr>\n",
              "      <th>e</th>\n",
              "      <td>valor_fila_4</td>\n",
              "      <td>valor_fila_4</td>\n",
              "    </tr>\n",
              "  </tbody>\n",
              "</table>\n",
              "</div>"
            ],
            "text/plain": [
              "      columna_1     columna_3\n",
              "a  valor_fila_0  valor_fila_0\n",
              "b  valor_fila_1  valor_fila_1\n",
              "c  valor_fila_2  valor_fila_2\n",
              "d  valor_fila_3  valor_fila_3\n",
              "e  valor_fila_4  valor_fila_4"
            ]
          },
          "metadata": {
            "tags": []
          },
          "execution_count": 55
        }
      ]
    },
    {
      "cell_type": "code",
      "metadata": {
        "colab": {
          "base_uri": "https://localhost:8080/"
        },
        "id": "91grLOdg_wMc",
        "outputId": "509607dc-b9b1-41e5-c0ac-f835dd6be99d"
      },
      "source": [
        "df.loc[\"a\"]"
      ],
      "execution_count": null,
      "outputs": [
        {
          "output_type": "execute_result",
          "data": {
            "text/plain": [
              "columna_1    valor_fila_0\n",
              "columna_2    valor_fila_0\n",
              "columna_3    valor_fila_0\n",
              "columna_4    valor_fila_0\n",
              "Name: a, dtype: object"
            ]
          },
          "metadata": {
            "tags": []
          },
          "execution_count": 56
        }
      ]
    },
    {
      "cell_type": "code",
      "metadata": {
        "colab": {
          "base_uri": "https://localhost:8080/",
          "height": 112
        },
        "id": "92XjZld3ADU1",
        "outputId": "4abb42da-fa28-48ba-9169-665635262a1e"
      },
      "source": [
        "df.loc[[\"a\", \"c\"]]"
      ],
      "execution_count": null,
      "outputs": [
        {
          "output_type": "execute_result",
          "data": {
            "text/html": [
              "<div>\n",
              "<style scoped>\n",
              "    .dataframe tbody tr th:only-of-type {\n",
              "        vertical-align: middle;\n",
              "    }\n",
              "\n",
              "    .dataframe tbody tr th {\n",
              "        vertical-align: top;\n",
              "    }\n",
              "\n",
              "    .dataframe thead th {\n",
              "        text-align: right;\n",
              "    }\n",
              "</style>\n",
              "<table border=\"1\" class=\"dataframe\">\n",
              "  <thead>\n",
              "    <tr style=\"text-align: right;\">\n",
              "      <th></th>\n",
              "      <th>columna_1</th>\n",
              "      <th>columna_2</th>\n",
              "      <th>columna_3</th>\n",
              "      <th>columna_4</th>\n",
              "    </tr>\n",
              "  </thead>\n",
              "  <tbody>\n",
              "    <tr>\n",
              "      <th>a</th>\n",
              "      <td>valor_fila_0</td>\n",
              "      <td>valor_fila_0</td>\n",
              "      <td>valor_fila_0</td>\n",
              "      <td>valor_fila_0</td>\n",
              "    </tr>\n",
              "    <tr>\n",
              "      <th>c</th>\n",
              "      <td>valor_fila_2</td>\n",
              "      <td>valor_fila_2</td>\n",
              "      <td>valor_fila_2</td>\n",
              "      <td>valor_fila_2</td>\n",
              "    </tr>\n",
              "  </tbody>\n",
              "</table>\n",
              "</div>"
            ],
            "text/plain": [
              "      columna_1     columna_2     columna_3     columna_4\n",
              "a  valor_fila_0  valor_fila_0  valor_fila_0  valor_fila_0\n",
              "c  valor_fila_2  valor_fila_2  valor_fila_2  valor_fila_2"
            ]
          },
          "metadata": {
            "tags": []
          },
          "execution_count": 57
        }
      ]
    },
    {
      "cell_type": "code",
      "metadata": {
        "colab": {
          "base_uri": "https://localhost:8080/",
          "height": 175
        },
        "id": "-75h2fXsAV8j",
        "outputId": "16721d36-4c3d-4613-a1f7-2ecb0a3cd946"
      },
      "source": [
        "df.loc[\"b\":]"
      ],
      "execution_count": null,
      "outputs": [
        {
          "output_type": "execute_result",
          "data": {
            "text/html": [
              "<div>\n",
              "<style scoped>\n",
              "    .dataframe tbody tr th:only-of-type {\n",
              "        vertical-align: middle;\n",
              "    }\n",
              "\n",
              "    .dataframe tbody tr th {\n",
              "        vertical-align: top;\n",
              "    }\n",
              "\n",
              "    .dataframe thead th {\n",
              "        text-align: right;\n",
              "    }\n",
              "</style>\n",
              "<table border=\"1\" class=\"dataframe\">\n",
              "  <thead>\n",
              "    <tr style=\"text-align: right;\">\n",
              "      <th></th>\n",
              "      <th>columna_1</th>\n",
              "      <th>columna_2</th>\n",
              "      <th>columna_3</th>\n",
              "      <th>columna_4</th>\n",
              "    </tr>\n",
              "  </thead>\n",
              "  <tbody>\n",
              "    <tr>\n",
              "      <th>b</th>\n",
              "      <td>valor_fila_1</td>\n",
              "      <td>valor_fila_1</td>\n",
              "      <td>valor_fila_1</td>\n",
              "      <td>valor_fila_1</td>\n",
              "    </tr>\n",
              "    <tr>\n",
              "      <th>c</th>\n",
              "      <td>valor_fila_2</td>\n",
              "      <td>valor_fila_2</td>\n",
              "      <td>valor_fila_2</td>\n",
              "      <td>valor_fila_2</td>\n",
              "    </tr>\n",
              "    <tr>\n",
              "      <th>d</th>\n",
              "      <td>valor_fila_3</td>\n",
              "      <td>valor_fila_3</td>\n",
              "      <td>valor_fila_3</td>\n",
              "      <td>valor_fila_3</td>\n",
              "    </tr>\n",
              "    <tr>\n",
              "      <th>e</th>\n",
              "      <td>valor_fila_4</td>\n",
              "      <td>valor_fila_4</td>\n",
              "      <td>valor_fila_4</td>\n",
              "      <td>valor_fila_4</td>\n",
              "    </tr>\n",
              "  </tbody>\n",
              "</table>\n",
              "</div>"
            ],
            "text/plain": [
              "      columna_1     columna_2     columna_3     columna_4\n",
              "b  valor_fila_1  valor_fila_1  valor_fila_1  valor_fila_1\n",
              "c  valor_fila_2  valor_fila_2  valor_fila_2  valor_fila_2\n",
              "d  valor_fila_3  valor_fila_3  valor_fila_3  valor_fila_3\n",
              "e  valor_fila_4  valor_fila_4  valor_fila_4  valor_fila_4"
            ]
          },
          "metadata": {
            "tags": []
          },
          "execution_count": 58
        }
      ]
    },
    {
      "cell_type": "code",
      "metadata": {
        "colab": {
          "base_uri": "https://localhost:8080/",
          "height": 144
        },
        "id": "HpMoFEXfAcLj",
        "outputId": "cae47f9b-4858-4b6d-f016-c92478460dde"
      },
      "source": [
        "df.loc[\"b\":\"d\"]"
      ],
      "execution_count": null,
      "outputs": [
        {
          "output_type": "execute_result",
          "data": {
            "text/html": [
              "<div>\n",
              "<style scoped>\n",
              "    .dataframe tbody tr th:only-of-type {\n",
              "        vertical-align: middle;\n",
              "    }\n",
              "\n",
              "    .dataframe tbody tr th {\n",
              "        vertical-align: top;\n",
              "    }\n",
              "\n",
              "    .dataframe thead th {\n",
              "        text-align: right;\n",
              "    }\n",
              "</style>\n",
              "<table border=\"1\" class=\"dataframe\">\n",
              "  <thead>\n",
              "    <tr style=\"text-align: right;\">\n",
              "      <th></th>\n",
              "      <th>columna_1</th>\n",
              "      <th>columna_2</th>\n",
              "      <th>columna_3</th>\n",
              "      <th>columna_4</th>\n",
              "    </tr>\n",
              "  </thead>\n",
              "  <tbody>\n",
              "    <tr>\n",
              "      <th>b</th>\n",
              "      <td>valor_fila_1</td>\n",
              "      <td>valor_fila_1</td>\n",
              "      <td>valor_fila_1</td>\n",
              "      <td>valor_fila_1</td>\n",
              "    </tr>\n",
              "    <tr>\n",
              "      <th>c</th>\n",
              "      <td>valor_fila_2</td>\n",
              "      <td>valor_fila_2</td>\n",
              "      <td>valor_fila_2</td>\n",
              "      <td>valor_fila_2</td>\n",
              "    </tr>\n",
              "    <tr>\n",
              "      <th>d</th>\n",
              "      <td>valor_fila_3</td>\n",
              "      <td>valor_fila_3</td>\n",
              "      <td>valor_fila_3</td>\n",
              "      <td>valor_fila_3</td>\n",
              "    </tr>\n",
              "  </tbody>\n",
              "</table>\n",
              "</div>"
            ],
            "text/plain": [
              "      columna_1     columna_2     columna_3     columna_4\n",
              "b  valor_fila_1  valor_fila_1  valor_fila_1  valor_fila_1\n",
              "c  valor_fila_2  valor_fila_2  valor_fila_2  valor_fila_2\n",
              "d  valor_fila_3  valor_fila_3  valor_fila_3  valor_fila_3"
            ]
          },
          "metadata": {
            "tags": []
          },
          "execution_count": 59
        }
      ]
    },
    {
      "cell_type": "code",
      "metadata": {
        "colab": {
          "base_uri": "https://localhost:8080/",
          "height": 112
        },
        "id": "0h8Eh3qpAfcP",
        "outputId": "7857f1fa-3573-40a1-cc5a-0febaf9d3709"
      },
      "source": [
        "df.loc[[\"a\", \"c\"], [\"columna_2\", \"columna_4\"]]"
      ],
      "execution_count": null,
      "outputs": [
        {
          "output_type": "execute_result",
          "data": {
            "text/html": [
              "<div>\n",
              "<style scoped>\n",
              "    .dataframe tbody tr th:only-of-type {\n",
              "        vertical-align: middle;\n",
              "    }\n",
              "\n",
              "    .dataframe tbody tr th {\n",
              "        vertical-align: top;\n",
              "    }\n",
              "\n",
              "    .dataframe thead th {\n",
              "        text-align: right;\n",
              "    }\n",
              "</style>\n",
              "<table border=\"1\" class=\"dataframe\">\n",
              "  <thead>\n",
              "    <tr style=\"text-align: right;\">\n",
              "      <th></th>\n",
              "      <th>columna_2</th>\n",
              "      <th>columna_4</th>\n",
              "    </tr>\n",
              "  </thead>\n",
              "  <tbody>\n",
              "    <tr>\n",
              "      <th>a</th>\n",
              "      <td>valor_fila_0</td>\n",
              "      <td>valor_fila_0</td>\n",
              "    </tr>\n",
              "    <tr>\n",
              "      <th>c</th>\n",
              "      <td>valor_fila_2</td>\n",
              "      <td>valor_fila_2</td>\n",
              "    </tr>\n",
              "  </tbody>\n",
              "</table>\n",
              "</div>"
            ],
            "text/plain": [
              "      columna_2     columna_4\n",
              "a  valor_fila_0  valor_fila_0\n",
              "c  valor_fila_2  valor_fila_2"
            ]
          },
          "metadata": {
            "tags": []
          },
          "execution_count": 60
        }
      ]
    },
    {
      "cell_type": "code",
      "metadata": {
        "colab": {
          "base_uri": "https://localhost:8080/",
          "height": 206
        },
        "id": "5n2DeHTDApse",
        "outputId": "a0404120-a42d-4a33-9a57-d48858a8a518"
      },
      "source": [
        "df.loc[:, \"columna_2\":\"columna_4\"]"
      ],
      "execution_count": null,
      "outputs": [
        {
          "output_type": "execute_result",
          "data": {
            "text/html": [
              "<div>\n",
              "<style scoped>\n",
              "    .dataframe tbody tr th:only-of-type {\n",
              "        vertical-align: middle;\n",
              "    }\n",
              "\n",
              "    .dataframe tbody tr th {\n",
              "        vertical-align: top;\n",
              "    }\n",
              "\n",
              "    .dataframe thead th {\n",
              "        text-align: right;\n",
              "    }\n",
              "</style>\n",
              "<table border=\"1\" class=\"dataframe\">\n",
              "  <thead>\n",
              "    <tr style=\"text-align: right;\">\n",
              "      <th></th>\n",
              "      <th>columna_2</th>\n",
              "      <th>columna_3</th>\n",
              "      <th>columna_4</th>\n",
              "    </tr>\n",
              "  </thead>\n",
              "  <tbody>\n",
              "    <tr>\n",
              "      <th>a</th>\n",
              "      <td>valor_fila_0</td>\n",
              "      <td>valor_fila_0</td>\n",
              "      <td>valor_fila_0</td>\n",
              "    </tr>\n",
              "    <tr>\n",
              "      <th>b</th>\n",
              "      <td>valor_fila_1</td>\n",
              "      <td>valor_fila_1</td>\n",
              "      <td>valor_fila_1</td>\n",
              "    </tr>\n",
              "    <tr>\n",
              "      <th>c</th>\n",
              "      <td>valor_fila_2</td>\n",
              "      <td>valor_fila_2</td>\n",
              "      <td>valor_fila_2</td>\n",
              "    </tr>\n",
              "    <tr>\n",
              "      <th>d</th>\n",
              "      <td>valor_fila_3</td>\n",
              "      <td>valor_fila_3</td>\n",
              "      <td>valor_fila_3</td>\n",
              "    </tr>\n",
              "    <tr>\n",
              "      <th>e</th>\n",
              "      <td>valor_fila_4</td>\n",
              "      <td>valor_fila_4</td>\n",
              "      <td>valor_fila_4</td>\n",
              "    </tr>\n",
              "  </tbody>\n",
              "</table>\n",
              "</div>"
            ],
            "text/plain": [
              "      columna_2     columna_3     columna_4\n",
              "a  valor_fila_0  valor_fila_0  valor_fila_0\n",
              "b  valor_fila_1  valor_fila_1  valor_fila_1\n",
              "c  valor_fila_2  valor_fila_2  valor_fila_2\n",
              "d  valor_fila_3  valor_fila_3  valor_fila_3\n",
              "e  valor_fila_4  valor_fila_4  valor_fila_4"
            ]
          },
          "metadata": {
            "tags": []
          },
          "execution_count": 61
        }
      ]
    },
    {
      "cell_type": "code",
      "metadata": {
        "colab": {
          "base_uri": "https://localhost:8080/",
          "height": 35
        },
        "id": "OEEN-ZgxAyqj",
        "outputId": "4d1ef2ef-844f-4342-c80a-d3218ef5cf67"
      },
      "source": [
        "df.loc[\"c\", \"columna_3\"]"
      ],
      "execution_count": null,
      "outputs": [
        {
          "output_type": "execute_result",
          "data": {
            "application/vnd.google.colaboratory.intrinsic+json": {
              "type": "string"
            },
            "text/plain": [
              "'valor_fila_2'"
            ]
          },
          "metadata": {
            "tags": []
          },
          "execution_count": 62
        }
      ]
    },
    {
      "cell_type": "code",
      "metadata": {
        "id": "TGq1JyOxBC-o"
      },
      "source": [
        "datos = {\n",
        "    \"Nombre\": [\"Pepinillo Hernández\", \"Lúpulo de Dios\", \"Juan Juon\", \"Jimmy el Patatas\", \"Lorenzo Retaguardias\"],\n",
        "    \"Cereal favorito\": [\"Korn Floks\", \"Verdurinis\", \"Zumbaritas\", \"Diabetukis, Papá\", \"Fibra Máxima 3000\"],\n",
        "    \"Hora del desayuno\": [\"11:00\", \"07:30\", \"07:00\", \"08:30\", \"09:30\"]\n",
        "}\n",
        "\n",
        "df = pd.DataFrame(datos)"
      ],
      "execution_count": null,
      "outputs": []
    },
    {
      "cell_type": "code",
      "metadata": {
        "colab": {
          "base_uri": "https://localhost:8080/",
          "height": 206
        },
        "id": "I65TdfNBKDRY",
        "outputId": "6e31790b-b7b7-4e1c-dc06-1b7c1eebf449"
      },
      "source": [
        "df"
      ],
      "execution_count": null,
      "outputs": [
        {
          "output_type": "execute_result",
          "data": {
            "text/html": [
              "<div>\n",
              "<style scoped>\n",
              "    .dataframe tbody tr th:only-of-type {\n",
              "        vertical-align: middle;\n",
              "    }\n",
              "\n",
              "    .dataframe tbody tr th {\n",
              "        vertical-align: top;\n",
              "    }\n",
              "\n",
              "    .dataframe thead th {\n",
              "        text-align: right;\n",
              "    }\n",
              "</style>\n",
              "<table border=\"1\" class=\"dataframe\">\n",
              "  <thead>\n",
              "    <tr style=\"text-align: right;\">\n",
              "      <th></th>\n",
              "      <th>Nombre</th>\n",
              "      <th>Cereal favorito</th>\n",
              "      <th>Hora del desayuno</th>\n",
              "    </tr>\n",
              "  </thead>\n",
              "  <tbody>\n",
              "    <tr>\n",
              "      <th>0</th>\n",
              "      <td>Pepinillo Hernández</td>\n",
              "      <td>Korn Floks</td>\n",
              "      <td>11:00</td>\n",
              "    </tr>\n",
              "    <tr>\n",
              "      <th>1</th>\n",
              "      <td>Lúpulo de Dios</td>\n",
              "      <td>Verdurinis</td>\n",
              "      <td>07:30</td>\n",
              "    </tr>\n",
              "    <tr>\n",
              "      <th>2</th>\n",
              "      <td>Juan Juon</td>\n",
              "      <td>Zumbaritas</td>\n",
              "      <td>07:00</td>\n",
              "    </tr>\n",
              "    <tr>\n",
              "      <th>3</th>\n",
              "      <td>Jimmy el Patatas</td>\n",
              "      <td>Diabetukis, Papá</td>\n",
              "      <td>08:30</td>\n",
              "    </tr>\n",
              "    <tr>\n",
              "      <th>4</th>\n",
              "      <td>Lorenzo Retaguardias</td>\n",
              "      <td>Fibra Máxima 3000</td>\n",
              "      <td>09:30</td>\n",
              "    </tr>\n",
              "  </tbody>\n",
              "</table>\n",
              "</div>"
            ],
            "text/plain": [
              "                 Nombre    Cereal favorito Hora del desayuno\n",
              "0   Pepinillo Hernández         Korn Floks             11:00\n",
              "1        Lúpulo de Dios         Verdurinis             07:30\n",
              "2             Juan Juon         Zumbaritas             07:00\n",
              "3      Jimmy el Patatas   Diabetukis, Papá             08:30\n",
              "4  Lorenzo Retaguardias  Fibra Máxima 3000             09:30"
            ]
          },
          "metadata": {
            "tags": []
          },
          "execution_count": 64
        }
      ]
    },
    {
      "cell_type": "code",
      "metadata": {
        "id": "o-Ho8zrKKEAc"
      },
      "source": [
        "#Agregando una nueva columna\n",
        "df[\"Fruta con la que acompaña el cereal\"] = pd.Series([\"Pera\", \"Manzana\", \"Plátano\", \"Guayaba\", \"Pizza\"])"
      ],
      "execution_count": null,
      "outputs": []
    },
    {
      "cell_type": "code",
      "metadata": {
        "colab": {
          "base_uri": "https://localhost:8080/",
          "height": 206
        },
        "id": "9ps4Q3V6Kgtr",
        "outputId": "3f01efb2-eb7e-431c-b679-e30f8d6132ab"
      },
      "source": [
        "df"
      ],
      "execution_count": null,
      "outputs": [
        {
          "output_type": "execute_result",
          "data": {
            "text/html": [
              "<div>\n",
              "<style scoped>\n",
              "    .dataframe tbody tr th:only-of-type {\n",
              "        vertical-align: middle;\n",
              "    }\n",
              "\n",
              "    .dataframe tbody tr th {\n",
              "        vertical-align: top;\n",
              "    }\n",
              "\n",
              "    .dataframe thead th {\n",
              "        text-align: right;\n",
              "    }\n",
              "</style>\n",
              "<table border=\"1\" class=\"dataframe\">\n",
              "  <thead>\n",
              "    <tr style=\"text-align: right;\">\n",
              "      <th></th>\n",
              "      <th>Nombre</th>\n",
              "      <th>Cereal favorito</th>\n",
              "      <th>Hora del desayuno</th>\n",
              "      <th>Fruta con la que acompaña el cereal</th>\n",
              "    </tr>\n",
              "  </thead>\n",
              "  <tbody>\n",
              "    <tr>\n",
              "      <th>0</th>\n",
              "      <td>Pepinillo Hernández</td>\n",
              "      <td>Korn Floks</td>\n",
              "      <td>11:00</td>\n",
              "      <td>Pera</td>\n",
              "    </tr>\n",
              "    <tr>\n",
              "      <th>1</th>\n",
              "      <td>Lúpulo de Dios</td>\n",
              "      <td>Verdurinis</td>\n",
              "      <td>07:30</td>\n",
              "      <td>Manzana</td>\n",
              "    </tr>\n",
              "    <tr>\n",
              "      <th>2</th>\n",
              "      <td>Juan Juon</td>\n",
              "      <td>Zumbaritas</td>\n",
              "      <td>07:00</td>\n",
              "      <td>Plátano</td>\n",
              "    </tr>\n",
              "    <tr>\n",
              "      <th>3</th>\n",
              "      <td>Jimmy el Patatas</td>\n",
              "      <td>Diabetukis, Papá</td>\n",
              "      <td>08:30</td>\n",
              "      <td>Guayaba</td>\n",
              "    </tr>\n",
              "    <tr>\n",
              "      <th>4</th>\n",
              "      <td>Lorenzo Retaguardias</td>\n",
              "      <td>Fibra Máxima 3000</td>\n",
              "      <td>09:30</td>\n",
              "      <td>Pizza</td>\n",
              "    </tr>\n",
              "  </tbody>\n",
              "</table>\n",
              "</div>"
            ],
            "text/plain": [
              "                 Nombre  ... Fruta con la que acompaña el cereal\n",
              "0   Pepinillo Hernández  ...                                Pera\n",
              "1        Lúpulo de Dios  ...                             Manzana\n",
              "2             Juan Juon  ...                             Plátano\n",
              "3      Jimmy el Patatas  ...                             Guayaba\n",
              "4  Lorenzo Retaguardias  ...                               Pizza\n",
              "\n",
              "[5 rows x 4 columns]"
            ]
          },
          "metadata": {
            "tags": []
          },
          "execution_count": 70
        }
      ]
    },
    {
      "cell_type": "code",
      "metadata": {
        "id": "rBjCWCHhKhza"
      },
      "source": [
        "df[\"Hora del desayuno\"] = pd.Series([\"11:30\", \"09:00\", \"03:00\", \"08:00\", \"10:00\"])"
      ],
      "execution_count": null,
      "outputs": []
    },
    {
      "cell_type": "code",
      "metadata": {
        "colab": {
          "base_uri": "https://localhost:8080/",
          "height": 206
        },
        "id": "ZPng6BdlLJj-",
        "outputId": "0c7e1245-48f6-4ad0-b613-0a7b9efcbe63"
      },
      "source": [
        "df"
      ],
      "execution_count": null,
      "outputs": [
        {
          "output_type": "execute_result",
          "data": {
            "text/html": [
              "<div>\n",
              "<style scoped>\n",
              "    .dataframe tbody tr th:only-of-type {\n",
              "        vertical-align: middle;\n",
              "    }\n",
              "\n",
              "    .dataframe tbody tr th {\n",
              "        vertical-align: top;\n",
              "    }\n",
              "\n",
              "    .dataframe thead th {\n",
              "        text-align: right;\n",
              "    }\n",
              "</style>\n",
              "<table border=\"1\" class=\"dataframe\">\n",
              "  <thead>\n",
              "    <tr style=\"text-align: right;\">\n",
              "      <th></th>\n",
              "      <th>Nombre</th>\n",
              "      <th>Cereal favorito</th>\n",
              "      <th>Hora del desayuno</th>\n",
              "      <th>Fruta con la que acompaña el cereal</th>\n",
              "    </tr>\n",
              "  </thead>\n",
              "  <tbody>\n",
              "    <tr>\n",
              "      <th>0</th>\n",
              "      <td>Pepinillo Hernández</td>\n",
              "      <td>Korn Floks</td>\n",
              "      <td>11:30</td>\n",
              "      <td>Pera</td>\n",
              "    </tr>\n",
              "    <tr>\n",
              "      <th>1</th>\n",
              "      <td>Lúpulo de Dios</td>\n",
              "      <td>Verdurinis</td>\n",
              "      <td>09:00</td>\n",
              "      <td>Manzana</td>\n",
              "    </tr>\n",
              "    <tr>\n",
              "      <th>2</th>\n",
              "      <td>Juan Juon</td>\n",
              "      <td>Zumbaritas</td>\n",
              "      <td>03:00</td>\n",
              "      <td>Plátano</td>\n",
              "    </tr>\n",
              "    <tr>\n",
              "      <th>3</th>\n",
              "      <td>Jimmy el Patatas</td>\n",
              "      <td>Diabetukis, Papá</td>\n",
              "      <td>08:00</td>\n",
              "      <td>Guayaba</td>\n",
              "    </tr>\n",
              "    <tr>\n",
              "      <th>4</th>\n",
              "      <td>Lorenzo Retaguardias</td>\n",
              "      <td>Fibra Máxima 3000</td>\n",
              "      <td>10:00</td>\n",
              "      <td>Pizza</td>\n",
              "    </tr>\n",
              "  </tbody>\n",
              "</table>\n",
              "</div>"
            ],
            "text/plain": [
              "                 Nombre  ... Fruta con la que acompaña el cereal\n",
              "0   Pepinillo Hernández  ...                                Pera\n",
              "1        Lúpulo de Dios  ...                             Manzana\n",
              "2             Juan Juon  ...                             Plátano\n",
              "3      Jimmy el Patatas  ...                             Guayaba\n",
              "4  Lorenzo Retaguardias  ...                               Pizza\n",
              "\n",
              "[5 rows x 4 columns]"
            ]
          },
          "metadata": {
            "tags": []
          },
          "execution_count": 72
        }
      ]
    },
    {
      "cell_type": "code",
      "metadata": {
        "id": "XGsvx8_BLKBz"
      },
      "source": [
        "#Quitando una columna, regresa un nuevo dataframe, no se muta\n",
        "df_dropped  = df.drop(columns = [\"Fruta con la que acompaña el cereal\"])"
      ],
      "execution_count": null,
      "outputs": []
    },
    {
      "cell_type": "code",
      "metadata": {
        "colab": {
          "base_uri": "https://localhost:8080/",
          "height": 206
        },
        "id": "Wlm-sNOzLPqi",
        "outputId": "a699d1d7-e373-41d6-cb1c-21c98b1fe4ff"
      },
      "source": [
        "df"
      ],
      "execution_count": null,
      "outputs": [
        {
          "output_type": "execute_result",
          "data": {
            "text/html": [
              "<div>\n",
              "<style scoped>\n",
              "    .dataframe tbody tr th:only-of-type {\n",
              "        vertical-align: middle;\n",
              "    }\n",
              "\n",
              "    .dataframe tbody tr th {\n",
              "        vertical-align: top;\n",
              "    }\n",
              "\n",
              "    .dataframe thead th {\n",
              "        text-align: right;\n",
              "    }\n",
              "</style>\n",
              "<table border=\"1\" class=\"dataframe\">\n",
              "  <thead>\n",
              "    <tr style=\"text-align: right;\">\n",
              "      <th></th>\n",
              "      <th>Nombre</th>\n",
              "      <th>Cereal favorito</th>\n",
              "      <th>Hora del desayuno</th>\n",
              "      <th>Fruta con la que acompaña el cereal</th>\n",
              "    </tr>\n",
              "  </thead>\n",
              "  <tbody>\n",
              "    <tr>\n",
              "      <th>0</th>\n",
              "      <td>Pepinillo Hernández</td>\n",
              "      <td>Korn Floks</td>\n",
              "      <td>11:30</td>\n",
              "      <td>Pera</td>\n",
              "    </tr>\n",
              "    <tr>\n",
              "      <th>1</th>\n",
              "      <td>Lúpulo de Dios</td>\n",
              "      <td>Verdurinis</td>\n",
              "      <td>09:00</td>\n",
              "      <td>Manzana</td>\n",
              "    </tr>\n",
              "    <tr>\n",
              "      <th>2</th>\n",
              "      <td>Juan Juon</td>\n",
              "      <td>Zumbaritas</td>\n",
              "      <td>03:00</td>\n",
              "      <td>Plátano</td>\n",
              "    </tr>\n",
              "    <tr>\n",
              "      <th>3</th>\n",
              "      <td>Jimmy el Patatas</td>\n",
              "      <td>Diabetukis, Papá</td>\n",
              "      <td>08:00</td>\n",
              "      <td>Guayaba</td>\n",
              "    </tr>\n",
              "    <tr>\n",
              "      <th>4</th>\n",
              "      <td>Lorenzo Retaguardias</td>\n",
              "      <td>Fibra Máxima 3000</td>\n",
              "      <td>10:00</td>\n",
              "      <td>Pizza</td>\n",
              "    </tr>\n",
              "  </tbody>\n",
              "</table>\n",
              "</div>"
            ],
            "text/plain": [
              "                 Nombre  ... Fruta con la que acompaña el cereal\n",
              "0   Pepinillo Hernández  ...                                Pera\n",
              "1        Lúpulo de Dios  ...                             Manzana\n",
              "2             Juan Juon  ...                             Plátano\n",
              "3      Jimmy el Patatas  ...                             Guayaba\n",
              "4  Lorenzo Retaguardias  ...                               Pizza\n",
              "\n",
              "[5 rows x 4 columns]"
            ]
          },
          "metadata": {
            "tags": []
          },
          "execution_count": 76
        }
      ]
    },
    {
      "cell_type": "markdown",
      "metadata": {
        "id": "hW-NHmEvQKTg"
      },
      "source": [
        "# JSON"
      ]
    },
    {
      "cell_type": "code",
      "metadata": {
        "id": "K1DkXO7fLbvG"
      },
      "source": [
        "import json"
      ],
      "execution_count": null,
      "outputs": []
    },
    {
      "cell_type": "code",
      "metadata": {
        "id": "_6x-aaRpQc3Z"
      },
      "source": [
        "#De vincular el drive de data sets\n",
        "f = open(\"/content/drive/MyDrive/Datasets/zomato_reviews-clean.json\", \"r\")"
      ],
      "execution_count": null,
      "outputs": []
    },
    {
      "cell_type": "code",
      "metadata": {
        "id": "Alan-eMSQ516"
      },
      "source": [
        "json_data = json.load(f)"
      ],
      "execution_count": null,
      "outputs": []
    },
    {
      "cell_type": "code",
      "metadata": {
        "id": "JBUh0qcfQ_-b"
      },
      "source": [
        "f.close()"
      ],
      "execution_count": null,
      "outputs": []
    },
    {
      "cell_type": "code",
      "metadata": {
        "id": "f3u8yRPNRFJZ"
      },
      "source": [
        "df = pd.DataFrame.from_dict(json_data)"
      ],
      "execution_count": null,
      "outputs": []
    },
    {
      "cell_type": "code",
      "metadata": {
        "colab": {
          "base_uri": "https://localhost:8080/",
          "height": 1000
        },
        "id": "y2_Ipo2ARO6t",
        "outputId": "b75c94ff-5286-4fb5-dd38-6c0c3a4490a4"
      },
      "source": [
        "df"
      ],
      "execution_count": null,
      "outputs": [
        {
          "output_type": "execute_result",
          "data": {
            "text/html": [
              "<div>\n",
              "<style scoped>\n",
              "    .dataframe tbody tr th:only-of-type {\n",
              "        vertical-align: middle;\n",
              "    }\n",
              "\n",
              "    .dataframe tbody tr th {\n",
              "        vertical-align: top;\n",
              "    }\n",
              "\n",
              "    .dataframe thead th {\n",
              "        text-align: right;\n",
              "    }\n",
              "</style>\n",
              "<table border=\"1\" class=\"dataframe\">\n",
              "  <thead>\n",
              "    <tr style=\"text-align: right;\">\n",
              "      <th></th>\n",
              "      <th>has_online_delivery</th>\n",
              "      <th>price_range</th>\n",
              "      <th>currency</th>\n",
              "      <th>name</th>\n",
              "      <th>cuisines</th>\n",
              "      <th>location.address</th>\n",
              "      <th>location.city</th>\n",
              "      <th>user_rating.rating_text</th>\n",
              "    </tr>\n",
              "  </thead>\n",
              "  <tbody>\n",
              "    <tr>\n",
              "      <th>0</th>\n",
              "      <td>1</td>\n",
              "      <td>3</td>\n",
              "      <td>Rs.</td>\n",
              "      <td>Hauz Khas Social</td>\n",
              "      <td>Continental, American, Asian, North Indian</td>\n",
              "      <td>9-A &amp; 12, Hauz Khas Village, New Delhi</td>\n",
              "      <td>New Delhi</td>\n",
              "      <td>Very Good</td>\n",
              "    </tr>\n",
              "    <tr>\n",
              "      <th>1</th>\n",
              "      <td>0</td>\n",
              "      <td>3</td>\n",
              "      <td>Rs.</td>\n",
              "      <td>Qubitos - The Terrace Cafe</td>\n",
              "      <td>Thai, European, Mexican, North Indian, Chinese...</td>\n",
              "      <td>C-7, Vishal Enclave, Opposite Metro Pillar 417...</td>\n",
              "      <td>New Delhi</td>\n",
              "      <td>Excellent</td>\n",
              "    </tr>\n",
              "    <tr>\n",
              "      <th>2</th>\n",
              "      <td>1</td>\n",
              "      <td>2</td>\n",
              "      <td>Rs.</td>\n",
              "      <td>The Hudson Cafe</td>\n",
              "      <td>Cafe, Italian, Continental, Chinese</td>\n",
              "      <td>2524, 1st Floor, Hudson Lane, Delhi University...</td>\n",
              "      <td>New Delhi</td>\n",
              "      <td>Very Good</td>\n",
              "    </tr>\n",
              "    <tr>\n",
              "      <th>3</th>\n",
              "      <td>0</td>\n",
              "      <td>3</td>\n",
              "      <td>Rs.</td>\n",
              "      <td>Summer House Cafe</td>\n",
              "      <td>Italian, Continental</td>\n",
              "      <td>1st Floor, DDA Shopping Complex, Aurobindo Pla...</td>\n",
              "      <td>New Delhi</td>\n",
              "      <td>Very Good</td>\n",
              "    </tr>\n",
              "    <tr>\n",
              "      <th>4</th>\n",
              "      <td>0</td>\n",
              "      <td>3</td>\n",
              "      <td>Rs.</td>\n",
              "      <td>38 Barracks</td>\n",
              "      <td>North Indian, Italian, Asian, American</td>\n",
              "      <td>M-38, Outer Circle, Connaught Place, New Delhi</td>\n",
              "      <td>New Delhi</td>\n",
              "      <td>Very Good</td>\n",
              "    </tr>\n",
              "    <tr>\n",
              "      <th>...</th>\n",
              "      <td>...</td>\n",
              "      <td>...</td>\n",
              "      <td>...</td>\n",
              "      <td>...</td>\n",
              "      <td>...</td>\n",
              "      <td>...</td>\n",
              "      <td>...</td>\n",
              "      <td>...</td>\n",
              "    </tr>\n",
              "    <tr>\n",
              "      <th>1175</th>\n",
              "      <td>0</td>\n",
              "      <td>3</td>\n",
              "      <td>£</td>\n",
              "      <td>The Boozy Cow</td>\n",
              "      <td>Burger, Grill</td>\n",
              "      <td>17 Frederick Street, New Town, Edinburgh EH2 2EY</td>\n",
              "      <td>Edinburgh</td>\n",
              "      <td>Very Good</td>\n",
              "    </tr>\n",
              "    <tr>\n",
              "      <th>1176</th>\n",
              "      <td>0</td>\n",
              "      <td>3</td>\n",
              "      <td>£</td>\n",
              "      <td>La Favorita</td>\n",
              "      <td>Italian</td>\n",
              "      <td>325-331 Leith Walk, Leith, Edinburgh EH6 8SA</td>\n",
              "      <td>Edinburgh</td>\n",
              "      <td>Excellent</td>\n",
              "    </tr>\n",
              "    <tr>\n",
              "      <th>1177</th>\n",
              "      <td>0</td>\n",
              "      <td>3</td>\n",
              "      <td>£</td>\n",
              "      <td>Roseleaf Bar Cafe</td>\n",
              "      <td>Scottish, Cafe</td>\n",
              "      <td>23-24 Sandport Place, Leith, Edinburgh EH6 6EW</td>\n",
              "      <td>Edinburgh</td>\n",
              "      <td>Excellent</td>\n",
              "    </tr>\n",
              "    <tr>\n",
              "      <th>1178</th>\n",
              "      <td>0</td>\n",
              "      <td>3</td>\n",
              "      <td>£</td>\n",
              "      <td>Civerinos</td>\n",
              "      <td>Pizza, Italian</td>\n",
              "      <td>5 Hunter Square, Royal Mile, Old Town, Edinbur...</td>\n",
              "      <td>Edinburgh</td>\n",
              "      <td>Good</td>\n",
              "    </tr>\n",
              "    <tr>\n",
              "      <th>1179</th>\n",
              "      <td>0</td>\n",
              "      <td>3</td>\n",
              "      <td>£</td>\n",
              "      <td>The Hanging Bat</td>\n",
              "      <td>American</td>\n",
              "      <td>133 Lothian Road, Old Town, Edinburgh EH3 9AD</td>\n",
              "      <td>Edinburgh</td>\n",
              "      <td>Good</td>\n",
              "    </tr>\n",
              "  </tbody>\n",
              "</table>\n",
              "<p>1180 rows × 8 columns</p>\n",
              "</div>"
            ],
            "text/plain": [
              "      has_online_delivery  price_range  ... location.city user_rating.rating_text\n",
              "0                       1            3  ...     New Delhi               Very Good\n",
              "1                       0            3  ...     New Delhi               Excellent\n",
              "2                       1            2  ...     New Delhi               Very Good\n",
              "3                       0            3  ...     New Delhi               Very Good\n",
              "4                       0            3  ...     New Delhi               Very Good\n",
              "...                   ...          ...  ...           ...                     ...\n",
              "1175                    0            3  ...     Edinburgh               Very Good\n",
              "1176                    0            3  ...     Edinburgh               Excellent\n",
              "1177                    0            3  ...     Edinburgh               Excellent\n",
              "1178                    0            3  ...     Edinburgh                    Good\n",
              "1179                    0            3  ...     Edinburgh                    Good\n",
              "\n",
              "[1180 rows x 8 columns]"
            ]
          },
          "metadata": {
            "tags": []
          },
          "execution_count": 82
        }
      ]
    },
    {
      "cell_type": "code",
      "metadata": {
        "colab": {
          "base_uri": "https://localhost:8080/"
        },
        "id": "wcBlp-7sTxMD",
        "outputId": "200b2a2f-89bb-4585-de1f-2fae2f2dc9e2"
      },
      "source": [
        "df.shape"
      ],
      "execution_count": null,
      "outputs": [
        {
          "output_type": "execute_result",
          "data": {
            "text/plain": [
              "(1180, 8)"
            ]
          },
          "metadata": {
            "tags": []
          },
          "execution_count": 91
        }
      ]
    },
    {
      "cell_type": "code",
      "metadata": {
        "colab": {
          "base_uri": "https://localhost:8080/",
          "height": 556
        },
        "id": "GgyiPK9SRdG8",
        "outputId": "c8b3b2ab-16c1-49bc-b68c-163c497021a9"
      },
      "source": [
        "df.head(5)"
      ],
      "execution_count": null,
      "outputs": [
        {
          "output_type": "execute_result",
          "data": {
            "text/html": [
              "<div>\n",
              "<style scoped>\n",
              "    .dataframe tbody tr th:only-of-type {\n",
              "        vertical-align: middle;\n",
              "    }\n",
              "\n",
              "    .dataframe tbody tr th {\n",
              "        vertical-align: top;\n",
              "    }\n",
              "\n",
              "    .dataframe thead th {\n",
              "        text-align: right;\n",
              "    }\n",
              "</style>\n",
              "<table border=\"1\" class=\"dataframe\">\n",
              "  <thead>\n",
              "    <tr style=\"text-align: right;\">\n",
              "      <th></th>\n",
              "      <th>has_online_delivery</th>\n",
              "      <th>price_range</th>\n",
              "      <th>currency</th>\n",
              "      <th>name</th>\n",
              "      <th>cuisines</th>\n",
              "      <th>location.address</th>\n",
              "      <th>location.city</th>\n",
              "      <th>user_rating.rating_text</th>\n",
              "    </tr>\n",
              "  </thead>\n",
              "  <tbody>\n",
              "    <tr>\n",
              "      <th>0</th>\n",
              "      <td>1</td>\n",
              "      <td>3</td>\n",
              "      <td>Rs.</td>\n",
              "      <td>Hauz Khas Social</td>\n",
              "      <td>Continental, American, Asian, North Indian</td>\n",
              "      <td>9-A &amp; 12, Hauz Khas Village, New Delhi</td>\n",
              "      <td>New Delhi</td>\n",
              "      <td>Very Good</td>\n",
              "    </tr>\n",
              "    <tr>\n",
              "      <th>1</th>\n",
              "      <td>0</td>\n",
              "      <td>3</td>\n",
              "      <td>Rs.</td>\n",
              "      <td>Qubitos - The Terrace Cafe</td>\n",
              "      <td>Thai, European, Mexican, North Indian, Chinese...</td>\n",
              "      <td>C-7, Vishal Enclave, Opposite Metro Pillar 417...</td>\n",
              "      <td>New Delhi</td>\n",
              "      <td>Excellent</td>\n",
              "    </tr>\n",
              "    <tr>\n",
              "      <th>2</th>\n",
              "      <td>1</td>\n",
              "      <td>2</td>\n",
              "      <td>Rs.</td>\n",
              "      <td>The Hudson Cafe</td>\n",
              "      <td>Cafe, Italian, Continental, Chinese</td>\n",
              "      <td>2524, 1st Floor, Hudson Lane, Delhi University...</td>\n",
              "      <td>New Delhi</td>\n",
              "      <td>Very Good</td>\n",
              "    </tr>\n",
              "    <tr>\n",
              "      <th>3</th>\n",
              "      <td>0</td>\n",
              "      <td>3</td>\n",
              "      <td>Rs.</td>\n",
              "      <td>Summer House Cafe</td>\n",
              "      <td>Italian, Continental</td>\n",
              "      <td>1st Floor, DDA Shopping Complex, Aurobindo Pla...</td>\n",
              "      <td>New Delhi</td>\n",
              "      <td>Very Good</td>\n",
              "    </tr>\n",
              "    <tr>\n",
              "      <th>4</th>\n",
              "      <td>0</td>\n",
              "      <td>3</td>\n",
              "      <td>Rs.</td>\n",
              "      <td>38 Barracks</td>\n",
              "      <td>North Indian, Italian, Asian, American</td>\n",
              "      <td>M-38, Outer Circle, Connaught Place, New Delhi</td>\n",
              "      <td>New Delhi</td>\n",
              "      <td>Very Good</td>\n",
              "    </tr>\n",
              "  </tbody>\n",
              "</table>\n",
              "</div>"
            ],
            "text/plain": [
              "   has_online_delivery  price_range  ... location.city user_rating.rating_text\n",
              "0                    1            3  ...     New Delhi               Very Good\n",
              "1                    0            3  ...     New Delhi               Excellent\n",
              "2                    1            2  ...     New Delhi               Very Good\n",
              "3                    0            3  ...     New Delhi               Very Good\n",
              "4                    0            3  ...     New Delhi               Very Good\n",
              "\n",
              "[5 rows x 8 columns]"
            ]
          },
          "metadata": {
            "tags": []
          },
          "execution_count": 83
        }
      ]
    },
    {
      "cell_type": "code",
      "metadata": {
        "colab": {
          "base_uri": "https://localhost:8080/",
          "height": 386
        },
        "id": "d3d6u3fRRfrv",
        "outputId": "62c65dfe-2445-44b1-a0ff-52c400240696"
      },
      "source": [
        "df.tail(4)"
      ],
      "execution_count": null,
      "outputs": [
        {
          "output_type": "execute_result",
          "data": {
            "text/html": [
              "<div>\n",
              "<style scoped>\n",
              "    .dataframe tbody tr th:only-of-type {\n",
              "        vertical-align: middle;\n",
              "    }\n",
              "\n",
              "    .dataframe tbody tr th {\n",
              "        vertical-align: top;\n",
              "    }\n",
              "\n",
              "    .dataframe thead th {\n",
              "        text-align: right;\n",
              "    }\n",
              "</style>\n",
              "<table border=\"1\" class=\"dataframe\">\n",
              "  <thead>\n",
              "    <tr style=\"text-align: right;\">\n",
              "      <th></th>\n",
              "      <th>has_online_delivery</th>\n",
              "      <th>price_range</th>\n",
              "      <th>currency</th>\n",
              "      <th>name</th>\n",
              "      <th>cuisines</th>\n",
              "      <th>location.address</th>\n",
              "      <th>location.city</th>\n",
              "      <th>user_rating.rating_text</th>\n",
              "    </tr>\n",
              "  </thead>\n",
              "  <tbody>\n",
              "    <tr>\n",
              "      <th>1176</th>\n",
              "      <td>0</td>\n",
              "      <td>3</td>\n",
              "      <td>£</td>\n",
              "      <td>La Favorita</td>\n",
              "      <td>Italian</td>\n",
              "      <td>325-331 Leith Walk, Leith, Edinburgh EH6 8SA</td>\n",
              "      <td>Edinburgh</td>\n",
              "      <td>Excellent</td>\n",
              "    </tr>\n",
              "    <tr>\n",
              "      <th>1177</th>\n",
              "      <td>0</td>\n",
              "      <td>3</td>\n",
              "      <td>£</td>\n",
              "      <td>Roseleaf Bar Cafe</td>\n",
              "      <td>Scottish, Cafe</td>\n",
              "      <td>23-24 Sandport Place, Leith, Edinburgh EH6 6EW</td>\n",
              "      <td>Edinburgh</td>\n",
              "      <td>Excellent</td>\n",
              "    </tr>\n",
              "    <tr>\n",
              "      <th>1178</th>\n",
              "      <td>0</td>\n",
              "      <td>3</td>\n",
              "      <td>£</td>\n",
              "      <td>Civerinos</td>\n",
              "      <td>Pizza, Italian</td>\n",
              "      <td>5 Hunter Square, Royal Mile, Old Town, Edinbur...</td>\n",
              "      <td>Edinburgh</td>\n",
              "      <td>Good</td>\n",
              "    </tr>\n",
              "    <tr>\n",
              "      <th>1179</th>\n",
              "      <td>0</td>\n",
              "      <td>3</td>\n",
              "      <td>£</td>\n",
              "      <td>The Hanging Bat</td>\n",
              "      <td>American</td>\n",
              "      <td>133 Lothian Road, Old Town, Edinburgh EH3 9AD</td>\n",
              "      <td>Edinburgh</td>\n",
              "      <td>Good</td>\n",
              "    </tr>\n",
              "  </tbody>\n",
              "</table>\n",
              "</div>"
            ],
            "text/plain": [
              "      has_online_delivery  price_range  ... location.city user_rating.rating_text\n",
              "1176                    0            3  ...     Edinburgh               Excellent\n",
              "1177                    0            3  ...     Edinburgh               Excellent\n",
              "1178                    0            3  ...     Edinburgh                    Good\n",
              "1179                    0            3  ...     Edinburgh                    Good\n",
              "\n",
              "[4 rows x 8 columns]"
            ]
          },
          "metadata": {
            "tags": []
          },
          "execution_count": 84
        }
      ]
    },
    {
      "cell_type": "code",
      "metadata": {
        "colab": {
          "base_uri": "https://localhost:8080/"
        },
        "id": "GDwTvoWORhh7",
        "outputId": "2cb039de-b600-404a-a55b-f0f2df4233db"
      },
      "source": [
        "df.dtypes"
      ],
      "execution_count": null,
      "outputs": [
        {
          "output_type": "execute_result",
          "data": {
            "text/plain": [
              "has_online_delivery         int64\n",
              "price_range                 int64\n",
              "currency                   object\n",
              "name                       object\n",
              "cuisines                   object\n",
              "location.address           object\n",
              "location.city              object\n",
              "user_rating.rating_text    object\n",
              "dtype: object"
            ]
          },
          "metadata": {
            "tags": []
          },
          "execution_count": 86
        }
      ]
    },
    {
      "cell_type": "code",
      "metadata": {
        "colab": {
          "base_uri": "https://localhost:8080/"
        },
        "id": "MnOLrnwdRpyf",
        "outputId": "bf594423-eae6-4085-ef10-b8888e83123b"
      },
      "source": [
        "df.info()"
      ],
      "execution_count": null,
      "outputs": [
        {
          "output_type": "stream",
          "text": [
            "<class 'pandas.core.frame.DataFrame'>\n",
            "Index: 1180 entries, 0 to 1179\n",
            "Data columns (total 8 columns):\n",
            " #   Column                   Non-Null Count  Dtype \n",
            "---  ------                   --------------  ----- \n",
            " 0   has_online_delivery      1180 non-null   int64 \n",
            " 1   price_range              1180 non-null   int64 \n",
            " 2   currency                 1180 non-null   object\n",
            " 3   name                     1180 non-null   object\n",
            " 4   cuisines                 1180 non-null   object\n",
            " 5   location.address         1180 non-null   object\n",
            " 6   location.city            1180 non-null   object\n",
            " 7   user_rating.rating_text  1180 non-null   object\n",
            "dtypes: int64(2), object(6)\n",
            "memory usage: 123.0+ KB\n"
          ],
          "name": "stdout"
        }
      ]
    },
    {
      "cell_type": "code",
      "metadata": {
        "colab": {
          "base_uri": "https://localhost:8080/"
        },
        "id": "bOAK5UEERwu-",
        "outputId": "fafbafd4-fabb-4ff4-9d50-151169fac3dc"
      },
      "source": [
        "df.columns"
      ],
      "execution_count": null,
      "outputs": [
        {
          "output_type": "execute_result",
          "data": {
            "text/plain": [
              "Index(['has_online_delivery', 'price_range', 'currency', 'name', 'cuisines',\n",
              "       'location.address', 'location.city', 'user_rating.rating_text'],\n",
              "      dtype='object')"
            ]
          },
          "metadata": {
            "tags": []
          },
          "execution_count": 88
        }
      ]
    },
    {
      "cell_type": "code",
      "metadata": {
        "id": "nFxtkMlJSNfx"
      },
      "source": [
        ""
      ],
      "execution_count": null,
      "outputs": []
    }
  ]
}