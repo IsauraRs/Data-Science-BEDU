{
  "nbformat": 4,
  "nbformat_minor": 0,
  "metadata": {
    "colab": {
      "name": "Prework_S04.ipynb",
      "provenance": [],
      "collapsed_sections": []
    },
    "kernelspec": {
      "name": "python3",
      "display_name": "Python 3"
    }
  },
  "cells": [
    {
      "cell_type": "code",
      "metadata": {
        "id": "g-Nntv4vGdUS"
      },
      "source": [
        ""
      ],
      "execution_count": null,
      "outputs": []
    },
    {
      "cell_type": "markdown",
      "metadata": {
        "id": "FjPk5nZfGgTa"
      },
      "source": [
        "# Programación funcional"
      ]
    },
    {
      "cell_type": "markdown",
      "metadata": {
        "id": "uvT5LPc-GlBX"
      },
      "source": [
        "## Función map"
      ]
    },
    {
      "cell_type": "code",
      "metadata": {
        "id": "aOhHAYr5GjLN"
      },
      "source": [
        "numeros = [1, 2, 3, 4, 5, 6, 7, 8, 9]"
      ],
      "execution_count": null,
      "outputs": []
    },
    {
      "cell_type": "code",
      "metadata": {
        "colab": {
          "base_uri": "https://localhost:8080/"
        },
        "id": "aZtFx-2uGt81",
        "outputId": "e32d8f3f-64c6-4b42-c508-a52e799602a6"
      },
      "source": [
        "numeros_por_dos = [numeros[0] * 2,  numeros[1] * 2, numeros[2] * 2, numeros[3] * 2, \n",
        "                   numeros[4] * 2, numeros[5] * 2, numeros[6] * 2, numeros[7] * 2,\n",
        "                   numeros[8] * 2]\n",
        "\n",
        "numeros_por_dos"
      ],
      "execution_count": null,
      "outputs": [
        {
          "output_type": "execute_result",
          "data": {
            "text/plain": [
              "[2, 4, 6, 8, 10, 12, 14, 16, 18]"
            ]
          },
          "metadata": {
            "tags": []
          },
          "execution_count": 2
        }
      ]
    },
    {
      "cell_type": "code",
      "metadata": {
        "id": "8rmJAm1MJHAV"
      },
      "source": [
        "def multiplicar_por_dos(numero):\n",
        "\n",
        "  resultado = numero * 2\n",
        "  return resultado"
      ],
      "execution_count": null,
      "outputs": []
    },
    {
      "cell_type": "code",
      "metadata": {
        "colab": {
          "base_uri": "https://localhost:8080/"
        },
        "id": "mmbLuKBmO0q5",
        "outputId": "decc414c-3b45-465b-bec1-ff7bbf6b2c45"
      },
      "source": [
        "# Recibe una función  y la lista \n",
        "map(multiplicar_por_dos, numeros)"
      ],
      "execution_count": null,
      "outputs": [
        {
          "output_type": "execute_result",
          "data": {
            "text/plain": [
              "<map at 0x7ff39ad3e940>"
            ]
          },
          "metadata": {
            "tags": []
          },
          "execution_count": 5
        }
      ]
    },
    {
      "cell_type": "code",
      "metadata": {
        "colab": {
          "base_uri": "https://localhost:8080/"
        },
        "id": "3eqwJsgRRmqa",
        "outputId": "addcf3d4-f8d7-4fc6-8d47-b1f8cf863f68"
      },
      "source": [
        "list(map(multiplicar_por_dos, numeros))"
      ],
      "execution_count": null,
      "outputs": [
        {
          "output_type": "execute_result",
          "data": {
            "text/plain": [
              "[2, 4, 6, 8, 10, 12, 14, 16, 18]"
            ]
          },
          "metadata": {
            "tags": []
          },
          "execution_count": 6
        }
      ]
    },
    {
      "cell_type": "code",
      "metadata": {
        "colab": {
          "base_uri": "https://localhost:8080/"
        },
        "id": "0FdOqH-PVNBf",
        "outputId": "17ab675e-1c7c-4930-d259-5f76f5408c50"
      },
      "source": [
        "numeros_por_dos = list(map(multiplicar_por_dos, numeros))\n",
        "numeros_por_dos\n"
      ],
      "execution_count": null,
      "outputs": [
        {
          "output_type": "execute_result",
          "data": {
            "text/plain": [
              "[2, 4, 6, 8, 10, 12, 14, 16, 18]"
            ]
          },
          "metadata": {
            "tags": []
          },
          "execution_count": 7
        }
      ]
    },
    {
      "cell_type": "code",
      "metadata": {
        "id": "cbv83e2dV8UK"
      },
      "source": [
        "numeros = [1, 2, 3, 4, 5, 6, 7, 8, 9, 10, 11, 12, 13, 14, 15, 16, 17, 18, 19, 20]"
      ],
      "execution_count": null,
      "outputs": []
    },
    {
      "cell_type": "code",
      "metadata": {
        "colab": {
          "base_uri": "https://localhost:8080/"
        },
        "id": "bs5UjZUvV97r",
        "outputId": "987d49db-8f8a-4638-9d48-469a200a746f"
      },
      "source": [
        "numeros_por_dos = list(map(multiplicar_por_dos, numeros))\n",
        "numeros_por_dos"
      ],
      "execution_count": null,
      "outputs": [
        {
          "output_type": "execute_result",
          "data": {
            "text/plain": [
              "[2, 4, 6, 8, 10, 12, 14, 16, 18, 20, 22, 24, 26, 28, 30, 32, 34, 36, 38, 40]"
            ]
          },
          "metadata": {
            "tags": []
          },
          "execution_count": 10
        }
      ]
    },
    {
      "cell_type": "code",
      "metadata": {
        "id": "snQFeQvaWUoJ"
      },
      "source": [
        "def numero_es_par(numero):\n",
        "\n",
        "  if numero % 2 == 0:\n",
        "    return numero\n",
        "\n",
        "  else: \n",
        "    return 0"
      ],
      "execution_count": null,
      "outputs": []
    },
    {
      "cell_type": "code",
      "metadata": {
        "id": "auczbJ5sb7n6"
      },
      "source": [
        "numeros = [6, 78, 3,]"
      ],
      "execution_count": null,
      "outputs": []
    },
    {
      "cell_type": "code",
      "metadata": {
        "colab": {
          "base_uri": "https://localhost:8080/",
          "height": 133
        },
        "id": "LLaRsagGc4LH",
        "outputId": "b8b0171a-bd4d-4da0-a973-5a3d44efd5cc"
      },
      "source": [
        "list(filter(numero_es_par)))"
      ],
      "execution_count": null,
      "outputs": [
        {
          "output_type": "error",
          "ename": "SyntaxError",
          "evalue": "ignored",
          "traceback": [
            "\u001b[0;36m  File \u001b[0;32m\"<ipython-input-4-7c5514562dab>\"\u001b[0;36m, line \u001b[0;32m1\u001b[0m\n\u001b[0;31m    list(filter(numero_es_par)))\u001b[0m\n\u001b[0m                               ^\u001b[0m\n\u001b[0;31mSyntaxError\u001b[0m\u001b[0;31m:\u001b[0m invalid syntax\n"
          ]
        }
      ]
    },
    {
      "cell_type": "code",
      "metadata": {
        "id": "gHieAJFp97DC"
      },
      "source": [
        ""
      ],
      "execution_count": null,
      "outputs": []
    }
  ]
}