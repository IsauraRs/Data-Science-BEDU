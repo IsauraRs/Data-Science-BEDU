{
  "nbformat": 4,
  "nbformat_minor": 0,
  "metadata": {
    "kernelspec": {
      "display_name": "Python 3",
      "language": "python",
      "name": "python3"
    },
    "language_info": {
      "codemirror_mode": {
        "name": "ipython",
        "version": 3
      },
      "file_extension": ".py",
      "mimetype": "text/x-python",
      "name": "python",
      "nbconvert_exporter": "python",
      "pygments_lexer": "ipython3",
      "version": "3.8.3"
    },
    "colab": {
      "name": "Reto5_S04.ipynb",
      "provenance": [],
      "collapsed_sections": [],
      "include_colab_link": true
    }
  },
  "cells": [
    {
      "cell_type": "markdown",
      "metadata": {
        "id": "view-in-github",
        "colab_type": "text"
      },
      "source": [
        "<a href=\"https://colab.research.google.com/github/IsauraRs/Data-Science-BEDU/blob/master/M%C3%B3dulo2/Python/Sesi%C3%B3n4/Reto5_S04.ipynb\" target=\"_parent\"><img src=\"https://colab.research.google.com/assets/colab-badge.svg\" alt=\"Open In Colab\"/></a>"
      ]
    },
    {
      "cell_type": "markdown",
      "metadata": {
        "id": "aW9GC8bhScPb"
      },
      "source": [
        "## Reto 5: Análisis Exploratorio de Datos\n",
        "\n",
        "### 1. Objetivos:\n",
        "    - Practicar leer archivos JSON usando pandas\n",
        "    - Practicar hacerse preguntas acerca de los conjuntos de datos que tenemos\n",
        " \n",
        "---\n",
        "    \n",
        "### 2. Desarrollo:"
      ]
    },
    {
      "cell_type": "code",
      "metadata": {
        "id": "yb8cBlxMSiWb",
        "colab": {
          "base_uri": "https://localhost:8080/"
        },
        "outputId": "3bd59f45-9da2-4a7f-e823-53906645b530"
      },
      "source": [
        "from google.colab import drive\n",
        "drive.mount('/content/drive')"
      ],
      "execution_count": null,
      "outputs": [
        {
          "output_type": "stream",
          "text": [
            "Drive already mounted at /content/drive; to attempt to forcibly remount, call drive.mount(\"/content/drive\", force_remount=True).\n"
          ],
          "name": "stdout"
        }
      ]
    },
    {
      "cell_type": "markdown",
      "metadata": {
        "id": "1grPxlVTScPe"
      },
      "source": [
        "Vamos a practicar explorar conjuntos de datos y hacernos preguntas acerca de ellos.\n",
        "\n",
        "Tenemos un conjunto de datos en formato JSON almacenado en '../../Datasets/new_york_times_bestsellers-clean.json' (en la carpeta /Datasets en el directorio raíz del módulo).\n",
        "\n",
        "Primero que nada, lee el archivo JSON y crea un `DataFrame` con él:"
      ]
    },
    {
      "cell_type": "code",
      "metadata": {
        "id": "qr-xCvrGScPf"
      },
      "source": [
        "## Realiza aquí los imports que necesites\n",
        "import json\n",
        "import pandas as pd\n",
        "## Lee aquí tu archivo JSON\n",
        "g =  open(\"/content/drive/MyDrive/Datasets/new_york_times_bestsellers-clean.json\", \"r\")\n",
        "json_data = json.load(g)\n",
        "g.close()\n",
        "## Crea aquí tu DataFrame\n",
        "df = pd.DataFrame.from_dict(json_data)"
      ],
      "execution_count": null,
      "outputs": []
    },
    {
      "cell_type": "markdown",
      "metadata": {
        "id": "TJ8FOs7TScPg"
      },
      "source": [
        "Ahora, usando todas las herramientas que hemos aprendido en esta sesión (indexación de filas y columnas, `shape`, `dtypes`, `head`, `tail`, `columns`, `info`, etc) explora tu dataset y debate con el experto y tus compañeros las siguientes preguntas:\n",
        "\n",
        "1. ¿Qué podemos saber de este dataset con tan sólo leer el nombre del archivo y los nombres de las columnas?\n",
        "2. ¿Cuál es el tamaño (forma) de nuestro DataFrame? ¿Podríamos considerarlo un dataset grande o pequeño?\n",
        "3. ¿Crees que los nombres de las columnas son suficientemente descriptivos? ¿Podrían ser más claros o limpios?\n",
        "4. ¿Qué tipos de datos tenemos?\n",
        "5. ¿Qué significa el formato en el que tenemos las fechas?\n",
        "6. ¿Qué tipo de preguntas podríamos responder usando los datos numéricos de este dataset?\n",
        "7. ¿Qué tipo de preguntas podríamos responder usando los datos no-numéricos? "
      ]
    },
    {
      "cell_type": "code",
      "metadata": {
        "id": "8jW4SWqrScPh",
        "colab": {
          "base_uri": "https://localhost:8080/"
        },
        "outputId": "a55d4dcf-48f3-4635-c217-44531c59616d"
      },
      "source": [
        "df.shape"
      ],
      "execution_count": null,
      "outputs": [
        {
          "output_type": "execute_result",
          "data": {
            "text/plain": [
              "(3033, 12)"
            ]
          },
          "metadata": {
            "tags": []
          },
          "execution_count": 2
        }
      ]
    },
    {
      "cell_type": "code",
      "metadata": {
        "id": "5lDvKaLITtwI",
        "colab": {
          "base_uri": "https://localhost:8080/"
        },
        "outputId": "9a15e19b-5efe-4890-8c52-1c6075a65478"
      },
      "source": [
        "df.dtypes"
      ],
      "execution_count": null,
      "outputs": [
        {
          "output_type": "execute_result",
          "data": {
            "text/plain": [
              "amazon_product_url              object\n",
              "author                          object\n",
              "description                     object\n",
              "publisher                       object\n",
              "title                           object\n",
              "oid                             object\n",
              "bestsellers_date.numberLong      int64\n",
              "published_date.numberLong        int64\n",
              "rank.numberInt                   int64\n",
              "rank_last_week.numberInt         int64\n",
              "weeks_on_list.numberInt          int64\n",
              "price.numberDouble             float64\n",
              "dtype: object"
            ]
          },
          "metadata": {
            "tags": []
          },
          "execution_count": 4
        }
      ]
    },
    {
      "cell_type": "code",
      "metadata": {
        "id": "0rP85GVxT22Q",
        "colab": {
          "base_uri": "https://localhost:8080/"
        },
        "outputId": "5133f766-301f-4213-ddab-9410e004b823"
      },
      "source": [
        "df.head"
      ],
      "execution_count": null,
      "outputs": [
        {
          "output_type": "execute_result",
          "data": {
            "text/plain": [
              "<bound method NDFrame.head of                                      amazon_product_url  ... price.numberDouble\n",
              "0     http://www.amazon.com/The-Host-Novel-Stephenie...  ...              25.99\n",
              "1     http://www.amazon.com/Love-Youre-With-Emily-Gi...  ...              24.95\n",
              "2     http://www.amazon.com/The-Front-Garano-Patrici...  ...              22.95\n",
              "3     http://www.amazon.com/Snuff-Chuck-Palahniuk/dp...  ...              24.95\n",
              "4     http://www.amazon.com/Sundays-at-Tiffanys-Jame...  ...              24.99\n",
              "...                                                 ...  ...                ...\n",
              "3028  http://www.amazon.com/Six-Years-Harlan-Coben/d...  ...              27.95\n",
              "3029  http://www.amazon.com/The-Interestings-Novel-M...  ...              27.95\n",
              "3030  http://www.amazon.com/Man-Without-Breath-Berni...  ...              26.95\n",
              "3031  http://www.amazon.com/The-Storyteller-Jodi-Pic...  ...              28.99\n",
              "3032  http://www.amazon.com/Z-A-Novel-Zelda-Fitzgera...  ...              25.99\n",
              "\n",
              "[3033 rows x 12 columns]>"
            ]
          },
          "metadata": {
            "tags": []
          },
          "execution_count": 5
        }
      ]
    },
    {
      "cell_type": "code",
      "metadata": {
        "id": "aQ4t6SGKT-Rz",
        "colab": {
          "base_uri": "https://localhost:8080/"
        },
        "outputId": "62de84f6-ccc2-40c4-eb85-35107f78a502"
      },
      "source": [
        "df.tail"
      ],
      "execution_count": null,
      "outputs": [
        {
          "output_type": "execute_result",
          "data": {
            "text/plain": [
              "<bound method NDFrame.tail of                                      amazon_product_url  ... price.numberDouble\n",
              "0     http://www.amazon.com/The-Host-Novel-Stephenie...  ...              25.99\n",
              "1     http://www.amazon.com/Love-Youre-With-Emily-Gi...  ...              24.95\n",
              "2     http://www.amazon.com/The-Front-Garano-Patrici...  ...              22.95\n",
              "3     http://www.amazon.com/Snuff-Chuck-Palahniuk/dp...  ...              24.95\n",
              "4     http://www.amazon.com/Sundays-at-Tiffanys-Jame...  ...              24.99\n",
              "...                                                 ...  ...                ...\n",
              "3028  http://www.amazon.com/Six-Years-Harlan-Coben/d...  ...              27.95\n",
              "3029  http://www.amazon.com/The-Interestings-Novel-M...  ...              27.95\n",
              "3030  http://www.amazon.com/Man-Without-Breath-Berni...  ...              26.95\n",
              "3031  http://www.amazon.com/The-Storyteller-Jodi-Pic...  ...              28.99\n",
              "3032  http://www.amazon.com/Z-A-Novel-Zelda-Fitzgera...  ...              25.99\n",
              "\n",
              "[3033 rows x 12 columns]>"
            ]
          },
          "metadata": {
            "tags": []
          },
          "execution_count": 6
        }
      ]
    },
    {
      "cell_type": "code",
      "metadata": {
        "id": "ed7YLE7OT_s6",
        "colab": {
          "base_uri": "https://localhost:8080/"
        },
        "outputId": "5579e68a-bfa4-4b1e-a899-8281d12aa3e2"
      },
      "source": [
        "df.columns"
      ],
      "execution_count": null,
      "outputs": [
        {
          "output_type": "execute_result",
          "data": {
            "text/plain": [
              "Index(['amazon_product_url', 'author', 'description', 'publisher', 'title',\n",
              "       'oid', 'bestsellers_date.numberLong', 'published_date.numberLong',\n",
              "       'rank.numberInt', 'rank_last_week.numberInt', 'weeks_on_list.numberInt',\n",
              "       'price.numberDouble'],\n",
              "      dtype='object')"
            ]
          },
          "metadata": {
            "tags": []
          },
          "execution_count": 7
        }
      ]
    },
    {
      "cell_type": "code",
      "metadata": {
        "id": "r8JBphWUUCgo",
        "colab": {
          "base_uri": "https://localhost:8080/"
        },
        "outputId": "e1aedf3a-19c1-4c7d-cf0e-6d3c22e24354"
      },
      "source": [
        "df[\"bestsellers_date.numberLong\"]"
      ],
      "execution_count": null,
      "outputs": [
        {
          "output_type": "execute_result",
          "data": {
            "text/plain": [
              "0       1211587200000\n",
              "1       1211587200000\n",
              "2       1211587200000\n",
              "3       1211587200000\n",
              "4       1211587200000\n",
              "            ...      \n",
              "3028    1366416000000\n",
              "3029    1366416000000\n",
              "3030    1366416000000\n",
              "3031    1366416000000\n",
              "3032    1366416000000\n",
              "Name: bestsellers_date.numberLong, Length: 3033, dtype: int64"
            ]
          },
          "metadata": {
            "tags": []
          },
          "execution_count": 10
        }
      ]
    },
    {
      "cell_type": "code",
      "metadata": {
        "id": "OWpb3xDtUahB"
      },
      "source": [
        ""
      ],
      "execution_count": null,
      "outputs": []
    }
  ]
}