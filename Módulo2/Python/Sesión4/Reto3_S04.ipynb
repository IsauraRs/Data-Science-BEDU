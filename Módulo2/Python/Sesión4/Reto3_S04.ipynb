{
  "nbformat": 4,
  "nbformat_minor": 0,
  "metadata": {
    "kernelspec": {
      "display_name": "Python 3",
      "language": "python",
      "name": "python3"
    },
    "language_info": {
      "codemirror_mode": {
        "name": "ipython",
        "version": 3
      },
      "file_extension": ".py",
      "mimetype": "text/x-python",
      "name": "python",
      "nbconvert_exporter": "python",
      "pygments_lexer": "ipython3",
      "version": "3.8.3"
    },
    "colab": {
      "name": "Reto3_S04.ipynb",
      "provenance": [],
      "collapsed_sections": [],
      "include_colab_link": true
    }
  },
  "cells": [
    {
      "cell_type": "markdown",
      "metadata": {
        "id": "view-in-github",
        "colab_type": "text"
      },
      "source": [
        "<a href=\"https://colab.research.google.com/github/IsauraRs/Data-Science-BEDU/blob/master/M%C3%B3dulo2/Python/Sesi%C3%B3n4/Reto3_S04.ipynb\" target=\"_parent\"><img src=\"https://colab.research.google.com/assets/colab-badge.svg\" alt=\"Open In Colab\"/></a>"
      ]
    },
    {
      "cell_type": "markdown",
      "metadata": {
        "id": "V2-D6F2VFHYR"
      },
      "source": [
        "## Reto 3: DataFrames\n",
        "\n",
        "### 1. Objetivos:\n",
        "    - Aprender a crear `DataFrames` e indexar por columna y por fila\n",
        " \n",
        "---\n",
        "    \n",
        "### 2. Desarrollo:"
      ]
    },
    {
      "cell_type": "markdown",
      "metadata": {
        "id": "jLy3HijTFHYT"
      },
      "source": [
        "#### a) Creación e indexación de `DataFrames`\n",
        "\n",
        "Eres el Data Wrangler (procesador de datos) de EyePoker Inc. Tienes el siguiente diccionario con datos que se refieren a diferentes productos que vende la empresa. Este es tu conjunto de datos y el índice que le corresponde:"
      ]
    },
    {
      "cell_type": "code",
      "metadata": {
        "id": "Sy_4fKcIFHYU"
      },
      "source": [
        "datos_productos = {\n",
        "    \"nombre\": [\"Pokemaster\", \"Cegatron\", \"Pikame Mucho\", \"Lazarillo de Tormes\", \"Stevie Wonder\", \"Needle\", \"El AyMeDuele\"],\n",
        "    \"precio\": [10000, 5500, 3500, 750, 15500, 12250, 23000],\n",
        "    \"peso\": [1.2, 1.5, 2.3, 5.5, 3.4, 2.4, 8.8],\n",
        "    \"capacidad de destrucción retinal\": [3, 7, 6, 8, 9, 2, 10],\n",
        "    \"disponible\": [True, False, True, True, False, False, True]\n",
        "}\n",
        "\n",
        "indice = [1, 2, 3, 4, 5, 6, 7]"
      ],
      "execution_count": null,
      "outputs": []
    },
    {
      "cell_type": "markdown",
      "metadata": {
        "id": "qyZV6255FHYV"
      },
      "source": [
        "El Analista de Datos de la empresa quiere realizar algunas visualizaciones con este conjunto de datos, pero no es muy buen procesador de datos, así que te pide a ti ayuda para crear los subconjuntos de datos que necesita para sus visualizaciones.\n",
        "\n",
        "Te ha dado las descripciones de los subconjuntos que necesita, en el orden en el que los quiere.\n",
        "\n",
        "Tu primer paso es convertir tu `diccionario` a `DataFrame` usando `datos_productos` e `indice`:"
      ]
    },
    {
      "cell_type": "code",
      "metadata": {
        "id": "sNTx6v6TFHYW"
      },
      "source": [
        "## Realiza aquí los imports que necesites\n",
        "import pandas as pd"
      ],
      "execution_count": null,
      "outputs": []
    },
    {
      "cell_type": "code",
      "metadata": {
        "id": "lS7Yi8FqFHYW"
      },
      "source": [
        "df_productos = pd.DataFrame(datos_productos, indice)"
      ],
      "execution_count": null,
      "outputs": []
    },
    {
      "cell_type": "code",
      "metadata": {
        "id": "neZ5q9D5FHYY",
        "colab": {
          "base_uri": "https://localhost:8080/",
          "height": 269
        },
        "outputId": "22e37674-21d7-4459-ae32-929c4f627437"
      },
      "source": [
        "df_productos"
      ],
      "execution_count": null,
      "outputs": [
        {
          "output_type": "execute_result",
          "data": {
            "text/html": [
              "<div>\n",
              "<style scoped>\n",
              "    .dataframe tbody tr th:only-of-type {\n",
              "        vertical-align: middle;\n",
              "    }\n",
              "\n",
              "    .dataframe tbody tr th {\n",
              "        vertical-align: top;\n",
              "    }\n",
              "\n",
              "    .dataframe thead th {\n",
              "        text-align: right;\n",
              "    }\n",
              "</style>\n",
              "<table border=\"1\" class=\"dataframe\">\n",
              "  <thead>\n",
              "    <tr style=\"text-align: right;\">\n",
              "      <th></th>\n",
              "      <th>nombre</th>\n",
              "      <th>precio</th>\n",
              "      <th>peso</th>\n",
              "      <th>capacidad de destrucción retinal</th>\n",
              "      <th>disponible</th>\n",
              "    </tr>\n",
              "  </thead>\n",
              "  <tbody>\n",
              "    <tr>\n",
              "      <th>1</th>\n",
              "      <td>Pokemaster</td>\n",
              "      <td>10000</td>\n",
              "      <td>1.2</td>\n",
              "      <td>3</td>\n",
              "      <td>True</td>\n",
              "    </tr>\n",
              "    <tr>\n",
              "      <th>2</th>\n",
              "      <td>Cegatron</td>\n",
              "      <td>5500</td>\n",
              "      <td>1.5</td>\n",
              "      <td>7</td>\n",
              "      <td>False</td>\n",
              "    </tr>\n",
              "    <tr>\n",
              "      <th>3</th>\n",
              "      <td>Pikame Mucho</td>\n",
              "      <td>3500</td>\n",
              "      <td>2.3</td>\n",
              "      <td>6</td>\n",
              "      <td>True</td>\n",
              "    </tr>\n",
              "    <tr>\n",
              "      <th>4</th>\n",
              "      <td>Lazarillo de Tormes</td>\n",
              "      <td>750</td>\n",
              "      <td>5.5</td>\n",
              "      <td>8</td>\n",
              "      <td>True</td>\n",
              "    </tr>\n",
              "    <tr>\n",
              "      <th>5</th>\n",
              "      <td>Stevie Wonder</td>\n",
              "      <td>15500</td>\n",
              "      <td>3.4</td>\n",
              "      <td>9</td>\n",
              "      <td>False</td>\n",
              "    </tr>\n",
              "    <tr>\n",
              "      <th>6</th>\n",
              "      <td>Needle</td>\n",
              "      <td>12250</td>\n",
              "      <td>2.4</td>\n",
              "      <td>2</td>\n",
              "      <td>False</td>\n",
              "    </tr>\n",
              "    <tr>\n",
              "      <th>7</th>\n",
              "      <td>El AyMeDuele</td>\n",
              "      <td>23000</td>\n",
              "      <td>8.8</td>\n",
              "      <td>10</td>\n",
              "      <td>True</td>\n",
              "    </tr>\n",
              "  </tbody>\n",
              "</table>\n",
              "</div>"
            ],
            "text/plain": [
              "                nombre  precio  ...  capacidad de destrucción retinal  disponible\n",
              "1           Pokemaster   10000  ...                                 3        True\n",
              "2             Cegatron    5500  ...                                 7       False\n",
              "3         Pikame Mucho    3500  ...                                 6        True\n",
              "4  Lazarillo de Tormes     750  ...                                 8        True\n",
              "5        Stevie Wonder   15500  ...                                 9       False\n",
              "6               Needle   12250  ...                                 2       False\n",
              "7         El AyMeDuele   23000  ...                                10        True\n",
              "\n",
              "[7 rows x 5 columns]"
            ]
          },
          "metadata": {
            "tags": []
          },
          "execution_count": 18
        }
      ]
    },
    {
      "cell_type": "markdown",
      "metadata": {
        "id": "--iFMapxFHYY"
      },
      "source": [
        "Ahora, indexa tu `DataFrame` para obtener los subconjuntos requeridos. Los productos en existencia tienen un orden específico en la base de datos. El orden correcto es el que está definido en `datos_productos`. Eso significa que el \"Pokemaster\" tiene el índice `1` y es el *primer* producto; y el \"El AyMeDuele\" tiene el ìndice `7` y es el *último* producto.\n",
        "\n",
        "Realiza las indexaciones debajo. Recuerda ordenar tus `DataFrames` en el orden en el que los menciona el Analista:"
      ]
    },
    {
      "cell_type": "code",
      "metadata": {
        "id": "SjXCC6KoFHYZ",
        "colab": {
          "base_uri": "https://localhost:8080/",
          "height": 133
        },
        "outputId": "dd93f2bc-6cb5-482e-cb9f-7d4cb0e61245"
      },
      "source": [
        "# Quiero un DataFrame que contenga los productos \"Pikame Mucho\" y \"Stevie Wonder\"\n",
        "pm_sw = df_productos.loc[[3, 5]]\n",
        "\n",
        "# Quiero un DataFrame que contenga desde el producto #4 hasta el último\n",
        "p4_final = df_productos.loc[4:]\n",
        "\n",
        "# Quiero un DataFrame que contenga los productos \"El AyMeDuele\", \"Lazarillo de Tormes\" y \"Needle\"\n",
        "amd_lt_n = df_productos.loc[[7, 4, 6]]\n",
        "\n",
        "# Quiero un DataFrame que contenga desde el primer producto hasta el producto #5\n",
        "primer_p5 = df_productos.loc[:5]\n",
        "\n",
        "# Quiero un DataFrame que contenga los productos \"Pikame Mucho\" y \"Lazarillo de Tormes\", pero sólo con las columnas \"nombre\", \"precio\" y \"peso\"\n",
        "pm_lt_pp = df_productos.loc[[3,4], [\"nombre\", \"precio\", \"peso\"]]\n",
        "\n",
        "# Quiero un DataFrame que contenga todos los productos pero con sólo las columnas 'nombre', 'precio' y 'capacidad de destrucción retinal'\n",
        "t_pcdr = df_productos.loc[ : , \"nombre\", \"precio\", \"capacidad de destrucción retinal\"] \n",
        "\n",
        "# Quiero un DataFrame que contenga desde el producto #3 hasta el #6, pero sólo las columnas 'nombre', 'precio' y 'disponible'\n",
        "p3_p6_pd = df_productos.loc[[3:6][[\"nombre\", \"precio\", \"disponible\"]]]"
      ],
      "execution_count": null,
      "outputs": [
        {
          "output_type": "error",
          "ename": "SyntaxError",
          "evalue": "ignored",
          "traceback": [
            "\u001b[0;36m  File \u001b[0;32m\"<ipython-input-34-43497b1191a2>\"\u001b[0;36m, line \u001b[0;32m20\u001b[0m\n\u001b[0;31m    p3_p6_pd = df_productos.loc[[3:6][[\"nombre\", \"precio\", \"disponible\"]]]\u001b[0m\n\u001b[0m                                  ^\u001b[0m\n\u001b[0;31mSyntaxError\u001b[0m\u001b[0;31m:\u001b[0m invalid syntax\n"
          ]
        }
      ]
    },
    {
      "cell_type": "markdown",
      "metadata": {
        "id": "C1Q1N0PEFHYa"
      },
      "source": [
        "Pídele a tu experta la función de verificación `verificar_indexaciones` (encontrada en el archivo `helpers.py` de la carpeta donde se encuentra este Reto), pégala debajo y corre la celda para verificar tu resultado:"
      ]
    },
    {
      "cell_type": "code",
      "metadata": {
        "id": "VKaN6bfvFHYa",
        "colab": {
          "base_uri": "https://localhost:8080/",
          "height": 220
        },
        "outputId": "cb41b20c-a988-44a6-c0d2-ed56aed5b7c5"
      },
      "source": [
        "# Pega aquí la función de verificación\n",
        "def verificar_indexaciones(datos_productos, indice, df_productos, pm_sw, p4_final, amd_lt_n, primer_p5, pm_lt_pp, t_pcdr, p3_p6_pd):\n",
        "    \n",
        "    import pandas as pd\n",
        "    \n",
        "    df_productos_esperado = pd.DataFrame(datos_productos, index=indice)\n",
        "    if not df_productos_esperado.equals(df_productos):\n",
        "        print(f'df_productos ha sido creado incorrectamente ... Favor de revisar')\n",
        "        return\n",
        "    \n",
        "    print(f'== Verificación de Indexaciones ==\\n')\n",
        "    verificar_indexacion(df_productos.loc[[3, 5]], pm_sw, 'DataFrame que contenga los productos \"Pikame Mucho\" y \"Stevie Wonder\"')\n",
        "    verificar_indexacion(df_productos.loc[4:], p4_final, 'DataFrame que contenga desde el producto #4 hasta el último')\n",
        "    verificar_indexacion(df_productos.loc[[7, 4, 6]], amd_lt_n, 'DataFrame que contenga los productos \"El AyMeDuele\", \"Lazarillo de Tormes\" y \"Needle\"')\n",
        "    verificar_indexacion(df_productos.loc[:5], primer_p5, 'DataFrame que contenga desde el primer producto hasta el producto #5')\n",
        "    verificar_indexacion(df_productos.loc[[3, 4], ['nombre', 'precio', 'peso']], pm_lt_pp, 'DataFrame que contenga los productos \"Pikame Mucho\" y \"Lazarillo de Tormes\", pero sólo con las columnas \"nombre\", \"precio\" y \"peso\"')\n",
        "    verificar_indexacion(df_productos[['nombre', 'precio', 'capacidad de destrucción retinal']], t_pcdr, \"DataFrame que contenga todos los productos pero con sólo las columnas 'nombre', 'precio' y 'capacidad de destrucción retinal'\")\n",
        "    verificar_indexacion(df_productos.loc[3:6, ['nombre', 'precio', 'disponible']], p3_p6_pd, \"DataFrame que contenga desde el producto #3 hasta el #6, pero sólo las columnas 'nombre', 'precio' y 'disponible'\")\n",
        "    \n",
        "def verificar_indexacion(esperada, recibida, descripcion):\n",
        "    es_correcta = \"Correcto\" if esperada.equals(recibida) else \"Incorrecto\"\n",
        "    respuesta = \"Muchas gracias!\" if es_correcta == \"Correcto\" else \"Favor de revisar\"\n",
        "    print(f\"\\n- Descripción de pedido: {descripcion}\")\n",
        "    print(f\"El pedido es {es_correcta} ... {respuesta}\")\n",
        "\n",
        "verificar_indexaciones(datos_productos, indice, df_productos, pm_sw, p4_final, amd_lt_n, primer_p5, pm_lt_pp, t_pcdr, p3_p6_pd)"
      ],
      "execution_count": null,
      "outputs": [
        {
          "output_type": "error",
          "ename": "NameError",
          "evalue": "ignored",
          "traceback": [
            "\u001b[0;31m---------------------------------------------------------------------------\u001b[0m",
            "\u001b[0;31mNameError\u001b[0m                                 Traceback (most recent call last)",
            "\u001b[0;32m<ipython-input-1-e93d8d42edee>\u001b[0m in \u001b[0;36m<module>\u001b[0;34m()\u001b[0m\n\u001b[1;32m     24\u001b[0m     \u001b[0mprint\u001b[0m\u001b[0;34m(\u001b[0m\u001b[0;34mf\"El pedido es {es_correcta} ... {respuesta}\"\u001b[0m\u001b[0;34m)\u001b[0m\u001b[0;34m\u001b[0m\u001b[0;34m\u001b[0m\u001b[0m\n\u001b[1;32m     25\u001b[0m \u001b[0;34m\u001b[0m\u001b[0m\n\u001b[0;32m---> 26\u001b[0;31m \u001b[0mverificar_indexaciones\u001b[0m\u001b[0;34m(\u001b[0m\u001b[0mdatos_productos\u001b[0m\u001b[0;34m,\u001b[0m \u001b[0mindice\u001b[0m\u001b[0;34m,\u001b[0m \u001b[0mdf_productos\u001b[0m\u001b[0;34m,\u001b[0m \u001b[0mpm_sw\u001b[0m\u001b[0;34m,\u001b[0m \u001b[0mp4_final\u001b[0m\u001b[0;34m,\u001b[0m \u001b[0mamd_lt_n\u001b[0m\u001b[0;34m,\u001b[0m \u001b[0mprimer_p5\u001b[0m\u001b[0;34m,\u001b[0m \u001b[0mpm_lt_pp\u001b[0m\u001b[0;34m,\u001b[0m \u001b[0mt_pcdr\u001b[0m\u001b[0;34m,\u001b[0m \u001b[0mp3_p6_pd\u001b[0m\u001b[0;34m)\u001b[0m\u001b[0;34m\u001b[0m\u001b[0;34m\u001b[0m\u001b[0m\n\u001b[0m",
            "\u001b[0;31mNameError\u001b[0m: name 'datos_productos' is not defined"
          ]
        }
      ]
    },
    {
      "cell_type": "code",
      "metadata": {
        "id": "mBLTjHKXFHYd"
      },
      "source": [
        ""
      ],
      "execution_count": null,
      "outputs": []
    }
  ]
}