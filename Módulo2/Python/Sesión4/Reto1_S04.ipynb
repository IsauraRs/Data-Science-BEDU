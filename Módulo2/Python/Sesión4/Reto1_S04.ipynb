{
  "nbformat": 4,
  "nbformat_minor": 0,
  "metadata": {
    "kernelspec": {
      "display_name": "Python 3",
      "language": "python",
      "name": "python3"
    },
    "language_info": {
      "codemirror_mode": {
        "name": "ipython",
        "version": 3
      },
      "file_extension": ".py",
      "mimetype": "text/x-python",
      "name": "python",
      "nbconvert_exporter": "python",
      "pygments_lexer": "ipython3",
      "version": "3.8.3"
    },
    "colab": {
      "name": "Reto1_S04.ipynb",
      "provenance": [],
      "collapsed_sections": [],
      "include_colab_link": true
    }
  },
  "cells": [
    {
      "cell_type": "markdown",
      "metadata": {
        "id": "view-in-github",
        "colab_type": "text"
      },
      "source": [
        "<a href=\"https://colab.research.google.com/github/IsauraRs/Data-Science-BEDU/blob/master/M%C3%B3dulo2/Python/Sesi%C3%B3n4/Reto1_S04.ipynb\" target=\"_parent\"><img src=\"https://colab.research.google.com/assets/colab-badge.svg\" alt=\"Open In Colab\"/></a>"
      ]
    },
    {
      "cell_type": "markdown",
      "metadata": {
        "id": "h4FshDGx2uV3"
      },
      "source": [
        "## Reto 1: Series\n",
        "\n",
        "### 1. Objetivos:\n",
        "    - Practicar la creación de `Series` y la indexación básica de éstas\n",
        " \n",
        "---\n",
        "    \n",
        "### 2. Desarrollo:"
      ]
    },
    {
      "cell_type": "code",
      "metadata": {
        "id": "ngwC8Uuk2uWA"
      },
      "source": [
        "## Realiza aquí los imports que necesites para que tu código funcione correctamente\n",
        "import pandas as pd"
      ],
      "execution_count": null,
      "outputs": []
    },
    {
      "cell_type": "markdown",
      "metadata": {
        "id": "er-_n7L22uWB"
      },
      "source": [
        "#### a) Creación de `Series`\n",
        "\n",
        "A continuación tenemos unas variables que contienen los nombres de los ejecutivos más importantes de nuestra ya conocida EyePoker Inc. Debajo de eso hay una variable que no ha sido asignada aún:"
      ]
    },
    {
      "cell_type": "code",
      "metadata": {
        "id": "_0Ada4Iu2uWD"
      },
      "source": [
        "ejecutivo_1 = 'Marco P.'\n",
        "ejecutivo_2 = 'Jenny'\n",
        "ejecutivo_3 = 'Britney Baby'\n",
        "ejecutivo_4 = 'Pepe Guardabosques'\n",
        "ejecutivo_5 = 'Lombardo El Destructor'\n",
        "\n",
        "\n",
        "sueldos = pd.Series([15000,20000,10000,18000,50000], index = [ejecutivo_1, ejecutivo_2, ejecutivo_3, ejecutivo_4, ejecutivo_5])"
      ],
      "execution_count": null,
      "outputs": []
    },
    {
      "cell_type": "markdown",
      "metadata": {
        "id": "qK5JThxL2uWD"
      },
      "source": [
        "Tu tarea es crear una `Serie` de `pandas` y asignarla a la variable `sueldos`. La información que hay dentro de esta variable son (oh, sorpresa) los sueldos de dichos ejecutivos.\n",
        "\n",
        "Los valores de la `Serie` serán los sueldos, mientras que el índice de la `Serie` serán los nombres de los ejecutivos.\n",
        "\n",
        "Crea una `Serie` y asígnala a `sueldos` de manera que el código que tenemos debajo funcione correctamente:"
      ]
    },
    {
      "cell_type": "code",
      "metadata": {
        "id": "Xy9iNCSI2uWE",
        "colab": {
          "base_uri": "https://localhost:8080/"
        },
        "outputId": "0cf0a438-01a2-400f-851f-bfd8f25eb1ea"
      },
      "source": [
        "print('== Sueldos de los principales ejecutivos de EyePoker Inc. ==\\n')\n",
        "\n",
        "print(f'{(\"Ejecutivo\"):25} | {(\"Sueldo\")}')\n",
        "print('----------------------------------------')\n",
        "print(f'{ejecutivo_1:25} | ${(sueldos.loc[ejecutivo_1])} MXN')\n",
        "print(f'{ejecutivo_2:25} | ${(sueldos.loc[ejecutivo_2])} MXN')\n",
        "print(f'{ejecutivo_3:25} | ${(sueldos.loc[ejecutivo_3])} MXN')\n",
        "print(f'{ejecutivo_4:25} | ${(sueldos.loc[ejecutivo_4])} MXN')\n",
        "print(f'{ejecutivo_5:25} | ${(sueldos.loc[ejecutivo_5])} MXN')"
      ],
      "execution_count": null,
      "outputs": [
        {
          "output_type": "stream",
          "text": [
            "== Sueldos de los principales ejecutivos de EyePoker Inc. ==\n",
            "\n",
            "Ejecutivo                 | Sueldo\n",
            "----------------------------------------\n",
            "Marco P.                  | $15000 MXN\n",
            "Jenny                     | $20000 MXN\n",
            "Britney Baby              | $10000 MXN\n",
            "Pepe Guardabosques        | $18000 MXN\n",
            "Lombardo El Destructor    | $50000 MXN\n"
          ],
          "name": "stdout"
        }
      ]
    },
    {
      "cell_type": "code",
      "metadata": {
        "id": "zY5-D-lx2uWF"
      },
      "source": [
        ""
      ],
      "execution_count": null,
      "outputs": []
    }
  ]
}