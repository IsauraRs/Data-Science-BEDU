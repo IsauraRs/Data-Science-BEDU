{
  "nbformat": 4,
  "nbformat_minor": 0,
  "metadata": {
    "kernelspec": {
      "display_name": "Python 3",
      "language": "python",
      "name": "python3"
    },
    "language_info": {
      "codemirror_mode": {
        "name": "ipython",
        "version": 3
      },
      "file_extension": ".py",
      "mimetype": "text/x-python",
      "name": "python",
      "nbconvert_exporter": "python",
      "pygments_lexer": "ipython3",
      "version": "3.8.3"
    },
    "colab": {
      "name": "Reto4_S04.ipynb",
      "provenance": [],
      "collapsed_sections": [],
      "include_colab_link": true
    }
  },
  "cells": [
    {
      "cell_type": "markdown",
      "metadata": {
        "id": "view-in-github",
        "colab_type": "text"
      },
      "source": [
        "<a href=\"https://colab.research.google.com/github/IsauraRs/Data-Science-BEDU/blob/master/M%C3%B3dulo2/Python/Sesi%C3%B3n4/Reto4_S04.ipynb\" target=\"_parent\"><img src=\"https://colab.research.google.com/assets/colab-badge.svg\" alt=\"Open In Colab\"/></a>"
      ]
    },
    {
      "cell_type": "markdown",
      "metadata": {
        "id": "Tyq7OxEUMRh-"
      },
      "source": [
        "## Reto 4: Manipulación de Columnas\n",
        "\n",
        "### 1. Objetivos:\n",
        "    - Practicar asignar, reasignar y eliminar columnas de `DataFrames`\n",
        " \n",
        "---\n",
        "    \n",
        "### 2. Desarrollo:"
      ]
    },
    {
      "cell_type": "markdown",
      "metadata": {
        "id": "EnlLnyJ9MRiA"
      },
      "source": [
        "a) Transformación de `DataFrames`\n",
        "\n",
        "Eres de nuevo el Data Wrangler Inc. Tienes el mismo conjunto de datos que en el Reto pasado:"
      ]
    },
    {
      "cell_type": "code",
      "metadata": {
        "id": "EjkJ3zsiMRiB"
      },
      "source": [
        "datos_productos = {\n",
        "    \"nombre\": [\"Pokemaster\", \"Cegatron\", \"Pikame Mucho\", \"Lazarillo de Tormes\", \"Stevie Wonder\", \"Needle\", \"El AyMeDuele\"],\n",
        "    \"precio\": [10000, 5500, 3500, 750, 15500, 12250, 23000],\n",
        "    \"peso\": [1.2, 1.5, 2.3, 5.5, 3.4, 2.4, 8.8],\n",
        "    \"capacidad de destrucción retinal\": [3, 7, 6, 8, 9, 2, 10],\n",
        "    \"disponible\": [True, False, True, True, False, False, True]\n",
        "}\n",
        "\n",
        "indice = [1, 2, 3, 4, 5, 6, 7]"
      ],
      "execution_count": null,
      "outputs": []
    },
    {
      "cell_type": "markdown",
      "metadata": {
        "id": "cHr7iy8nMRiC"
      },
      "source": [
        "Esta vez el Analista de Datos te hace 3 nuevos pedidos que incluyen la creación de una nueva columna, la asignación de nuevos datos a una columna y la eliminación de un par de columnas. Crea un `DataFrame` usando `datos_productos` e `indice`, realiza sus pedidos y envíalos para su verificación:"
      ]
    },
    {
      "cell_type": "code",
      "metadata": {
        "id": "Oj2ISx1BMRiD"
      },
      "source": [
        "## Realiza aquí los imports necesarios\n",
        "import pandas as pd"
      ],
      "execution_count": null,
      "outputs": []
    },
    {
      "cell_type": "code",
      "metadata": {
        "id": "VGg6JcAgMRiD"
      },
      "source": [
        "df_productos = pd.DataFrame(datos_productos, indice)"
      ],
      "execution_count": null,
      "outputs": []
    },
    {
      "cell_type": "code",
      "metadata": {
        "id": "ihQ1jP5wMRiE"
      },
      "source": [
        "# Agrega por favor una nueva columna a `df_productos_mas_columna_nueva` con el nombre de columna \"nivel de dolor\"\n",
        "columna_nueva = [4, 7, 6, 8, 9, 7, 3]\n",
        "df_productos_mas_columna_nueva = df_productos.copy()\n",
        "df_productos_mas_columna_nueva[\"nivel de dolor\"] = columna_nueva\n",
        "\n",
        "# Cambia por favor el `DataFrame` `df_productos_descuento` cambiando la columna `precio` por la información contenida en `precios_descuento`\n",
        "precios_descuento = [8000, 4000, 2000, 500, 14000, 10000, 15000]\n",
        "df_productos_descuento = df_productos.copy()\n",
        "df_productos_descuento[\"precio\"] = precios_descuento\n",
        "# Elimina por favor las columnas \"precio\" y \"peso\" de `df_productos` y asigna el resultado a `df_productos_sin_precio_ni_peso`\n",
        "df_productos_sin_precio_ni_peso = df_productos.drop(columns = [\"precio\", \"peso\"])"
      ],
      "execution_count": null,
      "outputs": []
    },
    {
      "cell_type": "markdown",
      "metadata": {
        "id": "-QdqfGV6MRiE"
      },
      "source": [
        "Pídele a tu experta la función de verificación `verificar_modificaciones` (encontrada en el archivo `helpers.py` de la carpeta donde se encuentra este Reto), pégala debajo y corre la celda para verificar tu resultado:"
      ]
    },
    {
      "cell_type": "code",
      "metadata": {
        "id": "dkhAK0zEMRiF",
        "colab": {
          "base_uri": "https://localhost:8080/"
        },
        "outputId": "637ee6b1-e350-4d04-a206-bbb51cec3ed7"
      },
      "source": [
        "# Pega aquí la función de verificación\n",
        "def verificar_modificaciones(datos_productos, indice, df_productos, columna_nueva, df_productos_mas_columna_nueva, \n",
        "                             precios_descuento, df_productos_descuento, df_productos_sin_precio_ni_peso):\n",
        "    \n",
        "    import pandas as pd\n",
        "    \n",
        "    df_productos_esperado = pd.DataFrame(datos_productos, index=indice)\n",
        "    if not df_productos_esperado.equals(df_productos):\n",
        "        print(f'df_productos ha sido creado incorrectamente ... Favor de revisar')\n",
        "        return\n",
        "    \n",
        "    print(f'== Verificación de Modificaciones ==\\n')\n",
        "    columna_nueva_serie = pd.Series(columna_nueva, index=indice)\n",
        "    df_productos_mas_columna_nueva_2 = df_productos.copy()\n",
        "    df_productos_mas_columna_nueva_2['nivel de dolor'] = columna_nueva_serie\n",
        "    verificar_modificacion(df_productos_mas_columna_nueva_2, df_productos_mas_columna_nueva, 'Agrega por favor columna `columna_nueva` a `df_productos_mas_columna_nueva` con el nombre de columna \"nivel de dolor\"')\n",
        "    \n",
        "    precios_descuento_serie = pd.Series(precios_descuento, index=indice)\n",
        "    df_productos_descuento_2 = df_productos.copy()\n",
        "    df_productos_descuento_2['precio'] = precios_descuento_serie\n",
        "    verificar_modificacion(df_productos_descuento_2, df_productos_descuento, 'Cambia por favor el `DataFrame` `df_productos_descuento` cambiando la columna `precio` por la información contenida en `precios_descuento`')\n",
        "    \n",
        "    df_productos_sin_precio_ni_peso_2 = df_productos.drop(columns=['precio', 'peso'])\n",
        "    verificar_modificacion(df_productos_sin_precio_ni_peso_2, df_productos_sin_precio_ni_peso, 'Elimina por favor las columnas \"precio\" y \"peso\"')\n",
        "    \n",
        "def verificar_modificacion(esperada, recibida, descripcion):\n",
        "    es_correcta = \"Correcto\" if esperada.equals(recibida) else \"Incorrecto\"\n",
        "    respuesta = \"Muchas gracias!\" if es_correcta == \"Correcto\" else \"Favor de revisar\"\n",
        "    print(f\"\\n- Descripción de pedido: {descripcion}\")\n",
        "    print(f\"El pedido es {es_correcta} ... {respuesta}\")\n",
        "\n",
        "verificar_modificaciones(datos_productos, indice, df_productos, columna_nueva, df_productos_mas_columna_nueva, \n",
        "                             precios_descuento, df_productos_descuento, df_productos_sin_precio_ni_peso)"
      ],
      "execution_count": null,
      "outputs": [
        {
          "output_type": "stream",
          "text": [
            "== Verificación de Modificaciones ==\n",
            "\n",
            "\n",
            "- Descripción de pedido: Agrega por favor columna `columna_nueva` a `df_productos_mas_columna_nueva` con el nombre de columna \"nivel de dolor\"\n",
            "El pedido es Correcto ... Muchas gracias!\n",
            "\n",
            "- Descripción de pedido: Cambia por favor el `DataFrame` `df_productos_descuento` cambiando la columna `precio` por la información contenida en `precios_descuento`\n",
            "El pedido es Correcto ... Muchas gracias!\n",
            "\n",
            "- Descripción de pedido: Elimina por favor las columnas \"precio\" y \"peso\"\n",
            "El pedido es Correcto ... Muchas gracias!\n"
          ],
          "name": "stdout"
        }
      ]
    },
    {
      "cell_type": "code",
      "metadata": {
        "id": "3mAKOSfzMRiG"
      },
      "source": [
        ""
      ],
      "execution_count": null,
      "outputs": []
    }
  ]
}