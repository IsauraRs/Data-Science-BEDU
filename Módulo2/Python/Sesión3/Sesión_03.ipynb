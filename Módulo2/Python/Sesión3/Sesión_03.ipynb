{
  "nbformat": 4,
  "nbformat_minor": 0,
  "metadata": {
    "colab": {
      "name": "Sesión_03.ipynb",
      "provenance": [],
      "collapsed_sections": []
    },
    "kernelspec": {
      "name": "python3",
      "display_name": "Python 3"
    }
  },
  "cells": [
    {
      "cell_type": "code",
      "metadata": {
        "id": "gsbQgqC0eAoR"
      },
      "source": [
        "def nombre_de_la_función(x):\n",
        "\n",
        "  y = x + 5\n",
        "  y = y ** 2\n",
        "\n",
        "  return y"
      ],
      "execution_count": null,
      "outputs": []
    },
    {
      "cell_type": "code",
      "metadata": {
        "colab": {
          "base_uri": "https://localhost:8080/"
        },
        "id": "Ne2kT0SkenB3",
        "outputId": "80c3e64f-6bab-48ce-b284-9dee7a851521"
      },
      "source": [
        "nombre_de_la_función(5)"
      ],
      "execution_count": null,
      "outputs": [
        {
          "output_type": "execute_result",
          "data": {
            "text/plain": [
              "100"
            ]
          },
          "metadata": {
            "tags": []
          },
          "execution_count": 2
        }
      ]
    },
    {
      "cell_type": "markdown",
      "metadata": {
        "id": "X2JKaUeze3ip"
      },
      "source": [
        "# Programación funcional"
      ]
    },
    {
      "cell_type": "code",
      "metadata": {
        "id": "XNutyqLGepEI"
      },
      "source": [
        "def funcion_x(x, y, z):\n",
        "  return x + y + z\n",
        "  "
      ],
      "execution_count": null,
      "outputs": []
    },
    {
      "cell_type": "code",
      "metadata": {
        "id": "_OX0E-mafZie"
      },
      "source": [
        "variable_externa = 5\n",
        "\n",
        "def funcion_z(x):\n",
        "  nueva_variable = x + variable_externa\n",
        "  return nueva_variable"
      ],
      "execution_count": null,
      "outputs": []
    },
    {
      "cell_type": "code",
      "metadata": {
        "colab": {
          "base_uri": "https://localhost:8080/"
        },
        "id": "pDdIYuzBfix5",
        "outputId": "9fca9b76-9cb3-43ba-ec5f-afb741db8a99"
      },
      "source": [
        "funcion_z(6)"
      ],
      "execution_count": null,
      "outputs": [
        {
          "output_type": "execute_result",
          "data": {
            "text/plain": [
              "11"
            ]
          },
          "metadata": {
            "tags": []
          },
          "execution_count": 5
        }
      ]
    },
    {
      "cell_type": "markdown",
      "metadata": {
        "id": "ATL6_KCjfq6J"
      },
      "source": [
        "En programación funcional la variable externa no se puede cambiar y  no se debe renombrar variables (deben ser tratadas como inmutables)"
      ]
    },
    {
      "cell_type": "code",
      "metadata": {
        "id": "v9l4Q4Oefkyr"
      },
      "source": [
        "def funcion_a_guardar(y):\n",
        "  return y\n",
        "\n",
        "funcion_var = funcion_a_guardar"
      ],
      "execution_count": null,
      "outputs": []
    },
    {
      "cell_type": "code",
      "metadata": {
        "colab": {
          "base_uri": "https://localhost:8080/"
        },
        "id": "mbPcjaSxgiDN",
        "outputId": "efc02ace-d8e3-4bd8-da51-108b93588cc0"
      },
      "source": [
        "funcion_var"
      ],
      "execution_count": null,
      "outputs": [
        {
          "output_type": "execute_result",
          "data": {
            "text/plain": [
              "<function __main__.funcion_a_guardar>"
            ]
          },
          "metadata": {
            "tags": []
          },
          "execution_count": 7
        }
      ]
    },
    {
      "cell_type": "code",
      "metadata": {
        "id": "MI8nzwksgjVR"
      },
      "source": [
        "#-> Big o notation\n",
        "\n"
      ],
      "execution_count": null,
      "outputs": []
    },
    {
      "cell_type": "markdown",
      "metadata": {
        "id": "ovihneXnh_-R"
      },
      "source": [
        "## map"
      ]
    },
    {
      "cell_type": "code",
      "metadata": {
        "id": "zsCemxxZh-2e"
      },
      "source": [
        "numeros = [1, 2, 3, 4, 5, 6, 7, 8, 9, 10]"
      ],
      "execution_count": null,
      "outputs": []
    },
    {
      "cell_type": "code",
      "metadata": {
        "id": "8rVYI-81iEL8"
      },
      "source": [
        "def multiplicar_por_10(numero):\n",
        "\n",
        "  return numero * 10"
      ],
      "execution_count": null,
      "outputs": []
    },
    {
      "cell_type": "code",
      "metadata": {
        "colab": {
          "base_uri": "https://localhost:8080/"
        },
        "id": "OnpX9LgziKtb",
        "outputId": "70a47f4d-e64a-4a52-ff16-641fee92d225"
      },
      "source": [
        "map(multiplicar_por_10, numeros)"
      ],
      "execution_count": null,
      "outputs": [
        {
          "output_type": "execute_result",
          "data": {
            "text/plain": [
              "<map at 0x7fc04cd3ccc0>"
            ]
          },
          "metadata": {
            "tags": []
          },
          "execution_count": 11
        }
      ]
    },
    {
      "cell_type": "code",
      "metadata": {
        "colab": {
          "base_uri": "https://localhost:8080/"
        },
        "id": "sb8JZcMsiUiz",
        "outputId": "c602c93e-67d4-4e9a-c95a-a41ccf4bfe3b"
      },
      "source": [
        "list(map(multiplicar_por_10, numeros))"
      ],
      "execution_count": null,
      "outputs": [
        {
          "output_type": "execute_result",
          "data": {
            "text/plain": [
              "[10, 20, 30, 40, 50, 60, 70, 80, 90, 100]"
            ]
          },
          "metadata": {
            "tags": []
          },
          "execution_count": 12
        }
      ]
    },
    {
      "cell_type": "code",
      "metadata": {
        "id": "o7KnYIaCikBQ"
      },
      "source": [
        "def convertir_numero_a_string(numero):\n",
        "\n",
        "  return f\"{numero} seg\""
      ],
      "execution_count": null,
      "outputs": []
    },
    {
      "cell_type": "code",
      "metadata": {
        "colab": {
          "base_uri": "https://localhost:8080/"
        },
        "id": "ZdnhknqjitSA",
        "outputId": "5a2b0a4d-f3be-4d98-9fe1-07e5589924c6"
      },
      "source": [
        "list(map(convertir_numero_a_string, numeros))"
      ],
      "execution_count": null,
      "outputs": [
        {
          "output_type": "execute_result",
          "data": {
            "text/plain": [
              "['1 seg',\n",
              " '2 seg',\n",
              " '3 seg',\n",
              " '4 seg',\n",
              " '5 seg',\n",
              " '6 seg',\n",
              " '7 seg',\n",
              " '8 seg',\n",
              " '9 seg',\n",
              " '10 seg']"
            ]
          },
          "metadata": {
            "tags": []
          },
          "execution_count": 14
        }
      ]
    },
    {
      "cell_type": "code",
      "metadata": {
        "id": "G3nDING2iwzX"
      },
      "source": [
        "def convertir_numero_a_negativo(numero):\n",
        "\n",
        "  return numero * -1"
      ],
      "execution_count": null,
      "outputs": []
    },
    {
      "cell_type": "code",
      "metadata": {
        "colab": {
          "base_uri": "https://localhost:8080/"
        },
        "id": "-J9ZHM77i5BL",
        "outputId": "b777d3e9-953e-4a40-f500-12c05fc417b0"
      },
      "source": [
        "list(map(convertir_numero_a_negativo, numeros))"
      ],
      "execution_count": null,
      "outputs": [
        {
          "output_type": "execute_result",
          "data": {
            "text/plain": [
              "[-1, -2, -3, -4, -5, -6, -7, -8, -9, -10]"
            ]
          },
          "metadata": {
            "tags": []
          },
          "execution_count": 16
        }
      ]
    },
    {
      "cell_type": "code",
      "metadata": {
        "id": "mgefl_zbi8B8"
      },
      "source": [
        "def convertir_a_0_si_menor_a_5(numero):\n",
        "\n",
        "  if numero < 5:\n",
        "\n",
        "    return 0\n",
        "\n",
        "  else:\n",
        "    return numero\n",
        "    "
      ],
      "execution_count": null,
      "outputs": []
    },
    {
      "cell_type": "code",
      "metadata": {
        "colab": {
          "base_uri": "https://localhost:8080/"
        },
        "id": "PpJNDxoPjQLs",
        "outputId": "3b4a7ff2-02b7-445c-980f-ebdaece98306"
      },
      "source": [
        "list(map(convertir_a_0_si_menor_a_5, numeros))"
      ],
      "execution_count": null,
      "outputs": [
        {
          "output_type": "execute_result",
          "data": {
            "text/plain": [
              "[0, 0, 0, 0, 5, 6, 7, 8, 9, 10]"
            ]
          },
          "metadata": {
            "tags": []
          },
          "execution_count": 18
        }
      ]
    },
    {
      "cell_type": "code",
      "metadata": {
        "id": "0VtulkfujVQj"
      },
      "source": [
        "def convertir_a_True_si_mayor_a_4(numero):\n",
        "\n",
        "  if numero > 4:\n",
        "    return True\n",
        "  else:\n",
        "    return False"
      ],
      "execution_count": null,
      "outputs": []
    },
    {
      "cell_type": "code",
      "metadata": {
        "colab": {
          "base_uri": "https://localhost:8080/"
        },
        "id": "mUrXNdXdjjg7",
        "outputId": "dee0c25f-4459-433c-ace8-58a4300a8b50"
      },
      "source": [
        "list(map(convertir_a_True_si_mayor_a_4, numeros))"
      ],
      "execution_count": null,
      "outputs": [
        {
          "output_type": "execute_result",
          "data": {
            "text/plain": [
              "[False, False, False, False, True, True, True, True, True, True]"
            ]
          },
          "metadata": {
            "tags": []
          },
          "execution_count": 20
        }
      ]
    },
    {
      "cell_type": "markdown",
      "metadata": {
        "id": "23IWkwO2m28l"
      },
      "source": [
        "## filter\n",
        "Toma una función y una lista, ve qué valor cumple con cierta condición y elimina aquellos que no lo hagan"
      ]
    },
    {
      "cell_type": "code",
      "metadata": {
        "id": "VnjFNdVEjoZ-"
      },
      "source": [
        "numero = [1, 2, 3, 4, 5, 6, 7, 8, 9, 10]"
      ],
      "execution_count": null,
      "outputs": []
    },
    {
      "cell_type": "code",
      "metadata": {
        "id": "PcbqLpb4nE11"
      },
      "source": [
        "def numero_es_par(numero):\n",
        "\n",
        "  if numero % 2 == 0:\n",
        "\n",
        "    return True\n",
        "  \n",
        "  else:\n",
        "\n",
        "    return False"
      ],
      "execution_count": null,
      "outputs": []
    },
    {
      "cell_type": "code",
      "metadata": {
        "colab": {
          "base_uri": "https://localhost:8080/"
        },
        "id": "wi5QxgBzn-kZ",
        "outputId": "76eede6c-ea1c-4129-a778-db9978e266f4"
      },
      "source": [
        "list(filter(numero_es_par, numero))"
      ],
      "execution_count": null,
      "outputs": [
        {
          "output_type": "execute_result",
          "data": {
            "text/plain": [
              "[2, 4, 6, 8, 10]"
            ]
          },
          "metadata": {
            "tags": []
          },
          "execution_count": 24
        }
      ]
    },
    {
      "cell_type": "code",
      "metadata": {
        "id": "enPv9L6QoCyJ"
      },
      "source": [
        "def numero_es_mayor_a_5(numero):\n",
        "\n",
        "  if numero > 5:\n",
        "\n",
        "    return True\n",
        "  \n",
        "  else:\n",
        "\n",
        "    return False"
      ],
      "execution_count": null,
      "outputs": []
    },
    {
      "cell_type": "code",
      "metadata": {
        "colab": {
          "base_uri": "https://localhost:8080/"
        },
        "id": "9L2nfkxuoLcY",
        "outputId": "8b37acce-34fd-4db2-9504-6b0864642948"
      },
      "source": [
        "list(filter(numero_es_mayor_a_5, numero))"
      ],
      "execution_count": null,
      "outputs": [
        {
          "output_type": "execute_result",
          "data": {
            "text/plain": [
              "[6, 7, 8, 9, 10]"
            ]
          },
          "metadata": {
            "tags": []
          },
          "execution_count": 26
        }
      ]
    },
    {
      "cell_type": "code",
      "metadata": {
        "id": "maWbXswboPiL"
      },
      "source": [
        "palabras = [\"achicoria\", \"pasto\", \"sol\", \"loquillo\", \"moquillo\", \"sed\", \"pez\", \"jacaranda\", \"mil\"]\n",
        "\n",
        "def palabra_tiene_mas_de_5_caracteres(palabra):\n",
        "\n",
        "  if len(palabra) > 5:\n",
        "    return True"
      ],
      "execution_count": null,
      "outputs": []
    },
    {
      "cell_type": "code",
      "metadata": {
        "colab": {
          "base_uri": "https://localhost:8080/"
        },
        "id": "upI2QKGxofVU",
        "outputId": "5c6d0816-aba0-4369-b1fe-901afc18b2c3"
      },
      "source": [
        "list(filter(palabra_tiene_mas_de_5_caracteres, palabras))"
      ],
      "execution_count": null,
      "outputs": [
        {
          "output_type": "execute_result",
          "data": {
            "text/plain": [
              "['achicoria', 'loquillo', 'moquillo', 'jacaranda']"
            ]
          },
          "metadata": {
            "tags": []
          },
          "execution_count": 29
        }
      ]
    },
    {
      "cell_type": "code",
      "metadata": {
        "id": "NzgeyrIzotE9"
      },
      "source": [
        "def numer_es_negativo(numero):\n",
        "\n",
        "  if numero < 0:\n",
        "\n",
        "    return True"
      ],
      "execution_count": null,
      "outputs": []
    },
    {
      "cell_type": "markdown",
      "metadata": {
        "id": "PbVmMaylsnKD"
      },
      "source": [
        "# Operadores lógicos\n",
        "\n",
        "AND ambas condiciones deben cumplirse para devolver True\n",
        "OR una debe cumplirse para que devuelva True\n",
        "NOT"
      ]
    },
    {
      "cell_type": "code",
      "metadata": {
        "colab": {
          "base_uri": "https://localhost:8080/"
        },
        "id": "2rUGHU5qo6AR",
        "outputId": "396e964a-9ac2-49e6-a721-24e87a1c24d2"
      },
      "source": [
        "usuario = \"Rafa\"\n",
        "password = \"1234\"\n",
        "usuario_input = input(\"Usuario\")\n",
        "password_input = input(\"Contraseña\")\n",
        "eval_1  = usuario == usuario_input\n",
        "eval_2 = password == password_input\n",
        "\n",
        "if eval_1 and eval_2:\n",
        "\n",
        "  print(\"Hola\")"
      ],
      "execution_count": null,
      "outputs": [
        {
          "output_type": "stream",
          "text": [
            "UsuarioRafa\n",
            "Contraseña1234\n",
            "Hola\n"
          ],
          "name": "stdout"
        }
      ]
    },
    {
      "cell_type": "code",
      "metadata": {
        "id": "O7HOyWbjucj9"
      },
      "source": [
        "numeros = [1, 2, 3, 4, 5, 6, 7, 8, 9, 10, 11, 12, 13, 14, 15, 16, 17, 18]"
      ],
      "execution_count": null,
      "outputs": []
    },
    {
      "cell_type": "code",
      "metadata": {
        "id": "DGUbzqyvu1Ui"
      },
      "source": [
        "def numero_es_divisible_entre_3(numero):\n",
        "\n",
        "  if numero % 3 == 0:\n",
        "    return True\n",
        "\n",
        "  else:\n",
        "\n",
        "    return False\n",
        "\n",
        "def numero_es_mayor_a_10(numero):\n",
        "\n",
        "  if numero > 10:\n",
        "    return True\n",
        "  \n",
        "  else:\n",
        "    return False"
      ],
      "execution_count": null,
      "outputs": []
    },
    {
      "cell_type": "code",
      "metadata": {
        "colab": {
          "base_uri": "https://localhost:8080/"
        },
        "id": "3SQ_WpNWvIs0",
        "outputId": "f6e56db6-006c-4986-84c8-08916b6f19d0"
      },
      "source": [
        "x = 12\n",
        "numero_es_divisible_entre_3(x) and numero_es_mayor_a_10(x)"
      ],
      "execution_count": null,
      "outputs": [
        {
          "output_type": "execute_result",
          "data": {
            "text/plain": [
              "True"
            ]
          },
          "metadata": {
            "tags": []
          },
          "execution_count": 37
        }
      ]
    },
    {
      "cell_type": "code",
      "metadata": {
        "id": "8qkzwr3ovWlk"
      },
      "source": [
        "def numero_es_divisible_entre_3_y_mayor_a_10(numero):\n",
        "\n",
        "  return numero_es_divisible_entre_3(numero) and numero_es_mayor_a_10(numero)"
      ],
      "execution_count": null,
      "outputs": []
    },
    {
      "cell_type": "code",
      "metadata": {
        "colab": {
          "base_uri": "https://localhost:8080/"
        },
        "id": "8iWCCp-Qvk02",
        "outputId": "efb9d8a2-c3c1-4a4c-c9b8-909909a569da"
      },
      "source": [
        "list(filter(numero_es_divisible_entre_3_y_mayor_a_10, numeros))"
      ],
      "execution_count": null,
      "outputs": [
        {
          "output_type": "execute_result",
          "data": {
            "text/plain": [
              "[12, 15, 18]"
            ]
          },
          "metadata": {
            "tags": []
          },
          "execution_count": 40
        }
      ]
    },
    {
      "cell_type": "code",
      "metadata": {
        "colab": {
          "base_uri": "https://localhost:8080/"
        },
        "id": "IhxOemTrvwS9",
        "outputId": "191cedb6-802d-4f23-93e3-52f0b2a813d2"
      },
      "source": [
        "clima = \"Lluvia\"\n",
        "\n",
        "if clima == \"Lluvia\" or clima == \"Aire\":\n",
        "  print(\"Levantar toldo\")\n",
        "\n",
        "else:\n",
        "  print(\"No levantar toldo\")"
      ],
      "execution_count": null,
      "outputs": [
        {
          "output_type": "stream",
          "text": [
            "Levantar toldo\n"
          ],
          "name": "stdout"
        }
      ]
    },
    {
      "cell_type": "code",
      "metadata": {
        "id": "k3I2RVW24HbH"
      },
      "source": [
        "def numero_es_divisible_entre_3_y_mayor_a_10(numero):\n",
        "\n",
        "  return numero_es_divisible_entre_3_y_mayor_a_10"
      ],
      "execution_count": null,
      "outputs": []
    },
    {
      "cell_type": "markdown",
      "metadata": {
        "id": "gj7L-JVI7itg"
      },
      "source": [
        "# Función lambda\n",
        "Es una función \"anónima\", toma todos los argumentos posibles pero solo realiza una expresión"
      ]
    },
    {
      "cell_type": "code",
      "metadata": {
        "colab": {
          "base_uri": "https://localhost:8080/"
        },
        "id": "AiZgQua67hOB",
        "outputId": "94704dc6-0d52-4a01-9a64-ba7decd2bbfa"
      },
      "source": [
        "#lambda argumento : lo que va a realizar(expresión única)\n",
        "lambda x : x *100"
      ],
      "execution_count": null,
      "outputs": [
        {
          "output_type": "execute_result",
          "data": {
            "text/plain": [
              "<function __main__.<lambda>>"
            ]
          },
          "metadata": {
            "tags": []
          },
          "execution_count": 46
        }
      ]
    },
    {
      "cell_type": "code",
      "metadata": {
        "id": "k_ILFMoK75-5"
      },
      "source": [
        "def funcion_alterna(x):\n",
        "  \n",
        "  return x * 100"
      ],
      "execution_count": null,
      "outputs": []
    },
    {
      "cell_type": "code",
      "metadata": {
        "colab": {
          "base_uri": "https://localhost:8080/"
        },
        "id": "R9XyHWbN7-1p",
        "outputId": "5345b090-e7dd-450c-eb0a-37300036e4bd"
      },
      "source": [
        "funcion_alterna"
      ],
      "execution_count": null,
      "outputs": [
        {
          "output_type": "execute_result",
          "data": {
            "text/plain": [
              "<function __main__.funcion_alterna>"
            ]
          },
          "metadata": {
            "tags": []
          },
          "execution_count": 48
        }
      ]
    },
    {
      "cell_type": "code",
      "metadata": {
        "id": "-vrCgmCE8AQa"
      },
      "source": [
        "var_lambda = lambda x: x + 10"
      ],
      "execution_count": null,
      "outputs": []
    },
    {
      "cell_type": "code",
      "metadata": {
        "colab": {
          "base_uri": "https://localhost:8080/"
        },
        "id": "aPzims-68uwo",
        "outputId": "1631789d-95c1-45ee-9e1a-b49398e23018"
      },
      "source": [
        "var_lambda(5)"
      ],
      "execution_count": null,
      "outputs": [
        {
          "output_type": "execute_result",
          "data": {
            "text/plain": [
              "15"
            ]
          },
          "metadata": {
            "tags": []
          },
          "execution_count": 51
        }
      ]
    },
    {
      "cell_type": "code",
      "metadata": {
        "id": "zEJvp4HN8vxG"
      },
      "source": [
        "numeros = [1, 2, 3, 4, 5, 6, 7, 8 ,9, 10,11 ,12 ,13 ,14]"
      ],
      "execution_count": null,
      "outputs": []
    },
    {
      "cell_type": "code",
      "metadata": {
        "id": "l65nRxH69OCR"
      },
      "source": [
        "def numero_es_divisible_entre_3(numero):\n",
        "\n",
        "  if numero % 3 == 0:\n",
        "    \n",
        "    return True\n",
        "\n",
        "  else:\n",
        "\n",
        "    return False"
      ],
      "execution_count": null,
      "outputs": []
    },
    {
      "cell_type": "code",
      "metadata": {
        "colab": {
          "base_uri": "https://localhost:8080/"
        },
        "id": "egXgYTZ59bey",
        "outputId": "bbefd442-04b3-43ea-ea6c-79dbd8884dbd"
      },
      "source": [
        "list(filter(numero_es_divisible_entre_3, numeros))"
      ],
      "execution_count": null,
      "outputs": [
        {
          "output_type": "execute_result",
          "data": {
            "text/plain": [
              "[3, 6, 9, 12]"
            ]
          },
          "metadata": {
            "tags": []
          },
          "execution_count": 54
        }
      ]
    },
    {
      "cell_type": "code",
      "metadata": {
        "colab": {
          "base_uri": "https://localhost:8080/"
        },
        "id": "XyYUiAdU9fU6",
        "outputId": "05951f8f-444f-4742-a04f-6e2cdca59941"
      },
      "source": [
        "#Simplificando con lambda\n",
        "list(filter(lambda numero: numero % 3 ==0, numeros))"
      ],
      "execution_count": null,
      "outputs": [
        {
          "output_type": "execute_result",
          "data": {
            "text/plain": [
              "[3, 6, 9, 12]"
            ]
          },
          "metadata": {
            "tags": []
          },
          "execution_count": 55
        }
      ]
    },
    {
      "cell_type": "code",
      "metadata": {
        "colab": {
          "base_uri": "https://localhost:8080/"
        },
        "id": "WFw3Npkb9kR4",
        "outputId": "056191a4-5302-4504-b560-82e638256894"
      },
      "source": [
        "list(filter(lambda x: not numero_es_divisible_entre_3(x), numeros))"
      ],
      "execution_count": null,
      "outputs": [
        {
          "output_type": "execute_result",
          "data": {
            "text/plain": [
              "[1, 2, 4, 5, 7, 8, 10, 11, 13, 14]"
            ]
          },
          "metadata": {
            "tags": []
          },
          "execution_count": 56
        }
      ]
    },
    {
      "cell_type": "code",
      "metadata": {
        "colab": {
          "base_uri": "https://localhost:8080/"
        },
        "id": "v2NPkYT_-CUV",
        "outputId": "f7ab54fc-6c30-4c16-c6b6-a50f4cc64377"
      },
      "source": [
        "palabras = [\"achicoria\", \"pasto\", \"sol\", \"loquillo\", \"moquillo\", \"sed\", \"pez\", \"jacaranda\", \"mil\"]\n",
        "\n",
        "list(filter(lambda x: len(x) > 5, palabras))"
      ],
      "execution_count": null,
      "outputs": [
        {
          "output_type": "execute_result",
          "data": {
            "text/plain": [
              "['achicoria', 'loquillo', 'moquillo', 'jacaranda']"
            ]
          },
          "metadata": {
            "tags": []
          },
          "execution_count": 58
        }
      ]
    },
    {
      "cell_type": "code",
      "metadata": {
        "colab": {
          "base_uri": "https://localhost:8080/"
        },
        "id": "sOYsH2IG-fKl",
        "outputId": "489a82a0-4a3b-44d2-8798-62b431ff740b"
      },
      "source": [
        "numeros = [-1, 4, 5, 6, -5, 7, -3]\n",
        "\n",
        "list(filter(lambda x: x < 0, numeros))"
      ],
      "execution_count": null,
      "outputs": [
        {
          "output_type": "execute_result",
          "data": {
            "text/plain": [
              "[-1, -5, -3]"
            ]
          },
          "metadata": {
            "tags": []
          },
          "execution_count": 60
        }
      ]
    },
    {
      "cell_type": "code",
      "metadata": {
        "colab": {
          "base_uri": "https://localhost:8080/"
        },
        "id": "XcZvN5Pj-uYj",
        "outputId": "83bb0832-d1fb-424a-9e8f-63f8e1d941b2"
      },
      "source": [
        "list(filter(lambda x: not x < 0, numeros))"
      ],
      "execution_count": null,
      "outputs": [
        {
          "output_type": "execute_result",
          "data": {
            "text/plain": [
              "[4, 5, 6, 7]"
            ]
          },
          "metadata": {
            "tags": []
          },
          "execution_count": 61
        }
      ]
    },
    {
      "cell_type": "code",
      "metadata": {
        "id": "G2i3Q1Mu-6qF"
      },
      "source": [
        ""
      ],
      "execution_count": null,
      "outputs": []
    }
  ]
}