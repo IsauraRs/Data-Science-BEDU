{
  "nbformat": 4,
  "nbformat_minor": 0,
  "metadata": {
    "kernelspec": {
      "display_name": "Python 3",
      "language": "python",
      "name": "python3"
    },
    "language_info": {
      "codemirror_mode": {
        "name": "ipython",
        "version": 3
      },
      "file_extension": ".py",
      "mimetype": "text/x-python",
      "name": "python",
      "nbconvert_exporter": "python",
      "pygments_lexer": "ipython3",
      "version": "3.8.3"
    },
    "colab": {
      "name": "Reto4_S03.ipynb",
      "provenance": [],
      "collapsed_sections": [],
      "include_colab_link": true
    }
  },
  "cells": [
    {
      "cell_type": "markdown",
      "metadata": {
        "id": "view-in-github",
        "colab_type": "text"
      },
      "source": [
        "<a href=\"https://colab.research.google.com/github/IsauraRs/Data-Science-BEDU/blob/master/M%C3%B3dulo2/Python/Sesi%C3%B3n3/Reto4_S03.ipynb\" target=\"_parent\"><img src=\"https://colab.research.google.com/assets/colab-badge.svg\" alt=\"Open In Colab\"/></a>"
      ]
    },
    {
      "cell_type": "markdown",
      "metadata": {
        "id": "vhbdI-wl4cuW"
      },
      "source": [
        "## Reto 4: Or\n",
        "\n",
        "### 1. Objetivos:\n",
        "    - Practicar el operador `or` y usarlo para realizar filtros más complejos\n",
        " \n",
        "---\n",
        "    \n",
        "### 2. Desarrollo:"
      ]
    },
    {
      "cell_type": "markdown",
      "metadata": {
        "id": "GBvW26ea4cud"
      },
      "source": [
        "#### a) Filtrando palabras\n",
        "\n",
        "Eres el organizador del Concurso Nacional de Deletreo \"Salvador Novo\". Por una bella coincidencia, este año el día del concurso cae justo el mismo día que el Día del Orgullo LGBT. Dado que Salvador Novo era homosexual, te parece muy apropiado que el concurso de deletreo funcione como una celebración de su \"belicosa homosexualidad\" (como la llamaba Carlos Monsiváis). Se te ocurre hacer lo siguiente:\n",
        "\n",
        "De la lista de palabras que tenías originalmente para el concurso, vas a filtrar las palabras para que sólo tengas palabras que empiecen con \"l\" **o** o con \"g\" **o** con \"b\" **o** con \"t\".\n",
        "\n",
        "Aquí está tu lista original de palabras:"
      ]
    },
    {
      "cell_type": "code",
      "metadata": {
        "id": "ngp6UKqa4cuf"
      },
      "source": [
        "palabras = ['cabildo', 'genocidio', 'severo', 'jarana', 'enigmático', 'jaguar', 'solidaridad', 'reivindicar', 'bálsamo', 'panteón',\n",
        "            'cabestrillo', 'boicotear', 'letargo', 'jaqueca', 'tentáculo', 'legislar', 'gnomo', 'blasfemia', 'camposanto',\n",
        "            'factible', 'eficaz', 'sintonía', 'lloriquear', 'fachada', 'edificante', 'pétalo', 'libélula', 'pavimento', 'llovizna',\n",
        "            'racimo', 'gargantilla', 'relieve', 'bóveda', 'tecnicismo', 'terraplén', 'basílica']"
      ],
      "execution_count": null,
      "outputs": []
    },
    {
      "cell_type": "markdown",
      "metadata": {
        "id": "39Y8yv9-4cug"
      },
      "source": [
        "1. Escribe 4 funciones, para cada una de las letras del acrónimo LGBT. Las funciones van a regresar `True` sólo si la palabra comienza con la letra que le corresponde.\n",
        "\n",
        "    Por ejemplo, la función `palabra_comienza_con_l` va a regresar `True` sólo si la palabra comienza con `l`.\n",
        "\n",
        "2. Después, define una función que sea la unión de estas 4 funciones y regrese `True` si la palabra comienza con alguna de las letras del acrónimo LGBT.\n",
        "\n",
        "3. Finalmente filtra la `lista` `palabras` para tener una nueva lista que será la `lista` usada para el concurso.\n",
        "\n",
        "> **Tip #1**: Las `strings` pueden ser accedas igual que las listas, así que si quieres acceder a la primera letra de una palabra basta con usar `palabra[0]`, como si fuera el primer índice de una `lista`.\n",
        "\n",
        "> **Tip #2**: Hasta ahora sólo hemos usando operadores `lógicos` con 1 o 2 comparaciones. Juntar más de dos comparaciones es tan fácil como escribir: \n",
        "\n",
        "```python\n",
        "comparacion_1 or comparacion_2 or comparacion_3 or comparacion_4\n",
        "```"
      ]
    },
    {
      "cell_type": "code",
      "metadata": {
        "id": "pKIzv9Hf4cuh"
      },
      "source": [
        "# Aquí va la función para filtrar \"l\"\n",
        "import re\n",
        "def palabra_comienza_con_l(palabra):\n",
        "\n",
        "  if re.match(\"^l\", palabra):\n",
        "    return True\n",
        "    "
      ],
      "execution_count": null,
      "outputs": []
    },
    {
      "cell_type": "code",
      "metadata": {
        "id": "8sre84EA4cui"
      },
      "source": [
        "# Aquí va la función para filtrar \"g\"\n",
        "def palabra_comienza_con_g(palabra):\n",
        "\n",
        "  if re.match(\"^g\", palabra):\n",
        "    return True"
      ],
      "execution_count": null,
      "outputs": []
    },
    {
      "cell_type": "code",
      "metadata": {
        "id": "e3Sow-cU4cuj"
      },
      "source": [
        "# Aquí va la función para filtrar \"b\"\n",
        "def palabra_comienza_con_b(palabra):\n",
        "  \n",
        "  if re.match(\"^b\", palabra):\n",
        "    return True"
      ],
      "execution_count": null,
      "outputs": []
    },
    {
      "cell_type": "code",
      "metadata": {
        "id": "7I8Q__JG4cuj"
      },
      "source": [
        "# Aquí va la función para filtrar \"t\"\n",
        "def palabra_comienza_con_t(palabra):\n",
        "\n",
        "  if re.match(\"^t\", palabra):\n",
        "    return True"
      ],
      "execution_count": null,
      "outputs": []
    },
    {
      "cell_type": "code",
      "metadata": {
        "id": "4bin1DMT4cuj"
      },
      "source": [
        "# Aquí va la función para unir las 4 funciones anteriores\n",
        "def lgbt_filter(palabra):\n",
        "\n",
        "  if palabra_comienza_con_l == True or palabra_comienza_con_g == True or palabra_comienza_con_b"
      ],
      "execution_count": null,
      "outputs": []
    },
    {
      "cell_type": "code",
      "metadata": {
        "id": "SRqx64f24cuk"
      },
      "source": [
        "palabras_filtradas ="
      ],
      "execution_count": null,
      "outputs": []
    },
    {
      "cell_type": "code",
      "metadata": {
        "id": "lz8Tb2C-4cuk"
      },
      "source": [
        "print(f'==Concurso Nacional de Deletreo \"Salvador Novo\"==\\n')\n",
        "print(f'Lista oficial de palabras: {palabras_filtradas}')"
      ],
      "execution_count": null,
      "outputs": []
    }
  ]
}