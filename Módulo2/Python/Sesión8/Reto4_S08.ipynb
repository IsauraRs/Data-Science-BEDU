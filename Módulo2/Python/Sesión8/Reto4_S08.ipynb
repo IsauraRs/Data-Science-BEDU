{
  "nbformat": 4,
  "nbformat_minor": 0,
  "metadata": {
    "kernelspec": {
      "display_name": "Python 3",
      "language": "python",
      "name": "python3"
    },
    "language_info": {
      "codemirror_mode": {
        "name": "ipython",
        "version": 3
      },
      "file_extension": ".py",
      "mimetype": "text/x-python",
      "name": "python",
      "nbconvert_exporter": "python",
      "pygments_lexer": "ipython3",
      "version": "3.8.3"
    },
    "colab": {
      "name": "Reto4_S08.ipynb",
      "provenance": [],
      "collapsed_sections": [],
      "include_colab_link": true
    }
  },
  "cells": [
    {
      "cell_type": "markdown",
      "metadata": {
        "id": "view-in-github",
        "colab_type": "text"
      },
      "source": [
        "<a href=\"https://colab.research.google.com/github/IsauraRs/Data-Science-BEDU/blob/master/M%C3%B3dulo2/Python/Sesi%C3%B3n8/Reto4_S08.ipynb\" target=\"_parent\"><img src=\"https://colab.research.google.com/assets/colab-badge.svg\" alt=\"Open In Colab\"/></a>"
      ]
    },
    {
      "cell_type": "markdown",
      "metadata": {
        "id": "fKJjUIvXLunb"
      },
      "source": [
        "## Reto 4: Las mejores 50\n",
        "\n",
        "### 1. Objetivos:\n",
        "    - Practicar las siguientes herramientas:\n",
        "        - Lectura de .csv\n",
        "        - Agrupaciones y reducciones\n",
        "        - Reordenamiento\n",
        "        - Unión de `DataFrames` usando `merge`\n",
        "    \n",
        "---\n",
        "    \n",
        "### 2. Desarrollo:"
      ]
    },
    {
      "cell_type": "markdown",
      "metadata": {
        "id": "osRpVHQxLunh"
      },
      "source": [
        "#### a) Las 50 películas con mejor rating\n",
        "\n",
        "Vamos a hacer una visualización muy sencilla de las 50 películas que tienen mejor rating en nuestro dataset. Tu Reto consiste en seguir los siguientes pasos:\n",
        "\n",
        "1. Lee los archivos `movies` y `ratings`.\n",
        "2. Agrupa `ratings` por id de película y computa el promedio de `rating` para cada película\n",
        "3. Crea un nuevo `DataFrame` que sólo contenga las 50 películas con mejor promedio de ratings\n",
        "4. Agrega al `DataFrame` anterior los nombres de las películas usando la tabla `movies`.\n",
        "5. Al final tendrás un `DataFrame` con los nombres de las 50 películas con mejor rating ('title') y el promedio de sus ratings ('rating'). Asigna este resultado a la variable `las_mejores_50`."
      ]
    },
    {
      "cell_type": "code",
      "metadata": {
        "id": "rPjoDEH2MUHI",
        "colab": {
          "base_uri": "https://localhost:8080/"
        },
        "outputId": "6f650070-c83b-4f9e-b940-5c0b356f4d54"
      },
      "source": [
        "!pip install mysql-connector-python"
      ],
      "execution_count": null,
      "outputs": [
        {
          "output_type": "stream",
          "text": [
            "Collecting mysql-connector-python\n",
            "\u001b[?25l  Downloading https://files.pythonhosted.org/packages/de/f7/b783b60a3bd8aea348990c60fb0b3ed2f843c6f40ad29e37a89a5d50d7a3/mysql_connector_python-8.0.23-cp37-cp37m-manylinux1_x86_64.whl (18.0MB)\n",
            "\u001b[K     |████████████████████████████████| 18.1MB 1.2MB/s \n",
            "\u001b[?25hRequirement already satisfied: protobuf>=3.0.0 in /usr/local/lib/python3.7/dist-packages (from mysql-connector-python) (3.12.4)\n",
            "Requirement already satisfied: setuptools in /usr/local/lib/python3.7/dist-packages (from protobuf>=3.0.0->mysql-connector-python) (54.0.0)\n",
            "Requirement already satisfied: six>=1.9 in /usr/local/lib/python3.7/dist-packages (from protobuf>=3.0.0->mysql-connector-python) (1.15.0)\n",
            "Installing collected packages: mysql-connector-python\n",
            "Successfully installed mysql-connector-python-8.0.23\n"
          ],
          "name": "stdout"
        }
      ]
    },
    {
      "cell_type": "code",
      "metadata": {
        "id": "_WfL6hQgMWnv"
      },
      "source": [
        "import mysql.connector\n",
        "import pandas as pd"
      ],
      "execution_count": null,
      "outputs": []
    },
    {
      "cell_type": "code",
      "metadata": {
        "id": "IXRTCBwYN6Bi",
        "colab": {
          "base_uri": "https://localhost:8080/"
        },
        "outputId": "40af0c81-d78d-4fa0-f6ec-633bc141bb2c"
      },
      "source": [
        "movies = pd.read_csv(\"/content/drive/MyDrive/Datasets/MovieLens/movies-separated_by_money-raw.csv\",error_bad_lines=False)\n"
      ],
      "execution_count": null,
      "outputs": [
        {
          "output_type": "stream",
          "text": [
            "b'Skipping line 12: expected 1 fields, saw 2\\nSkipping line 30: expected 1 fields, saw 2\\nSkipping line 41: expected 1 fields, saw 2\\nSkipping line 51: expected 1 fields, saw 2\\nSkipping line 55: expected 1 fields, saw 2\\nSkipping line 59: expected 1 fields, saw 2\\nSkipping line 60: expected 1 fields, saw 2\\nSkipping line 61: expected 1 fields, saw 2\\nSkipping line 74: expected 1 fields, saw 2\\nSkipping line 79: expected 1 fields, saw 2\\nSkipping line 80: expected 1 fields, saw 2\\nSkipping line 81: expected 1 fields, saw 2\\nSkipping line 91: expected 1 fields, saw 2\\nSkipping line 97: expected 1 fields, saw 2\\nSkipping line 105: expected 1 fields, saw 2\\nSkipping line 117: expected 1 fields, saw 2\\nSkipping line 119: expected 1 fields, saw 2\\nSkipping line 121: expected 1 fields, saw 2\\nSkipping line 124: expected 1 fields, saw 3\\nSkipping line 126: expected 1 fields, saw 2\\nSkipping line 127: expected 1 fields, saw 2\\nSkipping line 138: expected 1 fields, saw 2\\nSkipping line 141: expected 1 fields, saw 2\\nSkipping line 144: expected 1 fields, saw 2\\nSkipping line 146: expected 1 fields, saw 2\\nSkipping line 147: expected 1 fields, saw 2\\nSkipping line 148: expected 1 fields, saw 2\\nSkipping line 152: expected 1 fields, saw 2\\nSkipping line 166: expected 1 fields, saw 2\\nSkipping line 185: expected 1 fields, saw 2\\nSkipping line 188: expected 1 fields, saw 2\\nSkipping line 191: expected 1 fields, saw 2\\nSkipping line 192: expected 1 fields, saw 2\\nSkipping line 197: expected 1 fields, saw 2\\nSkipping line 199: expected 1 fields, saw 3\\nSkipping line 200: expected 1 fields, saw 2\\nSkipping line 203: expected 1 fields, saw 2\\nSkipping line 207: expected 1 fields, saw 2\\nSkipping line 211: expected 1 fields, saw 2\\nSkipping line 217: expected 1 fields, saw 2\\nSkipping line 219: expected 1 fields, saw 2\\nSkipping line 238: expected 1 fields, saw 2\\nSkipping line 244: expected 1 fields, saw 2\\nSkipping line 250: expected 1 fields, saw 2\\nSkipping line 254: expected 1 fields, saw 2\\nSkipping line 257: expected 1 fields, saw 2\\nSkipping line 261: expected 1 fields, saw 2\\nSkipping line 263: expected 1 fields, saw 2\\nSkipping line 271: expected 1 fields, saw 2\\nSkipping line 292: expected 1 fields, saw 2\\nSkipping line 293: expected 1 fields, saw 2\\nSkipping line 294: expected 1 fields, saw 2\\nSkipping line 302: expected 1 fields, saw 2\\nSkipping line 308: expected 1 fields, saw 2\\nSkipping line 312: expected 1 fields, saw 2\\nSkipping line 313: expected 1 fields, saw 2\\nSkipping line 314: expected 1 fields, saw 2\\nSkipping line 316: expected 1 fields, saw 2\\nSkipping line 317: expected 1 fields, saw 2\\nSkipping line 322: expected 1 fields, saw 2\\nSkipping line 333: expected 1 fields, saw 2\\nSkipping line 334: expected 1 fields, saw 2\\nSkipping line 338: expected 1 fields, saw 2\\nSkipping line 341: expected 1 fields, saw 2\\nSkipping line 343: expected 1 fields, saw 3\\nSkipping line 348: expected 1 fields, saw 2\\nSkipping line 349: expected 1 fields, saw 2\\nSkipping line 351: expected 1 fields, saw 2\\nSkipping line 353: expected 1 fields, saw 2\\nSkipping line 360: expected 1 fields, saw 2\\nSkipping line 361: expected 1 fields, saw 3\\nSkipping line 362: expected 1 fields, saw 2\\nSkipping line 365: expected 1 fields, saw 2\\nSkipping line 369: expected 1 fields, saw 2\\nSkipping line 374: expected 1 fields, saw 2\\nSkipping line 383: expected 1 fields, saw 2\\nSkipping line 385: expected 1 fields, saw 2\\nSkipping line 387: expected 1 fields, saw 2\\nSkipping line 390: expected 1 fields, saw 2\\nSkipping line 395: expected 1 fields, saw 2\\nSkipping line 410: expected 1 fields, saw 2\\nSkipping line 412: expected 1 fields, saw 2\\nSkipping line 417: expected 1 fields, saw 2\\nSkipping line 426: expected 1 fields, saw 2\\nSkipping line 436: expected 1 fields, saw 2\\nSkipping line 441: expected 1 fields, saw 2\\nSkipping line 445: expected 1 fields, saw 2\\nSkipping line 452: expected 1 fields, saw 2\\nSkipping line 455: expected 1 fields, saw 2\\nSkipping line 457: expected 1 fields, saw 2\\nSkipping line 460: expected 1 fields, saw 2\\nSkipping line 466: expected 1 fields, saw 3\\nSkipping line 467: expected 1 fields, saw 2\\nSkipping line 469: expected 1 fields, saw 2\\nSkipping line 474: expected 1 fields, saw 2\\nSkipping line 489: expected 1 fields, saw 2\\nSkipping line 500: expected 1 fields, saw 2\\nSkipping line 501: expected 1 fields, saw 2\\nSkipping line 505: expected 1 fields, saw 2\\nSkipping line 507: expected 1 fields, saw 2\\nSkipping line 509: expected 1 fields, saw 2\\nSkipping line 512: expected 1 fields, saw 2\\nSkipping line 513: expected 1 fields, saw 2\\nSkipping line 516: expected 1 fields, saw 2\\nSkipping line 523: expected 1 fields, saw 2\\nSkipping line 524: expected 1 fields, saw 2\\nSkipping line 526: expected 1 fields, saw 2\\nSkipping line 529: expected 1 fields, saw 2\\nSkipping line 531: expected 1 fields, saw 2\\nSkipping line 534: expected 1 fields, saw 2\\nSkipping line 549: expected 1 fields, saw 2\\nSkipping line 550: expected 1 fields, saw 2\\nSkipping line 554: expected 1 fields, saw 2\\nSkipping line 556: expected 1 fields, saw 2\\nSkipping line 557: expected 1 fields, saw 2\\nSkipping line 558: expected 1 fields, saw 3\\nSkipping line 568: expected 1 fields, saw 2\\nSkipping line 569: expected 1 fields, saw 2\\nSkipping line 571: expected 1 fields, saw 2\\nSkipping line 573: expected 1 fields, saw 2\\nSkipping line 576: expected 1 fields, saw 2\\nSkipping line 577: expected 1 fields, saw 2\\nSkipping line 579: expected 1 fields, saw 2\\nSkipping line 583: expected 1 fields, saw 2\\nSkipping line 591: expected 1 fields, saw 2\\nSkipping line 597: expected 1 fields, saw 2\\nSkipping line 599: expected 1 fields, saw 2\\nSkipping line 600: expected 1 fields, saw 2\\nSkipping line 601: expected 1 fields, saw 2\\nSkipping line 610: expected 1 fields, saw 2\\nSkipping line 614: expected 1 fields, saw 2\\nSkipping line 615: expected 1 fields, saw 2\\nSkipping line 620: expected 1 fields, saw 2\\nSkipping line 623: expected 1 fields, saw 2\\nSkipping line 624: expected 1 fields, saw 2\\nSkipping line 632: expected 1 fields, saw 2\\nSkipping line 638: expected 1 fields, saw 2\\nSkipping line 647: expected 1 fields, saw 2\\nSkipping line 648: expected 1 fields, saw 2\\nSkipping line 666: expected 1 fields, saw 2\\nSkipping line 674: expected 1 fields, saw 2\\nSkipping line 678: expected 1 fields, saw 3\\nSkipping line 683: expected 1 fields, saw 3\\nSkipping line 687: expected 1 fields, saw 2\\nSkipping line 697: expected 1 fields, saw 2\\nSkipping line 701: expected 1 fields, saw 2\\nSkipping line 708: expected 1 fields, saw 3\\nSkipping line 711: expected 1 fields, saw 2\\nSkipping line 715: expected 1 fields, saw 2\\nSkipping line 717: expected 1 fields, saw 2\\nSkipping line 718: expected 1 fields, saw 2\\nSkipping line 722: expected 1 fields, saw 2\\nSkipping line 723: expected 1 fields, saw 2\\nSkipping line 726: expected 1 fields, saw 2\\nSkipping line 731: expected 1 fields, saw 2\\nSkipping line 737: expected 1 fields, saw 2\\nSkipping line 739: expected 1 fields, saw 2\\nSkipping line 740: expected 1 fields, saw 2\\nSkipping line 741: expected 1 fields, saw 2\\nSkipping line 745: expected 1 fields, saw 2\\nSkipping line 750: expected 1 fields, saw 2\\nSkipping line 753: expected 1 fields, saw 2\\nSkipping line 755: expected 1 fields, saw 2\\nSkipping line 759: expected 1 fields, saw 2\\nSkipping line 763: expected 1 fields, saw 2\\nSkipping line 774: expected 1 fields, saw 2\\nSkipping line 775: expected 1 fields, saw 2\\nSkipping line 776: expected 1 fields, saw 2\\nSkipping line 779: expected 1 fields, saw 2\\nSkipping line 780: expected 1 fields, saw 2\\nSkipping line 781: expected 1 fields, saw 3\\nSkipping line 783: expected 1 fields, saw 3\\nSkipping line 784: expected 1 fields, saw 2\\nSkipping line 788: expected 1 fields, saw 2\\nSkipping line 789: expected 1 fields, saw 3\\nSkipping line 791: expected 1 fields, saw 2\\nSkipping line 797: expected 1 fields, saw 2\\nSkipping line 799: expected 1 fields, saw 2\\nSkipping line 803: expected 1 fields, saw 2\\nSkipping line 806: expected 1 fields, saw 2\\nSkipping line 809: expected 1 fields, saw 2\\nSkipping line 811: expected 1 fields, saw 2\\nSkipping line 812: expected 1 fields, saw 2\\nSkipping line 814: expected 1 fields, saw 2\\nSkipping line 818: expected 1 fields, saw 3\\nSkipping line 819: expected 1 fields, saw 2\\nSkipping line 821: expected 1 fields, saw 2\\nSkipping line 830: expected 1 fields, saw 2\\nSkipping line 835: expected 1 fields, saw 2\\nSkipping line 836: expected 1 fields, saw 2\\nSkipping line 838: expected 1 fields, saw 2\\nSkipping line 839: expected 1 fields, saw 2\\nSkipping line 845: expected 1 fields, saw 2\\nSkipping line 849: expected 1 fields, saw 2\\nSkipping line 850: expected 1 fields, saw 2\\nSkipping line 851: expected 1 fields, saw 3\\nSkipping line 855: expected 1 fields, saw 2\\nSkipping line 870: expected 1 fields, saw 2\\nSkipping line 871: expected 1 fields, saw 2\\nSkipping line 873: expected 1 fields, saw 2\\nSkipping line 888: expected 1 fields, saw 2\\nSkipping line 890: expected 1 fields, saw 2\\nSkipping line 897: expected 1 fields, saw 2\\nSkipping line 899: expected 1 fields, saw 2\\nSkipping line 903: expected 1 fields, saw 2\\nSkipping line 907: expected 1 fields, saw 2\\nSkipping line 909: expected 1 fields, saw 2\\nSkipping line 917: expected 1 fields, saw 2\\nSkipping line 922: expected 1 fields, saw 2\\nSkipping line 925: expected 1 fields, saw 2\\nSkipping line 929: expected 1 fields, saw 2\\nSkipping line 930: expected 1 fields, saw 2\\nSkipping line 931: expected 1 fields, saw 2\\nSkipping line 933: expected 1 fields, saw 2\\nSkipping line 940: expected 1 fields, saw 2\\nSkipping line 947: expected 1 fields, saw 2\\nSkipping line 953: expected 1 fields, saw 2\\nSkipping line 955: expected 1 fields, saw 2\\nSkipping line 956: expected 1 fields, saw 2\\nSkipping line 957: expected 1 fields, saw 2\\nSkipping line 959: expected 1 fields, saw 2\\nSkipping line 962: expected 1 fields, saw 2\\nSkipping line 966: expected 1 fields, saw 2\\nSkipping line 968: expected 1 fields, saw 3\\nSkipping line 974: expected 1 fields, saw 2\\nSkipping line 982: expected 1 fields, saw 2\\nSkipping line 990: expected 1 fields, saw 2\\nSkipping line 993: expected 1 fields, saw 2\\nSkipping line 995: expected 1 fields, saw 2\\nSkipping line 996: expected 1 fields, saw 2\\nSkipping line 997: expected 1 fields, saw 2\\nSkipping line 999: expected 1 fields, saw 2\\nSkipping line 1002: expected 1 fields, saw 2\\nSkipping line 1005: expected 1 fields, saw 2\\nSkipping line 1008: expected 1 fields, saw 2\\nSkipping line 1013: expected 1 fields, saw 2\\nSkipping line 1014: expected 1 fields, saw 2\\nSkipping line 1022: expected 1 fields, saw 2\\nSkipping line 1024: expected 1 fields, saw 2\\nSkipping line 1026: expected 1 fields, saw 2\\nSkipping line 1029: expected 1 fields, saw 2\\nSkipping line 1036: expected 1 fields, saw 2\\nSkipping line 1037: expected 1 fields, saw 2\\nSkipping line 1040: expected 1 fields, saw 2\\nSkipping line 1050: expected 1 fields, saw 2\\nSkipping line 1053: expected 1 fields, saw 2\\nSkipping line 1055: expected 1 fields, saw 2\\nSkipping line 1057: expected 1 fields, saw 2\\nSkipping line 1061: expected 1 fields, saw 2\\nSkipping line 1062: expected 1 fields, saw 2\\nSkipping line 1065: expected 1 fields, saw 2\\nSkipping line 1068: expected 1 fields, saw 2\\nSkipping line 1069: expected 1 fields, saw 2\\nSkipping line 1071: expected 1 fields, saw 2\\nSkipping line 1079: expected 1 fields, saw 2\\nSkipping line 1080: expected 1 fields, saw 2\\nSkipping line 1084: expected 1 fields, saw 2\\nSkipping line 1085: expected 1 fields, saw 2\\nSkipping line 1090: expected 1 fields, saw 2\\nSkipping line 1092: expected 1 fields, saw 2\\nSkipping line 1099: expected 1 fields, saw 2\\nSkipping line 1100: expected 1 fields, saw 2\\nSkipping line 1102: expected 1 fields, saw 2\\nSkipping line 1103: expected 1 fields, saw 2\\nSkipping line 1106: expected 1 fields, saw 2\\nSkipping line 1109: expected 1 fields, saw 2\\nSkipping line 1111: expected 1 fields, saw 2\\nSkipping line 1113: expected 1 fields, saw 2\\nSkipping line 1114: expected 1 fields, saw 2\\nSkipping line 1116: expected 1 fields, saw 2\\nSkipping line 1130: expected 1 fields, saw 2\\nSkipping line 1134: expected 1 fields, saw 2\\nSkipping line 1136: expected 1 fields, saw 3\\nSkipping line 1141: expected 1 fields, saw 2\\nSkipping line 1142: expected 1 fields, saw 3\\nSkipping line 1143: expected 1 fields, saw 2\\nSkipping line 1147: expected 1 fields, saw 3\\nSkipping line 1148: expected 1 fields, saw 2\\nSkipping line 1151: expected 1 fields, saw 2\\nSkipping line 1159: expected 1 fields, saw 2\\nSkipping line 1162: expected 1 fields, saw 2\\nSkipping line 1165: expected 1 fields, saw 2\\nSkipping line 1167: expected 1 fields, saw 2\\nSkipping line 1168: expected 1 fields, saw 2\\nSkipping line 1171: expected 1 fields, saw 3\\nSkipping line 1174: expected 1 fields, saw 2\\nSkipping line 1181: expected 1 fields, saw 2\\nSkipping line 1185: expected 1 fields, saw 3\\nSkipping line 1189: expected 1 fields, saw 2\\nSkipping line 1190: expected 1 fields, saw 2\\nSkipping line 1196: expected 1 fields, saw 2\\nSkipping line 1200: expected 1 fields, saw 2\\nSkipping line 1202: expected 1 fields, saw 2\\nSkipping line 1204: expected 1 fields, saw 2\\nSkipping line 1205: expected 1 fields, saw 2\\nSkipping line 1207: expected 1 fields, saw 2\\nSkipping line 1210: expected 1 fields, saw 2\\nSkipping line 1214: expected 1 fields, saw 2\\nSkipping line 1216: expected 1 fields, saw 2\\nSkipping line 1217: expected 1 fields, saw 2\\nSkipping line 1220: expected 1 fields, saw 3\\nSkipping line 1222: expected 1 fields, saw 2\\nSkipping line 1229: expected 1 fields, saw 2\\nSkipping line 1232: expected 1 fields, saw 2\\nSkipping line 1235: expected 1 fields, saw 2\\nSkipping line 1236: expected 1 fields, saw 2\\nSkipping line 1240: expected 1 fields, saw 2\\nSkipping line 1244: expected 1 fields, saw 2\\nSkipping line 1245: expected 1 fields, saw 2\\nSkipping line 1249: expected 1 fields, saw 2\\nSkipping line 1263: expected 1 fields, saw 2\\nSkipping line 1266: expected 1 fields, saw 2\\nSkipping line 1277: expected 1 fields, saw 2\\nSkipping line 1278: expected 1 fields, saw 2\\nSkipping line 1281: expected 1 fields, saw 2\\nSkipping line 1285: expected 1 fields, saw 2\\nSkipping line 1287: expected 1 fields, saw 2\\nSkipping line 1303: expected 1 fields, saw 2\\nSkipping line 1309: expected 1 fields, saw 2\\nSkipping line 1310: expected 1 fields, saw 2\\nSkipping line 1314: expected 1 fields, saw 2\\nSkipping line 1315: expected 1 fields, saw 2\\nSkipping line 1316: expected 1 fields, saw 2\\nSkipping line 1319: expected 1 fields, saw 2\\nSkipping line 1328: expected 1 fields, saw 2\\nSkipping line 1329: expected 1 fields, saw 2\\nSkipping line 1331: expected 1 fields, saw 2\\nSkipping line 1334: expected 1 fields, saw 2\\nSkipping line 1343: expected 1 fields, saw 3\\nSkipping line 1344: expected 1 fields, saw 2\\nSkipping line 1347: expected 1 fields, saw 2\\nSkipping line 1349: expected 1 fields, saw 3\\nSkipping line 1365: expected 1 fields, saw 2\\nSkipping line 1385: expected 1 fields, saw 2\\nSkipping line 1387: expected 1 fields, saw 2\\nSkipping line 1389: expected 1 fields, saw 2\\nSkipping line 1392: expected 1 fields, saw 2\\nSkipping line 1394: expected 1 fields, saw 2\\nSkipping line 1396: expected 1 fields, saw 2\\nSkipping line 1411: expected 1 fields, saw 2\\nSkipping line 1412: expected 1 fields, saw 2\\nSkipping line 1414: expected 1 fields, saw 2\\nSkipping line 1420: expected 1 fields, saw 2\\nSkipping line 1428: expected 1 fields, saw 2\\nSkipping line 1431: expected 1 fields, saw 2\\nSkipping line 1452: expected 1 fields, saw 2\\nSkipping line 1454: expected 1 fields, saw 2\\nSkipping line 1456: expected 1 fields, saw 2\\nSkipping line 1458: expected 1 fields, saw 2\\nSkipping line 1460: expected 1 fields, saw 2\\nSkipping line 1464: expected 1 fields, saw 2\\nSkipping line 1478: expected 1 fields, saw 2\\nSkipping line 1489: expected 1 fields, saw 2\\nSkipping line 1490: expected 1 fields, saw 2\\nSkipping line 1493: expected 1 fields, saw 2\\nSkipping line 1498: expected 1 fields, saw 2\\nSkipping line 1499: expected 1 fields, saw 2\\nSkipping line 1502: expected 1 fields, saw 2\\nSkipping line 1506: expected 1 fields, saw 2\\nSkipping line 1507: expected 1 fields, saw 2\\nSkipping line 1511: expected 1 fields, saw 2\\nSkipping line 1517: expected 1 fields, saw 2\\nSkipping line 1518: expected 1 fields, saw 2\\nSkipping line 1522: expected 1 fields, saw 2\\nSkipping line 1529: expected 1 fields, saw 2\\nSkipping line 1539: expected 1 fields, saw 2\\nSkipping line 1544: expected 1 fields, saw 2\\nSkipping line 1570: expected 1 fields, saw 2\\nSkipping line 1572: expected 1 fields, saw 2\\nSkipping line 1575: expected 1 fields, saw 2\\nSkipping line 1576: expected 1 fields, saw 2\\nSkipping line 1583: expected 1 fields, saw 2\\nSkipping line 1584: expected 1 fields, saw 2\\nSkipping line 1587: expected 1 fields, saw 2\\nSkipping line 1588: expected 1 fields, saw 2\\nSkipping line 1589: expected 1 fields, saw 2\\nSkipping line 1590: expected 1 fields, saw 2\\nSkipping line 1591: expected 1 fields, saw 2\\nSkipping line 1593: expected 1 fields, saw 2\\nSkipping line 1597: expected 1 fields, saw 2\\nSkipping line 1599: expected 1 fields, saw 2\\nSkipping line 1601: expected 1 fields, saw 2\\nSkipping line 1604: expected 1 fields, saw 2\\nSkipping line 1605: expected 1 fields, saw 2\\nSkipping line 1614: expected 1 fields, saw 2\\nSkipping line 1625: expected 1 fields, saw 2\\nSkipping line 1628: expected 1 fields, saw 2\\nSkipping line 1634: expected 1 fields, saw 2\\nSkipping line 1638: expected 1 fields, saw 2\\nSkipping line 1639: expected 1 fields, saw 2\\nSkipping line 1641: expected 1 fields, saw 2\\nSkipping line 1643: expected 1 fields, saw 2\\nSkipping line 1645: expected 1 fields, saw 2\\nSkipping line 1649: expected 1 fields, saw 2\\nSkipping line 1652: expected 1 fields, saw 2\\nSkipping line 1653: expected 1 fields, saw 2\\nSkipping line 1654: expected 1 fields, saw 2\\nSkipping line 1669: expected 1 fields, saw 2\\nSkipping line 1672: expected 1 fields, saw 2\\nSkipping line 1678: expected 1 fields, saw 2\\nSkipping line 1679: expected 1 fields, saw 2\\nSkipping line 1680: expected 1 fields, saw 2\\nSkipping line 1681: expected 1 fields, saw 2\\nSkipping line 1685: expected 1 fields, saw 2\\nSkipping line 1692: expected 1 fields, saw 2\\nSkipping line 1699: expected 1 fields, saw 2\\nSkipping line 1705: expected 1 fields, saw 2\\nSkipping line 1712: expected 1 fields, saw 2\\nSkipping line 1715: expected 1 fields, saw 2\\nSkipping line 1722: expected 1 fields, saw 2\\nSkipping line 1725: expected 1 fields, saw 2\\nSkipping line 1730: expected 1 fields, saw 2\\nSkipping line 1732: expected 1 fields, saw 2\\nSkipping line 1737: expected 1 fields, saw 2\\nSkipping line 1742: expected 1 fields, saw 2\\nSkipping line 1743: expected 1 fields, saw 2\\nSkipping line 1746: expected 1 fields, saw 2\\nSkipping line 1749: expected 1 fields, saw 2\\nSkipping line 1751: expected 1 fields, saw 2\\nSkipping line 1756: expected 1 fields, saw 2\\nSkipping line 1757: expected 1 fields, saw 2\\nSkipping line 1760: expected 1 fields, saw 2\\nSkipping line 1762: expected 1 fields, saw 2\\nSkipping line 1768: expected 1 fields, saw 2\\nSkipping line 1770: expected 1 fields, saw 2\\nSkipping line 1771: expected 1 fields, saw 2\\nSkipping line 1774: expected 1 fields, saw 2\\nSkipping line 1781: expected 1 fields, saw 2\\nSkipping line 1783: expected 1 fields, saw 2\\nSkipping line 1786: expected 1 fields, saw 2\\nSkipping line 1790: expected 1 fields, saw 2\\nSkipping line 1799: expected 1 fields, saw 2\\nSkipping line 1801: expected 1 fields, saw 2\\nSkipping line 1803: expected 1 fields, saw 2\\nSkipping line 1804: expected 1 fields, saw 2\\nSkipping line 1806: expected 1 fields, saw 2\\nSkipping line 1812: expected 1 fields, saw 2\\nSkipping line 1818: expected 1 fields, saw 2\\nSkipping line 1824: expected 1 fields, saw 2\\nSkipping line 1825: expected 1 fields, saw 2\\nSkipping line 1831: expected 1 fields, saw 2\\nSkipping line 1833: expected 1 fields, saw 2\\nSkipping line 1842: expected 1 fields, saw 2\\nSkipping line 1859: expected 1 fields, saw 2\\nSkipping line 1865: expected 1 fields, saw 2\\nSkipping line 1866: expected 1 fields, saw 2\\nSkipping line 1871: expected 1 fields, saw 2\\nSkipping line 1872: expected 1 fields, saw 2\\nSkipping line 1876: expected 1 fields, saw 2\\nSkipping line 1882: expected 1 fields, saw 2\\nSkipping line 1886: expected 1 fields, saw 2\\nSkipping line 1893: expected 1 fields, saw 2\\nSkipping line 1901: expected 1 fields, saw 2\\nSkipping line 1902: expected 1 fields, saw 2\\nSkipping line 1903: expected 1 fields, saw 2\\nSkipping line 1904: expected 1 fields, saw 2\\nSkipping line 1905: expected 1 fields, saw 2\\nSkipping line 1930: expected 1 fields, saw 2\\nSkipping line 1932: expected 1 fields, saw 2\\nSkipping line 1938: expected 1 fields, saw 2\\nSkipping line 1939: expected 1 fields, saw 2\\nSkipping line 1941: expected 1 fields, saw 2\\nSkipping line 1946: expected 1 fields, saw 2\\nSkipping line 1948: expected 1 fields, saw 2\\nSkipping line 1949: expected 1 fields, saw 2\\nSkipping line 1955: expected 1 fields, saw 2\\nSkipping line 1956: expected 1 fields, saw 2\\nSkipping line 1957: expected 1 fields, saw 2\\nSkipping line 1964: expected 1 fields, saw 2\\nSkipping line 1965: expected 1 fields, saw 2\\nSkipping line 1966: expected 1 fields, saw 2\\nSkipping line 1970: expected 1 fields, saw 2\\nSkipping line 1972: expected 1 fields, saw 2\\nSkipping line 1976: expected 1 fields, saw 2\\nSkipping line 1977: expected 1 fields, saw 2\\nSkipping line 1979: expected 1 fields, saw 2\\nSkipping line 1980: expected 1 fields, saw 2\\nSkipping line 1981: expected 1 fields, saw 2\\nSkipping line 1985: expected 1 fields, saw 2\\nSkipping line 1986: expected 1 fields, saw 2\\nSkipping line 1989: expected 1 fields, saw 2\\nSkipping line 1990: expected 1 fields, saw 2\\nSkipping line 1991: expected 1 fields, saw 2\\nSkipping line 1994: expected 1 fields, saw 2\\nSkipping line 1997: expected 1 fields, saw 2\\nSkipping line 2001: expected 1 fields, saw 2\\nSkipping line 2004: expected 1 fields, saw 2\\nSkipping line 2006: expected 1 fields, saw 2\\nSkipping line 2009: expected 1 fields, saw 2\\nSkipping line 2010: expected 1 fields, saw 2\\nSkipping line 2013: expected 1 fields, saw 2\\nSkipping line 2014: expected 1 fields, saw 2\\nSkipping line 2015: expected 1 fields, saw 2\\nSkipping line 2021: expected 1 fields, saw 2\\nSkipping line 2022: expected 1 fields, saw 2\\nSkipping line 2024: expected 1 fields, saw 2\\nSkipping line 2026: expected 1 fields, saw 2\\nSkipping line 2027: expected 1 fields, saw 2\\nSkipping line 2041: expected 1 fields, saw 2\\nSkipping line 2043: expected 1 fields, saw 2\\nSkipping line 2046: expected 1 fields, saw 2\\nSkipping line 2048: expected 1 fields, saw 2\\nSkipping line 2050: expected 1 fields, saw 2\\nSkipping line 2056: expected 1 fields, saw 2\\nSkipping line 2059: expected 1 fields, saw 2\\nSkipping line 2061: expected 1 fields, saw 2\\nSkipping line 2068: expected 1 fields, saw 2\\nSkipping line 2071: expected 1 fields, saw 2\\nSkipping line 2072: expected 1 fields, saw 2\\nSkipping line 2073: expected 1 fields, saw 2\\nSkipping line 2074: expected 1 fields, saw 2\\nSkipping line 2079: expected 1 fields, saw 2\\nSkipping line 2082: expected 1 fields, saw 2\\nSkipping line 2083: expected 1 fields, saw 2\\nSkipping line 2085: expected 1 fields, saw 2\\nSkipping line 2087: expected 1 fields, saw 2\\nSkipping line 2088: expected 1 fields, saw 2\\nSkipping line 2089: expected 1 fields, saw 2\\nSkipping line 2090: expected 1 fields, saw 2\\nSkipping line 2093: expected 1 fields, saw 2\\nSkipping line 2094: expected 1 fields, saw 2\\nSkipping line 2103: expected 1 fields, saw 2\\nSkipping line 2104: expected 1 fields, saw 2\\nSkipping line 2105: expected 1 fields, saw 2\\nSkipping line 2114: expected 1 fields, saw 2\\nSkipping line 2115: expected 1 fields, saw 2\\nSkipping line 2116: expected 1 fields, saw 2\\nSkipping line 2123: expected 1 fields, saw 2\\nSkipping line 2126: expected 1 fields, saw 2\\nSkipping line 2133: expected 1 fields, saw 2\\nSkipping line 2140: expected 1 fields, saw 2\\nSkipping line 2144: expected 1 fields, saw 2\\nSkipping line 2148: expected 1 fields, saw 2\\nSkipping line 2152: expected 1 fields, saw 2\\nSkipping line 2155: expected 1 fields, saw 2\\nSkipping line 2158: expected 1 fields, saw 2\\nSkipping line 2159: expected 1 fields, saw 2\\nSkipping line 2160: expected 1 fields, saw 2\\nSkipping line 2161: expected 1 fields, saw 2\\nSkipping line 2174: expected 1 fields, saw 2\\nSkipping line 2176: expected 1 fields, saw 2\\nSkipping line 2183: expected 1 fields, saw 2\\nSkipping line 2195: expected 1 fields, saw 2\\nSkipping line 2198: expected 1 fields, saw 2\\nSkipping line 2200: expected 1 fields, saw 2\\nSkipping line 2202: expected 1 fields, saw 2\\nSkipping line 2208: expected 1 fields, saw 2\\nSkipping line 2215: expected 1 fields, saw 2\\nSkipping line 2218: expected 1 fields, saw 2\\nSkipping line 2220: expected 1 fields, saw 2\\nSkipping line 2221: expected 1 fields, saw 2\\nSkipping line 2227: expected 1 fields, saw 2\\nSkipping line 2228: expected 1 fields, saw 2\\nSkipping line 2231: expected 1 fields, saw 2\\nSkipping line 2232: expected 1 fields, saw 2\\nSkipping line 2241: expected 1 fields, saw 2\\nSkipping line 2242: expected 1 fields, saw 2\\nSkipping line 2245: expected 1 fields, saw 2\\nSkipping line 2249: expected 1 fields, saw 2\\nSkipping line 2255: expected 1 fields, saw 2\\nSkipping line 2266: expected 1 fields, saw 2\\nSkipping line 2267: expected 1 fields, saw 2\\nSkipping line 2275: expected 1 fields, saw 2\\nSkipping line 2278: expected 1 fields, saw 2\\nSkipping line 2279: expected 1 fields, saw 2\\nSkipping line 2284: expected 1 fields, saw 2\\nSkipping line 2286: expected 1 fields, saw 2\\nSkipping line 2287: expected 1 fields, saw 2\\nSkipping line 2292: expected 1 fields, saw 2\\nSkipping line 2302: expected 1 fields, saw 2\\nSkipping line 2307: expected 1 fields, saw 2\\nSkipping line 2308: expected 1 fields, saw 2\\nSkipping line 2323: expected 1 fields, saw 2\\nSkipping line 2326: expected 1 fields, saw 2\\nSkipping line 2337: expected 1 fields, saw 2\\nSkipping line 2352: expected 1 fields, saw 2\\nSkipping line 2353: expected 1 fields, saw 3\\nSkipping line 2354: expected 1 fields, saw 2\\nSkipping line 2357: expected 1 fields, saw 2\\nSkipping line 2358: expected 1 fields, saw 2\\nSkipping line 2359: expected 1 fields, saw 2\\nSkipping line 2360: expected 1 fields, saw 2\\nSkipping line 2365: expected 1 fields, saw 2\\nSkipping line 2373: expected 1 fields, saw 2\\nSkipping line 2381: expected 1 fields, saw 2\\nSkipping line 2383: expected 1 fields, saw 2\\nSkipping line 2384: expected 1 fields, saw 2\\nSkipping line 2385: expected 1 fields, saw 2\\nSkipping line 2386: expected 1 fields, saw 2\\nSkipping line 2387: expected 1 fields, saw 2\\nSkipping line 2388: expected 1 fields, saw 2\\nSkipping line 2391: expected 1 fields, saw 2\\nSkipping line 2392: expected 1 fields, saw 2\\nSkipping line 2394: expected 1 fields, saw 2\\nSkipping line 2399: expected 1 fields, saw 2\\nSkipping line 2406: expected 1 fields, saw 2\\nSkipping line 2415: expected 1 fields, saw 2\\nSkipping line 2419: expected 1 fields, saw 3\\nSkipping line 2425: expected 1 fields, saw 2\\nSkipping line 2426: expected 1 fields, saw 2\\nSkipping line 2427: expected 1 fields, saw 2\\nSkipping line 2435: expected 1 fields, saw 2\\nSkipping line 2438: expected 1 fields, saw 2\\nSkipping line 2440: expected 1 fields, saw 2\\nSkipping line 2443: expected 1 fields, saw 2\\nSkipping line 2444: expected 1 fields, saw 2\\nSkipping line 2456: expected 1 fields, saw 2\\nSkipping line 2468: expected 1 fields, saw 2\\nSkipping line 2472: expected 1 fields, saw 2\\nSkipping line 2474: expected 1 fields, saw 2\\nSkipping line 2476: expected 1 fields, saw 2\\nSkipping line 2478: expected 1 fields, saw 2\\nSkipping line 2480: expected 1 fields, saw 2\\nSkipping line 2482: expected 1 fields, saw 2\\nSkipping line 2491: expected 1 fields, saw 2\\nSkipping line 2496: expected 1 fields, saw 2\\nSkipping line 2497: expected 1 fields, saw 2\\nSkipping line 2500: expected 1 fields, saw 2\\nSkipping line 2502: expected 1 fields, saw 2\\nSkipping line 2503: expected 1 fields, saw 2\\nSkipping line 2506: expected 1 fields, saw 2\\nSkipping line 2507: expected 1 fields, saw 2\\nSkipping line 2508: expected 1 fields, saw 2\\nSkipping line 2510: expected 1 fields, saw 2\\nSkipping line 2517: expected 1 fields, saw 2\\nSkipping line 2518: expected 1 fields, saw 2\\nSkipping line 2524: expected 1 fields, saw 2\\nSkipping line 2525: expected 1 fields, saw 2\\nSkipping line 2533: expected 1 fields, saw 2\\nSkipping line 2541: expected 1 fields, saw 2\\nSkipping line 2543: expected 1 fields, saw 2\\nSkipping line 2549: expected 1 fields, saw 2\\nSkipping line 2550: expected 1 fields, saw 2\\nSkipping line 2554: expected 1 fields, saw 2\\nSkipping line 2561: expected 1 fields, saw 2\\nSkipping line 2564: expected 1 fields, saw 2\\nSkipping line 2565: expected 1 fields, saw 2\\nSkipping line 2566: expected 1 fields, saw 2\\nSkipping line 2567: expected 1 fields, saw 2\\nSkipping line 2568: expected 1 fields, saw 2\\nSkipping line 2569: expected 1 fields, saw 2\\nSkipping line 2570: expected 1 fields, saw 2\\nSkipping line 2582: expected 1 fields, saw 2\\nSkipping line 2584: expected 1 fields, saw 2\\nSkipping line 2586: expected 1 fields, saw 2\\nSkipping line 2589: expected 1 fields, saw 2\\nSkipping line 2590: expected 1 fields, saw 2\\nSkipping line 2592: expected 1 fields, saw 2\\nSkipping line 2594: expected 1 fields, saw 2\\nSkipping line 2599: expected 1 fields, saw 2\\nSkipping line 2602: expected 1 fields, saw 2\\nSkipping line 2604: expected 1 fields, saw 2\\nSkipping line 2606: expected 1 fields, saw 2\\nSkipping line 2617: expected 1 fields, saw 2\\nSkipping line 2618: expected 1 fields, saw 2\\nSkipping line 2620: expected 1 fields, saw 2\\nSkipping line 2622: expected 1 fields, saw 2\\nSkipping line 2623: expected 1 fields, saw 2\\nSkipping line 2627: expected 1 fields, saw 2\\nSkipping line 2628: expected 1 fields, saw 2\\nSkipping line 2632: expected 1 fields, saw 2\\nSkipping line 2636: expected 1 fields, saw 2\\nSkipping line 2637: expected 1 fields, saw 3\\nSkipping line 2640: expected 1 fields, saw 2\\nSkipping line 2642: expected 1 fields, saw 2\\nSkipping line 2646: expected 1 fields, saw 2\\nSkipping line 2647: expected 1 fields, saw 2\\nSkipping line 2651: expected 1 fields, saw 2\\nSkipping line 2658: expected 1 fields, saw 2\\nSkipping line 2663: expected 1 fields, saw 2\\nSkipping line 2666: expected 1 fields, saw 2\\nSkipping line 2667: expected 1 fields, saw 2\\nSkipping line 2671: expected 1 fields, saw 2\\nSkipping line 2672: expected 1 fields, saw 2\\nSkipping line 2677: expected 1 fields, saw 2\\nSkipping line 2679: expected 1 fields, saw 2\\nSkipping line 2681: expected 1 fields, saw 2\\nSkipping line 2685: expected 1 fields, saw 2\\nSkipping line 2692: expected 1 fields, saw 2\\nSkipping line 2693: expected 1 fields, saw 2\\nSkipping line 2694: expected 1 fields, saw 2\\nSkipping line 2695: expected 1 fields, saw 2\\nSkipping line 2696: expected 1 fields, saw 2\\nSkipping line 2697: expected 1 fields, saw 2\\nSkipping line 2698: expected 1 fields, saw 2\\nSkipping line 2701: expected 1 fields, saw 2\\nSkipping line 2708: expected 1 fields, saw 2\\nSkipping line 2712: expected 1 fields, saw 2\\nSkipping line 2713: expected 1 fields, saw 2\\nSkipping line 2715: expected 1 fields, saw 2\\nSkipping line 2716: expected 1 fields, saw 2\\nSkipping line 2722: expected 1 fields, saw 2\\nSkipping line 2725: expected 1 fields, saw 2\\nSkipping line 2735: expected 1 fields, saw 2\\nSkipping line 2736: expected 1 fields, saw 2\\nSkipping line 2745: expected 1 fields, saw 2\\nSkipping line 2746: expected 1 fields, saw 2\\nSkipping line 2755: expected 1 fields, saw 3\\nSkipping line 2758: expected 1 fields, saw 2\\nSkipping line 2759: expected 1 fields, saw 2\\nSkipping line 2761: expected 1 fields, saw 2\\nSkipping line 2763: expected 1 fields, saw 2\\nSkipping line 2764: expected 1 fields, saw 2\\nSkipping line 2766: expected 1 fields, saw 2\\nSkipping line 2775: expected 1 fields, saw 3\\nSkipping line 2776: expected 1 fields, saw 2\\nSkipping line 2778: expected 1 fields, saw 2\\nSkipping line 2784: expected 1 fields, saw 2\\nSkipping line 2785: expected 1 fields, saw 2\\nSkipping line 2795: expected 1 fields, saw 2\\nSkipping line 2798: expected 1 fields, saw 2\\nSkipping line 2801: expected 1 fields, saw 2\\nSkipping line 2806: expected 1 fields, saw 2\\nSkipping line 2818: expected 1 fields, saw 2\\nSkipping line 2821: expected 1 fields, saw 2\\nSkipping line 2823: expected 1 fields, saw 2\\nSkipping line 2830: expected 1 fields, saw 2\\nSkipping line 2841: expected 1 fields, saw 2\\nSkipping line 2842: expected 1 fields, saw 2\\nSkipping line 2843: expected 1 fields, saw 2\\nSkipping line 2844: expected 1 fields, saw 2\\nSkipping line 2845: expected 1 fields, saw 2\\nSkipping line 2857: expected 1 fields, saw 2\\nSkipping line 2860: expected 1 fields, saw 2\\nSkipping line 2865: expected 1 fields, saw 2\\nSkipping line 2866: expected 1 fields, saw 2\\nSkipping line 2867: expected 1 fields, saw 2\\nSkipping line 2869: expected 1 fields, saw 2\\nSkipping line 2876: expected 1 fields, saw 2\\nSkipping line 2882: expected 1 fields, saw 2\\nSkipping line 2883: expected 1 fields, saw 2\\nSkipping line 2884: expected 1 fields, saw 2\\nSkipping line 2893: expected 1 fields, saw 2\\nSkipping line 2897: expected 1 fields, saw 2\\nSkipping line 2898: expected 1 fields, saw 2\\nSkipping line 2899: expected 1 fields, saw 2\\nSkipping line 2901: expected 1 fields, saw 2\\nSkipping line 2907: expected 1 fields, saw 2\\nSkipping line 2913: expected 1 fields, saw 2\\nSkipping line 2914: expected 1 fields, saw 2\\nSkipping line 2915: expected 1 fields, saw 2\\nSkipping line 2926: expected 1 fields, saw 2\\nSkipping line 2927: expected 1 fields, saw 2\\nSkipping line 2932: expected 1 fields, saw 2\\nSkipping line 2933: expected 1 fields, saw 2\\nSkipping line 2936: expected 1 fields, saw 2\\nSkipping line 2937: expected 1 fields, saw 2\\nSkipping line 2938: expected 1 fields, saw 2\\nSkipping line 2943: expected 1 fields, saw 2\\nSkipping line 2953: expected 1 fields, saw 2\\nSkipping line 2954: expected 1 fields, saw 2\\nSkipping line 2960: expected 1 fields, saw 2\\nSkipping line 2964: expected 1 fields, saw 2\\nSkipping line 2970: expected 1 fields, saw 2\\nSkipping line 2978: expected 1 fields, saw 2\\nSkipping line 2985: expected 1 fields, saw 2\\nSkipping line 2990: expected 1 fields, saw 2\\nSkipping line 2992: expected 1 fields, saw 2\\nSkipping line 2994: expected 1 fields, saw 2\\nSkipping line 3000: expected 1 fields, saw 2\\nSkipping line 3001: expected 1 fields, saw 2\\nSkipping line 3002: expected 1 fields, saw 2\\nSkipping line 3005: expected 1 fields, saw 2\\nSkipping line 3012: expected 1 fields, saw 2\\nSkipping line 3014: expected 1 fields, saw 2\\nSkipping line 3017: expected 1 fields, saw 2\\nSkipping line 3021: expected 1 fields, saw 2\\nSkipping line 3027: expected 1 fields, saw 2\\nSkipping line 3029: expected 1 fields, saw 2\\nSkipping line 3030: expected 1 fields, saw 2\\nSkipping line 3032: expected 1 fields, saw 2\\nSkipping line 3040: expected 1 fields, saw 2\\nSkipping line 3041: expected 1 fields, saw 2\\nSkipping line 3052: expected 1 fields, saw 2\\nSkipping line 3053: expected 1 fields, saw 2\\nSkipping line 3057: expected 1 fields, saw 2\\nSkipping line 3058: expected 1 fields, saw 2\\nSkipping line 3060: expected 1 fields, saw 2\\nSkipping line 3066: expected 1 fields, saw 2\\nSkipping line 3067: expected 1 fields, saw 2\\nSkipping line 3068: expected 1 fields, saw 2\\nSkipping line 3069: expected 1 fields, saw 2\\nSkipping line 3072: expected 1 fields, saw 2\\nSkipping line 3073: expected 1 fields, saw 2\\nSkipping line 3076: expected 1 fields, saw 2\\nSkipping line 3077: expected 1 fields, saw 2\\nSkipping line 3079: expected 1 fields, saw 2\\nSkipping line 3080: expected 1 fields, saw 2\\nSkipping line 3082: expected 1 fields, saw 2\\nSkipping line 3083: expected 1 fields, saw 2\\nSkipping line 3084: expected 1 fields, saw 2\\nSkipping line 3085: expected 1 fields, saw 2\\nSkipping line 3090: expected 1 fields, saw 2\\nSkipping line 3096: expected 1 fields, saw 2\\nSkipping line 3101: expected 1 fields, saw 2\\nSkipping line 3108: expected 1 fields, saw 2\\nSkipping line 3110: expected 1 fields, saw 2\\nSkipping line 3115: expected 1 fields, saw 2\\nSkipping line 3118: expected 1 fields, saw 2\\nSkipping line 3120: expected 1 fields, saw 2\\nSkipping line 3123: expected 1 fields, saw 2\\nSkipping line 3124: expected 1 fields, saw 2\\nSkipping line 3126: expected 1 fields, saw 2\\nSkipping line 3129: expected 1 fields, saw 2\\nSkipping line 3132: expected 1 fields, saw 2\\nSkipping line 3136: expected 1 fields, saw 2\\nSkipping line 3139: expected 1 fields, saw 2\\nSkipping line 3141: expected 1 fields, saw 2\\nSkipping line 3143: expected 1 fields, saw 2\\nSkipping line 3149: expected 1 fields, saw 2\\nSkipping line 3153: expected 1 fields, saw 2\\nSkipping line 3155: expected 1 fields, saw 2\\nSkipping line 3159: expected 1 fields, saw 3\\nSkipping line 3162: expected 1 fields, saw 2\\nSkipping line 3163: expected 1 fields, saw 2\\nSkipping line 3172: expected 1 fields, saw 2\\nSkipping line 3173: expected 1 fields, saw 2\\nSkipping line 3176: expected 1 fields, saw 2\\nSkipping line 3181: expected 1 fields, saw 2\\nSkipping line 3187: expected 1 fields, saw 2\\nSkipping line 3189: expected 1 fields, saw 2\\nSkipping line 3199: expected 1 fields, saw 2\\nSkipping line 3202: expected 1 fields, saw 2\\nSkipping line 3207: expected 1 fields, saw 2\\nSkipping line 3212: expected 1 fields, saw 2\\nSkipping line 3213: expected 1 fields, saw 2\\nSkipping line 3217: expected 1 fields, saw 2\\nSkipping line 3219: expected 1 fields, saw 2\\nSkipping line 3224: expected 1 fields, saw 2\\nSkipping line 3233: expected 1 fields, saw 2\\nSkipping line 3238: expected 1 fields, saw 2\\nSkipping line 3240: expected 1 fields, saw 2\\nSkipping line 3241: expected 1 fields, saw 2\\nSkipping line 3242: expected 1 fields, saw 2\\nSkipping line 3243: expected 1 fields, saw 2\\nSkipping line 3244: expected 1 fields, saw 2\\nSkipping line 3246: expected 1 fields, saw 2\\nSkipping line 3253: expected 1 fields, saw 2\\nSkipping line 3257: expected 1 fields, saw 2\\nSkipping line 3261: expected 1 fields, saw 2\\nSkipping line 3264: expected 1 fields, saw 2\\nSkipping line 3265: expected 1 fields, saw 2\\nSkipping line 3277: expected 1 fields, saw 2\\nSkipping line 3280: expected 1 fields, saw 2\\nSkipping line 3281: expected 1 fields, saw 2\\nSkipping line 3282: expected 1 fields, saw 2\\nSkipping line 3285: expected 1 fields, saw 2\\nSkipping line 3287: expected 1 fields, saw 2\\nSkipping line 3296: expected 1 fields, saw 2\\nSkipping line 3297: expected 1 fields, saw 2\\nSkipping line 3299: expected 1 fields, saw 2\\nSkipping line 3300: expected 1 fields, saw 2\\nSkipping line 3304: expected 1 fields, saw 2\\nSkipping line 3308: expected 1 fields, saw 2\\nSkipping line 3310: expected 1 fields, saw 2\\nSkipping line 3316: expected 1 fields, saw 2\\nSkipping line 3328: expected 1 fields, saw 2\\nSkipping line 3329: expected 1 fields, saw 2\\nSkipping line 3330: expected 1 fields, saw 2\\nSkipping line 3337: expected 1 fields, saw 2\\nSkipping line 3339: expected 1 fields, saw 2\\nSkipping line 3344: expected 1 fields, saw 2\\nSkipping line 3347: expected 1 fields, saw 2\\nSkipping line 3348: expected 1 fields, saw 2\\nSkipping line 3349: expected 1 fields, saw 2\\nSkipping line 3360: expected 1 fields, saw 2\\nSkipping line 3379: expected 1 fields, saw 2\\nSkipping line 3380: expected 1 fields, saw 2\\nSkipping line 3381: expected 1 fields, saw 2\\nSkipping line 3388: expected 1 fields, saw 2\\nSkipping line 3400: expected 1 fields, saw 2\\nSkipping line 3407: expected 1 fields, saw 2\\nSkipping line 3410: expected 1 fields, saw 2\\nSkipping line 3415: expected 1 fields, saw 2\\nSkipping line 3416: expected 1 fields, saw 2\\nSkipping line 3419: expected 1 fields, saw 2\\nSkipping line 3420: expected 1 fields, saw 2\\nSkipping line 3424: expected 1 fields, saw 2\\nSkipping line 3439: expected 1 fields, saw 2\\nSkipping line 3440: expected 1 fields, saw 2\\nSkipping line 3448: expected 1 fields, saw 2\\nSkipping line 3449: expected 1 fields, saw 2\\nSkipping line 3450: expected 1 fields, saw 2\\nSkipping line 3460: expected 1 fields, saw 2\\nSkipping line 3461: expected 1 fields, saw 2\\nSkipping line 3465: expected 1 fields, saw 2\\nSkipping line 3471: expected 1 fields, saw 2\\nSkipping line 3482: expected 1 fields, saw 2\\nSkipping line 3488: expected 1 fields, saw 2\\nSkipping line 3490: expected 1 fields, saw 2\\nSkipping line 3495: expected 1 fields, saw 2\\nSkipping line 3496: expected 1 fields, saw 2\\nSkipping line 3498: expected 1 fields, saw 2\\nSkipping line 3501: expected 1 fields, saw 2\\nSkipping line 3502: expected 1 fields, saw 2\\nSkipping line 3508: expected 1 fields, saw 2\\nSkipping line 3514: expected 1 fields, saw 2\\nSkipping line 3517: expected 1 fields, saw 2\\nSkipping line 3518: expected 1 fields, saw 2\\nSkipping line 3520: expected 1 fields, saw 2\\nSkipping line 3521: expected 1 fields, saw 2\\nSkipping line 3522: expected 1 fields, saw 2\\nSkipping line 3533: expected 1 fields, saw 2\\nSkipping line 3535: expected 1 fields, saw 2\\nSkipping line 3544: expected 1 fields, saw 2\\nSkipping line 3551: expected 1 fields, saw 2\\nSkipping line 3552: expected 1 fields, saw 2\\nSkipping line 3554: expected 1 fields, saw 2\\nSkipping line 3561: expected 1 fields, saw 2\\nSkipping line 3562: expected 1 fields, saw 2\\nSkipping line 3567: expected 1 fields, saw 2\\nSkipping line 3571: expected 1 fields, saw 2\\nSkipping line 3572: expected 1 fields, saw 2\\nSkipping line 3573: expected 1 fields, saw 2\\nSkipping line 3575: expected 1 fields, saw 2\\nSkipping line 3580: expected 1 fields, saw 2\\nSkipping line 3583: expected 1 fields, saw 2\\nSkipping line 3585: expected 1 fields, saw 2\\nSkipping line 3586: expected 1 fields, saw 2\\nSkipping line 3602: expected 1 fields, saw 2\\nSkipping line 3610: expected 1 fields, saw 2\\nSkipping line 3611: expected 1 fields, saw 2\\nSkipping line 3612: expected 1 fields, saw 2\\nSkipping line 3616: expected 1 fields, saw 2\\nSkipping line 3625: expected 1 fields, saw 2\\nSkipping line 3626: expected 1 fields, saw 3\\nSkipping line 3627: expected 1 fields, saw 2\\nSkipping line 3630: expected 1 fields, saw 2\\nSkipping line 3632: expected 1 fields, saw 2\\nSkipping line 3645: expected 1 fields, saw 2\\nSkipping line 3662: expected 1 fields, saw 2\\nSkipping line 3664: expected 1 fields, saw 2\\nSkipping line 3665: expected 1 fields, saw 2\\nSkipping line 3668: expected 1 fields, saw 2\\nSkipping line 3670: expected 1 fields, saw 2\\nSkipping line 3674: expected 1 fields, saw 2\\nSkipping line 3680: expected 1 fields, saw 2\\nSkipping line 3684: expected 1 fields, saw 2\\nSkipping line 3685: expected 1 fields, saw 2\\nSkipping line 3686: expected 1 fields, saw 2\\nSkipping line 3687: expected 1 fields, saw 2\\nSkipping line 3688: expected 1 fields, saw 2\\nSkipping line 3692: expected 1 fields, saw 2\\nSkipping line 3693: expected 1 fields, saw 2\\nSkipping line 3697: expected 1 fields, saw 2\\nSkipping line 3703: expected 1 fields, saw 2\\nSkipping line 3716: expected 1 fields, saw 2\\nSkipping line 3721: expected 1 fields, saw 2\\nSkipping line 3727: expected 1 fields, saw 2\\nSkipping line 3728: expected 1 fields, saw 2\\nSkipping line 3729: expected 1 fields, saw 2\\nSkipping line 3747: expected 1 fields, saw 2\\nSkipping line 3748: expected 1 fields, saw 2\\nSkipping line 3753: expected 1 fields, saw 2\\nSkipping line 3763: expected 1 fields, saw 2\\nSkipping line 3764: expected 1 fields, saw 2\\nSkipping line 3766: expected 1 fields, saw 2\\nSkipping line 3778: expected 1 fields, saw 2\\nSkipping line 3780: expected 1 fields, saw 2\\nSkipping line 3783: expected 1 fields, saw 2\\nSkipping line 3784: expected 1 fields, saw 2\\nSkipping line 3786: expected 1 fields, saw 2\\nSkipping line 3790: expected 1 fields, saw 2\\nSkipping line 3791: expected 1 fields, saw 2\\nSkipping line 3792: expected 1 fields, saw 2\\nSkipping line 3794: expected 1 fields, saw 2\\nSkipping line 3796: expected 1 fields, saw 2\\nSkipping line 3799: expected 1 fields, saw 2\\nSkipping line 3800: expected 1 fields, saw 2\\nSkipping line 3803: expected 1 fields, saw 2\\nSkipping line 3805: expected 1 fields, saw 2\\nSkipping line 3806: expected 1 fields, saw 2\\nSkipping line 3810: expected 1 fields, saw 2\\nSkipping line 3811: expected 1 fields, saw 2\\nSkipping line 3815: expected 1 fields, saw 2\\nSkipping line 3826: expected 1 fields, saw 2\\nSkipping line 3827: expected 1 fields, saw 2\\nSkipping line 3835: expected 1 fields, saw 2\\nSkipping line 3836: expected 1 fields, saw 2\\nSkipping line 3838: expected 1 fields, saw 2\\nSkipping line 3845: expected 1 fields, saw 2\\nSkipping line 3851: expected 1 fields, saw 3\\nSkipping line 3860: expected 1 fields, saw 2\\nSkipping line 3861: expected 1 fields, saw 2\\nSkipping line 3862: expected 1 fields, saw 2\\nSkipping line 3863: expected 1 fields, saw 2\\nSkipping line 3864: expected 1 fields, saw 2\\nSkipping line 3867: expected 1 fields, saw 2\\nSkipping line 3869: expected 1 fields, saw 2\\nSkipping line 3870: expected 1 fields, saw 2\\nSkipping line 3871: expected 1 fields, saw 2\\nSkipping line 3883: expected 1 fields, saw 2\\n'\n"
          ],
          "name": "stderr"
        }
      ]
    },
    {
      "cell_type": "code",
      "metadata": {
        "id": "1pbKXEWROJET"
      },
      "source": [
        "ratings = pd.read_csv(\"/content/drive/MyDrive/Datasets/MovieLens/ratings-raw.csv\")\n"
      ],
      "execution_count": null,
      "outputs": []
    },
    {
      "cell_type": "code",
      "metadata": {
        "id": "DwvtZcztPOOH",
        "colab": {
          "base_uri": "https://localhost:8080/",
          "height": 455
        },
        "outputId": "4c884780-e1d2-433f-d75d-67c9cb1c1113"
      },
      "source": [
        "ratings_groupby = ratings.groupby(\"movie_id\")[\"rating\"].agg([\"mean\"])\n",
        "ratings_groupby"
      ],
      "execution_count": null,
      "outputs": [
        {
          "output_type": "execute_result",
          "data": {
            "text/html": [
              "<div>\n",
              "<style scoped>\n",
              "    .dataframe tbody tr th:only-of-type {\n",
              "        vertical-align: middle;\n",
              "    }\n",
              "\n",
              "    .dataframe tbody tr th {\n",
              "        vertical-align: top;\n",
              "    }\n",
              "\n",
              "    .dataframe thead th {\n",
              "        text-align: right;\n",
              "    }\n",
              "</style>\n",
              "<table border=\"1\" class=\"dataframe\">\n",
              "  <thead>\n",
              "    <tr style=\"text-align: right;\">\n",
              "      <th></th>\n",
              "      <th>mean</th>\n",
              "    </tr>\n",
              "    <tr>\n",
              "      <th>movie_id</th>\n",
              "      <th></th>\n",
              "    </tr>\n",
              "  </thead>\n",
              "  <tbody>\n",
              "    <tr>\n",
              "      <th>1</th>\n",
              "      <td>4.146846</td>\n",
              "    </tr>\n",
              "    <tr>\n",
              "      <th>2</th>\n",
              "      <td>3.201141</td>\n",
              "    </tr>\n",
              "    <tr>\n",
              "      <th>3</th>\n",
              "      <td>3.016736</td>\n",
              "    </tr>\n",
              "    <tr>\n",
              "      <th>4</th>\n",
              "      <td>2.729412</td>\n",
              "    </tr>\n",
              "    <tr>\n",
              "      <th>5</th>\n",
              "      <td>3.006757</td>\n",
              "    </tr>\n",
              "    <tr>\n",
              "      <th>...</th>\n",
              "      <td>...</td>\n",
              "    </tr>\n",
              "    <tr>\n",
              "      <th>3948</th>\n",
              "      <td>3.635731</td>\n",
              "    </tr>\n",
              "    <tr>\n",
              "      <th>3949</th>\n",
              "      <td>4.115132</td>\n",
              "    </tr>\n",
              "    <tr>\n",
              "      <th>3950</th>\n",
              "      <td>3.666667</td>\n",
              "    </tr>\n",
              "    <tr>\n",
              "      <th>3951</th>\n",
              "      <td>3.900000</td>\n",
              "    </tr>\n",
              "    <tr>\n",
              "      <th>3952</th>\n",
              "      <td>3.780928</td>\n",
              "    </tr>\n",
              "  </tbody>\n",
              "</table>\n",
              "<p>3706 rows × 1 columns</p>\n",
              "</div>"
            ],
            "text/plain": [
              "              mean\n",
              "movie_id          \n",
              "1         4.146846\n",
              "2         3.201141\n",
              "3         3.016736\n",
              "4         2.729412\n",
              "5         3.006757\n",
              "...            ...\n",
              "3948      3.635731\n",
              "3949      4.115132\n",
              "3950      3.666667\n",
              "3951      3.900000\n",
              "3952      3.780928\n",
              "\n",
              "[3706 rows x 1 columns]"
            ]
          },
          "metadata": {
            "tags": []
          },
          "execution_count": 20
        }
      ]
    },
    {
      "cell_type": "code",
      "metadata": {
        "id": "0u6TCC4iLunj",
        "colab": {
          "base_uri": "https://localhost:8080/",
          "height": 133
        },
        "outputId": "00f06666-a178-413b-e5a8-5c9270924f19"
      },
      "source": [
        "# Tu código va aquí\n",
        "ratings_order = ratings\n",
        "\n",
        "las_mejores_50 = "
      ],
      "execution_count": null,
      "outputs": [
        {
          "output_type": "error",
          "ename": "SyntaxError",
          "evalue": "ignored",
          "traceback": [
            "\u001b[0;36m  File \u001b[0;32m\"<ipython-input-11-07e9f50e1d95>\"\u001b[0;36m, line \u001b[0;32m5\u001b[0m\n\u001b[0;31m    las_mejores_50 =\u001b[0m\n\u001b[0m                     ^\u001b[0m\n\u001b[0;31mSyntaxError\u001b[0m\u001b[0;31m:\u001b[0m invalid syntax\n"
          ]
        }
      ]
    },
    {
      "cell_type": "code",
      "metadata": {
        "id": "jsqJot9WMJcG",
        "colab": {
          "base_uri": "https://localhost:8080/"
        },
        "outputId": "3b0fed64-993c-4a02-a255-1eb7c804bf69"
      },
      "source": [
        "from google.colab import drive\n",
        "drive.mount('/content/drive')"
      ],
      "execution_count": null,
      "outputs": [
        {
          "output_type": "stream",
          "text": [
            "Mounted at /content/drive\n"
          ],
          "name": "stdout"
        }
      ]
    },
    {
      "cell_type": "markdown",
      "metadata": {
        "id": "CY1u-a9kLunl"
      },
      "source": [
        "Pídele a tu experta la función de verificación `plotting_best_50` (encontrada en el archivo `helpers.py` de la carpeta donde se encuentra este Reto), pégala debajo y corre la celda para verificar tu resultado:"
      ]
    },
    {
      "cell_type": "code",
      "metadata": {
        "id": "uZbc6IpWLunn"
      },
      "source": [
        "# Pega aquí la función de verificación\n",
        "def plotting_best_50(las_mejores_50):\n",
        "    import seaborn as sns\n",
        "    import matplotlib.pyplot as plt\n",
        "    \n",
        "    fig, ax = plt.subplots(figsize=(10, 20))\n",
        "    ax.set_title('Top 50 Movies with Best Ratings')\n",
        "    splot = sns.barplot(las_mejores_50['rating'], las_mejores_50['title'], ax=ax)\n",
        "    ax.set(xlabel='Rating', ylabel='Movie Title')\n",
        "\n",
        "plotting_best_50(las_mejores_50)"
      ],
      "execution_count": null,
      "outputs": []
    }
  ]
}