{
  "nbformat": 4,
  "nbformat_minor": 0,
  "metadata": {
    "colab": {
      "name": "Sesión_01.ipynb",
      "provenance": [],
      "collapsed_sections": [],
      "mount_file_id": "100ufTOjgpu4v1YldgmvM7cfnnjvBVLiC",
      "authorship_tag": "ABX9TyOtnmS+k02oFn9CDMLFS+p+",
      "include_colab_link": true
    },
    "kernelspec": {
      "name": "python3",
      "display_name": "Python 3"
    }
  },
  "cells": [
    {
      "cell_type": "markdown",
      "metadata": {
        "id": "view-in-github",
        "colab_type": "text"
      },
      "source": [
        "<a href=\"https://colab.research.google.com/github/IsauraRs/Data-Science-BEDU/blob/master/M%C3%B3dulo2/Python/Sesi%C3%B3n1/Sesi%C3%B3n_01.ipynb\" target=\"_parent\"><img src=\"https://colab.research.google.com/assets/colab-badge.svg\" alt=\"Open In Colab\"/></a>"
      ]
    },
    {
      "cell_type": "markdown",
      "metadata": {
        "id": "sLDMwUOYdzeD"
      },
      "source": [
        "# Este es un título\n",
        "## Subtítulo\n",
        "### Texto"
      ]
    },
    {
      "cell_type": "code",
      "metadata": {
        "colab": {
          "base_uri": "https://localhost:8080/"
        },
        "id": "zp5FsXTmbmc7",
        "outputId": "1e731958-ed68-4bd6-b614-4b46c9ddd7a4"
      },
      "source": [
        "x = 5\n",
        "x = x + x\n",
        "print(\"Hola\")"
      ],
      "execution_count": null,
      "outputs": [
        {
          "output_type": "stream",
          "text": [
            "Hola\n"
          ],
          "name": "stdout"
        }
      ]
    },
    {
      "cell_type": "code",
      "metadata": {
        "colab": {
          "base_uri": "https://localhost:8080/"
        },
        "id": "1m1USk4xdmgZ",
        "outputId": "39457c74-8b45-4cd6-dd86-da79b79ec314"
      },
      "source": [
        "print(\"Adiós\")"
      ],
      "execution_count": null,
      "outputs": [
        {
          "output_type": "stream",
          "text": [
            "Adiós\n"
          ],
          "name": "stdout"
        }
      ]
    },
    {
      "cell_type": "markdown",
      "metadata": {
        "id": "5N7ZIXzge9V-"
      },
      "source": [
        "# Variables"
      ]
    },
    {
      "cell_type": "code",
      "metadata": {
        "id": "4paEMzMbdqxa"
      },
      "source": [
        "var_1 = 4\n",
        "#Snake case -> separar las variables con guiones bajos\n"
      ],
      "execution_count": null,
      "outputs": []
    },
    {
      "cell_type": "code",
      "metadata": {
        "colab": {
          "base_uri": "https://localhost:8080/"
        },
        "id": "aYWOiL3edySO",
        "outputId": "1f53689e-f507-4abc-d79b-a3501a184dda"
      },
      "source": [
        "var_1"
      ],
      "execution_count": null,
      "outputs": [
        {
          "output_type": "execute_result",
          "data": {
            "text/plain": [
              "4"
            ]
          },
          "metadata": {
            "tags": []
          },
          "execution_count": 5
        }
      ]
    },
    {
      "cell_type": "markdown",
      "metadata": {
        "id": "GJAxl6_DjITb"
      },
      "source": [
        "# Operaciones numéricas "
      ]
    },
    {
      "cell_type": "code",
      "metadata": {
        "id": "PwEYAOzfgHaH"
      },
      "source": [
        "var_1 = 4\n",
        "var_2 = 54\n",
        "var_3 = 23\n",
        "var_4 = 89"
      ],
      "execution_count": null,
      "outputs": []
    },
    {
      "cell_type": "code",
      "metadata": {
        "colab": {
          "base_uri": "https://localhost:8080/"
        },
        "id": "LP6JHgT4jj8L",
        "outputId": "6cb0a1b8-cdfb-4d47-96e5-4f85eb63349b"
      },
      "source": [
        "var_1 + var_2"
      ],
      "execution_count": null,
      "outputs": [
        {
          "output_type": "execute_result",
          "data": {
            "text/plain": [
              "58"
            ]
          },
          "metadata": {
            "tags": []
          },
          "execution_count": 7
        }
      ]
    },
    {
      "cell_type": "code",
      "metadata": {
        "colab": {
          "base_uri": "https://localhost:8080/"
        },
        "id": "wyYK3M91jl9N",
        "outputId": "08a4aba8-8669-4c09-ce07-044ca6a0aca6"
      },
      "source": [
        "var_2 - var_3"
      ],
      "execution_count": null,
      "outputs": [
        {
          "output_type": "execute_result",
          "data": {
            "text/plain": [
              "31"
            ]
          },
          "metadata": {
            "tags": []
          },
          "execution_count": 8
        }
      ]
    },
    {
      "cell_type": "code",
      "metadata": {
        "colab": {
          "base_uri": "https://localhost:8080/"
        },
        "id": "zrw9LOPOjwBs",
        "outputId": "a47ac4a4-354a-440b-b835-9ed67271b7d3"
      },
      "source": [
        "var_3 * var_4"
      ],
      "execution_count": null,
      "outputs": [
        {
          "output_type": "execute_result",
          "data": {
            "text/plain": [
              "2047"
            ]
          },
          "metadata": {
            "tags": []
          },
          "execution_count": 9
        }
      ]
    },
    {
      "cell_type": "code",
      "metadata": {
        "colab": {
          "base_uri": "https://localhost:8080/"
        },
        "id": "QkO2swCNjzKS",
        "outputId": "67e3dbe6-2aad-4ab1-8bc6-a2d3ddbfd770"
      },
      "source": [
        "var_4 / var_2"
      ],
      "execution_count": null,
      "outputs": [
        {
          "output_type": "execute_result",
          "data": {
            "text/plain": [
              "1.6481481481481481"
            ]
          },
          "metadata": {
            "tags": []
          },
          "execution_count": 10
        }
      ]
    },
    {
      "cell_type": "code",
      "metadata": {
        "colab": {
          "base_uri": "https://localhost:8080/"
        },
        "id": "YrlZic7Ij1yL",
        "outputId": "24424f42-d4d3-4748-de99-9ebd221440a3"
      },
      "source": [
        "#División entera\n",
        "var_4 // var_2"
      ],
      "execution_count": null,
      "outputs": [
        {
          "output_type": "execute_result",
          "data": {
            "text/plain": [
              "1"
            ]
          },
          "metadata": {
            "tags": []
          },
          "execution_count": 11
        }
      ]
    },
    {
      "cell_type": "code",
      "metadata": {
        "colab": {
          "base_uri": "https://localhost:8080/"
        },
        "id": "ru-OuWiDkA5W",
        "outputId": "db4aeccb-839f-4829-f996-afb77ca60a6e"
      },
      "source": [
        "#Módulo \n",
        "var_4 % var_2"
      ],
      "execution_count": null,
      "outputs": [
        {
          "output_type": "execute_result",
          "data": {
            "text/plain": [
              "35"
            ]
          },
          "metadata": {
            "tags": []
          },
          "execution_count": 12
        }
      ]
    },
    {
      "cell_type": "code",
      "metadata": {
        "colab": {
          "base_uri": "https://localhost:8080/"
        },
        "id": "NBv2B5oLkF40",
        "outputId": "77c389fc-7537-4948-9e76-d287491f5685"
      },
      "source": [
        "var_2 ** var_1"
      ],
      "execution_count": null,
      "outputs": [
        {
          "output_type": "execute_result",
          "data": {
            "text/plain": [
              "8503056"
            ]
          },
          "metadata": {
            "tags": []
          },
          "execution_count": 13
        }
      ]
    },
    {
      "cell_type": "code",
      "metadata": {
        "colab": {
          "base_uri": "https://localhost:8080/"
        },
        "id": "i_J1IMLukIvP",
        "outputId": "1ff87623-a9ce-4dd9-9ea9-bf9981fc1b3f"
      },
      "source": [
        "var_2 ** var_1"
      ],
      "execution_count": null,
      "outputs": [
        {
          "output_type": "execute_result",
          "data": {
            "text/plain": [
              "8503056"
            ]
          },
          "metadata": {
            "tags": []
          },
          "execution_count": 14
        }
      ]
    },
    {
      "cell_type": "code",
      "metadata": {
        "colab": {
          "base_uri": "https://localhost:8080/"
        },
        "id": "xjV4deWskMLg",
        "outputId": "177da2cb-8bbb-4b69-9130-3fe68ede3107"
      },
      "source": [
        "var_2 ** (1/2)"
      ],
      "execution_count": null,
      "outputs": [
        {
          "output_type": "execute_result",
          "data": {
            "text/plain": [
              "7.3484692283495345"
            ]
          },
          "metadata": {
            "tags": []
          },
          "execution_count": 15
        }
      ]
    },
    {
      "cell_type": "code",
      "metadata": {
        "id": "tJqwS5SfkPl8"
      },
      "source": [
        "resultado_suma = var_2 + var_3"
      ],
      "execution_count": null,
      "outputs": []
    },
    {
      "cell_type": "code",
      "metadata": {
        "colab": {
          "base_uri": "https://localhost:8080/"
        },
        "id": "-qgbeR8okU7A",
        "outputId": "816ae285-8fbb-4ff7-ccdc-6c32ee8b020b"
      },
      "source": [
        "resultado_suma"
      ],
      "execution_count": null,
      "outputs": [
        {
          "output_type": "execute_result",
          "data": {
            "text/plain": [
              "77"
            ]
          },
          "metadata": {
            "tags": []
          },
          "execution_count": 17
        }
      ]
    },
    {
      "cell_type": "markdown",
      "metadata": {
        "id": "PRzrxuNtmWgf"
      },
      "source": [
        "# Tipos de dato"
      ]
    },
    {
      "cell_type": "code",
      "metadata": {
        "id": "h7arUQTBkWXJ"
      },
      "source": [
        "var_int = 5\n",
        "var_float = 5.7\n",
        "var_bool = True\n",
        "var_string = \"S\""
      ],
      "execution_count": null,
      "outputs": []
    },
    {
      "cell_type": "code",
      "metadata": {
        "colab": {
          "base_uri": "https://localhost:8080/"
        },
        "id": "H9ToJgU9mYw1",
        "outputId": "89962c0b-f34e-48b8-a2b2-d4a9c5ee1e43"
      },
      "source": [
        "type(var_int)"
      ],
      "execution_count": null,
      "outputs": [
        {
          "output_type": "execute_result",
          "data": {
            "text/plain": [
              "int"
            ]
          },
          "metadata": {
            "tags": []
          },
          "execution_count": 24
        }
      ]
    },
    {
      "cell_type": "code",
      "metadata": {
        "colab": {
          "base_uri": "https://localhost:8080/"
        },
        "id": "uy_ZSliTnLMd",
        "outputId": "a8711710-1d0d-4182-91af-861d97c4cadd"
      },
      "source": [
        "print(type(var_int))"
      ],
      "execution_count": null,
      "outputs": [
        {
          "output_type": "stream",
          "text": [
            "<class 'int'>\n"
          ],
          "name": "stdout"
        }
      ]
    },
    {
      "cell_type": "code",
      "metadata": {
        "colab": {
          "base_uri": "https://localhost:8080/",
          "height": 35
        },
        "id": "2kJXtdvHnOAU",
        "outputId": "62639c65-0184-49e8-972e-be4690a4f712"
      },
      "source": [
        "str(var_int) + var_string"
      ],
      "execution_count": null,
      "outputs": [
        {
          "output_type": "execute_result",
          "data": {
            "application/vnd.google.colaboratory.intrinsic+json": {
              "type": "string"
            },
            "text/plain": [
              "'5S'"
            ]
          },
          "metadata": {
            "tags": []
          },
          "execution_count": 26
        }
      ]
    },
    {
      "cell_type": "code",
      "metadata": {
        "colab": {
          "base_uri": "https://localhost:8080/"
        },
        "id": "IP8hpotinevG",
        "outputId": "98288129-2f7a-433e-b9dd-589007b84f10"
      },
      "source": [
        "var_int + var_bool"
      ],
      "execution_count": null,
      "outputs": [
        {
          "output_type": "execute_result",
          "data": {
            "text/plain": [
              "6"
            ]
          },
          "metadata": {
            "tags": []
          },
          "execution_count": 27
        }
      ]
    },
    {
      "cell_type": "markdown",
      "metadata": {
        "id": "5lHEGIgBoRtJ"
      },
      "source": [
        "# Interpolación de strings\n"
      ]
    },
    {
      "cell_type": "code",
      "metadata": {
        "id": "i5-vcpgZnn6l"
      },
      "source": [
        "var_1 = \"Hola, \"\n",
        "var_2 = \"cómo estás?\""
      ],
      "execution_count": null,
      "outputs": []
    },
    {
      "cell_type": "code",
      "metadata": {
        "colab": {
          "base_uri": "https://localhost:8080/"
        },
        "id": "O9qnF_99oaV1",
        "outputId": "373cba11-a29c-402e-e8ab-672f8ef5619f"
      },
      "source": [
        "print(var_1 + var_2)"
      ],
      "execution_count": null,
      "outputs": [
        {
          "output_type": "stream",
          "text": [
            "Hola, cómo estás?\n"
          ],
          "name": "stdout"
        }
      ]
    },
    {
      "cell_type": "code",
      "metadata": {
        "id": "cGO_Rf_zodoB"
      },
      "source": [
        "var_text = \"Mi edad es: \""
      ],
      "execution_count": null,
      "outputs": []
    },
    {
      "cell_type": "code",
      "metadata": {
        "colab": {
          "base_uri": "https://localhost:8080/"
        },
        "id": "pCpPUDyVohWD",
        "outputId": "e2719b9e-0d01-4603-a19d-35b4d9f4bacc"
      },
      "source": [
        "print(var_text, 28)"
      ],
      "execution_count": null,
      "outputs": [
        {
          "output_type": "stream",
          "text": [
            "Mi edad es:  28\n"
          ],
          "name": "stdout"
        }
      ]
    },
    {
      "cell_type": "code",
      "metadata": {
        "colab": {
          "base_uri": "https://localhost:8080/"
        },
        "id": "Bhy28OdnolO0",
        "outputId": "0e7df612-9f75-41ba-c6de-cb00bdfe58fb"
      },
      "source": [
        "print(f\"Mi edad es: {28}\")"
      ],
      "execution_count": null,
      "outputs": [
        {
          "output_type": "stream",
          "text": [
            "Mi edad es: 28\n"
          ],
          "name": "stdout"
        }
      ]
    },
    {
      "cell_type": "code",
      "metadata": {
        "colab": {
          "base_uri": "https://localhost:8080/"
        },
        "id": "Urr1KPDmoi1o",
        "outputId": "3f7fb545-6a35-4372-e37e-52ce015e37b6"
      },
      "source": [
        "var_edad = 28\n",
        "print(f\"Mi edad es: {var_edad}\")"
      ],
      "execution_count": null,
      "outputs": [
        {
          "output_type": "stream",
          "text": [
            "Mi edad es: 28\n"
          ],
          "name": "stdout"
        }
      ]
    },
    {
      "cell_type": "code",
      "metadata": {
        "colab": {
          "base_uri": "https://localhost:8080/"
        },
        "id": "bOw2ZgDCoqBz",
        "outputId": "be03fa25-2234-4891-a1b2-a8ce6b8a5ca4"
      },
      "source": [
        "var_x = 4\n",
        "var_y = 5\n",
        "print(f\"La suma de {var_x} y {var_y} es: {var_x + var_y}\")"
      ],
      "execution_count": null,
      "outputs": [
        {
          "output_type": "stream",
          "text": [
            "La suma de 4 y 5 es: 9\n"
          ],
          "name": "stdout"
        }
      ]
    },
    {
      "cell_type": "markdown",
      "metadata": {
        "id": "AUXiAAWewPhk"
      },
      "source": [
        "# Operadores de comparación"
      ]
    },
    {
      "cell_type": "code",
      "metadata": {
        "id": "KWRhdgP0pFoo"
      },
      "source": [
        "var_1 = 5\n",
        "var_2 = 6"
      ],
      "execution_count": null,
      "outputs": []
    },
    {
      "cell_type": "code",
      "metadata": {
        "colab": {
          "base_uri": "https://localhost:8080/"
        },
        "id": "SPA61e_MwzmC",
        "outputId": "cecf2b95-cfc8-4434-872b-c4d4468a3ab1"
      },
      "source": [
        "var_1 == var_2"
      ],
      "execution_count": null,
      "outputs": [
        {
          "output_type": "execute_result",
          "data": {
            "text/plain": [
              "False"
            ]
          },
          "metadata": {
            "tags": []
          },
          "execution_count": 38
        }
      ]
    },
    {
      "cell_type": "code",
      "metadata": {
        "colab": {
          "base_uri": "https://localhost:8080/"
        },
        "id": "VhxtEu0uw2Uu",
        "outputId": "9767e8bf-a2d4-4960-c063-d170e3402759"
      },
      "source": [
        "var_1 > var_2"
      ],
      "execution_count": null,
      "outputs": [
        {
          "output_type": "execute_result",
          "data": {
            "text/plain": [
              "False"
            ]
          },
          "metadata": {
            "tags": []
          },
          "execution_count": 39
        }
      ]
    },
    {
      "cell_type": "code",
      "metadata": {
        "colab": {
          "base_uri": "https://localhost:8080/"
        },
        "id": "6vdRU9-XxQGt",
        "outputId": "592c4494-7ea3-4c4c-83fc-71acc0c8f5a0"
      },
      "source": [
        "var_1 < var_2"
      ],
      "execution_count": null,
      "outputs": [
        {
          "output_type": "execute_result",
          "data": {
            "text/plain": [
              "True"
            ]
          },
          "metadata": {
            "tags": []
          },
          "execution_count": 40
        }
      ]
    },
    {
      "cell_type": "code",
      "metadata": {
        "colab": {
          "base_uri": "https://localhost:8080/"
        },
        "id": "_hj2xqTLxttd",
        "outputId": "b53e2404-875a-4be0-fffb-bf46ef6fae25"
      },
      "source": [
        "var_1 >= var_2"
      ],
      "execution_count": null,
      "outputs": [
        {
          "output_type": "execute_result",
          "data": {
            "text/plain": [
              "False"
            ]
          },
          "metadata": {
            "tags": []
          },
          "execution_count": 42
        }
      ]
    },
    {
      "cell_type": "code",
      "metadata": {
        "colab": {
          "base_uri": "https://localhost:8080/"
        },
        "id": "3fNr626fxxFB",
        "outputId": "c4ef479e-f1a6-4815-94e4-8b9cc7b05f5c"
      },
      "source": [
        "var_1 <= var_2"
      ],
      "execution_count": null,
      "outputs": [
        {
          "output_type": "execute_result",
          "data": {
            "text/plain": [
              "True"
            ]
          },
          "metadata": {
            "tags": []
          },
          "execution_count": 43
        }
      ]
    },
    {
      "cell_type": "code",
      "metadata": {
        "colab": {
          "base_uri": "https://localhost:8080/"
        },
        "id": "AW2Z5WF-x04r",
        "outputId": "eb6266e3-ea29-419c-c8ed-197ad8347a23"
      },
      "source": [
        "var_1 != var_2"
      ],
      "execution_count": null,
      "outputs": [
        {
          "output_type": "execute_result",
          "data": {
            "text/plain": [
              "True"
            ]
          },
          "metadata": {
            "tags": []
          },
          "execution_count": 44
        }
      ]
    },
    {
      "cell_type": "code",
      "metadata": {
        "colab": {
          "base_uri": "https://localhost:8080/"
        },
        "id": "3_UCVCBmx4Do",
        "outputId": "5cdf4796-34bf-43dd-af66-1ffa3e234eb9"
      },
      "source": [
        "not True"
      ],
      "execution_count": null,
      "outputs": [
        {
          "output_type": "execute_result",
          "data": {
            "text/plain": [
              "False"
            ]
          },
          "metadata": {
            "tags": []
          },
          "execution_count": 47
        }
      ]
    },
    {
      "cell_type": "markdown",
      "metadata": {
        "id": "zVKHd8Mz0npw"
      },
      "source": [
        "# Estructuras de control de flujo"
      ]
    },
    {
      "cell_type": "code",
      "metadata": {
        "colab": {
          "base_uri": "https://localhost:8080/"
        },
        "id": "0Fg8yufxx50Z",
        "outputId": "44628479-6fb5-4ee6-e27d-634812d0f41e"
      },
      "source": [
        "if True:\n",
        "  print(\"Hola\")\n",
        "  print(\"Adiós\")"
      ],
      "execution_count": null,
      "outputs": [
        {
          "output_type": "stream",
          "text": [
            "Hola\n",
            "Adiós\n"
          ],
          "name": "stdout"
        }
      ]
    },
    {
      "cell_type": "code",
      "metadata": {
        "colab": {
          "base_uri": "https://localhost:8080/"
        },
        "id": "CBJC6hnK1bAG",
        "outputId": "98371ccd-4b45-4347-f4b8-807a62770d10"
      },
      "source": [
        "var_x = 6\n",
        "var_y = 5\n",
        "if var_x == var_y:\n",
        "  print(\"Código condicionado\")\n",
        "\n",
        "else:\n",
        "  print(\"Cualquier otra opción\")"
      ],
      "execution_count": null,
      "outputs": [
        {
          "output_type": "stream",
          "text": [
            "Cualquier otra opción\n"
          ],
          "name": "stdout"
        }
      ]
    },
    {
      "cell_type": "code",
      "metadata": {
        "colab": {
          "base_uri": "https://localhost:8080/"
        },
        "id": "Co4T-D9W2GZt",
        "outputId": "41750a3f-6f42-40a1-f090-31b8049e89bd"
      },
      "source": [
        "edad = 5\n",
        "\n",
        "if edad < 18:\n",
        "  print(\"No pasas\")\n",
        "\n",
        "elif edad >= 60:\n",
        "  print(\"Pase mayores\")\n",
        "\n",
        "else:\n",
        "  print(\"Sí pasas\")"
      ],
      "execution_count": null,
      "outputs": [
        {
          "output_type": "stream",
          "text": [
            "No pasas\n"
          ],
          "name": "stdout"
        }
      ]
    },
    {
      "cell_type": "code",
      "metadata": {
        "id": "6OqVMHjS29W5"
      },
      "source": [
        ""
      ],
      "execution_count": null,
      "outputs": []
    }
  ]
}