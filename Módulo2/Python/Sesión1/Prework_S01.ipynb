{
  "nbformat": 4,
  "nbformat_minor": 0,
  "metadata": {
    "colab": {
      "name": "Prework_S01.ipynb",
      "provenance": [],
      "collapsed_sections": []
    },
    "kernelspec": {
      "name": "python3",
      "display_name": "Python 3"
    }
  },
  "cells": [
    {
      "cell_type": "markdown",
      "metadata": {
        "id": "ubbNHzbOM7T7"
      },
      "source": [
        "# Variables"
      ]
    },
    {
      "cell_type": "code",
      "metadata": {
        "id": "VYZp6iiRGFNM"
      },
      "source": [
        "variable_1 = 10"
      ],
      "execution_count": null,
      "outputs": []
    },
    {
      "cell_type": "code",
      "metadata": {
        "colab": {
          "base_uri": "https://localhost:8080/"
        },
        "id": "d87UuJfqNDFN",
        "outputId": "74e80c33-2dc5-4f80-c34c-a4ef611ed95b"
      },
      "source": [
        "variable_1"
      ],
      "execution_count": null,
      "outputs": [
        {
          "output_type": "execute_result",
          "data": {
            "text/plain": [
              "10"
            ]
          },
          "metadata": {
            "tags": []
          },
          "execution_count": 2
        }
      ]
    },
    {
      "cell_type": "code",
      "metadata": {
        "id": "RuVh4IF5N6n2"
      },
      "source": [
        "variable_2  = 15\n",
        "variable_3 = 20\n",
        "variable_4 = 2\n",
        "variable_5 = 16"
      ],
      "execution_count": null,
      "outputs": []
    },
    {
      "cell_type": "code",
      "metadata": {
        "colab": {
          "base_uri": "https://localhost:8080/"
        },
        "id": "oNmOlrkeNar-",
        "outputId": "d2c7296f-b8b0-4ecd-fc2d-1909e5f16907"
      },
      "source": [
        "variable_1 + variable_2"
      ],
      "execution_count": null,
      "outputs": [
        {
          "output_type": "execute_result",
          "data": {
            "text/plain": [
              "25"
            ]
          },
          "metadata": {
            "tags": []
          },
          "execution_count": 4
        }
      ]
    },
    {
      "cell_type": "code",
      "metadata": {
        "colab": {
          "base_uri": "https://localhost:8080/"
        },
        "id": "DrhhtqrgO4FR",
        "outputId": "38c63211-b863-49d7-ece1-2904dfa041b8"
      },
      "source": [
        "variable_3 - variable_4"
      ],
      "execution_count": null,
      "outputs": [
        {
          "output_type": "execute_result",
          "data": {
            "text/plain": [
              "18"
            ]
          },
          "metadata": {
            "tags": []
          },
          "execution_count": 5
        }
      ]
    },
    {
      "cell_type": "code",
      "metadata": {
        "colab": {
          "base_uri": "https://localhost:8080/"
        },
        "id": "EkArhFTAO8Z9",
        "outputId": "e08501b8-95a3-4d74-c0c3-11dd4181e997"
      },
      "source": [
        "variable_1 * (variable_2 + variable_3)"
      ],
      "execution_count": null,
      "outputs": [
        {
          "output_type": "execute_result",
          "data": {
            "text/plain": [
              "350"
            ]
          },
          "metadata": {
            "tags": []
          },
          "execution_count": 6
        }
      ]
    },
    {
      "cell_type": "code",
      "metadata": {
        "colab": {
          "base_uri": "https://localhost:8080/"
        },
        "id": "9rY6IeNBPQZn",
        "outputId": "ffed65eb-02a0-4e6a-8bb4-ede335a2e2ce"
      },
      "source": [
        "(variable_5 - variable_3)/variable_2"
      ],
      "execution_count": null,
      "outputs": [
        {
          "output_type": "execute_result",
          "data": {
            "text/plain": [
              "-0.26666666666666666"
            ]
          },
          "metadata": {
            "tags": []
          },
          "execution_count": 7
        }
      ]
    },
    {
      "cell_type": "code",
      "metadata": {
        "colab": {
          "base_uri": "https://localhost:8080/"
        },
        "id": "kwY80b_mPcft",
        "outputId": "af6d02ca-9540-4af4-b142-506578f597e3"
      },
      "source": [
        "print(variable_2 + variable_4)\n",
        "print(variable_5)\n",
        "print(variable_4 - variable_1)"
      ],
      "execution_count": null,
      "outputs": [
        {
          "output_type": "stream",
          "text": [
            "17\n",
            "16\n",
            "-8\n"
          ],
          "name": "stdout"
        }
      ]
    },
    {
      "cell_type": "code",
      "metadata": {
        "id": "U26hHiKMQAi2"
      },
      "source": [
        "variable_int = 5\n",
        "variable_float = 5.2"
      ],
      "execution_count": null,
      "outputs": []
    },
    {
      "cell_type": "code",
      "metadata": {
        "colab": {
          "base_uri": "https://localhost:8080/"
        },
        "id": "QlSUPFaQQje_",
        "outputId": "39a002cc-a580-4778-a7cb-d7315734a325"
      },
      "source": [
        "type(variable_int)"
      ],
      "execution_count": null,
      "outputs": [
        {
          "output_type": "execute_result",
          "data": {
            "text/plain": [
              "int"
            ]
          },
          "metadata": {
            "tags": []
          },
          "execution_count": 12
        }
      ]
    },
    {
      "cell_type": "code",
      "metadata": {
        "colab": {
          "base_uri": "https://localhost:8080/"
        },
        "id": "ZUUQsr-IQlyH",
        "outputId": "780e8eb7-ff8a-4d0a-e3f8-d8b674404e5c"
      },
      "source": [
        "type(variable_float)"
      ],
      "execution_count": null,
      "outputs": [
        {
          "output_type": "execute_result",
          "data": {
            "text/plain": [
              "float"
            ]
          },
          "metadata": {
            "tags": []
          },
          "execution_count": 13
        }
      ]
    },
    {
      "cell_type": "code",
      "metadata": {
        "colab": {
          "base_uri": "https://localhost:8080/"
        },
        "id": "sAffxNGrQnym",
        "outputId": "e37b898a-a104-45f3-cc96-6ce12343abf3"
      },
      "source": [
        "print(type(variable_int))\n",
        "print(type(variable_float))"
      ],
      "execution_count": null,
      "outputs": [
        {
          "output_type": "stream",
          "text": [
            "<class 'int'>\n",
            "<class 'float'>\n"
          ],
          "name": "stdout"
        }
      ]
    },
    {
      "cell_type": "code",
      "metadata": {
        "id": "IcFsB9X5Q2TL"
      },
      "source": [
        "variable_str = \"Hola, soy texto\""
      ],
      "execution_count": null,
      "outputs": []
    },
    {
      "cell_type": "code",
      "metadata": {
        "colab": {
          "base_uri": "https://localhost:8080/"
        },
        "id": "L-zBhCzYQ_bn",
        "outputId": "6e7532d8-a90f-4933-f3b3-0f57cd8c7d8b"
      },
      "source": [
        "print(\"Suma: \")\n",
        "print(variable_1 + variable_2)"
      ],
      "execution_count": null,
      "outputs": [
        {
          "output_type": "stream",
          "text": [
            "Suma: \n",
            "25\n"
          ],
          "name": "stdout"
        }
      ]
    },
    {
      "cell_type": "code",
      "metadata": {
        "colab": {
          "base_uri": "https://localhost:8080/"
        },
        "id": "sW7aDfKdZZDQ",
        "outputId": "b592441e-339b-4092-c784-1a7d4ee45bb4"
      },
      "source": [
        "print(\"Resta: \")\n",
        "print(variable_3 - variable_4)"
      ],
      "execution_count": null,
      "outputs": [
        {
          "output_type": "stream",
          "text": [
            "Resta: \n",
            "18\n"
          ],
          "name": "stdout"
        }
      ]
    },
    {
      "cell_type": "markdown",
      "metadata": {
        "id": "A0hlYA-JaOhd"
      },
      "source": [
        "# Interpolando strings"
      ]
    },
    {
      "cell_type": "code",
      "metadata": {
        "colab": {
          "base_uri": "https://localhost:8080/"
        },
        "id": "0qgTKQv3ZmTl",
        "outputId": "5c80f679-936d-4d72-a65d-f5251fa69260"
      },
      "source": [
        "print(f'Vamos a imprimir la variable_1: {variable_1}')\n",
        "print(f'Ahora la variable_2: {variable_2}')\n",
        "print(f'Ahora la variable_3: {variable_3}; y la variable_4: {variable_4}')"
      ],
      "execution_count": null,
      "outputs": [
        {
          "output_type": "stream",
          "text": [
            "Vamos a imprimir la variable_1: 10\n",
            "Ahora la variable_2: 15\n",
            "Ahora la variable_3: 20; y la variable_4: 2\n"
          ],
          "name": "stdout"
        }
      ]
    },
    {
      "cell_type": "markdown",
      "metadata": {
        "id": "n_yR8rI2cCls"
      },
      "source": [
        "# Booleanos"
      ]
    },
    {
      "cell_type": "code",
      "metadata": {
        "colab": {
          "base_uri": "https://localhost:8080/"
        },
        "id": "uKh97Y5_aI9b",
        "outputId": "7c11c234-cf29-4750-e044-026ae71e444f"
      },
      "source": [
        "var_bool_1 = True\n",
        "var_bool_2 = False\n",
        "\n",
        "print(type(var_bool_1))\n",
        "print(var_bool_2)\n"
      ],
      "execution_count": null,
      "outputs": [
        {
          "output_type": "stream",
          "text": [
            "<class 'bool'>\n",
            "False\n"
          ],
          "name": "stdout"
        }
      ]
    },
    {
      "cell_type": "code",
      "metadata": {
        "colab": {
          "base_uri": "https://localhost:8080/"
        },
        "id": "S743h5WmbZqr",
        "outputId": "b1818ba5-707e-485f-90be-25a757d4e5ce"
      },
      "source": [
        "var_1 = 4\n",
        "var_2 = 6\n",
        "\n",
        "var_1 < var_2"
      ],
      "execution_count": null,
      "outputs": [
        {
          "output_type": "execute_result",
          "data": {
            "text/plain": [
              "True"
            ]
          },
          "metadata": {
            "tags": []
          },
          "execution_count": 21
        }
      ]
    },
    {
      "cell_type": "markdown",
      "metadata": {
        "id": "w2uTTvZUb8Pf"
      },
      "source": [
        "# Estructuras de control de flujo"
      ]
    },
    {
      "cell_type": "code",
      "metadata": {
        "id": "kSFYHtOlbvCH"
      },
      "source": [
        ""
      ],
      "execution_count": null,
      "outputs": []
    },
    {
      "cell_type": "code",
      "metadata": {
        "id": "QPy5I-DFb_6u"
      },
      "source": [
        ""
      ],
      "execution_count": null,
      "outputs": []
    }
  ]
}