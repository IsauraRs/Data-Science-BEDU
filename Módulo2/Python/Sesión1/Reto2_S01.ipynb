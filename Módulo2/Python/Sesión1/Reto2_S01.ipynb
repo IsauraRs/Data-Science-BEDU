{
  "nbformat": 4,
  "nbformat_minor": 0,
  "metadata": {
    "kernelspec": {
      "display_name": "Python 3",
      "language": "python",
      "name": "python3"
    },
    "language_info": {
      "codemirror_mode": {
        "name": "ipython",
        "version": 3
      },
      "file_extension": ".py",
      "mimetype": "text/x-python",
      "name": "python",
      "nbconvert_exporter": "python",
      "pygments_lexer": "ipython3",
      "version": "3.8.3"
    },
    "colab": {
      "name": "Reto2_S01.ipynb",
      "provenance": [],
      "collapsed_sections": [],
      "include_colab_link": true
    }
  },
  "cells": [
    {
      "cell_type": "markdown",
      "metadata": {
        "id": "view-in-github",
        "colab_type": "text"
      },
      "source": [
        "<a href=\"https://colab.research.google.com/github/IsauraRs/Data-Science-BEDU/blob/master/M%C3%B3dulo2/Python/Sesi%C3%B3n1/Reto2_S01.ipynb\" target=\"_parent\"><img src=\"https://colab.research.google.com/assets/colab-badge.svg\" alt=\"Open In Colab\"/></a>"
      ]
    },
    {
      "cell_type": "markdown",
      "metadata": {
        "id": "vS34mWH8kc7x"
      },
      "source": [
        "## Reto 2: Operaciones numéricas\n",
        "\n",
        "### 1. Objetivos:\n",
        "    - Practicar asignación de variables y operaciones aritméticas en Python\n",
        " \n",
        "---\n",
        "    \n",
        "### 2. Desarrollo:"
      ]
    },
    {
      "cell_type": "markdown",
      "metadata": {
        "id": "01aKttxAkc7z"
      },
      "source": [
        "#### 1. Asignación de los números correctos\n",
        "\n",
        "A continuación, verás unas variables que tienen nombre pero que todavía no tienen ningún valor asignado:"
      ]
    },
    {
      "cell_type": "code",
      "metadata": {
        "id": "3i0aRNLnkc71"
      },
      "source": [
        "var_1 = 6\n",
        "\n",
        "var_2 = 8\n",
        "\n",
        "var_3 = 4\n",
        "\n",
        "var_4 = 24\n",
        "\n",
        "var_5 = 6"
      ],
      "execution_count": null,
      "outputs": []
    },
    {
      "cell_type": "markdown",
      "metadata": {
        "id": "qf7bfmaHkc73"
      },
      "source": [
        "Ahora, tenemos debajo operaciones aritméticas que se han realizado con estas variables, junto a los resultados numéricos que esperamos obtener de estas operaciones:"
      ]
    },
    {
      "cell_type": "code",
      "metadata": {
        "id": "6SCpFk5-kc74",
        "colab": {
          "base_uri": "https://localhost:8080/"
        },
        "outputId": "36a74d35-41df-426c-e393-d036fdb85f0a"
      },
      "source": [
        "var_1 + var_2  # Resultado esperado: 14"
      ],
      "execution_count": null,
      "outputs": [
        {
          "output_type": "execute_result",
          "data": {
            "text/plain": [
              "14"
            ]
          },
          "metadata": {
            "tags": []
          },
          "execution_count": 10
        }
      ]
    },
    {
      "cell_type": "code",
      "metadata": {
        "id": "C4VXfaqPkc75",
        "colab": {
          "base_uri": "https://localhost:8080/"
        },
        "outputId": "485a051c-a4cf-4e09-c328-15ef0e9f52d1"
      },
      "source": [
        "var_3 - var_2  # Resultado esperado: -4"
      ],
      "execution_count": null,
      "outputs": [
        {
          "output_type": "execute_result",
          "data": {
            "text/plain": [
              "-4"
            ]
          },
          "metadata": {
            "tags": []
          },
          "execution_count": 11
        }
      ]
    },
    {
      "cell_type": "code",
      "metadata": {
        "id": "i3Er1CBCkc76",
        "colab": {
          "base_uri": "https://localhost:8080/"
        },
        "outputId": "4cdd86b4-df2d-4cbe-adc3-1c0d19d99772"
      },
      "source": [
        "var_3 * var_1  # Resultado esperado: 24"
      ],
      "execution_count": null,
      "outputs": [
        {
          "output_type": "execute_result",
          "data": {
            "text/plain": [
              "24"
            ]
          },
          "metadata": {
            "tags": []
          },
          "execution_count": 12
        }
      ]
    },
    {
      "cell_type": "code",
      "metadata": {
        "id": "P6fiWfNxkc76",
        "colab": {
          "base_uri": "https://localhost:8080/"
        },
        "outputId": "e99d3ced-d6d4-42d8-cebe-6f654c1bef80"
      },
      "source": [
        "var_5 + var_3  # Resultado esperado: 8"
      ],
      "execution_count": null,
      "outputs": [
        {
          "output_type": "execute_result",
          "data": {
            "text/plain": [
              "10"
            ]
          },
          "metadata": {
            "tags": []
          },
          "execution_count": 13
        }
      ]
    },
    {
      "cell_type": "code",
      "metadata": {
        "id": "Hd11rImnkc76",
        "colab": {
          "base_uri": "https://localhost:8080/"
        },
        "outputId": "487ca861-79c3-41fd-904a-df85a7fb8098"
      },
      "source": [
        "var_4 / var_5  # Resultado esperado: 4"
      ],
      "execution_count": null,
      "outputs": [
        {
          "output_type": "execute_result",
          "data": {
            "text/plain": [
              "4.0"
            ]
          },
          "metadata": {
            "tags": []
          },
          "execution_count": 14
        }
      ]
    },
    {
      "cell_type": "markdown",
      "metadata": {
        "id": "yOpHz3DMkc78"
      },
      "source": [
        "El reto es asignar los números correctos a las variables de arriba de manera que al correr las celdas que contienen operaciones numéricas obtengamos los `Resultados esperados`.\n",
        "\n",
        ">*Tip*: Todos los números son pares"
      ]
    },
    {
      "cell_type": "code",
      "metadata": {
        "id": "AVOC01DNkc78"
      },
      "source": [
        ""
      ],
      "execution_count": null,
      "outputs": []
    }
  ]
}