{
  "nbformat": 4,
  "nbformat_minor": 0,
  "metadata": {
    "kernelspec": {
      "display_name": "Python 3",
      "language": "python",
      "name": "python3"
    },
    "language_info": {
      "codemirror_mode": {
        "name": "ipython",
        "version": 3
      },
      "file_extension": ".py",
      "mimetype": "text/x-python",
      "name": "python",
      "nbconvert_exporter": "python",
      "pygments_lexer": "ipython3",
      "version": "3.8.3"
    },
    "colab": {
      "name": "Reto4_S05.ipynb",
      "provenance": [],
      "collapsed_sections": [],
      "include_colab_link": true
    }
  },
  "cells": [
    {
      "cell_type": "markdown",
      "metadata": {
        "id": "view-in-github",
        "colab_type": "text"
      },
      "source": [
        "<a href=\"https://colab.research.google.com/github/IsauraRs/Data-Science-BEDU/blob/master/M%C3%B3dulo2/Python/Sesi%C3%B3n5/Reto4_S05.ipynb\" target=\"_parent\"><img src=\"https://colab.research.google.com/assets/colab-badge.svg\" alt=\"Open In Colab\"/></a>"
      ]
    },
    {
      "cell_type": "markdown",
      "metadata": {
        "id": "ZX4Bkqvk2p2m"
      },
      "source": [
        "## Reto 4: Identificando y limpiando NaNs\n",
        "\n",
        "### 1. Objetivos:\n",
        "    - Practicar la identificación de NaNs\n",
        "    - Practicar eliminar NaNs de un `DataFrame` usando diferentes técnicas\n",
        " \n",
        "---\n",
        "    \n",
        "### 2. Desarrollo:"
      ]
    },
    {
      "cell_type": "markdown",
      "metadata": {
        "id": "bBJGxZha2p2p"
      },
      "source": [
        "#### a) Limpiando un Dataset de NaNs\n",
        "\n",
        "Eres el Data Wrangler de EyePoker Inc. Te han dado el siguiente dataset para que apliques algunas técnicas de procesamiento de datos:"
      ]
    },
    {
      "cell_type": "code",
      "metadata": {
        "id": "aiyLGpo22p2p"
      },
      "source": [
        "import pandas as pd\n",
        "import numpy as np\n",
        "\n",
        "pd.options.mode.chained_assignment = None "
      ],
      "execution_count": 1,
      "outputs": []
    },
    {
      "cell_type": "code",
      "metadata": {
        "id": "vVFDQted2p2q"
      },
      "source": [
        "datos = {\n",
        "    'precio': [12000, 5500, np.nan, 4800, 8900, np.nan, 1280, 1040, 23100, np.nan, 15000, 13400, np.nan],\n",
        "    'cantidad_en_stock': [34, 54, np.nan, 78, 56, np.nan, 34, 4, 0, 18, 45, 23, 5],\n",
        "    'cantidad_vendidos': [120, 34, np.nan, 9, 15, np.nan, 103, np.nan, np.nan, 23, 10, 62, 59],\n",
        "    'descuentos': [np.nan] * 13\n",
        "}\n",
        "\n",
        "df = pd.DataFrame(datos, index=[\"Pokemaster\", \"Cegatron\", \"Pikame Mucho\", \"Lazarillo de Tormes\", \"Stevie Wonder\", \"Needle\", \"El AyMeDuele\", \"El Desretinador\", \"Sacamel Ojocles\", \"Desojado\", \"Maribel Buenas Noches\", \"Cíclope\", \"El Cuatro Ojos\"])"
      ],
      "execution_count": 2,
      "outputs": []
    },
    {
      "cell_type": "code",
      "metadata": {
        "id": "Q9VJ761H2p2r",
        "colab": {
          "base_uri": "https://localhost:8080/",
          "height": 457
        },
        "outputId": "761115ac-a5a4-4351-8d28-ab33ebdc546a"
      },
      "source": [
        "df"
      ],
      "execution_count": 3,
      "outputs": [
        {
          "output_type": "execute_result",
          "data": {
            "text/html": [
              "<div>\n",
              "<style scoped>\n",
              "    .dataframe tbody tr th:only-of-type {\n",
              "        vertical-align: middle;\n",
              "    }\n",
              "\n",
              "    .dataframe tbody tr th {\n",
              "        vertical-align: top;\n",
              "    }\n",
              "\n",
              "    .dataframe thead th {\n",
              "        text-align: right;\n",
              "    }\n",
              "</style>\n",
              "<table border=\"1\" class=\"dataframe\">\n",
              "  <thead>\n",
              "    <tr style=\"text-align: right;\">\n",
              "      <th></th>\n",
              "      <th>precio</th>\n",
              "      <th>cantidad_en_stock</th>\n",
              "      <th>cantidad_vendidos</th>\n",
              "      <th>descuentos</th>\n",
              "    </tr>\n",
              "  </thead>\n",
              "  <tbody>\n",
              "    <tr>\n",
              "      <th>Pokemaster</th>\n",
              "      <td>12000.0</td>\n",
              "      <td>34.0</td>\n",
              "      <td>120.0</td>\n",
              "      <td>NaN</td>\n",
              "    </tr>\n",
              "    <tr>\n",
              "      <th>Cegatron</th>\n",
              "      <td>5500.0</td>\n",
              "      <td>54.0</td>\n",
              "      <td>34.0</td>\n",
              "      <td>NaN</td>\n",
              "    </tr>\n",
              "    <tr>\n",
              "      <th>Pikame Mucho</th>\n",
              "      <td>NaN</td>\n",
              "      <td>NaN</td>\n",
              "      <td>NaN</td>\n",
              "      <td>NaN</td>\n",
              "    </tr>\n",
              "    <tr>\n",
              "      <th>Lazarillo de Tormes</th>\n",
              "      <td>4800.0</td>\n",
              "      <td>78.0</td>\n",
              "      <td>9.0</td>\n",
              "      <td>NaN</td>\n",
              "    </tr>\n",
              "    <tr>\n",
              "      <th>Stevie Wonder</th>\n",
              "      <td>8900.0</td>\n",
              "      <td>56.0</td>\n",
              "      <td>15.0</td>\n",
              "      <td>NaN</td>\n",
              "    </tr>\n",
              "    <tr>\n",
              "      <th>Needle</th>\n",
              "      <td>NaN</td>\n",
              "      <td>NaN</td>\n",
              "      <td>NaN</td>\n",
              "      <td>NaN</td>\n",
              "    </tr>\n",
              "    <tr>\n",
              "      <th>El AyMeDuele</th>\n",
              "      <td>1280.0</td>\n",
              "      <td>34.0</td>\n",
              "      <td>103.0</td>\n",
              "      <td>NaN</td>\n",
              "    </tr>\n",
              "    <tr>\n",
              "      <th>El Desretinador</th>\n",
              "      <td>1040.0</td>\n",
              "      <td>4.0</td>\n",
              "      <td>NaN</td>\n",
              "      <td>NaN</td>\n",
              "    </tr>\n",
              "    <tr>\n",
              "      <th>Sacamel Ojocles</th>\n",
              "      <td>23100.0</td>\n",
              "      <td>0.0</td>\n",
              "      <td>NaN</td>\n",
              "      <td>NaN</td>\n",
              "    </tr>\n",
              "    <tr>\n",
              "      <th>Desojado</th>\n",
              "      <td>NaN</td>\n",
              "      <td>18.0</td>\n",
              "      <td>23.0</td>\n",
              "      <td>NaN</td>\n",
              "    </tr>\n",
              "    <tr>\n",
              "      <th>Maribel Buenas Noches</th>\n",
              "      <td>15000.0</td>\n",
              "      <td>45.0</td>\n",
              "      <td>10.0</td>\n",
              "      <td>NaN</td>\n",
              "    </tr>\n",
              "    <tr>\n",
              "      <th>Cíclope</th>\n",
              "      <td>13400.0</td>\n",
              "      <td>23.0</td>\n",
              "      <td>62.0</td>\n",
              "      <td>NaN</td>\n",
              "    </tr>\n",
              "    <tr>\n",
              "      <th>El Cuatro Ojos</th>\n",
              "      <td>NaN</td>\n",
              "      <td>5.0</td>\n",
              "      <td>59.0</td>\n",
              "      <td>NaN</td>\n",
              "    </tr>\n",
              "  </tbody>\n",
              "</table>\n",
              "</div>"
            ],
            "text/plain": [
              "                        precio  ...  descuentos\n",
              "Pokemaster             12000.0  ...         NaN\n",
              "Cegatron                5500.0  ...         NaN\n",
              "Pikame Mucho               NaN  ...         NaN\n",
              "Lazarillo de Tormes     4800.0  ...         NaN\n",
              "Stevie Wonder           8900.0  ...         NaN\n",
              "Needle                     NaN  ...         NaN\n",
              "El AyMeDuele            1280.0  ...         NaN\n",
              "El Desretinador         1040.0  ...         NaN\n",
              "Sacamel Ojocles        23100.0  ...         NaN\n",
              "Desojado                   NaN  ...         NaN\n",
              "Maribel Buenas Noches  15000.0  ...         NaN\n",
              "Cíclope                13400.0  ...         NaN\n",
              "El Cuatro Ojos             NaN  ...         NaN\n",
              "\n",
              "[13 rows x 4 columns]"
            ]
          },
          "metadata": {
            "tags": []
          },
          "execution_count": 3
        }
      ]
    },
    {
      "cell_type": "markdown",
      "metadata": {
        "id": "4W_CeCzv2p2r"
      },
      "source": [
        "Para poder realizar los análisis y visualizaciones posteriores, te han pedido que elimines los `NaNs` del dataset. Realiza los siguientes pasos para limpiar tu dataset:\n",
        "\n",
        "1. Has un conteo de cuántos `NaNs` hay en cada fila y en cada columna\n",
        "2. Elimina las filas y columnas donde **todos** los valores sean `NaN`.\n",
        "3. Dado que la columna `cantidad_vendidos` no es tan importante, cambia los `NaNs` que haya en esa columna por `0`.\n",
        "4. Dado que la columna `precio` es muy importante, elimina las filas restantes que tengan algún `NaN` en dicha columna.\n",
        "\n",
        "Realiza todas tus transformaciones usando el `DataFrame` `df_copy`."
      ]
    },
    {
      "cell_type": "code",
      "metadata": {
        "id": "u2W3-TY92p2s"
      },
      "source": [
        "df_copy = df.copy()\n",
        "\n",
        "\n",
        "## Realiza aquí tus transformaciones\n",
        "df_copy.isna().sum()\n",
        "df_copy = df_copy.dropna(axis = 1, how = \"all\")\n",
        "df_copy = df_copy.dropna(axis = 0, how = \"all\")\n",
        "df_copy[\"cantidad_vendidos\"] = df_copy[\"cantidad_vendidos\"].fillna(0)\n",
        "df_copy[\"precio\"] = df_copy[\"precio\"].dropna(axis = 0, how = \"any\")\n",
        "#df_copy"
      ],
      "execution_count": 9,
      "outputs": []
    },
    {
      "cell_type": "code",
      "metadata": {
        "colab": {
          "base_uri": "https://localhost:8080/",
          "height": 434
        },
        "id": "lDwuXac1EKxQ",
        "outputId": "79c048ed-e28b-4476-b8cb-e9f1b84517e6"
      },
      "source": [
        "df_copy[\"precio\"] = df_copy[\"precio\"].dropna(axis = 0, how = \"any\")"
      ],
      "execution_count": 10,
      "outputs": [
        {
          "output_type": "error",
          "ename": "ValueError",
          "evalue": "ignored",
          "traceback": [
            "\u001b[0;31m---------------------------------------------------------------------------\u001b[0m",
            "\u001b[0;31mKeyError\u001b[0m                                  Traceback (most recent call last)",
            "\u001b[0;32m/usr/local/lib/python3.7/dist-packages/pandas/core/generic.py\u001b[0m in \u001b[0;36m_get_axis_number\u001b[0;34m(cls, axis)\u001b[0m\n\u001b[1;32m    367\u001b[0m         \u001b[0;32mtry\u001b[0m\u001b[0;34m:\u001b[0m\u001b[0;34m\u001b[0m\u001b[0;34m\u001b[0m\u001b[0m\n\u001b[0;32m--> 368\u001b[0;31m             \u001b[0;32mreturn\u001b[0m \u001b[0mcls\u001b[0m\u001b[0;34m.\u001b[0m\u001b[0m_AXIS_TO_AXIS_NUMBER\u001b[0m\u001b[0;34m[\u001b[0m\u001b[0maxis\u001b[0m\u001b[0;34m]\u001b[0m\u001b[0;34m\u001b[0m\u001b[0;34m\u001b[0m\u001b[0m\n\u001b[0m\u001b[1;32m    369\u001b[0m         \u001b[0;32mexcept\u001b[0m \u001b[0mKeyError\u001b[0m\u001b[0;34m:\u001b[0m\u001b[0;34m\u001b[0m\u001b[0;34m\u001b[0m\u001b[0m\n",
            "\u001b[0;31mKeyError\u001b[0m: 1",
            "\nDuring handling of the above exception, another exception occurred:\n",
            "\u001b[0;31mValueError\u001b[0m                                Traceback (most recent call last)",
            "\u001b[0;32m<ipython-input-10-3d2b3afc03b0>\u001b[0m in \u001b[0;36m<module>\u001b[0;34m()\u001b[0m\n\u001b[1;32m      1\u001b[0m \u001b[0;31m#df_copy[\"precio\"] = df_copy[\"precio\"].dropna(axis = 0, how = \"any\")\u001b[0m\u001b[0;34m\u001b[0m\u001b[0;34m\u001b[0m\u001b[0;34m\u001b[0m\u001b[0m\n\u001b[0;32m----> 2\u001b[0;31m \u001b[0mdf_copy\u001b[0m\u001b[0;34m[\u001b[0m\u001b[0;34m\"precio\"\u001b[0m\u001b[0;34m]\u001b[0m\u001b[0;34m.\u001b[0m\u001b[0mdropna\u001b[0m\u001b[0;34m(\u001b[0m\u001b[0maxis\u001b[0m \u001b[0;34m=\u001b[0m \u001b[0;36m1\u001b[0m\u001b[0;34m,\u001b[0m \u001b[0mhow\u001b[0m \u001b[0;34m=\u001b[0m \u001b[0;34m\"any\"\u001b[0m\u001b[0;34m)\u001b[0m\u001b[0;34m\u001b[0m\u001b[0;34m\u001b[0m\u001b[0m\n\u001b[0m",
            "\u001b[0;32m/usr/local/lib/python3.7/dist-packages/pandas/core/series.py\u001b[0m in \u001b[0;36mdropna\u001b[0;34m(self, axis, inplace, how)\u001b[0m\n\u001b[1;32m   4893\u001b[0m         \u001b[0minplace\u001b[0m \u001b[0;34m=\u001b[0m \u001b[0mvalidate_bool_kwarg\u001b[0m\u001b[0;34m(\u001b[0m\u001b[0minplace\u001b[0m\u001b[0;34m,\u001b[0m \u001b[0;34m\"inplace\"\u001b[0m\u001b[0;34m)\u001b[0m\u001b[0;34m\u001b[0m\u001b[0;34m\u001b[0m\u001b[0m\n\u001b[1;32m   4894\u001b[0m         \u001b[0;31m# Validate the axis parameter\u001b[0m\u001b[0;34m\u001b[0m\u001b[0;34m\u001b[0m\u001b[0;34m\u001b[0m\u001b[0m\n\u001b[0;32m-> 4895\u001b[0;31m         \u001b[0mself\u001b[0m\u001b[0;34m.\u001b[0m\u001b[0m_get_axis_number\u001b[0m\u001b[0;34m(\u001b[0m\u001b[0maxis\u001b[0m \u001b[0;32mor\u001b[0m \u001b[0;36m0\u001b[0m\u001b[0;34m)\u001b[0m\u001b[0;34m\u001b[0m\u001b[0;34m\u001b[0m\u001b[0m\n\u001b[0m\u001b[1;32m   4896\u001b[0m \u001b[0;34m\u001b[0m\u001b[0m\n\u001b[1;32m   4897\u001b[0m         \u001b[0;32mif\u001b[0m \u001b[0mself\u001b[0m\u001b[0;34m.\u001b[0m\u001b[0m_can_hold_na\u001b[0m\u001b[0;34m:\u001b[0m\u001b[0;34m\u001b[0m\u001b[0;34m\u001b[0m\u001b[0m\n",
            "\u001b[0;32m/usr/local/lib/python3.7/dist-packages/pandas/core/generic.py\u001b[0m in \u001b[0;36m_get_axis_number\u001b[0;34m(cls, axis)\u001b[0m\n\u001b[1;32m    368\u001b[0m             \u001b[0;32mreturn\u001b[0m \u001b[0mcls\u001b[0m\u001b[0;34m.\u001b[0m\u001b[0m_AXIS_TO_AXIS_NUMBER\u001b[0m\u001b[0;34m[\u001b[0m\u001b[0maxis\u001b[0m\u001b[0;34m]\u001b[0m\u001b[0;34m\u001b[0m\u001b[0;34m\u001b[0m\u001b[0m\n\u001b[1;32m    369\u001b[0m         \u001b[0;32mexcept\u001b[0m \u001b[0mKeyError\u001b[0m\u001b[0;34m:\u001b[0m\u001b[0;34m\u001b[0m\u001b[0;34m\u001b[0m\u001b[0m\n\u001b[0;32m--> 370\u001b[0;31m             \u001b[0;32mraise\u001b[0m \u001b[0mValueError\u001b[0m\u001b[0;34m(\u001b[0m\u001b[0;34mf\"No axis named {axis} for object type {cls.__name__}\"\u001b[0m\u001b[0;34m)\u001b[0m\u001b[0;34m\u001b[0m\u001b[0;34m\u001b[0m\u001b[0m\n\u001b[0m\u001b[1;32m    371\u001b[0m \u001b[0;34m\u001b[0m\u001b[0m\n\u001b[1;32m    372\u001b[0m     \u001b[0;34m@\u001b[0m\u001b[0mclassmethod\u001b[0m\u001b[0;34m\u001b[0m\u001b[0;34m\u001b[0m\u001b[0m\n",
            "\u001b[0;31mValueError\u001b[0m: No axis named 1 for object type Series"
          ]
        }
      ]
    },
    {
      "cell_type": "markdown",
      "metadata": {
        "id": "6W9POmRs2p2t"
      },
      "source": [
        "Pídele a tu experta la función de verificación `revisar_limpieza` (encontrada en el archivo `helpers.py` de la carpeta donde se encuentra este Reto), pégala debajo y corre la celda para verificar tu resultado:"
      ]
    },
    {
      "cell_type": "code",
      "metadata": {
        "id": "JKnJKLe52p2t",
        "colab": {
          "base_uri": "https://localhost:8080/"
        },
        "outputId": "e4ff5b45-9a58-49f2-c0e0-c819e2c4a104"
      },
      "source": [
        "# Pega aquí la función de verificación\n",
        "def revisar_limpieza(df, df_copy):\n",
        "    df_2 = df.copy()\n",
        "    df_2 = df_2.dropna(axis=0, how='all')\n",
        "    df_2 = df_2.dropna(axis=1, how='all')\n",
        "    df_2['cantidad_vendidos'] = df_2['cantidad_vendidos'].fillna(0)\n",
        "    df_2 = df_2.dropna(axis=0)\n",
        "    \n",
        "    if not df_2.equals(df_copy):\n",
        "        print(f'La transformación no fue realizada adecuadamente... Por favor revisa tu procedimiento.\\n')\n",
        "        print(f'DataFrame esperado:\\n')\n",
        "        print(df_2)\n",
        "        \n",
        "        print(f'\\nDataframe obtenido:\\n')\n",
        "        print(df_copy)\n",
        "    else:\n",
        "        print(f'La transformación fue realizada exitosamente... Muchas gracias!')\n",
        "\n",
        "revisar_limpieza(df, df_copy)"
      ],
      "execution_count": 7,
      "outputs": [
        {
          "output_type": "stream",
          "text": [
            "La transformación no fue realizada adecuadamente... Por favor revisa tu procedimiento.\n",
            "\n",
            "DataFrame esperado:\n",
            "\n",
            "                        precio  cantidad_en_stock  cantidad_vendidos\n",
            "Pokemaster             12000.0               34.0              120.0\n",
            "Cegatron                5500.0               54.0               34.0\n",
            "Lazarillo de Tormes     4800.0               78.0                9.0\n",
            "Stevie Wonder           8900.0               56.0               15.0\n",
            "El AyMeDuele            1280.0               34.0              103.0\n",
            "El Desretinador         1040.0                4.0                0.0\n",
            "Sacamel Ojocles        23100.0                0.0                0.0\n",
            "Maribel Buenas Noches  15000.0               45.0               10.0\n",
            "Cíclope                13400.0               23.0               62.0\n",
            "\n",
            "Dataframe obtenido:\n",
            "\n",
            "                        precio  cantidad_en_stock  cantidad_vendidos\n",
            "Pokemaster             12000.0               34.0              120.0\n",
            "Cegatron                5500.0               54.0               34.0\n",
            "Lazarillo de Tormes     4800.0               78.0                9.0\n",
            "Stevie Wonder           8900.0               56.0               15.0\n",
            "El AyMeDuele            1280.0               34.0              103.0\n",
            "El Desretinador         1040.0                4.0                0.0\n",
            "Sacamel Ojocles        23100.0                0.0                0.0\n",
            "Desojado                   NaN               18.0               23.0\n",
            "Maribel Buenas Noches  15000.0               45.0               10.0\n",
            "Cíclope                13400.0               23.0               62.0\n",
            "El Cuatro Ojos             NaN                5.0               59.0\n"
          ],
          "name": "stdout"
        }
      ]
    },
    {
      "cell_type": "code",
      "metadata": {
        "id": "wrlBXlxF2p2u"
      },
      "source": [
        ""
      ],
      "execution_count": null,
      "outputs": []
    }
  ]
}