{
  "nbformat": 4,
  "nbformat_minor": 0,
  "metadata": {
    "kernelspec": {
      "display_name": "Python 3",
      "language": "python",
      "name": "python3"
    },
    "language_info": {
      "codemirror_mode": {
        "name": "ipython",
        "version": 3
      },
      "file_extension": ".py",
      "mimetype": "text/x-python",
      "name": "python",
      "nbconvert_exporter": "python",
      "pygments_lexer": "ipython3",
      "version": "3.8.3"
    },
    "colab": {
      "name": "Reto1_S06.ipynb",
      "provenance": [],
      "collapsed_sections": [],
      "include_colab_link": true
    }
  },
  "cells": [
    {
      "cell_type": "markdown",
      "metadata": {
        "id": "view-in-github",
        "colab_type": "text"
      },
      "source": [
        "<a href=\"https://colab.research.google.com/github/IsauraRs/Data-Science-BEDU/blob/master/M%C3%B3dulo2/Python/Sesi%C3%B3n6/Reto1_S06.ipynb\" target=\"_parent\"><img src=\"https://colab.research.google.com/assets/colab-badge.svg\" alt=\"Open In Colab\"/></a>"
      ]
    },
    {
      "cell_type": "markdown",
      "metadata": {
        "id": "BXwwIxAb6rbw"
      },
      "source": [
        "## Reto 1: Peticiones a una API usando requests\n",
        "\n",
        "### 1. Objetivos:\n",
        "    - Usar la librería Requests para hacer una petición HTTP a una API\n",
        " \n",
        "---\n",
        "    \n",
        "### 2. Desarrollo:"
      ]
    },
    {
      "cell_type": "markdown",
      "metadata": {
        "id": "9-QbPDFn6rb4"
      },
      "source": [
        "### a) Petición HTTP a API de NASA\n",
        "\n",
        "Vamos a implementar un programa que realice una llamada HTTP a la API de NASA.\n",
        "\n",
        "Puedes leer la documentación de la API [aquí](https://api.nasa.gov/), bajo el título de \"Asteroids NeoWs\"."
      ]
    },
    {
      "cell_type": "code",
      "metadata": {
        "id": "UFHNBG_u6rb5"
      },
      "source": [
        "## Realiza aquí los imports necesarios\n",
        "import requests\n",
        "import pandas as pd"
      ],
      "execution_count": null,
      "outputs": []
    },
    {
      "cell_type": "markdown",
      "metadata": {
        "id": "qI8oiPjC6rb7"
      },
      "source": [
        "Tu reto consiste en los siguientes pasos:\n",
        "\n",
        "1. Crea una cuenta en el API de NASA para obtener tu propia API Key. Copia la API Key en la celda debajo para que no la pierdas:"
      ]
    },
    {
      "cell_type": "code",
      "metadata": {
        "id": "wGQSwMls6rb8"
      },
      "source": [
        "api_key = \"3TORfqwWIrHnAaqCOTeb8H9Y8jEUmGpCZ049xucd\""
      ],
      "execution_count": null,
      "outputs": []
    },
    {
      "cell_type": "markdown",
      "metadata": {
        "id": "OXWjKelh6rb9"
      },
      "source": [
        "2. Asigna la variable `endpoint` -donde tendrás el URL base de la API de NASA- y la variable `payload` -donde tendrás el diccionario que usarás para pasar parámetros a tu petición.\n",
        "\n",
        "3. Usa tu diccionario `payload` para agregar los parámetros necesarios para pedir la hoja número 100 de la API. Durante el ejemplo, pedimos simplemente la primera hoja. En esta ocasión, debes de descubrir que parámetros requieres pasarle para obtener la hoja #100. Además queremos que el número de resultados que nos regresen sea menor al default. El default es 20, pero tú tienes que mandar los parámetros adecuados para que te regresen solamente 5 resultados"
      ]
    },
    {
      "cell_type": "code",
      "metadata": {
        "id": "zepJyKPS6rb9"
      },
      "source": [
        "endpoint = \"https://api.nasa.gov/neo/rest/v1/neo/browse\"\n",
        "payload = {\"api_key\": api_key,\n",
        "           \"page\": 100, \n",
        "           \"size\": 5}"
      ],
      "execution_count": null,
      "outputs": []
    },
    {
      "cell_type": "markdown",
      "metadata": {
        "id": "SZ11IZKT6rb-"
      },
      "source": [
        "4. Realiza tu petición HTTP aquí debajo y checa tu código de respuesta para asegurarte de que la petición se haya hecho exitosamente:"
      ]
    },
    {
      "cell_type": "code",
      "metadata": {
        "id": "J1w0CJFw6rb-",
        "colab": {
          "base_uri": "https://localhost:8080/"
        },
        "outputId": "1ac9892b-4dbb-4ec0-9a8c-accfb0d76f97"
      },
      "source": [
        "r = requests.get(endpoint, params = payload)\n",
        "r.status_code"
      ],
      "execution_count": null,
      "outputs": [
        {
          "output_type": "execute_result",
          "data": {
            "text/plain": [
              "200"
            ]
          },
          "metadata": {
            "tags": []
          },
          "execution_count": 10
        }
      ]
    },
    {
      "cell_type": "markdown",
      "metadata": {
        "id": "w2k5_92H6rb_"
      },
      "source": [
        "5. Si todo ha salido bien, extrae tus datos, normalízalos, crea un `DataFrame` con ellos y asígnalo a `objetos`. Revisa que solamente tengas 5 filas, para saber que tu petición se realizó exitosamente:"
      ]
    },
    {
      "cell_type": "code",
      "metadata": {
        "id": "3fzyDhwj6rb_"
      },
      "source": [
        "objetos ="
      ],
      "execution_count": null,
      "outputs": []
    },
    {
      "cell_type": "markdown",
      "metadata": {
        "id": "ScSu1LUS6rcB"
      },
      "source": [
        "6. Pídele a tu experta la función de verificación `visualizar_diametros` (encontrada en el archivo `helpers.py` de la carpeta donde se encuentra este Reto), pégala debajo y corre la celda para verificar tu resultado:"
      ]
    },
    {
      "cell_type": "code",
      "metadata": {
        "id": "GxN5D7oB6rcB",
        "colab": {
          "base_uri": "https://localhost:8080/",
          "height": 220
        },
        "outputId": "2d5b61a6-9841-42bd-914b-f993d5101e6e"
      },
      "source": [
        "# Pega aquí la función de verificación\n",
        "def visualizar_diametros(objetos):\n",
        "    \n",
        "    import seaborn as sns\n",
        "    \n",
        "    sizes = objetos[['name', 'estimated_diameter.kilometers.estimated_diameter_max']].copy()\n",
        "    sizes.sort_values('estimated_diameter.kilometers.estimated_diameter_max', ascending=True, inplace=True)\n",
        "    sns.barplot(sizes['name'], sizes['estimated_diameter.kilometers.estimated_diameter_max'])\n",
        "visualizar_diametros(objetos)"
      ],
      "execution_count": null,
      "outputs": [
        {
          "output_type": "error",
          "ename": "NameError",
          "evalue": "ignored",
          "traceback": [
            "\u001b[0;31m---------------------------------------------------------------------------\u001b[0m",
            "\u001b[0;31mNameError\u001b[0m                                 Traceback (most recent call last)",
            "\u001b[0;32m<ipython-input-11-a36c9dcb906a>\u001b[0m in \u001b[0;36m<module>\u001b[0;34m()\u001b[0m\n\u001b[1;32m      7\u001b[0m     \u001b[0msizes\u001b[0m\u001b[0;34m.\u001b[0m\u001b[0msort_values\u001b[0m\u001b[0;34m(\u001b[0m\u001b[0;34m'estimated_diameter.kilometers.estimated_diameter_max'\u001b[0m\u001b[0;34m,\u001b[0m \u001b[0mascending\u001b[0m\u001b[0;34m=\u001b[0m\u001b[0;32mTrue\u001b[0m\u001b[0;34m,\u001b[0m \u001b[0minplace\u001b[0m\u001b[0;34m=\u001b[0m\u001b[0;32mTrue\u001b[0m\u001b[0;34m)\u001b[0m\u001b[0;34m\u001b[0m\u001b[0;34m\u001b[0m\u001b[0m\n\u001b[1;32m      8\u001b[0m     \u001b[0msns\u001b[0m\u001b[0;34m.\u001b[0m\u001b[0mbarplot\u001b[0m\u001b[0;34m(\u001b[0m\u001b[0msizes\u001b[0m\u001b[0;34m[\u001b[0m\u001b[0;34m'name'\u001b[0m\u001b[0;34m]\u001b[0m\u001b[0;34m,\u001b[0m \u001b[0msizes\u001b[0m\u001b[0;34m[\u001b[0m\u001b[0;34m'estimated_diameter.kilometers.estimated_diameter_max'\u001b[0m\u001b[0;34m]\u001b[0m\u001b[0;34m)\u001b[0m\u001b[0;34m\u001b[0m\u001b[0;34m\u001b[0m\u001b[0m\n\u001b[0;32m----> 9\u001b[0;31m \u001b[0mvisualizar_diametros\u001b[0m\u001b[0;34m(\u001b[0m\u001b[0mobjetos\u001b[0m\u001b[0;34m)\u001b[0m\u001b[0;34m\u001b[0m\u001b[0;34m\u001b[0m\u001b[0m\n\u001b[0m",
            "\u001b[0;31mNameError\u001b[0m: name 'objetos' is not defined"
          ]
        }
      ]
    },
    {
      "cell_type": "code",
      "metadata": {
        "id": "xCVIDizs6rcB"
      },
      "source": [
        ""
      ],
      "execution_count": null,
      "outputs": []
    }
  ]
}