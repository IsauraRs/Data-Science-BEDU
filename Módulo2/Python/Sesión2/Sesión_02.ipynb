{
  "nbformat": 4,
  "nbformat_minor": 0,
  "metadata": {
    "colab": {
      "name": "Sesión_02.ipynb",
      "provenance": [],
      "collapsed_sections": [],
      "authorship_tag": "ABX9TyNKqdmn1v7439zFoRCd3eJj",
      "include_colab_link": true
    },
    "kernelspec": {
      "name": "python3",
      "display_name": "Python 3"
    }
  },
  "cells": [
    {
      "cell_type": "markdown",
      "metadata": {
        "id": "view-in-github",
        "colab_type": "text"
      },
      "source": [
        "<a href=\"https://colab.research.google.com/github/IsauraRs/Data-Science-BEDU/blob/master/M%C3%B3dulo2/Python/Sesi%C3%B3n2/Sesi%C3%B3n_02.ipynb\" target=\"_parent\"><img src=\"https://colab.research.google.com/assets/colab-badge.svg\" alt=\"Open In Colab\"/></a>"
      ]
    },
    {
      "cell_type": "markdown",
      "metadata": {
        "id": "H3x6Pbrjtx-q"
      },
      "source": [
        "# Estructuras de datos"
      ]
    },
    {
      "cell_type": "markdown",
      "metadata": {
        "id": "OE0ZD2LDt7HA"
      },
      "source": [
        "## Listas\n",
        "Son colecciones ordenadas "
      ]
    },
    {
      "cell_type": "code",
      "metadata": {
        "id": "8hGCjWjftSBv"
      },
      "source": [
        "var_lista = [1, 2, 3, 4, 5]"
      ],
      "execution_count": null,
      "outputs": []
    },
    {
      "cell_type": "code",
      "metadata": {
        "colab": {
          "base_uri": "https://localhost:8080/"
        },
        "id": "oHlQSjMQuUBc",
        "outputId": "8e0ab082-d1ed-434d-8ec1-09afa65a6902"
      },
      "source": [
        "print(var_lista[2])\n",
        "print(var_lista[0])"
      ],
      "execution_count": null,
      "outputs": [
        {
          "output_type": "stream",
          "text": [
            "3\n",
            "1\n"
          ],
          "name": "stdout"
        }
      ]
    },
    {
      "cell_type": "code",
      "metadata": {
        "id": "qFZ4pT1zvqWs"
      },
      "source": [
        ""
      ],
      "execution_count": null,
      "outputs": []
    },
    {
      "cell_type": "code",
      "metadata": {
        "colab": {
          "base_uri": "https://localhost:8080/"
        },
        "id": "aq5p8XpSuaw5",
        "outputId": "dfbeea78-093d-4d5e-8976-c6004e24150d"
      },
      "source": [
        "var_lista[-1]"
      ],
      "execution_count": null,
      "outputs": [
        {
          "output_type": "execute_result",
          "data": {
            "text/plain": [
              "5"
            ]
          },
          "metadata": {
            "tags": []
          },
          "execution_count": 5
        }
      ]
    },
    {
      "cell_type": "code",
      "metadata": {
        "colab": {
          "base_uri": "https://localhost:8080/"
        },
        "id": "0uRPMzxFvDBi",
        "outputId": "0899a5f9-b173-43aa-ed2a-78857d689633"
      },
      "source": [
        "uno = 1\n",
        "dos = 2\n",
        "tres = 3\n",
        "cuatro = 4\n",
        "\n",
        "lista_variables = [uno, dos, tres, cuatro]\n",
        "print(lista_variables)"
      ],
      "execution_count": null,
      "outputs": [
        {
          "output_type": "stream",
          "text": [
            "[1, 2, 3, 4]\n"
          ],
          "name": "stdout"
        }
      ]
    },
    {
      "cell_type": "code",
      "metadata": {
        "colab": {
          "base_uri": "https://localhost:8080/"
        },
        "id": "ON-imP9LvtAn",
        "outputId": "ffaf43d0-05f8-40ea-8950-219a4e03b7fc"
      },
      "source": [
        "lista_floats = [3.4, 6.5, 7.8, 3.4]\n",
        "\n",
        "lista_floats[2]"
      ],
      "execution_count": null,
      "outputs": [
        {
          "output_type": "execute_result",
          "data": {
            "text/plain": [
              "7.8"
            ]
          },
          "metadata": {
            "tags": []
          },
          "execution_count": 7
        }
      ]
    },
    {
      "cell_type": "code",
      "metadata": {
        "id": "uUMKzvY0v9he"
      },
      "source": [
        "lista_de_strings = [\"Rafa\", \"Barbachano\", \"Eduardo\"]"
      ],
      "execution_count": null,
      "outputs": []
    },
    {
      "cell_type": "code",
      "metadata": {
        "id": "9CiVVlZIwD0d"
      },
      "source": [
        "lista_bool = [True, False, True, True]"
      ],
      "execution_count": null,
      "outputs": []
    },
    {
      "cell_type": "code",
      "metadata": {
        "colab": {
          "base_uri": "https://localhost:8080/"
        },
        "id": "JYczs725wIog",
        "outputId": "7cbeaa93-14ea-44b7-eea6-2dc6a61e82a8"
      },
      "source": [
        "lista_combinada = [True, \"Rafa\", 4, 5.6]\n",
        "lista_combinada[2]"
      ],
      "execution_count": null,
      "outputs": [
        {
          "output_type": "execute_result",
          "data": {
            "text/plain": [
              "4"
            ]
          },
          "metadata": {
            "tags": []
          },
          "execution_count": 11
        }
      ]
    },
    {
      "cell_type": "code",
      "metadata": {
        "id": "GT3Qy6MzwN3v"
      },
      "source": [
        "lista_de_listas = [[1, 2, 3], [4, 5, 6], [7, 8, 9]]"
      ],
      "execution_count": null,
      "outputs": []
    },
    {
      "cell_type": "markdown",
      "metadata": {
        "id": "By__4Jex0y4h"
      },
      "source": [
        "## Modificando listas\n"
      ]
    },
    {
      "cell_type": "code",
      "metadata": {
        "id": "9YN8gjAOwZb4"
      },
      "source": [
        "lista_1 = [1, 2, 3, 4, 5, 6, 7]"
      ],
      "execution_count": null,
      "outputs": []
    },
    {
      "cell_type": "code",
      "metadata": {
        "id": "HA3uhu-Q1Ti3"
      },
      "source": [
        "lista_1.append(9999)"
      ],
      "execution_count": null,
      "outputs": []
    },
    {
      "cell_type": "code",
      "metadata": {
        "colab": {
          "base_uri": "https://localhost:8080/"
        },
        "id": "1mRR0jzd1WKO",
        "outputId": "58fb2efa-7a1c-4cae-8d2d-cce106e4e5c1"
      },
      "source": [
        "lista_1"
      ],
      "execution_count": null,
      "outputs": [
        {
          "output_type": "execute_result",
          "data": {
            "text/plain": [
              "[1, 2, 3, 4, 5, 6, 7, 9999]"
            ]
          },
          "metadata": {
            "tags": []
          },
          "execution_count": 15
        }
      ]
    },
    {
      "cell_type": "code",
      "metadata": {
        "id": "ilmvY3BY1W9r"
      },
      "source": [
        "lista_1.append(777)"
      ],
      "execution_count": null,
      "outputs": []
    },
    {
      "cell_type": "code",
      "metadata": {
        "colab": {
          "base_uri": "https://localhost:8080/"
        },
        "id": "2pdjdH8P1jLn",
        "outputId": "f5789e2c-f765-43bd-b0e4-45ab13244153"
      },
      "source": [
        "lista_1"
      ],
      "execution_count": null,
      "outputs": [
        {
          "output_type": "execute_result",
          "data": {
            "text/plain": [
              "[1, 2, 3, 4, 5, 6, 7, 9999, 777]"
            ]
          },
          "metadata": {
            "tags": []
          },
          "execution_count": 17
        }
      ]
    },
    {
      "cell_type": "code",
      "metadata": {
        "colab": {
          "base_uri": "https://localhost:8080/"
        },
        "id": "XzffLq7d1kBD",
        "outputId": "0ff92edb-73cc-4417-a94d-28d5b7ff41e2"
      },
      "source": [
        "lista_1.pop()"
      ],
      "execution_count": null,
      "outputs": [
        {
          "output_type": "execute_result",
          "data": {
            "text/plain": [
              "777"
            ]
          },
          "metadata": {
            "tags": []
          },
          "execution_count": 18
        }
      ]
    },
    {
      "cell_type": "code",
      "metadata": {
        "colab": {
          "base_uri": "https://localhost:8080/"
        },
        "id": "HIWBjg0B1sHf",
        "outputId": "75e307ab-523e-4374-d4b9-f65756b99ee3"
      },
      "source": [
        "lista_1"
      ],
      "execution_count": null,
      "outputs": [
        {
          "output_type": "execute_result",
          "data": {
            "text/plain": [
              "[1, 2, 3, 4, 5, 6, 7, 9999]"
            ]
          },
          "metadata": {
            "tags": []
          },
          "execution_count": 19
        }
      ]
    },
    {
      "cell_type": "code",
      "metadata": {
        "colab": {
          "base_uri": "https://localhost:8080/"
        },
        "id": "3r4190ID1tNY",
        "outputId": "e8abff1e-c73f-4fb7-8f7f-44be0c0684e5"
      },
      "source": [
        "lista_1.pop(1)"
      ],
      "execution_count": null,
      "outputs": [
        {
          "output_type": "execute_result",
          "data": {
            "text/plain": [
              "2"
            ]
          },
          "metadata": {
            "tags": []
          },
          "execution_count": 20
        }
      ]
    },
    {
      "cell_type": "code",
      "metadata": {
        "colab": {
          "base_uri": "https://localhost:8080/"
        },
        "id": "yWh_2vLm121f",
        "outputId": "3a5e48e7-aa61-4cf5-b815-7a401eefbc84"
      },
      "source": [
        "lista_1"
      ],
      "execution_count": null,
      "outputs": [
        {
          "output_type": "execute_result",
          "data": {
            "text/plain": [
              "[1, 3, 4, 5, 6, 7, 9999]"
            ]
          },
          "metadata": {
            "tags": []
          },
          "execution_count": 21
        }
      ]
    },
    {
      "cell_type": "code",
      "metadata": {
        "colab": {
          "base_uri": "https://localhost:8080/"
        },
        "id": "MjtI7uXU14Ac",
        "outputId": "209e51de-921e-4d99-a75e-f4ded7232ab1"
      },
      "source": [
        "set([1,1,1,2,3,4])\n",
        "#Set permite eliminar valores repetidos en una lista"
      ],
      "execution_count": null,
      "outputs": [
        {
          "output_type": "execute_result",
          "data": {
            "text/plain": [
              "{1, 2, 3, 4}"
            ]
          },
          "metadata": {
            "tags": []
          },
          "execution_count": 23
        }
      ]
    },
    {
      "cell_type": "markdown",
      "metadata": {
        "id": "1zFsKcCG2Pp3"
      },
      "source": [
        "## Tuplas\n",
        "Las tuplas no son mutables"
      ]
    },
    {
      "cell_type": "code",
      "metadata": {
        "id": "6kfgcC9-2InL"
      },
      "source": [
        "var_tupla = (1,1,1,2,3,4)"
      ],
      "execution_count": null,
      "outputs": []
    },
    {
      "cell_type": "code",
      "metadata": {
        "colab": {
          "base_uri": "https://localhost:8080/"
        },
        "id": "u74x59rF2VNa",
        "outputId": "f06a1cb2-20ad-4fb3-ccf8-58b576785ffd"
      },
      "source": [
        "var_tupla"
      ],
      "execution_count": null,
      "outputs": [
        {
          "output_type": "execute_result",
          "data": {
            "text/plain": [
              "(1, 1, 1, 2, 3, 4)"
            ]
          },
          "metadata": {
            "tags": []
          },
          "execution_count": 27
        }
      ]
    },
    {
      "cell_type": "markdown",
      "metadata": {
        "id": "avCoCMju6q5m"
      },
      "source": [
        "## Diccionario\n",
        "Colección de valores no ordenados"
      ]
    },
    {
      "cell_type": "code",
      "metadata": {
        "id": "tw4zt6_Z2W2A"
      },
      "source": [
        "diccionario_1 = {}"
      ],
      "execution_count": null,
      "outputs": []
    },
    {
      "cell_type": "code",
      "metadata": {
        "id": "fOqj6wlw7GDH"
      },
      "source": [
        "diccionario_2 = {\n",
        "    \"llave_1\" : \"valor_1\",\n",
        "    \"llave_2\" : \"valor_2\",\n",
        "    \"llave_3\" : \"valor_3\"\n",
        "}"
      ],
      "execution_count": null,
      "outputs": []
    },
    {
      "cell_type": "code",
      "metadata": {
        "id": "1x_kcN687WlQ"
      },
      "source": [
        "diccionario_3 = {\n",
        "    1 : \"valor_1\",\n",
        "    2 : \"valor_2\"\n",
        "}"
      ],
      "execution_count": null,
      "outputs": []
    },
    {
      "cell_type": "code",
      "metadata": {
        "id": "Jh3si45_7jnF"
      },
      "source": [
        "diccionario_4 = {\n",
        "    \"int\" : 34,\n",
        "    \"float\" : 45.3,\n",
        "    \"string\" : \"Hola\",\n",
        "    \"booleano\" : True,\n",
        "    \"lista\" : [1,2,3,4],\n",
        "    \"diccionario\" : {\n",
        "        1 : \"uno\",\n",
        "        2 : \"dos\"\n",
        "    }\n",
        "}"
      ],
      "execution_count": null,
      "outputs": []
    },
    {
      "cell_type": "code",
      "metadata": {
        "colab": {
          "base_uri": "https://localhost:8080/"
        },
        "id": "NTE7gT4R73mK",
        "outputId": "78a2e1c5-b19d-4a60-9c56-488eecd2dd4b"
      },
      "source": [
        "#Accediendo a los valores\n",
        "print(diccionario_4[\"float\"])\n",
        "print(diccionario_4[\"booleano\"])"
      ],
      "execution_count": null,
      "outputs": [
        {
          "output_type": "stream",
          "text": [
            "45.3\n",
            "True\n"
          ],
          "name": "stdout"
        }
      ]
    },
    {
      "cell_type": "code",
      "metadata": {
        "colab": {
          "base_uri": "https://localhost:8080/"
        },
        "id": "g-fxiqEm8xFq",
        "outputId": "f833519b-860c-49a7-b663-019f30fbabfe"
      },
      "source": [
        "#Accediendo a un índice de una lista cuya llave es lista\n",
        "diccionario_4[\"lista\"][0]\n"
      ],
      "execution_count": null,
      "outputs": [
        {
          "output_type": "execute_result",
          "data": {
            "text/plain": [
              "1"
            ]
          },
          "metadata": {
            "tags": []
          },
          "execution_count": 37
        }
      ]
    },
    {
      "cell_type": "code",
      "metadata": {
        "colab": {
          "base_uri": "https://localhost:8080/",
          "height": 35
        },
        "id": "rTml_VXb89cp",
        "outputId": "ca41d84e-aa0c-41f7-e2c0-8647db5434b4"
      },
      "source": [
        "#Accediendo al valor de un diccionario en un diccionario\n",
        "diccionario_4[\"diccionario\"][1]"
      ],
      "execution_count": null,
      "outputs": [
        {
          "output_type": "execute_result",
          "data": {
            "application/vnd.google.colaboratory.intrinsic+json": {
              "type": "string"
            },
            "text/plain": [
              "'uno'"
            ]
          },
          "metadata": {
            "tags": []
          },
          "execution_count": 39
        }
      ]
    },
    {
      "cell_type": "code",
      "metadata": {
        "id": "lzHGwFcv9HXK"
      },
      "source": [
        "info_de_contacto = {\n",
        "    \"nombre\" : \"Isabel\",\n",
        "    \"tel\" : 5546352431,\n",
        "    \"dir\" : {\n",
        "        \"colonia\" : \"Del Valle Centro\",\n",
        "        \"calle\" : \"Pilares\",\n",
        "        \"num\" : 69,\n",
        "        \"cp\" : \"03100\"\n",
        "    }\n",
        "}"
      ],
      "execution_count": null,
      "outputs": []
    },
    {
      "cell_type": "code",
      "metadata": {
        "colab": {
          "base_uri": "https://localhost:8080/"
        },
        "id": "py-FadHqEbnA",
        "outputId": "9ab0d03c-fd72-4f47-a228-f07fa8993409"
      },
      "source": [
        "#Para imprimir los diccionarios \"bonitos\"\n",
        "from pprint import pprint\n",
        "pprint(info_de_contacto)"
      ],
      "execution_count": null,
      "outputs": [
        {
          "output_type": "stream",
          "text": [
            "{'dir': {'calle': 'Pilares',\n",
            "         'colonia': 'Del Valle Centro',\n",
            "         'cp': '03100',\n",
            "         'num': 69},\n",
            " 'nombre': 'Isabel',\n",
            " 'tel': 5546352431}\n"
          ],
          "name": "stdout"
        }
      ]
    },
    {
      "cell_type": "markdown",
      "metadata": {
        "id": "NEqWwEvjEAfo"
      },
      "source": [
        "## Modificando diccionarios\n",
        "Las llaves deben ser únicas"
      ]
    },
    {
      "cell_type": "code",
      "metadata": {
        "id": "zlavdEodEklQ"
      },
      "source": [
        "info_de_contacto[\"email\"] = \"hola@gmail.com\" "
      ],
      "execution_count": null,
      "outputs": []
    },
    {
      "cell_type": "code",
      "metadata": {
        "colab": {
          "base_uri": "https://localhost:8080/"
        },
        "id": "nK2D89-uEv7J",
        "outputId": "f6cef1bf-19d7-4e0f-e412-86db1342c7bf"
      },
      "source": [
        "pprint(info_de_contacto)"
      ],
      "execution_count": null,
      "outputs": [
        {
          "output_type": "stream",
          "text": [
            "{'dir': {'calle': 'Pilares',\n",
            "         'colonia': 'Del Valle Centro',\n",
            "         'cp': '03100',\n",
            "         'num': 69},\n",
            " 'email': 'hola@gmail.com',\n",
            " 'nombre': 'Isabel',\n",
            " 'tel': 5546352431}\n"
          ],
          "name": "stdout"
        }
      ]
    },
    {
      "cell_type": "code",
      "metadata": {
        "id": "hSi7LhdWExo2"
      },
      "source": [
        "info_de_contacto[\"dir\"] = {\n",
        "    \"colonia\" : \"Flores\",\n",
        "    \"calle\" : \"Milagros\",\n",
        "    \"num\" : 89,\n",
        "    \"cp\" : \"9870\"\n",
        "}"
      ],
      "execution_count": null,
      "outputs": []
    },
    {
      "cell_type": "code",
      "metadata": {
        "colab": {
          "base_uri": "https://localhost:8080/"
        },
        "id": "R4QuQ4bMFvle",
        "outputId": "a10fcc85-9647-49d0-b316-74384c983cb0"
      },
      "source": [
        "pprint(info_de_contacto)"
      ],
      "execution_count": null,
      "outputs": [
        {
          "output_type": "stream",
          "text": [
            "{'dir': {'calle': 'Milagros', 'colonia': 'Flores', 'cp': '9870', 'num': 89},\n",
            " 'email': 'hola@gmail.com',\n",
            " 'nombre': 'Isabel',\n",
            " 'tel': 5546352431}\n"
          ],
          "name": "stdout"
        }
      ]
    },
    {
      "cell_type": "code",
      "metadata": {
        "id": "-7_EmdwLFx0q"
      },
      "source": [
        "#Accediendo a una llave dentro de otro diccionario\n",
        "info_de_contacto[\"dir\"][\"cp\"] = \"13800\""
      ],
      "execution_count": null,
      "outputs": []
    },
    {
      "cell_type": "code",
      "metadata": {
        "colab": {
          "base_uri": "https://localhost:8080/"
        },
        "id": "GbjJTz82GHvU",
        "outputId": "5988d44e-e700-4719-e2a2-477f0a821f6b"
      },
      "source": [
        "pprint(info_de_contacto)"
      ],
      "execution_count": null,
      "outputs": [
        {
          "output_type": "stream",
          "text": [
            "{'dir': {'calle': 'Milagros', 'colonia': 'Flores', 'cp': '13800', 'num': 89},\n",
            " 'email': 'hola@gmail.com',\n",
            " 'nombre': 'Isabel',\n",
            " 'tel': 5546352431}\n"
          ],
          "name": "stdout"
        }
      ]
    },
    {
      "cell_type": "code",
      "metadata": {
        "colab": {
          "base_uri": "https://localhost:8080/"
        },
        "id": "Di-WDomRGJ5h",
        "outputId": "ba1c6776-3510-426a-aaca-38db1e6f0fa2"
      },
      "source": [
        "#Se puede hacer pop con las llaves\n",
        "info_de_contacto.pop(\"tel\")"
      ],
      "execution_count": null,
      "outputs": [
        {
          "output_type": "execute_result",
          "data": {
            "text/plain": [
              "5546352431"
            ]
          },
          "metadata": {
            "tags": []
          },
          "execution_count": 52
        }
      ]
    },
    {
      "cell_type": "code",
      "metadata": {
        "colab": {
          "base_uri": "https://localhost:8080/"
        },
        "id": "oWndXokHGa6O",
        "outputId": "abf9e468-676b-46fe-8de2-23747708aa90"
      },
      "source": [
        "pprint(info_de_contacto)"
      ],
      "execution_count": null,
      "outputs": [
        {
          "output_type": "stream",
          "text": [
            "{'dir': {'calle': 'Milagros', 'colonia': 'Flores', 'cp': '13800', 'num': 89},\n",
            " 'email': 'hola@gmail.com',\n",
            " 'nombre': 'Isabel'}\n"
          ],
          "name": "stdout"
        }
      ]
    },
    {
      "cell_type": "markdown",
      "metadata": {
        "id": "2tlBWq02LqZD"
      },
      "source": [
        "## Funciones"
      ]
    },
    {
      "cell_type": "code",
      "metadata": {
        "id": "6BJSZgcdGdKf"
      },
      "source": [
        "def funcion_x(numero):\n",
        "\n",
        "  numero = numero + 5\n",
        "  \n",
        "  return numero"
      ],
      "execution_count": null,
      "outputs": []
    },
    {
      "cell_type": "code",
      "metadata": {
        "colab": {
          "base_uri": "https://localhost:8080/"
        },
        "id": "Pm4XmfSaNgHN",
        "outputId": "786b2441-8553-4ba7-c88e-43617987b536"
      },
      "source": [
        "funcion_x(5)"
      ],
      "execution_count": null,
      "outputs": [
        {
          "output_type": "execute_result",
          "data": {
            "text/plain": [
              "10"
            ]
          },
          "metadata": {
            "tags": []
          },
          "execution_count": 61
        }
      ]
    },
    {
      "cell_type": "code",
      "metadata": {
        "colab": {
          "base_uri": "https://localhost:8080/"
        },
        "id": "KSJz4rFyMtBa",
        "outputId": "4448ffd8-81e3-4de8-8740-d5b099411a36"
      },
      "source": [
        "def funcion_z():\n",
        "  return 42\n",
        "\n",
        "funcion_z()"
      ],
      "execution_count": null,
      "outputs": [
        {
          "output_type": "execute_result",
          "data": {
            "text/plain": [
              "42"
            ]
          },
          "metadata": {
            "tags": []
          },
          "execution_count": 56
        }
      ]
    },
    {
      "cell_type": "code",
      "metadata": {
        "id": "bFYYdtqiMyqa"
      },
      "source": [
        "if 5 == 5:\n",
        "  guayaba = 10"
      ],
      "execution_count": null,
      "outputs": []
    },
    {
      "cell_type": "code",
      "metadata": {
        "colab": {
          "base_uri": "https://localhost:8080/"
        },
        "id": "lxsZBgH2NDfk",
        "outputId": "ce293f21-f79f-4825-e1c7-34a7afe991ab"
      },
      "source": [
        "guayaba"
      ],
      "execution_count": null,
      "outputs": [
        {
          "output_type": "execute_result",
          "data": {
            "text/plain": [
              "10"
            ]
          },
          "metadata": {
            "tags": []
          },
          "execution_count": 58
        }
      ]
    },
    {
      "cell_type": "code",
      "metadata": {
        "id": "JAiRkJzkNEz3"
      },
      "source": [
        "def funcion_varios_valores(numero_nuevo):\n",
        "\n",
        "  fresa = numero_nuevo + 7\n",
        "\n",
        "  return fresa, numero_nuevo\n",
        "\n",
        "fresa_nueva = funcion_varios_valores(5)"
      ],
      "execution_count": null,
      "outputs": []
    },
    {
      "cell_type": "code",
      "metadata": {
        "colab": {
          "base_uri": "https://localhost:8080/"
        },
        "id": "R3cKNndUNTCi",
        "outputId": "445a2958-11e3-4c2e-ebae-6cb2ba6e5123"
      },
      "source": [
        "fresa_nueva"
      ],
      "execution_count": null,
      "outputs": [
        {
          "output_type": "execute_result",
          "data": {
            "text/plain": [
              "(12, 5)"
            ]
          },
          "metadata": {
            "tags": []
          },
          "execution_count": 73
        }
      ]
    },
    {
      "cell_type": "code",
      "metadata": {
        "id": "I5QeU0yFNUqs"
      },
      "source": [
        "x, y = funcion_varios_valores(5)"
      ],
      "execution_count": null,
      "outputs": []
    },
    {
      "cell_type": "code",
      "metadata": {
        "colab": {
          "base_uri": "https://localhost:8080/"
        },
        "id": "SUBo2TRtON9o",
        "outputId": "12bb3669-c8cf-4161-f030-539193f59ff3"
      },
      "source": [
        "x"
      ],
      "execution_count": null,
      "outputs": [
        {
          "output_type": "execute_result",
          "data": {
            "text/plain": [
              "12"
            ]
          },
          "metadata": {
            "tags": []
          },
          "execution_count": 75
        }
      ]
    },
    {
      "cell_type": "code",
      "metadata": {
        "colab": {
          "base_uri": "https://localhost:8080/"
        },
        "id": "efE5dfXhOOxa",
        "outputId": "962fe5cf-2968-40be-e9c2-469ab8040e7e"
      },
      "source": [
        "y"
      ],
      "execution_count": null,
      "outputs": [
        {
          "output_type": "execute_result",
          "data": {
            "text/plain": [
              "5"
            ]
          },
          "metadata": {
            "tags": []
          },
          "execution_count": 76
        }
      ]
    },
    {
      "cell_type": "code",
      "metadata": {
        "id": "eV08Sn3VOPIF"
      },
      "source": [
        ""
      ],
      "execution_count": null,
      "outputs": []
    }
  ]
}