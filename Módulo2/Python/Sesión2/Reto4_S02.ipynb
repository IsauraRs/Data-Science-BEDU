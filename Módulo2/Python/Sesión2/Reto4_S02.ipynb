{
  "nbformat": 4,
  "nbformat_minor": 0,
  "metadata": {
    "kernelspec": {
      "display_name": "Python 3",
      "language": "python",
      "name": "python3"
    },
    "language_info": {
      "codemirror_mode": {
        "name": "ipython",
        "version": 3
      },
      "file_extension": ".py",
      "mimetype": "text/x-python",
      "name": "python",
      "nbconvert_exporter": "python",
      "pygments_lexer": "ipython3",
      "version": "3.8.3"
    },
    "colab": {
      "name": "Reto4_S02.ipynb",
      "provenance": [],
      "collapsed_sections": [],
      "include_colab_link": true
    }
  },
  "cells": [
    {
      "cell_type": "markdown",
      "metadata": {
        "id": "view-in-github",
        "colab_type": "text"
      },
      "source": [
        "<a href=\"https://colab.research.google.com/github/IsauraRs/Data-Science-BEDU/blob/master/M%C3%B3dulo2/Python/Sesi%C3%B3n2/Reto4_S02.ipynb\" target=\"_parent\"><img src=\"https://colab.research.google.com/assets/colab-badge.svg\" alt=\"Open In Colab\"/></a>"
      ]
    },
    {
      "cell_type": "markdown",
      "metadata": {
        "id": "bLa1xO7HGjFa"
      },
      "source": [
        "## Reto 4: Modificando diccionarios\n",
        "\n",
        "### 1. Objetivos:\n",
        "    - Practicar agregar datos, modificar datos y eliminar datos de diccionarios\n",
        " \n",
        "---\n",
        "    \n",
        "### 2. Desarrollo:"
      ]
    },
    {
      "cell_type": "markdown",
      "metadata": {
        "id": "yNyctn1-GjFi"
      },
      "source": [
        "Debajo tienes un diccionario que contiene algo de información sobre una persona:"
      ]
    },
    {
      "cell_type": "code",
      "metadata": {
        "id": "Ffzevm35GjFj"
      },
      "source": [
        "registro = {\n",
        "    \"id\": \"23f-58j-kju7-54re\",\n",
        "    \"nombre\": \"Alberto\",\n",
        "    \"apellido_materno\": \"Gutierrez\",\n",
        "    \"apellido_paterno\": \"Sosa\",\n",
        "    \"profesion\": \"Contador\",\n",
        "    \"ultimo_nivel_de_estudios\": \"Maestría\",\n",
        "    \"lugar_de_estudios\": \"UAM\",\n",
        "    \"numero_de_cuenta\": \"25367890\",\n",
        "    \"nip_de_cajero\": \"142\"\n",
        "}\n",
        "\n",
        "# Tu código va aquí\n",
        "registro[\"id\"] = \"20r-97k-lmn3-09hg\"\n",
        "registro[\"nombre\"] = \"Isaura\"\n",
        "registro[\"apellido_materno\"] = \"Salazar\"\n",
        "registro[\"apellido_paterno\"] = \"Ramírez\"\n",
        "registro[\"profesion\"] = \"Estudiante\"\n",
        "registro[\"ultimo_nivel_de_estudios\"] = \"Licenciatura\"\n",
        "registro[\"lugar_de_estudios\"] = \"UNAM\"\n",
        "registro[\"numero_de_cuenta\"] = \"316514658\"\n",
        "registro[\"nip_de_cajero\"] = \"123\"\n",
        "registro[\"fecha_de_nacimiento\"] = \"29/07/1997\"\n",
        "registro[\"lugar_de_nacimiento\"] = \"Ciudad de México\""
      ],
      "execution_count": null,
      "outputs": []
    },
    {
      "cell_type": "markdown",
      "metadata": {
        "id": "E0oCTIBzGjFk"
      },
      "source": [
        "Ahora, tenemos una serie de `prints` que imprimen esta información en forma de tabla:"
      ]
    },
    {
      "cell_type": "code",
      "metadata": {
        "id": "V9vMwstQGjFm",
        "colab": {
          "base_uri": "https://localhost:8080/"
        },
        "outputId": "542c72bd-05f7-4000-dd6b-2d3108dfb6e0"
      },
      "source": [
        "print(f'Registro con id: {registro[\"id\"]}\\n')\n",
        "print(f'---------------------------------------\\n')\n",
        "print(f'{(\"Nombre\"):25} | {registro[\"nombre\"]:25}')\n",
        "print(f'{(\"Apellido Materno\"):25} | {registro[\"apellido_materno\"]:25}')\n",
        "print(f'{(\"Apellido Paterno\"):25} | {registro[\"apellido_paterno\"]:25}')\n",
        "print(f'{(\"Profesión\"):25} | {registro[\"profesion\"]:25}')\n",
        "print(f'{(\"Último nivel de estudios\"):25} | {registro[\"ultimo_nivel_de_estudios\"]:25}')\n",
        "print(f'{(\"Lugar de estudios\"):25} | {registro[\"lugar_de_estudios\"]:25}')\n",
        "print(f'{(\"Fecha de nacimiento\"):25} | {registro[\"fecha_de_nacimiento\"]:25}')\n",
        "print(f'{(\"Lugar de nacimiento\"):25} | {registro[\"lugar_de_nacimiento\"]:25}')"
      ],
      "execution_count": null,
      "outputs": [
        {
          "output_type": "stream",
          "text": [
            "Registro con id: 20r-97k-lmn3-09hg\n",
            "\n",
            "---------------------------------------\n",
            "\n",
            "Nombre                    | Isaura                   \n",
            "Apellido Materno          | Salazar                  \n",
            "Apellido Paterno          | Ramírez                  \n",
            "Profesión                 | Estudiante               \n",
            "Último nivel de estudios  | Licenciatura             \n",
            "Lugar de estudios         | UNAM                     \n",
            "Fecha de nacimiento       | 29/07/1997               \n",
            "Lugar de nacimiento       | Ciudad de México         \n"
          ],
          "name": "stdout"
        }
      ]
    },
    {
      "cell_type": "markdown",
      "metadata": {
        "id": "oDCUJ4XEGjFm"
      },
      "source": [
        "La actividad tienen 3 partes:\n",
        "\n",
        "1. Usando la técnica para modificar valores en un diccionario, cambia la información del diccionario para que sea la tuya.\n",
        "2. Usando la técnica para agregar datos al diccionario agrega las llaves que estén siendo accesadas en el `print` pero que no han sido agregadas al diccionario.\n",
        "3. Usando la técnica para eliminar datos del diccionario, elimina los datos sensibles que no quieras que estén incluidos en el diccionario.\n",
        "\n",
        "Recuerda sólo utilizar métodos y operadores para realizar el ejercicio. **No reescribas el diccionario directamente**."
      ]
    },
    {
      "cell_type": "code",
      "metadata": {
        "id": "_zROq2mgGjFn",
        "colab": {
          "base_uri": "https://localhost:8080/",
          "height": 35
        },
        "outputId": "10285adb-47ce-46aa-8f41-1682a9f75d69"
      },
      "source": [
        "registro.pop(\"nip_de_cajero\")\n",
        "registro.pop(\"numero_de_cuenta\")"
      ],
      "execution_count": null,
      "outputs": [
        {
          "output_type": "execute_result",
          "data": {
            "application/vnd.google.colaboratory.intrinsic+json": {
              "type": "string"
            },
            "text/plain": [
              "'316514658'"
            ]
          },
          "metadata": {
            "tags": []
          },
          "execution_count": 15
        }
      ]
    },
    {
      "cell_type": "code",
      "metadata": {
        "id": "bv_GZBqaJDKA"
      },
      "source": [
        "from pprint import pprint"
      ],
      "execution_count": null,
      "outputs": []
    },
    {
      "cell_type": "code",
      "metadata": {
        "id": "ZnTaaQ1DJFsk",
        "colab": {
          "base_uri": "https://localhost:8080/"
        },
        "outputId": "b224c197-68fe-4699-bd91-4719ec6a4799"
      },
      "source": [
        "pprint(registro)"
      ],
      "execution_count": null,
      "outputs": [
        {
          "output_type": "stream",
          "text": [
            "{'apellido_materno': 'Salazar',\n",
            " 'apellido_paterno': 'Ramírez',\n",
            " 'fecha_de_nacimiento': '29/07/1997',\n",
            " 'id': '20r-97k-lmn3-09hg',\n",
            " 'lugar_de_estudios': 'UNAM',\n",
            " 'lugar_de_nacimiento': 'Ciudad de México',\n",
            " 'nombre': 'Isaura',\n",
            " 'profesion': 'Estudiante',\n",
            " 'ultimo_nivel_de_estudios': 'Licenciatura'}\n"
          ],
          "name": "stdout"
        }
      ]
    },
    {
      "cell_type": "code",
      "metadata": {
        "id": "l_IEtpvkJHHl"
      },
      "source": [
        ""
      ],
      "execution_count": null,
      "outputs": []
    }
  ]
}