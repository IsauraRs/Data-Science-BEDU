{
  "nbformat": 4,
  "nbformat_minor": 0,
  "metadata": {
    "colab": {
      "name": "Prework_S02.ipynb",
      "provenance": [],
      "collapsed_sections": []
    },
    "kernelspec": {
      "name": "python3",
      "display_name": "Python 3"
    }
  },
  "cells": [
    {
      "cell_type": "markdown",
      "metadata": {
        "id": "VgHebAdHN9qN"
      },
      "source": [
        "# Estructuras de datos"
      ]
    },
    {
      "cell_type": "markdown",
      "metadata": {
        "id": "2r00UA7bO0cw"
      },
      "source": [
        "## Listas\n"
      ]
    },
    {
      "cell_type": "markdown",
      "metadata": {
        "id": "tt-FYZGlQRvC"
      },
      "source": [
        "Las listas son colecciones ordenadas de elementos. Si tenemos una serie de elementos que queremos guardar de forma ordenada, podemos meterlos dentro de una lista. Para crear una lista, usamos corchetes ([]) y luego colocamos nuestros elementos dentro de los corchetes.\n"
      ]
    },
    {
      "cell_type": "code",
      "metadata": {
        "id": "-Pl3qw8fN2f9"
      },
      "source": [
        "soy_una_lista_feliz = [3, 6, 1, 4, 8, 7, 2, 4, 3]"
      ],
      "execution_count": null,
      "outputs": []
    },
    {
      "cell_type": "code",
      "metadata": {
        "id": "8d7HdUbaPGoD"
      },
      "source": [
        "lista_de_floats = [1.4, 5.78, 2.34, 5.21, 8.9]\n",
        "lista_de_booleanos = [True, False, True, True, False, False]\n",
        "lista_de_listas_de_ints = [[1, 4 ,3], [6, 8, 7], [2, 4, 3], [0, 3, 8]]"
      ],
      "execution_count": null,
      "outputs": []
    },
    {
      "cell_type": "markdown",
      "metadata": {
        "id": "GVpeyozOSmkn"
      },
      "source": [
        "Es posible en Python hacer listas con diferentes tipos de datos."
      ]
    },
    {
      "cell_type": "code",
      "metadata": {
        "id": "t-MzyU7kQLh_"
      },
      "source": [
        "lista_mixta = [3, True, 7.5, [3, 5, 4], \"Hola\"]"
      ],
      "execution_count": null,
      "outputs": []
    },
    {
      "cell_type": "markdown",
      "metadata": {
        "id": "i31mpOFkS_hL"
      },
      "source": [
        "Toda lista tiene un índice ligado a cada elemento que la conforma. Como las listas son ordenadas, el índice empieza con 0 para el primer elemento, y luego va ascendiendo de uno en uno para los elementos subsecuentes. Podemos revisar la lista usando el operador de índice: [] . Lo usamos pasándole el índice del elemento al que quiero acceder:"
      ]
    },
    {
      "cell_type": "code",
      "metadata": {
        "colab": {
          "base_uri": "https://localhost:8080/"
        },
        "id": "t0yEpWc3SzNz",
        "outputId": "d67cb6e0-2352-48a9-e8b8-0194081ea4fd"
      },
      "source": [
        "lista_1 = [4, 8, 3, 6, 2]\n",
        "lista_1[0]"
      ],
      "execution_count": null,
      "outputs": [
        {
          "output_type": "execute_result",
          "data": {
            "text/plain": [
              "4"
            ]
          },
          "metadata": {
            "tags": []
          },
          "execution_count": 9
        }
      ]
    },
    {
      "cell_type": "code",
      "metadata": {
        "colab": {
          "base_uri": "https://localhost:8080/"
        },
        "id": "jAQWyrLQTIGE",
        "outputId": "acb9a4ba-3d81-4b2c-e542-2e566d2b151f"
      },
      "source": [
        "print(lista_2[3])\n",
        "print(lista_2[2])"
      ],
      "execution_count": null,
      "outputs": [
        {
          "output_type": "stream",
          "text": [
            "6\n",
            "3\n"
          ],
          "name": "stdout"
        }
      ]
    },
    {
      "cell_type": "markdown",
      "metadata": {
        "id": "XyvKHvruTisO"
      },
      "source": [
        "### Append"
      ]
    },
    {
      "cell_type": "markdown",
      "metadata": {
        "id": "cMw4-QDHTlqO"
      },
      "source": [
        "Agrega un elemento al final de la lista. Se llama usando paréntesis y pasándole dentro de los paréntesis el elemento que se quiere agregar a la lista. \n"
      ]
    },
    {
      "cell_type": "code",
      "metadata": {
        "colab": {
          "base_uri": "https://localhost:8080/"
        },
        "id": "05W-XTmxTQ4y",
        "outputId": "0015f59d-0928-425e-894c-025063a701aa"
      },
      "source": [
        "lista_2 = [4, 7, 6, 2, 5]\n",
        "lista_2.append(10)\n",
        "lista_2"
      ],
      "execution_count": null,
      "outputs": [
        {
          "output_type": "execute_result",
          "data": {
            "text/plain": [
              "[4, 7, 6, 2, 5, 10]"
            ]
          },
          "metadata": {
            "tags": []
          },
          "execution_count": 11
        }
      ]
    },
    {
      "cell_type": "markdown",
      "metadata": {
        "id": "-4Vr3urFUiS9"
      },
      "source": [
        "### Pop"
      ]
    },
    {
      "cell_type": "markdown",
      "metadata": {
        "id": "wcZAnPOwUmNy"
      },
      "source": [
        "Este método elimina elementos de la lista. Si se llama sin argumento remueve el útlimo elemento."
      ]
    },
    {
      "cell_type": "code",
      "metadata": {
        "id": "DAjYBGZEUdr7"
      },
      "source": [
        ""
      ],
      "execution_count": null,
      "outputs": []
    }
  ]
}