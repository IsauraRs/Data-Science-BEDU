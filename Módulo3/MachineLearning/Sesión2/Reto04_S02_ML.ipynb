{
  "nbformat": 4,
  "nbformat_minor": 0,
  "metadata": {
    "colab": {
      "name": "Reto04_S02_ML.ipynb",
      "provenance": [],
      "collapsed_sections": [],
      "authorship_tag": "ABX9TyO4gwr51rP9vp14aax8XGN4",
      "include_colab_link": true
    },
    "kernelspec": {
      "name": "python3",
      "display_name": "Python 3"
    },
    "language_info": {
      "name": "python"
    }
  },
  "cells": [
    {
      "cell_type": "markdown",
      "metadata": {
        "id": "view-in-github",
        "colab_type": "text"
      },
      "source": [
        "<a href=\"https://colab.research.google.com/github/IsauraRs/Data-Science-BEDU/blob/master/M%C3%B3dulo3/MachineLearning/Sesi%C3%B3n2/Reto04_S02_ML.ipynb\" target=\"_parent\"><img src=\"https://colab.research.google.com/assets/colab-badge.svg\" alt=\"Open In Colab\"/></a>"
      ]
    },
    {
      "cell_type": "code",
      "metadata": {
        "id": "WYj24y0gvuD3"
      },
      "source": [
        "import numpy as np\n",
        "from sklearn.metrics import confusion_matrix\n"
      ],
      "execution_count": null,
      "outputs": []
    },
    {
      "cell_type": "code",
      "metadata": {
        "colab": {
          "base_uri": "https://localhost:8080/"
        },
        "id": "2kYr9Z-kv8PB",
        "outputId": "6bc09bb1-955f-45e6-aaf2-86855082b9cb"
      },
      "source": [
        "y_esperados = np.array([1,1,1,1,0,0,0,0])\n",
        "y_predichos = np.array([1,0,1,0,1,0,0,0])\n",
        "resultado = confusion_matrix(y_esperados, y_predichos)\n",
        "print(resultado)\n",
        "(TN, FP, FN, TP) = resultado.ravel()\n",
        "print(\"True positives: \"+str(TP))\n",
        "print(\"True negatives: \"+str(TN))\n",
        "print(\"False positives: \"+str(FP))\n",
        "print(\"False negative: \"+str(FN))\n"
      ],
      "execution_count": null,
      "outputs": [
        {
          "output_type": "stream",
          "text": [
            "[[3 1]\n",
            " [2 2]]\n",
            "True positives: 2\n",
            "True negatives: 3\n",
            "False positives: 1\n",
            "False negative: 2\n"
          ],
          "name": "stdout"
        }
      ]
    },
    {
      "cell_type": "code",
      "metadata": {
        "id": "NE2XsGDKwDK1"
      },
      "source": [
        "def calcularPrecision(TP, TN, FP, FN):\n",
        "\n",
        "    precision = TP  / (TP + FP ) \n",
        "    precision = precision * 100\n",
        "\n",
        "    return precision\n",
        "\n"
      ],
      "execution_count": null,
      "outputs": []
    },
    {
      "cell_type": "code",
      "metadata": {
        "id": "SolmknHawGZP"
      },
      "source": [
        "def calcularSensibilidad(TP, TN, FP, FN):\n",
        "\n",
        "    sensibilidad = TP / (TP + FN)\n",
        "    sensibilidad = sensibilidad * 100\n",
        "    \n",
        "    return sensibilidad"
      ],
      "execution_count": null,
      "outputs": []
    },
    {
      "cell_type": "code",
      "metadata": {
        "id": "mZ6C76CTwI4w"
      },
      "source": [
        "def calcularEspecificidad(TP, TN, FP, FN):\n",
        "\n",
        "    especificidad = TN / (TN + FP)\n",
        "    especificidad = especificidad * 100\n",
        "    \n",
        "    return especificidad"
      ],
      "execution_count": null,
      "outputs": []
    },
    {
      "cell_type": "code",
      "metadata": {
        "id": "OHCpNMk7wLkB"
      },
      "source": [
        "def calcularExactitud(TP,TN,FP,FN):\n",
        "\n",
        "  exactitud = (TP + TN) / (TP + FN + FP + TN)\n",
        "  exactitud *= 100\n",
        "\n",
        "  return exactitud\n"
      ],
      "execution_count": null,
      "outputs": []
    },
    {
      "cell_type": "code",
      "metadata": {
        "colab": {
          "base_uri": "https://localhost:8080/"
        },
        "id": "jnjad3QJwhc_",
        "outputId": "6b394a76-cc01-4693-f80e-1ef7706d3ef9"
      },
      "source": [
        "pre = calcularPrecision(TP, TN, FP, FN)\n",
        "sen = calcularSensibilidad(TP, TN, FP, FN)\n",
        "spec = calcularEspecificidad(TP, TN, FP, FN)\n",
        "exac = calcularExactitud(TP,TN,FP,FN)\n",
        "print(\"Precision:\"+str(pre)+\"%\")\n",
        "print(\"Sensibilidad:\"+str(sen)+\"%\")\n",
        "print(\"Especificidad:\"+str(spec)+\"%\")\n",
        "print(\"Exactitud:\"+str(exac)+\"%\")"
      ],
      "execution_count": null,
      "outputs": [
        {
          "output_type": "stream",
          "text": [
            "Precision:62.5%\n",
            "Sensibilidad:50.0%\n",
            "Especificidad:75.0%\n",
            "Exactitud:62.5%\n"
          ],
          "name": "stdout"
        }
      ]
    },
    {
      "cell_type": "code",
      "metadata": {
        "id": "f3K0sTnEwlup"
      },
      "source": [
        ""
      ],
      "execution_count": null,
      "outputs": []
    }
  ]
}