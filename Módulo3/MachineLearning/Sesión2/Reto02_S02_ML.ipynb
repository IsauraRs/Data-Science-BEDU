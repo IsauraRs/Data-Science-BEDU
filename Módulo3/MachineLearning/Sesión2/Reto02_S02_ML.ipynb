{
  "nbformat": 4,
  "nbformat_minor": 0,
  "metadata": {
    "colab": {
      "name": "Reto02_S02_ML.ipynb",
      "provenance": [],
      "collapsed_sections": [],
      "mount_file_id": "1fZxpY881KV_9Zj_3Voz8iWzRfnldByek",
      "authorship_tag": "ABX9TyPxOHmpHDv091Z0ajNRCV2R",
      "include_colab_link": true
    },
    "kernelspec": {
      "name": "python3",
      "display_name": "Python 3"
    },
    "language_info": {
      "name": "python"
    }
  },
  "cells": [
    {
      "cell_type": "markdown",
      "metadata": {
        "id": "view-in-github",
        "colab_type": "text"
      },
      "source": [
        "<a href=\"https://colab.research.google.com/github/IsauraRs/Data-Science-BEDU/blob/master/M%C3%B3dulo3/MachineLearning/Sesi%C3%B3n2/Reto02_S02_ML.ipynb\" target=\"_parent\"><img src=\"https://colab.research.google.com/assets/colab-badge.svg\" alt=\"Open In Colab\"/></a>"
      ]
    },
    {
      "cell_type": "code",
      "metadata": {
        "id": "485S7gACiDkn"
      },
      "source": [
        "import pandas as pd\n",
        "from sklearn.model_selection import KFold"
      ],
      "execution_count": null,
      "outputs": []
    },
    {
      "cell_type": "code",
      "metadata": {
        "id": "aq-3Er5OkzXG"
      },
      "source": [
        "data = pd.read_csv(\"/content/drive/MyDrive/bitstampUSD_1-min_data_2012-01-01_to_2020-12-31.csv\" , sep = ',')"
      ],
      "execution_count": null,
      "outputs": []
    },
    {
      "cell_type": "code",
      "metadata": {
        "id": "O_vjiwGNk25F"
      },
      "source": [
        "data = data.apply(pd.to_numeric, errors = 'coerce')\n",
        "data = data.dropna()"
      ],
      "execution_count": null,
      "outputs": []
    },
    {
      "cell_type": "code",
      "metadata": {
        "id": "u96iWR-yk_xw"
      },
      "source": [
        "data = data.reset_index(drop = True)"
      ],
      "execution_count": null,
      "outputs": []
    },
    {
      "cell_type": "code",
      "metadata": {
        "colab": {
          "base_uri": "https://localhost:8080/",
          "height": 112
        },
        "id": "Emes_HM9lUlJ",
        "outputId": "a0cc84f1-4976-455f-826d-a2d55ec77140"
      },
      "source": [
        "data.head(2)"
      ],
      "execution_count": null,
      "outputs": [
        {
          "output_type": "execute_result",
          "data": {
            "text/html": [
              "<div>\n",
              "<style scoped>\n",
              "    .dataframe tbody tr th:only-of-type {\n",
              "        vertical-align: middle;\n",
              "    }\n",
              "\n",
              "    .dataframe tbody tr th {\n",
              "        vertical-align: top;\n",
              "    }\n",
              "\n",
              "    .dataframe thead th {\n",
              "        text-align: right;\n",
              "    }\n",
              "</style>\n",
              "<table border=\"1\" class=\"dataframe\">\n",
              "  <thead>\n",
              "    <tr style=\"text-align: right;\">\n",
              "      <th></th>\n",
              "      <th>Timestamp</th>\n",
              "      <th>Open</th>\n",
              "      <th>High</th>\n",
              "      <th>Low</th>\n",
              "      <th>Close</th>\n",
              "      <th>Volume_(BTC)</th>\n",
              "      <th>Volume_(Currency)</th>\n",
              "      <th>Weighted_Price</th>\n",
              "    </tr>\n",
              "  </thead>\n",
              "  <tbody>\n",
              "    <tr>\n",
              "      <th>0</th>\n",
              "      <td>1325317920</td>\n",
              "      <td>4.39</td>\n",
              "      <td>4.39</td>\n",
              "      <td>4.39</td>\n",
              "      <td>4.39</td>\n",
              "      <td>0.455581</td>\n",
              "      <td>2.00</td>\n",
              "      <td>4.39</td>\n",
              "    </tr>\n",
              "    <tr>\n",
              "      <th>1</th>\n",
              "      <td>1325346600</td>\n",
              "      <td>4.39</td>\n",
              "      <td>4.39</td>\n",
              "      <td>4.39</td>\n",
              "      <td>4.39</td>\n",
              "      <td>48.000000</td>\n",
              "      <td>210.72</td>\n",
              "      <td>4.39</td>\n",
              "    </tr>\n",
              "  </tbody>\n",
              "</table>\n",
              "</div>"
            ],
            "text/plain": [
              "    Timestamp  Open  High  ...  Volume_(BTC)  Volume_(Currency)  Weighted_Price\n",
              "0  1325317920  4.39  4.39  ...      0.455581               2.00            4.39\n",
              "1  1325346600  4.39  4.39  ...     48.000000             210.72            4.39\n",
              "\n",
              "[2 rows x 8 columns]"
            ]
          },
          "metadata": {
            "tags": []
          },
          "execution_count": 8
        }
      ]
    },
    {
      "cell_type": "code",
      "metadata": {
        "id": "Z2rQ5U6ZlCo7"
      },
      "source": [
        "x = data.Weighted_Price\n",
        "y = data.Close"
      ],
      "execution_count": null,
      "outputs": []
    },
    {
      "cell_type": "code",
      "metadata": {
        "colab": {
          "base_uri": "https://localhost:8080/"
        },
        "id": "ArujSItFmJK0",
        "outputId": "37c164e5-0ff7-47c2-b17c-5dfa5c6e168c"
      },
      "source": [
        "x"
      ],
      "execution_count": null,
      "outputs": [
        {
          "output_type": "execute_result",
          "data": {
            "text/plain": [
              "0              4.390000\n",
              "1              4.390000\n",
              "2              4.526411\n",
              "3              4.580000\n",
              "4              4.580000\n",
              "               ...     \n",
              "3484300    28806.429798\n",
              "3484301    28846.441863\n",
              "3484302    28879.056266\n",
              "3484303    28893.695831\n",
              "3484304    28909.166061\n",
              "Name: Weighted_Price, Length: 3484305, dtype: float64"
            ]
          },
          "metadata": {
            "tags": []
          },
          "execution_count": 27
        }
      ]
    },
    {
      "cell_type": "code",
      "metadata": {
        "id": "XgsBP9IHpiB4"
      },
      "source": [
        "x = data.drop(columns= ['Timestamp', 'Close'])\n",
        "y = data.Close"
      ],
      "execution_count": null,
      "outputs": []
    },
    {
      "cell_type": "code",
      "metadata": {
        "colab": {
          "base_uri": "https://localhost:8080/"
        },
        "id": "TuA8XHKylDmj",
        "outputId": "91a34ec8-7d43-41fc-c0d8-4909c8d7cbb6"
      },
      "source": [
        "K = 2\n",
        "\n",
        "aleatorio = True\n",
        "\n",
        "kfold = KFold(K, aleatorio)\n",
        "\n",
        "ciclo = 1\n",
        "\n",
        "for indices_train, indices_test in kfold.split(x):\n",
        "    print(\"Ciclo: \"+str(ciclo))\n",
        "    \n",
        "    print(\"Usaré \"+str(x.iloc[indices_train].shape)+\" datos para entrenar (entrada)\")\n",
        "    print(\"Usaré \"+str(y[indices_train].shape)+\" datos para entrenar (salida)\")\n",
        "    \n",
        "    print(\"Usaré \"+str(x.iloc[indices_test].shape)+\" datos para probar (entrada)\")\n",
        "    print(\"Usaré \"+str(y[indices_test].shape)+\" datos para probar (salida)\")    \n",
        "    ciclo+=1"
      ],
      "execution_count": null,
      "outputs": [
        {
          "output_type": "stream",
          "text": [
            "Ciclo: 1\n",
            "Usaré (1742152, 6) datos para entrenar (entrada)\n",
            "Usaré (1742152,) datos para entrenar (salida)\n",
            "Usaré (1742153, 6) datos para probar (entrada)\n",
            "Usaré (1742153,) datos para probar (salida)\n",
            "Ciclo: 2\n",
            "Usaré (1742153, 6) datos para entrenar (entrada)\n",
            "Usaré (1742153,) datos para entrenar (salida)\n",
            "Usaré (1742152, 6) datos para probar (entrada)\n",
            "Usaré (1742152,) datos para probar (salida)\n"
          ],
          "name": "stdout"
        }
      ]
    },
    {
      "cell_type": "code",
      "metadata": {
        "colab": {
          "base_uri": "https://localhost:8080/"
        },
        "id": "ybHxcMrGlLvL",
        "outputId": "a521af99-a266-43f6-e0fd-c8355abdbccf"
      },
      "source": [
        "K = 3\n",
        "\n",
        "aleatorio = True\n",
        "\n",
        "kfold = KFold(K, aleatorio)\n",
        "\n",
        "ciclo = 1\n",
        "\n",
        "for indices_train, indices_test in kfold.split(x):\n",
        "    print(\"Ciclo: \"+str(ciclo))\n",
        "    \n",
        "    print(\"Usaré \"+str(x.iloc[indices_train].shape)+\" datos para entrenar (entrada)\")\n",
        "    print(\"Usaré \"+str(y[indices_train].shape)+\" datos para entrenar (salida)\")\n",
        "    \n",
        "    print(\"Usaré \"+str(x.iloc[indices_test].shape)+\" datos para probar (entrada)\")\n",
        "    print(\"Usaré \"+str(y[indices_test].shape)+\" datos para probar (salida)\")    \n",
        "    ciclo+=1"
      ],
      "execution_count": null,
      "outputs": [
        {
          "output_type": "stream",
          "text": [
            "Ciclo: 1\n",
            "Usaré (2322870, 6) datos para entrenar (entrada)\n",
            "Usaré (2322870,) datos para entrenar (salida)\n",
            "Usaré (1161435, 6) datos para probar (entrada)\n",
            "Usaré (1161435,) datos para probar (salida)\n",
            "Ciclo: 2\n",
            "Usaré (2322870, 6) datos para entrenar (entrada)\n",
            "Usaré (2322870,) datos para entrenar (salida)\n",
            "Usaré (1161435, 6) datos para probar (entrada)\n",
            "Usaré (1161435,) datos para probar (salida)\n",
            "Ciclo: 3\n",
            "Usaré (2322870, 6) datos para entrenar (entrada)\n",
            "Usaré (2322870,) datos para entrenar (salida)\n",
            "Usaré (1161435, 6) datos para probar (entrada)\n",
            "Usaré (1161435,) datos para probar (salida)\n"
          ],
          "name": "stdout"
        }
      ]
    },
    {
      "cell_type": "code",
      "metadata": {
        "id": "JbfQbf23mtOg"
      },
      "source": [
        ""
      ],
      "execution_count": null,
      "outputs": []
    }
  ]
}