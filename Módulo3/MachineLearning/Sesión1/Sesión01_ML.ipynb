{
  "nbformat": 4,
  "nbformat_minor": 5,
  "metadata": {
    "kernelspec": {
      "display_name": "Python 3",
      "language": "python",
      "name": "python3"
    },
    "language_info": {
      "codemirror_mode": {
        "name": "ipython",
        "version": 3
      },
      "file_extension": ".py",
      "mimetype": "text/x-python",
      "name": "python",
      "nbconvert_exporter": "python",
      "pygments_lexer": "ipython3",
      "version": "3.8.5"
    },
    "colab": {
      "name": "Sesión01_ML.ipynb",
      "provenance": [],
      "include_colab_link": true
    }
  },
  "cells": [
    {
      "cell_type": "markdown",
      "metadata": {
        "id": "view-in-github",
        "colab_type": "text"
      },
      "source": [
        "<a href=\"https://colab.research.google.com/github/IsauraRs/Data-Science-BEDU/blob/master/M%C3%B3dulo3/MachineLearning/Sesi%C3%B3n1/Sesi%C3%B3n01_ML.ipynb\" target=\"_parent\"><img src=\"https://colab.research.google.com/assets/colab-badge.svg\" alt=\"Open In Colab\"/></a>"
      ]
    },
    {
      "cell_type": "markdown",
      "metadata": {
        "id": "western-trunk"
      },
      "source": [
        "# ¿Qué es machine learning?\n",
        "\n",
        "Crear programas que aprenden y se adaptan al entorno.\n",
        "\n",
        "Un sistema complejo que aprende y mejora su respuesta con los datos de entrada.\n",
        "\n",
        "Aprender consiste en reconocer los errores y corregirlos para tratar de no cometerlos de nuevo.\n",
        "\n",
        "El principal indicador de estar aprendiendo es que conforme el tiempo pasa, la probabilidad de cometer un error disminuye considerablemente.\n",
        "\n",
        "\n",
        "## Procesos condicionantes de Pavlov\n",
        "\n",
        "\n",
        "Refuerzo positivo: cada vez que el sistema hace lo que se espera, se le da una recompensa.\n",
        "\n",
        "Refuerzo negativo: cada vez que el sistema hace algo que no se esperaba, se le da un castigo.\n",
        "\n",
        "\n",
        "## Derivadas\n",
        "\n",
        "Una derivada es una razón de cambio.\n",
        "\n",
        "Una derivada nos dice qué tantos cambios hay entre dos puntos.\n",
        "\n",
        "*  Entre más grande es el triángulo más distancia hay entre los puntos.\n",
        "\n",
        "*   Cuando se encuentra en el lado más bajo, la derivada es cero (0).\n",
        "\n",
        "## Descenso en gradiente\n",
        "\n",
        "Tratar de hallar el mínimo error posible.\n",
        "\n",
        "Cuando se llega al fondo de una gráfica, se dice que llega al error mínimo.\n",
        "\n",
        "No siempre se llega al error mínimo y puede quedarse estancado en un mínimo local\n",
        "\n",
        "## Comparativas\n",
        "\n",
        "Se toma un dato y se compara contra otros.\n",
        "\n",
        "Si el dato es parecido, quiere decir que son del mismo conjunto.\n",
        "\n",
        "Si no se parece mucho, quiere decir que no son del mismo conjunto.\n",
        "\n",
        "Para comparar datos se usará la distancia Euclidiana. Si los datos son iguales, la distancia es 0, si son diferentes, la distancia es mayor a 0-\n",
        "\n",
        "### Distancia:\n",
        "\n",
        "* Una dimensión: \n",
        "     A = 3, B = 7\n",
        "     \n",
        "     Se restan los valores:\n",
        "     7-3 = 4, distancia euclidiana:$\\sqrt{(3-7)^2}$ = $\\sqrt{4^2}$  = $\\sqrt{16}$  = 4\n",
        "  \n",
        "\n",
        "*  Dos dimensiones: A = (3,5), B= (7, 10), $\\sqrt{((3-7)^2 + (5-10)^2}$ = $\\sqrt{(-4)^2 + (5)^2)}$  = $\\sqrt{(16 + 25)}$  = $\\sqrt{41}$  = 6.40\n",
        "\n",
        "\n",
        "\n",
        "## Descriptores\n",
        "\n",
        "Un descriptor permite asociar números a propiedades del mundo real. Su objetivoes describir un objeto por medio de números y propiedades.\n",
        "\n",
        "Ejemplos:\n",
        "\n",
        "   *   Una onda de sonido representada numéricamente.\n",
        "   \n",
        "   *   Un espacio de color\n",
        "   \n",
        "   *   Algoritmo Local Binary Pattern\n",
        "   \n",
        "Ejemplo:\n",
        "\n",
        "   *   Clasificador de fruta madura.\n",
        "   *   Objetos rojos: manzana madura.\n",
        "   *   Objetos verdes: manzana inmadura.\n",
        "   *   Objetos de otro color: no son manzanas.\n",
        "   \n",
        "## Cómo se crearán los modelos?\n",
        "\n",
        "Python cuenta con bibliotecas para álgebra lineal, visión computacional, análisis de datos, servicios web, etc.\n",
        "\n",
        "\n",
        "Ejemplos de bibliotecas útiles para ML:\n",
        "\n",
        "   *   Pandas\n",
        "   *   NumPy\n",
        "   *   MatplotLib\n",
        "   *   SeaBorn\n",
        "   *   Scikit-Learn\n",
        "   *   Flask\n",
        "\n",
        "Sin embargo, siempre es mejor entender la teoría y funcionamiento de los modelos que se estudiarán.\n",
        "\n"
      ],
      "id": "western-trunk"
    },
    {
      "cell_type": "code",
      "metadata": {
        "id": "oriented-cowboy"
      },
      "source": [
        ""
      ],
      "id": "oriented-cowboy",
      "execution_count": null,
      "outputs": []
    }
  ]
}